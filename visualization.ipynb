{
 "cells": [
  {
   "cell_type": "markdown",
   "metadata": {},
   "source": [
    "## Visualize Summary of data sources"
   ]
  },
  {
   "cell_type": "code",
   "execution_count": 1,
   "metadata": {},
   "outputs": [
    {
     "data": {
      "image/png": "[encoded data removed]",
      "text/plain": [
       "<Figure size 640x480 with 1 Axes>"
      ]
     },
     "metadata": {},
     "output_type": "display_data"
    }
   ],
   "source": [
    "from matplotlib import pyplot as plt\n",
    "import pandas as pd\n",
    "src_path = \"./playground/data/esmap_lsms-tanzania_with_source.csv\"\n",
    "df = pd.read_csv(src_path)\n",
    "\n",
    "source_lens = {}\n",
    "\n",
    "for source, src_df in df.groupby(\"source\"):\n",
    "\n",
    "    source_lens[source.capitalize()] = len(src_df)\n",
    "    \n",
    "    \n",
    "plt.pie(source_lens.values(), labels=source_lens.keys())\n",
    "plt.savefig(\"./assets/datasource_distributions_pie.png\")"
   ]
  },
  {
   "cell_type": "markdown",
   "metadata": {},
   "source": [
    "## Appliances and Distribution"
   ]
  },
  {
   "cell_type": "markdown",
   "metadata": {},
   "source": [
    "### Missing Applicances"
   ]
  },
  {
   "cell_type": "code",
   "execution_count": 2,
   "metadata": {},
   "outputs": [
    {
     "name": "stdout",
     "output_type": "stream",
     "text": [
      "{'Presence_refrigerator/freezer': '7.41', 'Presence_iron': '18.44', 'Presence_fan': '7.41', 'Presence_DVD_player': '7.41', 'Presence_radio/stereo': '7.39', 'Presence_phone_charger': '58.69', 'Presence_TV': '47.66'}\n"
     ]
    }
   ],
   "source": [
    "\n",
    "\n",
    "appliance_missing_count = {}\n",
    "\n",
    "PRESENCE_LIST = [\n",
    "    'Presence_refrigerator/freezer', 'Presence_iron', 'Presence_fan',\n",
    "    'Presence_DVD_player', 'Presence_radio/stereo',\n",
    "    'Presence_phone_charger',\n",
    "    'Presence_TV'\n",
    "]\n",
    "\n",
    "\n",
    "DRIVERS_LIST = ['Years_of_HHH_in_community',\n",
    "                'Dwelling_quality_index', 'Hours_available_electricity',\n",
    "                'Measurement_age', 'Monthly_expenditure', 'Number_of_rooms',\n",
    "                'Climate_zone_lev_1', 'Climate_zone_lev_2',\n",
    "                'Age_HHH', 'HH_with_home_business',\n",
    "                'Education_level_HHH', 'Socio_status_HHH', 'Number_adults',\n",
    "                'Ownership_motorized_vehicle', 'Ownership_small_livestock',\n",
    "                'Ownership_large_livestock', 'Clean_fuel', 'Tariff_payment_frequency'\n",
    "                ]\n",
    "len_df  =len(df)\n",
    "for col in PRESENCE_LIST:\n",
    "    nan_df = df[df[col].isna()]\n",
    "    appliance_missing_count[col] = f\"{(len(nan_df) / len_df) *100:.2f}\"\n",
    "    \n",
    "\n",
    "# plt.bar(appliance_missing_count.keys(), appliance_missing_count.values())\n",
    "print(appliance_missing_count)"
   ]
  },
  {
   "cell_type": "markdown",
   "metadata": {},
   "source": [
    "### Most Common Appliances"
   ]
  },
  {
   "cell_type": "code",
   "execution_count": 3,
   "metadata": {},
   "outputs": [
    {
     "name": "stdout",
     "output_type": "stream",
     "text": [
      "{'Presence_refrigerator/freezer': '12.79', 'Presence_iron': '19.13', 'Presence_fan': '22.94', 'Presence_DVD_player': '10.80', 'Presence_radio/stereo': '22.00', 'Presence_phone_charger': '19.41', 'Presence_TV': '17.79'}\n"
     ]
    }
   ],
   "source": [
    "common_appliances = {}\n",
    "for col in PRESENCE_LIST:\n",
    "    count_df = df[df[col] == 1]\n",
    "    common_appliances[col] = f\"{len(count_df) / len_df * 100:.2f}\"\n",
    "    \n",
    "print(common_appliances)"
   ]
  },
  {
   "cell_type": "markdown",
   "metadata": {},
   "source": [
    "## Appliances per source"
   ]
  },
  {
   "cell_type": "code",
   "execution_count": 4,
   "metadata": {},
   "outputs": [
    {
     "name": "stdout",
     "output_type": "stream",
     "text": [
      "| Appliance | Ethiopia | Kenya | Liberia | Nigeria | Tanzania | Zambia |\n",
      "| --- | -------- | ----- | ------- | ------- | -------- | ------ |\n",
      "| Presence_refrigerator/freezer | 3.11 % | 4.00 % | 25.00 % | 39.53 % | 13.12 % | 26.44 % | \n",
      "| Presence_iron | 22.37 % | 7.22 % | 13.37 % | 44.19 % | 1.23 % | 25.89 % | \n",
      "| Presence_fan | 37.20 % | 0.31 % | 54.07 % | 65.12 % | 12.36 % | 15.73 % | \n",
      "| Presence_DVD_player | 0.35 % | 9.58 % | 18.60 % | 58.14 % | 21.87 % | 18.80 % | \n",
      "| Presence_radio/stereo | 0.09 % | 24.18 % | 55.23 % | 44.19 % | 52.42 % | 34.58 % | \n",
      "| Presence_phone_charger | 0.00 % | 23.63 % | 20.35 % | 67.44 % | 7.21 % | 44.88 % | \n",
      "| Presence_TV | 0.00 % | 20.25 % | 58.72 % | 62.79 % | 34.15 % | 29.79 % | \n"
     ]
    }
   ],
   "source": [
    "groups = df.groupby(\"source\")\n",
    "\n",
    "source_appliance_count = {}\n",
    "sources = [s.capitalize() for s, _ in groups]\n",
    "\n",
    "print(f\"| Appliance | {' | '.join(sources)} |\")\n",
    "\n",
    "print(f\"| --- | {' | '.join('-' * len(i) for i in sources)} |\")\n",
    "\n",
    "for col in PRESENCE_LIST:\n",
    "    s = \"| \" + col+ \" | \"\n",
    "    for src, src_df in groups:\n",
    "        # s += f\"{len(src_df[src_df[col] == 1]) / len(src_df) * 100:.2f} % | \"\n",
    "        owned_df = src_df[src_df[col] == 1]\n",
    "        len_df = len(src_df)\n",
    "        s += f\"{len(owned_df) / len_df * 100:.2f} % | \"\n",
    "        \n",
    "    print(s)\n",
    "        "
   ]
  },
  {
   "cell_type": "markdown",
   "metadata": {},
   "source": [
    "## Missing  Appliances per source"
   ]
  },
  {
   "cell_type": "code",
   "execution_count": 5,
   "metadata": {},
   "outputs": [
    {
     "name": "stdout",
     "output_type": "stream",
     "text": [
      "| Appliance | Ethiopia | Kenya | Liberia | Nigeria | Tanzania | Zambia |\n",
      "| --- | -------- | ----- | ------- | ------- | -------- | ------ |\n",
      "| Presence_refrigerator/freezer | 0.00 % | 54.55 % | 0.00 % | 0.00 % | 0.15 % | 2.69 % | \n",
      "| Presence_iron | 0.00 % | 54.55 % | 0.00 % | 0.00 % | 90.87 % | 2.69 % | \n",
      "| Presence_fan | 0.00 % | 54.55 % | 0.00 % | 0.00 % | 0.15 % | 2.69 % | \n",
      "| Presence_DVD_player | 0.00 % | 54.55 % | 0.00 % | 0.00 % | 0.15 % | 2.69 % | \n",
      "| Presence_radio/stereo | 0.00 % | 54.55 % | 0.00 % | 0.00 % | 0.00 % | 2.69 % | \n",
      "| Presence_phone_charger | 100.00 % | 54.55 % | 0.00 % | 0.00 % | 90.87 % | 2.69 % | \n",
      "| Presence_TV | 100.00 % | 54.55 % | 0.00 % | 0.00 % | 0.15 % | 2.69 % | \n"
     ]
    }
   ],
   "source": [
    "groups = df.groupby(\"source\")\n",
    "\n",
    "source_appliance_count = {}\n",
    "sources = [s.capitalize() for s, _ in groups]\n",
    "\n",
    "print(f\"| Appliance | {' | '.join(sources)} |\")\n",
    "\n",
    "print(f\"| --- | {' | '.join('-' * len(i) for i in sources)} |\")\n",
    "\n",
    "for col in PRESENCE_LIST:\n",
    "    s = \"| \" + col+ \" | \"\n",
    "    for src, src_df in groups:\n",
    "        # s += f\"{len(src_df[src_df[col] == 1]) / len(src_df) * 100:.2f} % | \"\n",
    "        owned_df = src_df[src_df[col].isna()]\n",
    "        len_df = len(src_df)\n",
    "        s += f\"{len(owned_df) / len_df * 100:.2f} % | \"\n",
    "        \n",
    "    print(s)\n",
    "        "
   ]
  },
  {
   "cell_type": "code",
   "execution_count": 6,
   "metadata": {},
   "outputs": [
    {
     "data": {
      "text/plain": [
       "45.45"
      ]
     },
     "execution_count": 6,
     "metadata": {},
     "output_type": "execute_result"
    }
   ],
   "source": [
    "100 - 54.55"
   ]
  },
  {
   "cell_type": "code",
   "execution_count": 7,
   "metadata": {},
   "outputs": [
    {
     "name": "stdout",
     "output_type": "stream",
     "text": [
      "Ownership\n",
      "12.79 %\n",
      "19.13 %\n",
      "22.94 %\n",
      "10.80 %\n",
      "22.00 %\n",
      "19.41 %\n",
      "17.79 %\n",
      "Missing\n",
      "7.41 %\n",
      "18.44 %\n",
      "7.41 %\n",
      "7.41 %\n",
      "7.39 %\n",
      "58.69 %\n",
      "47.66 %\n"
     ]
    }
   ],
   "source": [
    "print(\"Ownership\")\n",
    "for col in PRESENCE_LIST: \n",
    "    owned_df = df[df[col]== 1]\n",
    "    len_df = len(df)\n",
    "    print(f\"{len(owned_df) / len_df * 100:.2f} %\")\n",
    "    \n",
    "    \n",
    "    \n",
    "print (\"Missing\")\n",
    "for col in PRESENCE_LIST: \n",
    "    miss_df = df[df[col].isna()]\n",
    "    len_df = len(df)\n",
    "    print(f\"{len(miss_df) / len_df * 100:.2f} %\")\n",
    "    \n",
    "        "
   ]
  },
  {
   "cell_type": "markdown",
   "metadata": {},
   "source": [
    "## Missing Drivers"
   ]
  },
  {
   "cell_type": "code",
   "execution_count": 10,
   "metadata": {},
   "outputs": [
    {
     "name": "stdout",
     "output_type": "stream",
     "text": [
      "| Appliance | Ethiopia | Kenya | Liberia | Nigeria | Tanzania | Zambia | Total |\n",
      "| --- | -------- | ----- | ------- | ------- | -------- | ------ | ------ |\n",
      "| Years_of_HHH_in_community | 0.00 | 42.07 | 100.00 | 34.88 | 9.44 | 75.69 | 33.40 |\n",
      "| Dwelling_quality_index | 0.00 | 0.00 | 5.81 | 0.00 | 9.21 | 2.05 | 1.90 |\n",
      "| Hours_available_electricity | 38.41 | 86.89 | 100.00 | 25.58 | 100.00 | 66.14 | 61.94 |\n",
      "| Measurement_age | 37.18 | 72.37 | 58.14 | 16.28 | 91.79 | 65.95 | 57.95 |\n",
      "| Monthly_expenditure | 0.00 | 37.36 | 0.00 | 2.33 | 11.51 | 0.03 | 5.86 |\n",
      "| Number_of_rooms | 0.00 | 9.97 | 0.00 | 0.00 | 6.14 | 2.05 | 2.62 |\n",
      "| Climate_zone_lev_1 | 0.00 | 0.00 | 0.00 | 0.00 | 1.07 | 0.00 | 0.13 |\n",
      "| Climate_zone_lev_2 | 90.61 | 22.21 | 80.81 | 37.21 | 14.12 | 100.00 | 75.97 |\n",
      "| Age_HHH | 0.00 | 100.00 | 2.33 | 0.00 | 7.83 | 1.94 | 13.53 |\n",
      "| HH_with_home_business | 100.00 | 1.41 | 0.00 | 0.00 | 9.21 | 0.61 | 41.74 |\n",
      "| Education_level_HHH | 34.77 | 22.21 | 25.58 | 0.00 | 15.35 | 44.08 | 33.77 |\n",
      "| Socio_status_HHH | 27.24 | 0.00 | 13.37 | 0.00 | 11.05 | 1.99 | 13.19 |\n",
      "| Number_adults | 0.00 | 15.46 | 3.49 | 0.00 | 3.61 | 0.00 | 2.33 |\n",
      "| Ownership_motorized_vehicle | 94.81 | 0.00 | 4.07 | 0.00 | 9.13 | 0.00 | 39.34 |\n",
      "| Ownership_small_livestock | 56.77 | 0.00 | 100.00 | 0.00 | 9.13 | 0.00 | 25.56 |\n",
      "| Ownership_large_livestock | 91.33 | 0.00 | 100.00 | 0.00 | 9.13 | 0.00 | 39.48 |\n",
      "| Clean_fuel | 0.00 | 0.00 | 0.00 | 0.00 | 9.21 | 0.00 | 1.12 |\n",
      "| Tariff_payment_frequency | 82.45 | 100.00 | 100.00 | 23.26 | 93.71 | 66.20 | 80.47 |\n"
     ]
    }
   ],
   "source": [
    "groups = df.groupby(\"source\")\n",
    "\n",
    "source_appliance_count = {}\n",
    "sources = [s.capitalize() for s, _ in groups]\n",
    "\n",
    "print(f\"| Appliance | {' | '.join(sources)} | Total |\")\n",
    "\n",
    "print(f\"| --- | {' | '.join('-' * len(i) for i in sources)} | ------ |\")\n",
    "\n",
    "total_df_len = len(df)\n",
    "for col in DRIVERS_LIST:\n",
    "    s = \"| \" + col+ \" | \"\n",
    "    for src, src_df in groups:\n",
    "        missing = src_df[src_df[col].isna()]\n",
    "        len_df = len(src_df)\n",
    "        s += f\"{len(missing) / len_df * 100:.2f} | \"\n",
    "    \n",
    "    missing_total = df[df[col].isna()]\n",
    "    s += f\"{len(missing_total) / total_df_len * 100:.2f} |\"\n",
    "    \n",
    "    print(s)\n",
    "        "
   ]
  },
  {
   "cell_type": "markdown",
   "metadata": {},
   "source": [
    "## Correlation "
   ]
  },
  {
   "cell_type": "code",
   "execution_count": 19,
   "metadata": {},
   "outputs": [
    {
     "name": "stdout",
     "output_type": "stream",
     "text": [
      "149     10.0\n",
      "150     10.0\n",
      "151     10.0\n",
      "152     10.0\n",
      "154     10.0\n",
      "        ... \n",
      "9214    22.0\n",
      "9215    21.0\n",
      "9216    22.0\n",
      "9217    21.0\n",
      "9218    20.0\n",
      "Name: Hours_available_electricity, Length: 4079, dtype: float64\n"
     ]
    }
   ],
   "source": [
    "available_Hours_available_electricity =  df['Hours_available_electricity'].isna() != True\n",
    "Hours_available_electricity = df[available_Hours_available_electricity]['Hours_available_electricity']\n",
    "iron = df[available_Hours_available_electricity]['Presence_iron']\n",
    "fan = df[available_Hours_available_electricity]['Presence_fan']\n",
    "print(Hours_available_electricity)"
   ]
  },
  {
   "cell_type": "code",
   "execution_count": 31,
   "metadata": {},
   "outputs": [
    {
     "data": {
      "text/plain": [
       "<matplotlib.collections.PathCollection at 0x7ff48f7c8710>"
      ]
     },
     "execution_count": 31,
     "metadata": {},
     "output_type": "execute_result"
    },
    {
     "data": {
      "image/png": "[encoded data removed]",
      "text/plain": [
       "<Figure size 640x480 with 1 Axes>"
      ]
     },
     "metadata": {},
     "output_type": "display_data"
    }
   ],
   "source": [
    "plt.plot(Hours_available_electricity.values, color='red')\n",
    "plt.scatter(range(len(iron)), iron.values * 1000 , color='blue')\n",
    "# plt.scatter(fan.values * 100, range(len(fan)), color='green')"
   ]
  },
  {
   "cell_type": "code",
   "execution_count": 27,
   "metadata": {},
   "outputs": [
    {
     "name": "stdout",
     "output_type": "stream",
     "text": [
      "[0. 0. 0. ... 0. 0. 0.]\n"
     ]
    }
   ],
   "source": [
    "plt.corr"
   ]
  },
  {
   "cell_type": "code",
   "execution_count": 50,
   "metadata": {},
   "outputs": [],
   "source": [
    "import pandas as pd\n",
    "import numpy as np\n",
    "import matplotlib.pyplot as plt\n",
    "import seaborn as sns\n",
    "from scipy.stats import pearsonr\n",
    "\n",
    "def calculate_correlation(df_, x_variable, y_variable):\n",
    "        \n",
    "    available_df =  df_[x_variable].isna() != True\n",
    "    available_df = df_[available_df]\n",
    "    available_df = available_df[available_df[y_variable].isna() != True]\n",
    "    # Define the two variables to analyze\n",
    "\n",
    "    # Compute the correlation coefficient\n",
    "    corr, p_value=  pearsonr(available_df[x_variable], available_df[y_variable])\n",
    "    return corr, p_value\n",
    "\n",
    "\n"
   ]
  },
  {
   "cell_type": "code",
   "execution_count": 52,
   "metadata": {},
   "outputs": [
    {
     "data": {
      "text/plain": [
       "(-0.011828196805813856, 0.45329788001387133)"
      ]
     },
     "execution_count": 52,
     "metadata": {},
     "output_type": "execute_result"
    }
   ],
   "source": [
    "\n",
    "calculate_correlation(df, \"Hours_available_electricity\", \"Presence_fan\")"
   ]
  },
  {
   "cell_type": "code",
   "execution_count": 71,
   "metadata": {},
   "outputs": [
    {
     "name": "stdout",
     "output_type": "stream",
     "text": [
      "| Driver | Refrigerator/freezer | Iron | Fan | Dvd_player | Radio/stereo | Phone_charger | Tv |\n",
      "| ------ | --------- | ----------- | ------- |\n",
      "| Years_of_HHH_in_community |      -0.05099 , 0.00003  |     -0.00169 , 0.89957  |     0.01944 , 0.10956  |     -0.05593 , 0.00000  |     -0.04366 , 0.00032  |     0.09681 , 0.00051  |     -0.12860 , 0.00000  |\n",
      "| Dwelling_quality_index |      0.28909 , 0.00000  |     0.09960 , 0.00000  |     0.05166 , 0.00000  |     0.27668 , 0.00000  |     0.30396 , 0.00000  |     0.07354 , 0.00000  |     0.30104 , 0.00000  |\n",
      "| Hours_available_electricity |      -0.02544 , 0.10672  |     -0.02439 , 0.12197  |     -0.01183 , 0.45330  |     -0.01849 , 0.24115  |     -0.02697 , 0.08722  |     -0.01750 , 0.51832  |     0.02652 , 0.32760  |\n",
      "| Measurement_age |      -0.08798 , 0.00000  |     -0.10707 , 0.00000  |     -0.07462 , 0.00000  |     -0.06692 , 0.00001  |     -0.07904 , 0.00000  |     0.01405 , 0.56443  |     -0.03341 , 0.17046  |\n",
      "| Monthly_expenditure |      0.10955 , 0.00000  |     0.02638 , 0.01547  |     -0.00646 , 0.52873  |     0.15169 , 0.00000  |     0.19941 , 0.00000  |     0.02008 , 0.19788  |     0.14348 , 0.00000  |\n",
      "| Number_of_rooms |      0.22348 , 0.00000  |     0.11643 , 0.00000  |     0.02460 , 0.01514  |     0.21928 , 0.00000  |     0.25026 , 0.00000  |     0.26669 , 0.00000  |     0.27162 , 0.00000  |\n",
      "| Climate_zone_lev_1 |      0.07822 , 0.00000  |     0.16535 , 0.00000  |     0.19423 , 0.00000  |     -0.06732 , 0.00000  |     -0.14227 , 0.00000  |     0.14180 , 0.00000  |     0.09303 , 0.00000  |\n",
      "| Climate_zone_lev_2 |      -0.04657 , 0.03595  |     0.03998 , 0.19964  |     -0.00409 , 0.85385  |     -0.16828 , 0.00000  |     -0.10047 , 0.00001  |     0.06754 , 0.09134  |     -0.01163 , 0.63963  |\n",
      "| Age_HHH |      0.00234 , 0.82220  |     0.01411 , 0.20545  |     0.00509 , 0.62489  |     -0.01364 , 0.18993  |     -0.07231 , 0.00000  |     0.13016 , 0.00000  |     0.05355 , 0.00017  |\n",
      "| Number_adults |      -0.02925 , 0.00378  |     -0.05180 , 0.00000  |     -0.10834 , 0.00000  |     0.05150 , 0.00000  |     0.15870 , 0.00000  |     0.06056 , 0.00007  |     0.04429 , 0.00103  |\n"
     ]
    }
   ],
   "source": [
    "print(f\"| Driver | {' | '.join(i.replace('Presence_', '').capitalize() for i in PRESENCE_LIST)} |\")\n",
    "print(\"| ------ | --------- | ----------- | ------- |\")\n",
    "\n",
    "for driver in DRIVERS_LIST:\n",
    "    s = \"| \" + driver + \" | \"\n",
    "    no_corr = False\n",
    "    for appliance in PRESENCE_LIST: \n",
    "        try:\n",
    "            corr, p_value = calculate_correlation(df, driver, appliance)\n",
    "            s += f\" {corr:.5f},{p_value:.5f} |\"\n",
    "            # # print(f\"{driver} vs {appliance} : {corr} | {p_value}\")\n",
    "            # print(f\" | {driver} | {appliance} | {corr:.5f} | {p_value:.5f} |\")\n",
    "            \n",
    "        except:\n",
    "            # print(f\"Failed to calculate {driver} vs {appliance}\")\n",
    "            no_corr = True\n",
    "            break\n",
    "        \n",
    "    if no_corr:\n",
    "        continue\n",
    "    print(s)"
   ]
  },
  {
   "cell_type": "code",
   "execution_count": null,
   "metadata": {},
   "outputs": [],
   "source": []
  }
 ],
 "metadata": {
  "kernelspec": {
   "display_name": "tf",
   "language": "python",
   "name": "python3"
  },
  "language_info": {
   "codemirror_mode": {
    "name": "ipython",
    "version": 3
   },
   "file_extension": ".py",
   "mimetype": "text/x-python",
   "name": "python",
   "nbconvert_exporter": "python",
   "pygments_lexer": "ipython3",
   "version": "3.11.10"
  }
 },
 "nbformat": 4,
 "nbformat_minor": 2
}
