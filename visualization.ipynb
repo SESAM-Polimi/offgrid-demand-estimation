{
 "cells": [
  {
   "cell_type": "markdown",
   "metadata": {},
   "source": [
    "## Visualize Summary of data sources"
   ]
  },
  {
   "cell_type": "code",
   "execution_count": 1,
   "metadata": {},
   "outputs": [
    {
     "data": {
      "image/png": "[encoded data removed]",
      "text/plain": [
       "<Figure size 640x480 with 1 Axes>"
      ]
     },
     "metadata": {},
     "output_type": "display_data"
    }
   ],
   "source": [
    "from matplotlib import pyplot as plt\n",
    "import pandas as pd\n",
    "src_path = \"./playground/data/esmap_lsms-tanzania_with_source.csv\"\n",
    "df = pd.read_csv(src_path)\n",
    "\n",
    "source_lens = {}\n",
    "\n",
    "for source, src_df in df.groupby(\"source\"):\n",
    "\n",
    "    source_lens[source.capitalize()] = len(src_df)\n",
    "    \n",
    "    \n",
    "plt.pie(source_lens.values(), labels=source_lens.keys())\n",
    "plt.savefig(\"./assets/datasource_distributions_pie.png\")"
   ]
  },
  {
   "cell_type": "markdown",
   "metadata": {},
   "source": [
    "## Appliances and Distribution"
   ]
  },
  {
   "cell_type": "markdown",
   "metadata": {},
   "source": [
    "### Missing Applicances"
   ]
  },
  {
   "cell_type": "code",
   "execution_count": 10,
   "metadata": {},
   "outputs": [
    {
     "name": "stdout",
     "output_type": "stream",
     "text": [
      "{'Presence_refrigerator/freezer': '7.41', 'Presence_iron': '18.44', 'Presence_fan': '7.41', 'Presence_DVD_player': '7.41', 'Presence_radio/stereo': '7.39', 'Presence_phone_charger': '58.69', 'Presence_TV': '47.66'}\n"
     ]
    }
   ],
   "source": [
    "\n",
    "\n",
    "appliance_missing_count = {}\n",
    "\n",
    "PRESENCE_LIST = [\n",
    "    'Presence_refrigerator/freezer', 'Presence_iron', 'Presence_fan',\n",
    "    'Presence_DVD_player', 'Presence_radio/stereo',\n",
    "    'Presence_phone_charger',\n",
    "    'Presence_TV'\n",
    "]\n",
    "\n",
    "\n",
    "DRIVERS_LIST = ['Years_of_HHH_in_community',\n",
    "                'Dwelling_quality_index', 'Hours_available_electricity',\n",
    "                'Measurement_age', 'Monthly_expenditure', 'Number_of_rooms',\n",
    "                'Climate_zone_lev_1', 'Climate_zone_lev_2',\n",
    "                'Age_HHH', 'HH_with_home_business',\n",
    "                'Education_level_HHH', 'Socio_status_HHH', 'Number_adults',\n",
    "                'Ownership_motorized_vehicle', 'Ownership_small_livestock',\n",
    "                'Ownership_large_livestock', 'Clean_fuel', 'Tariff_payment_frequency'\n",
    "                ]\n",
    "len_df  =len(df)\n",
    "for col in PRESENCE_LIST:\n",
    "    nan_df = df[df[col].isna()]\n",
    "    appliance_missing_count[col] = f\"{(len(nan_df) / len_df) *100:.2f}\"\n",
    "    \n",
    "\n",
    "# plt.bar(appliance_missing_count.keys(), appliance_missing_count.values())\n",
    "print(appliance_missing_count)"
   ]
  },
  {
   "cell_type": "markdown",
   "metadata": {},
   "source": [
    "### Most Common Appliances"
   ]
  },
  {
   "cell_type": "code",
   "execution_count": 3,
   "metadata": {},
   "outputs": [
    {
     "name": "stdout",
     "output_type": "stream",
     "text": [
      "{'Presence_refrigerator/freezer': '12.79', 'Presence_iron': '19.13', 'Presence_fan': '22.94', 'Presence_DVD_player': '10.80', 'Presence_radio/stereo': '22.00', 'Presence_phone_charger': '19.41', 'Presence_TV': '17.79'}\n"
     ]
    }
   ],
   "source": [
    "common_appliances = {}\n",
    "for col in PRESENCE_LIST:\n",
    "    count_df = df[df[col] == 1]\n",
    "    common_appliances[col] = f\"{len(count_df) / len_df * 100:.2f}\"\n",
    "    \n",
    "print(common_appliances)"
   ]
  },
  {
   "cell_type": "markdown",
   "metadata": {},
   "source": [
    "## Appliances per source"
   ]
  },
  {
   "cell_type": "code",
   "execution_count": 4,
   "metadata": {},
   "outputs": [
    {
     "name": "stdout",
     "output_type": "stream",
     "text": [
      "| Appliance | Ethiopia | Kenya | Liberia | Nigeria | Tanzania | Zambia |\n",
      "| --- | -------- | ----- | ------- | ------- | -------- | ------ |\n",
      "| Presence_refrigerator/freezer | 3.11 % | 4.00 % | 25.00 % | 39.53 % | 13.12 % | 26.44 % | \n",
      "| Presence_iron | 22.37 % | 7.22 % | 13.37 % | 44.19 % | 1.23 % | 25.89 % | \n",
      "| Presence_fan | 37.20 % | 0.31 % | 54.07 % | 65.12 % | 12.36 % | 15.73 % | \n",
      "| Presence_DVD_player | 0.35 % | 9.58 % | 18.60 % | 58.14 % | 21.87 % | 18.80 % | \n",
      "| Presence_radio/stereo | 0.09 % | 24.18 % | 55.23 % | 44.19 % | 52.42 % | 34.58 % | \n",
      "| Presence_phone_charger | 0.00 % | 23.63 % | 20.35 % | 67.44 % | 7.21 % | 44.88 % | \n",
      "| Presence_TV | 0.00 % | 20.25 % | 58.72 % | 62.79 % | 34.15 % | 29.79 % | \n"
     ]
    }
   ],
   "source": [
    "groups = df.groupby(\"source\")\n",
    "\n",
    "source_appliance_count = {}\n",
    "sources = [s.capitalize() for s, _ in groups]\n",
    "\n",
    "print(f\"| Appliance | {' | '.join(sources)} |\")\n",
    "\n",
    "print(f\"| --- | {' | '.join('-' * len(i) for i in sources)} |\")\n",
    "\n",
    "for col in PRESENCE_LIST:\n",
    "    s = \"| \" + col+ \" | \"\n",
    "    for src, src_df in groups:\n",
    "        # s += f\"{len(src_df[src_df[col] == 1]) / len(src_df) * 100:.2f} % | \"\n",
    "        owned_df = src_df[src_df[col] == 1]\n",
    "        len_df = len(src_df)\n",
    "        s += f\"{len(owned_df) / len_df * 100:.2f} % | \"\n",
    "        \n",
    "    print(s)\n",
    "        "
   ]
  },
  {
   "cell_type": "markdown",
   "metadata": {},
   "source": [
    "## Missing  Appliances per source"
   ]
  },
  {
   "cell_type": "code",
   "execution_count": null,
   "metadata": {},
   "outputs": [
    {
     "name": "stdout",
     "output_type": "stream",
     "text": [
      "| Appliance | Ethiopia | Kenya | Liberia | Nigeria | Tanzania | Zambia |\n",
      "| --- | -------- | ----- | ------- | ------- | -------- | ------ |\n",
      "| Presence_refrigerator/freezer | 0.00 % | 54.55 % | 0.00 % | 0.00 % | 0.15 % | 2.69 % | \n",
      "| Presence_iron | 0.00 % | 54.55 % | 0.00 % | 0.00 % | 90.87 % | 2.69 % | \n",
      "| Presence_fan | 0.00 % | 54.55 % | 0.00 % | 0.00 % | 0.15 % | 2.69 % | \n",
      "| Presence_DVD_player | 0.00 % | 54.55 % | 0.00 % | 0.00 % | 0.15 % | 2.69 % | \n",
      "| Presence_radio/stereo | 0.00 % | 54.55 % | 0.00 % | 0.00 % | 0.00 % | 2.69 % | \n",
      "| Presence_phone_charger | 100.00 % | 54.55 % | 0.00 % | 0.00 % | 90.87 % | 2.69 % | \n",
      "| Presence_TV | 100.00 % | 54.55 % | 0.00 % | 0.00 % | 0.15 % | 2.69 % | \n"
     ]
    }
   ],
   "source": [
    "groups = df.groupby(\"source\")\n",
    "\n",
    "source_appliance_count = {}\n",
    "sources = [s.capitalize() for s, _ in groups]\n",
    "\n",
    "print(f\"| Appliance | {' | '.join(sources)} |\")\n",
    "\n",
    "print(f\"| --- | {' | '.join('-' * len(i) for i in sources)} |\")\n",
    "\n",
    "for col in PRESENCE_LIST:\n",
    "    s = \"| \" + col+ \" | \"\n",
    "    for src, src_df in groups:\n",
    "        # s += f\"{len(src_df[src_df[col] == 1]) / len(src_df) * 100:.2f} % | \"\n",
    "        owned_df = src_df[src_df[col].isna()]\n",
    "        len_df = len(src_df)\n",
    "        s += f\"{len(owned_df) / len_df * 100:.2f} % | \"\n",
    "        \n",
    "    print(s)\n",
    "        "
   ]
  },
  {
   "cell_type": "code",
   "execution_count": 7,
   "metadata": {},
   "outputs": [
    {
     "data": {
      "text/plain": [
       "45.45"
      ]
     },
     "execution_count": 7,
     "metadata": {},
     "output_type": "execute_result"
    }
   ],
   "source": [
    "100 - 54.55"
   ]
  },
  {
   "cell_type": "code",
   "execution_count": 9,
   "metadata": {},
   "outputs": [
    {
     "name": "stdout",
     "output_type": "stream",
     "text": [
      "Ownership\n",
      "12.79 %\n",
      "19.13 %\n",
      "22.94 %\n",
      "10.80 %\n",
      "22.00 %\n",
      "19.41 %\n",
      "17.79 %\n",
      "Missing\n",
      "7.41 %\n",
      "18.44 %\n",
      "7.41 %\n",
      "7.41 %\n",
      "7.39 %\n",
      "58.69 %\n",
      "47.66 %\n"
     ]
    }
   ],
   "source": [
    "print(\"Ownership\")\n",
    "for col in PRESENCE_LIST: \n",
    "    owned_df = df[df[col]== 1]\n",
    "    len_df = len(df)\n",
    "    print(f\"{len(owned_df) / len_df * 100:.2f} %\")\n",
    "    \n",
    "    \n",
    "    \n",
    "print (\"Missing\")\n",
    "for col in PRESENCE_LIST: \n",
    "    miss_df = df[df[col].isna()]\n",
    "    len_df = len(df)\n",
    "    print(f\"{len(miss_df) / len_df * 100:.2f} %\")\n",
    "    \n",
    "        "
   ]
  },
  {
   "cell_type": "markdown",
   "metadata": {},
   "source": [
    "## Missing Drivers"
   ]
  },
  {
   "cell_type": "code",
   "execution_count": null,
   "metadata": {},
   "outputs": [],
   "source": [
    "groups = df.groupby(\"source\")\n",
    "\n",
    "source_appliance_count = {}\n",
    "sources = [s.capitalize() for s, _ in groups]\n",
    "\n",
    "print(f\"| Appliance | {' | '.join(sources)} | Total |\")\n",
    "\n",
    "print(f\"| --- | {' | '.join('-' * len(i) for i in sources)} | ------ |\")\n",
    "\n",
    "for col in DRIVERS_LIST:\n",
    "    s = \"| \" + col+ \" | \"\n",
    "    for src, src_df in groups:\n",
    "        missing = src_df[src_df[col].isna()]\n",
    "        len_df = len(src_df)\n",
    "        s += f\"{len(missing) / len_df * 100:.2f} % | \"\n",
    "    \n",
    "    \n",
    "    print(s)\n",
    "        "
   ]
  }
 ],
 "metadata": {
  "kernelspec": {
   "display_name": "tf",
   "language": "python",
   "name": "python3"
  },
  "language_info": {
   "codemirror_mode": {
    "name": "ipython",
    "version": 3
   },
   "file_extension": ".py",
   "mimetype": "text/x-python",
   "name": "python",
   "nbconvert_exporter": "python",
   "pygments_lexer": "ipython3",
   "version": "3.11.10"
  }
 },
 "nbformat": 4,
 "nbformat_minor": 2
}
