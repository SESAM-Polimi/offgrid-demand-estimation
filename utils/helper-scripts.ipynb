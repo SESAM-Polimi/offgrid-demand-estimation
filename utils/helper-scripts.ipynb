{
 "cells": [
  {
   "metadata": {},
   "cell_type": "markdown",
   "source": "# Generate Categories",
   "id": "af754c3198f56877"
  },
  {
   "cell_type": "code",
   "id": "initial_id",
   "metadata": {
    "collapsed": true,
    "ExecuteTime": {
     "end_time": "2024-11-07T17:13:58.395376Z",
     "start_time": "2024-11-07T17:13:58.082054Z"
    }
   },
   "source": [
    "import pandas as pd\n",
    "import pathlib"
   ],
   "outputs": [],
   "execution_count": 1
  },
  {
   "metadata": {
    "ExecuteTime": {
     "end_time": "2024-11-07T17:13:58.665711Z",
     "start_time": "2024-11-07T17:13:58.478478Z"
    }
   },
   "cell_type": "code",
   "source": [
    "DB_ROOT = \"../playground/data/LSMS/Tanzania\"\n",
    "root = pathlib.Path(DB_ROOT)\n",
    "sheet_name = \"Categories\"\n",
    "master_file = root.joinpath(\"_master.xlsx\")\n",
    "\n",
    "df = pd.read_excel(master_file, sheet_name=sheet_name)\n",
    "df.head()\n"
   ],
   "id": "fcdb15474ffd48f1",
   "outputs": [
    {
     "data": {
      "text/plain": [
       "  Derived_variables_cat Final_cat Original_cat  Unnamed: 3  Unnamed: 4  \\\n",
       "0           Urban/rural     Urban            2         NaN         NaN   \n",
       "1           Urban/rural     Rural            1         NaN         NaN   \n",
       "2       Male/female_HHH      Male            1         NaN         NaN   \n",
       "3       Male/female_HHH    Female            2         NaN         NaN   \n",
       "4    Marital_status_HHH   Ongoing            1         NaN         NaN   \n",
       "\n",
       "  Unnamed: 5 Unnamed: 6  \n",
       "0        NaN        NaN  \n",
       "1        NaN        NaN  \n",
       "2        NaN        NaN  \n",
       "3        NaN        NaN  \n",
       "4        NaN        NaN  "
      ],
      "text/html": [
       "<div>\n",
       "<style scoped>\n",
       "    .dataframe tbody tr th:only-of-type {\n",
       "        vertical-align: middle;\n",
       "    }\n",
       "\n",
       "    .dataframe tbody tr th {\n",
       "        vertical-align: top;\n",
       "    }\n",
       "\n",
       "    .dataframe thead th {\n",
       "        text-align: right;\n",
       "    }\n",
       "</style>\n",
       "<table border=\"1\" class=\"dataframe\">\n",
       "  <thead>\n",
       "    <tr style=\"text-align: right;\">\n",
       "      <th></th>\n",
       "      <th>Derived_variables_cat</th>\n",
       "      <th>Final_cat</th>\n",
       "      <th>Original_cat</th>\n",
       "      <th>Unnamed: 3</th>\n",
       "      <th>Unnamed: 4</th>\n",
       "      <th>Unnamed: 5</th>\n",
       "      <th>Unnamed: 6</th>\n",
       "    </tr>\n",
       "  </thead>\n",
       "  <tbody>\n",
       "    <tr>\n",
       "      <th>0</th>\n",
       "      <td>Urban/rural</td>\n",
       "      <td>Urban</td>\n",
       "      <td>2</td>\n",
       "      <td>NaN</td>\n",
       "      <td>NaN</td>\n",
       "      <td>NaN</td>\n",
       "      <td>NaN</td>\n",
       "    </tr>\n",
       "    <tr>\n",
       "      <th>1</th>\n",
       "      <td>Urban/rural</td>\n",
       "      <td>Rural</td>\n",
       "      <td>1</td>\n",
       "      <td>NaN</td>\n",
       "      <td>NaN</td>\n",
       "      <td>NaN</td>\n",
       "      <td>NaN</td>\n",
       "    </tr>\n",
       "    <tr>\n",
       "      <th>2</th>\n",
       "      <td>Male/female_HHH</td>\n",
       "      <td>Male</td>\n",
       "      <td>1</td>\n",
       "      <td>NaN</td>\n",
       "      <td>NaN</td>\n",
       "      <td>NaN</td>\n",
       "      <td>NaN</td>\n",
       "    </tr>\n",
       "    <tr>\n",
       "      <th>3</th>\n",
       "      <td>Male/female_HHH</td>\n",
       "      <td>Female</td>\n",
       "      <td>2</td>\n",
       "      <td>NaN</td>\n",
       "      <td>NaN</td>\n",
       "      <td>NaN</td>\n",
       "      <td>NaN</td>\n",
       "    </tr>\n",
       "    <tr>\n",
       "      <th>4</th>\n",
       "      <td>Marital_status_HHH</td>\n",
       "      <td>Ongoing</td>\n",
       "      <td>1</td>\n",
       "      <td>NaN</td>\n",
       "      <td>NaN</td>\n",
       "      <td>NaN</td>\n",
       "      <td>NaN</td>\n",
       "    </tr>\n",
       "  </tbody>\n",
       "</table>\n",
       "</div>"
      ]
     },
     "execution_count": 2,
     "metadata": {},
     "output_type": "execute_result"
    }
   ],
   "execution_count": 2
  },
  {
   "metadata": {
    "ExecuteTime": {
     "end_time": "2024-11-07T17:13:59.632476Z",
     "start_time": "2024-11-07T17:13:59.609088Z"
    }
   },
   "cell_type": "code",
   "source": [
    "cat_name_col = \"Derived_variables_cat\"\n",
    "final_cat_col = \"Final_cat\"\n",
    "original_cat_col = \"Original_cat\"\n",
    "df = df[[cat_name_col, final_cat_col, original_cat_col]]\n",
    "df.head()"
   ],
   "id": "7c302e5e5c71a001",
   "outputs": [
    {
     "data": {
      "text/plain": [
       "  Derived_variables_cat Final_cat Original_cat\n",
       "0           Urban/rural     Urban            2\n",
       "1           Urban/rural     Rural            1\n",
       "2       Male/female_HHH      Male            1\n",
       "3       Male/female_HHH    Female            2\n",
       "4    Marital_status_HHH   Ongoing            1"
      ],
      "text/html": [
       "<div>\n",
       "<style scoped>\n",
       "    .dataframe tbody tr th:only-of-type {\n",
       "        vertical-align: middle;\n",
       "    }\n",
       "\n",
       "    .dataframe tbody tr th {\n",
       "        vertical-align: top;\n",
       "    }\n",
       "\n",
       "    .dataframe thead th {\n",
       "        text-align: right;\n",
       "    }\n",
       "</style>\n",
       "<table border=\"1\" class=\"dataframe\">\n",
       "  <thead>\n",
       "    <tr style=\"text-align: right;\">\n",
       "      <th></th>\n",
       "      <th>Derived_variables_cat</th>\n",
       "      <th>Final_cat</th>\n",
       "      <th>Original_cat</th>\n",
       "    </tr>\n",
       "  </thead>\n",
       "  <tbody>\n",
       "    <tr>\n",
       "      <th>0</th>\n",
       "      <td>Urban/rural</td>\n",
       "      <td>Urban</td>\n",
       "      <td>2</td>\n",
       "    </tr>\n",
       "    <tr>\n",
       "      <th>1</th>\n",
       "      <td>Urban/rural</td>\n",
       "      <td>Rural</td>\n",
       "      <td>1</td>\n",
       "    </tr>\n",
       "    <tr>\n",
       "      <th>2</th>\n",
       "      <td>Male/female_HHH</td>\n",
       "      <td>Male</td>\n",
       "      <td>1</td>\n",
       "    </tr>\n",
       "    <tr>\n",
       "      <th>3</th>\n",
       "      <td>Male/female_HHH</td>\n",
       "      <td>Female</td>\n",
       "      <td>2</td>\n",
       "    </tr>\n",
       "    <tr>\n",
       "      <th>4</th>\n",
       "      <td>Marital_status_HHH</td>\n",
       "      <td>Ongoing</td>\n",
       "      <td>1</td>\n",
       "    </tr>\n",
       "  </tbody>\n",
       "</table>\n",
       "</div>"
      ]
     },
     "execution_count": 3,
     "metadata": {},
     "output_type": "execute_result"
    }
   ],
   "execution_count": 3
  },
  {
   "metadata": {
    "ExecuteTime": {
     "end_time": "2024-11-07T17:14:41.194080Z",
     "start_time": "2024-11-07T17:14:41.189063Z"
    }
   },
   "cell_type": "code",
   "source": [
    "categories = {\"Region_raw\": \"Region_original2final\",\n",
    "              \"District_raw\": \"District_original2final\"\n",
    "              }"
   ],
   "id": "15d274cdfeac7c06",
   "outputs": [],
   "execution_count": 4
  },
  {
   "metadata": {
    "ExecuteTime": {
     "end_time": "2024-11-07T17:14:41.489828Z",
     "start_time": "2024-11-07T17:14:41.453516Z"
    }
   },
   "cell_type": "code",
   "source": [
    "output = \"\"\n",
    "\n",
    "for key, value in categories.items():\n",
    "\n",
    "    dict_value = \"\"\n",
    "\n",
    "    for index, row in df[df[cat_name_col] == key].iterrows():\n",
    "        original = row[original_cat_col]\n",
    "        if type(original) == str:\n",
    "            original = original.replace(\"'\", \"\\\\'\")\n",
    "            original = f\"'{original}'\"\n",
    "\n",
    "        final = row[final_cat_col]\n",
    "        if type(final) == str:\n",
    "            final = final.replace(\"'\", \"\\\\'\")\n",
    "            final = f\"'{final}'\"\n",
    "\n",
    "        dict_value += f\"{original}: {final},\"\n",
    "\n",
    "    output += f\"{value} =\" + \"{\" + dict_value + \"}\" + \"\\n\"\n",
    "\n",
    "print(output)"
   ],
   "id": "814c5b2462a908af",
   "outputs": [
    {
     "name": "stdout",
     "output_type": "stream",
     "text": [
      "Region_original2final ={1: 'Dodoma',2: 'Arusha',3: 'Kilimanjaro',4: 'Tanga',5: 'Morogoro',6: 'Pwani',7: 'Dar es salaam',8: 'Lindi',9: 'Mtwara',10: 'Ruvuma',11: 'Iringa',12: 'Mbeya',13: 'Singida',14: 'Tabora',15: 'Rukwa',16: 'Kigoma',17: 'Shinyanga',18: 'Kagera',19: 'Mwanza',20: 'Mara',21: 'Manyara',22: 'Njombe',23: 'Katavi',24: 'Simiyu',25: 'Geita',26: 'Mbeya',51: 'Zanzibar North',52: 'Zanzibar South',53: 'Zanzibar West',54: 'Pemba North',55: 'Pemba South',}\n",
      "District_original2final ={11: 'Kondoa',12: 'Mpwapwa',13: 'Kongwa',15: 'Dodoma Urban',17: 'Chemba',21: 'Monduli',22: 'Meru',23: 'Arusha Urban',24: 'Karatu',31: 'Rombo',32: 'MWANGA',36: 'MOSHI URBAN',41: 'LUSHOTO',42: 'KOROGWE RURAL',43: 'MUHEZA',44: 'TANGA URBAN',46: 'HANDENI',47: 'KILINDI',49: 'KOROGWE URBAN',51: 'KILOSA',52: 'MOROGORO RURAL',53: 'KILOMBERO',55: 'MOROGORO URBAN',56: 'MVOMERO',57: 'GAIRO',61: 'BAGAMOYO',62: 'KIBAHA RURAL',63: 'KISARAWE',64: 'MKURANGA',65: 'RUFIJI',67: 'KIBAHA URBAN',71: 'KINONDONI',72: 'ILALA',73: 'TEMEKE',81: 'KILWA',82: 'LINDI RURAL',83: 'NACHINGWEA',85: 'RUANGWA',86: 'LINDI URBAN',91: 'MTWARA RURAL',92: 'NEWALA',93: 'MASASI RURAL',94: 'TANDAHIMBA',95: 'MTWARA MIKINDANI',96: 'NANYUMBU',97: 'MASASI URBAN',102: 'SONGEA RURAL',103: 'MBINGA',104: 'SONGEA URBAN',106: 'NYASA',112: 'MUFINDI',113: 'IRINGA URBAN',115: 'MAFINGA',121: 'CHUNYA',122: 'MBEYA RURAL',127: 'MBALALI',128: 'MBEYA URBAN',129: 'MOMBA',131: 'IRAMBA',132: 'SINGIDA RURAL',134: 'SINGIDA URBAN',141: 'NZEGA',142: 'IGUNGA',143: 'UYUI',144: 'URAMBA',145: 'SIKONGE',146: 'TABORA URBAN',147: 'KALIUA',151: 'KALAMBO',152: 'SUMBAWANGA RURAL',153: 'NKASI',154: 'SUMBAWANGA URBAN',161: 'KIBONDO',162: 'KASULU RURAL',164: 'KIGOMA URBAN',166: 'BUHIGWE',173: 'SHINYANGA URBAN',174: 'KAHAMA RURAL',175: 'KAHAMA URBAN',181: 'KARAGWE',182: 'BUKOBA RURAL',183: 'MULEBA',184: 'BIHARAMULO',185: 'NGARA',186: 'BUKOBA URBAN',187: 'MISSENYI',188: 'KYERWA',192: 'MAGU',193: 'NYAMAGANA',194: 'KWIMBA',195: 'SENGEREMA',196: 'ILEMELA',197: 'MISUNGWI',201: 'TARIME',203: 'MUSOMA RURAL',205: 'MUSOMA URBAN',207: 'BUTIAMA',211: 'BABATI RURAL',214: 'SIMANJIRO',223: 'MAKETE',231: 'MPANDA URBAN',242: 'ITILIMA',244: 'MASWA',251: 'GEITA',252: 'NYANG\\'HWALE',253: 'MBOGWE',254: 'BUKOMBE',255: 'CHATO',511: 'KASKAZINI ‘A’',512: 'KASKAZINI ‘B’',521: 'KATI',522: 'KUSINI',531: 'MAGHARIBI',532: 'MJINI',541: 'WETE',542: 'MICHWEWENI',552: 'MKOANI',}\n",
      "\n"
     ]
    }
   ],
   "execution_count": 5
  },
  {
   "metadata": {},
   "cell_type": "code",
   "outputs": [],
   "execution_count": null,
   "source": [
    "Education_level_HHH = {1: 'No schooling', 11: 'Primary education', 12: 'Primary education', 13: 'Primary education',\n",
    "                       14: 'Primary education', 15: 'Primary education', 16: 'Primary education',\n",
    "                       17: 'Primary education', 18: 'Primary education', 19: 'Primary education',\n",
    "                       21: 'Upper secondary education', 22: 'Upper secondary education',\n",
    "                       23: 'Upper secondary education', 24: 'Upper secondary education',\n",
    "                       25: 'Upper secondary education', 31: 'Post-secondary non-tertiary education',\n",
    "                       32: 'Post-secondary non-tertiary education', 33: 'Post-secondary non-tertiary education',\n",
    "                       34: 'Post-secondary non-tertiary education', 41: 'Bachelor\\'s or equivalent level',\n",
    "                       42: 'Bachelor\\'s or equivalent level', 43: 'Bachelor\\'s or equivalent level',\n",
    "                       44: 'Master\\'s or equivalent level', 45: 'Doctoral or equivalent level',\n",
    "                       2: 'Not elsewhere classified', }\n",
    "Socio_status_HHH = {1: 'Employee', 2: 'Employer', 3: 'Own-account worker non-farm', 4: 'Contributing family worker',\n",
    "                    5: 'Contributing family worker', 6: 'Own-account worker farm', }\n",
    "Connection_type = {1: 'National grid', 2: 'Local mini-grid', 3: 'Solar Home System', }\n",
    "Dwelling_quality_wall = {1: 0, 2: 0, 3: 0, 4: 0, 5: 1, 6: 1, 7: 0, }\n",
    "Dwelling_quality_roof = {1: 0, 2: 0, 3: 1, 4: 0, 5: 0, 6: 0, 7: 0, }\n",
    "Dwelling_quality_floor = {1: 0, 2: 1, 3: 0, }\n",
    "Dwelling_quality_toilet = {1: 0, 2: 0, 3: 0, 4: 1, 5: 1, 6: 1, 7: 1, 8: 1, 9: 0, }"
   ],
   "id": "b4d76510268c4252"
  }
 ],
 "metadata": {
  "kernelspec": {
   "display_name": "Python 3",
   "language": "python",
   "name": "python3"
  },
  "language_info": {
   "codemirror_mode": {
    "name": "ipython",
    "version": 2
   },
   "file_extension": ".py",
   "mimetype": "text/x-python",
   "name": "python",
   "nbconvert_exporter": "python",
   "pygments_lexer": "ipython2",
   "version": "2.7.6"
  }
 },
 "nbformat": 4,
 "nbformat_minor": 5
}
