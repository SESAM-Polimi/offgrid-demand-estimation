{
 "cells": [
  {
   "metadata": {},
   "cell_type": "markdown",
   "source": "# Generate Categories",
   "id": "af754c3198f56877"
  },
  {
   "cell_type": "code",
   "id": "initial_id",
   "metadata": {
    "collapsed": true,
    "ExecuteTime": {
     "end_time": "2024-11-04T11:15:53.680917Z",
     "start_time": "2024-11-04T11:15:53.510604Z"
    }
   },
   "source": [
    "import pandas as pd\n",
    "import pathlib"
   ],
   "outputs": [],
   "execution_count": 2
  },
  {
   "metadata": {
    "ExecuteTime": {
     "end_time": "2024-11-04T11:20:44.777989Z",
     "start_time": "2024-11-04T11:20:44.736032Z"
    }
   },
   "cell_type": "code",
   "source": [
    "DB_ROOT = \"../playground/data/LSMS/Tanzania\"\n",
    "root = pathlib.Path(DB_ROOT)\n",
    "sheet_name = \"Categories\"\n",
    "master_file = root.joinpath(\"_master.xlsx\")\n",
    "\n",
    "df = pd.read_excel(master_file, sheet_name=sheet_name)\n",
    "df.head()\n"
   ],
   "id": "fcdb15474ffd48f1",
   "outputs": [
    {
     "data": {
      "text/plain": [
       "  Derived_variables_cat Final_cat Original_cat  Unnamed: 3  Unnamed: 4  \\\n",
       "0           Urban/rural     Urban            2         NaN         NaN   \n",
       "1           Urban/rural     Rural            1         NaN         NaN   \n",
       "2       Male/female_HHH      Male            1         NaN         NaN   \n",
       "3       Male/female_HHH    Female            2         NaN         NaN   \n",
       "4    Marital_status_HHH   Ongoing            1         NaN         NaN   \n",
       "\n",
       "  Unnamed: 5 Unnamed: 6  \n",
       "0        NaN        NaN  \n",
       "1        NaN        NaN  \n",
       "2        NaN        NaN  \n",
       "3        NaN        NaN  \n",
       "4        NaN        NaN  "
      ],
      "text/html": [
       "<div>\n",
       "<style scoped>\n",
       "    .dataframe tbody tr th:only-of-type {\n",
       "        vertical-align: middle;\n",
       "    }\n",
       "\n",
       "    .dataframe tbody tr th {\n",
       "        vertical-align: top;\n",
       "    }\n",
       "\n",
       "    .dataframe thead th {\n",
       "        text-align: right;\n",
       "    }\n",
       "</style>\n",
       "<table border=\"1\" class=\"dataframe\">\n",
       "  <thead>\n",
       "    <tr style=\"text-align: right;\">\n",
       "      <th></th>\n",
       "      <th>Derived_variables_cat</th>\n",
       "      <th>Final_cat</th>\n",
       "      <th>Original_cat</th>\n",
       "      <th>Unnamed: 3</th>\n",
       "      <th>Unnamed: 4</th>\n",
       "      <th>Unnamed: 5</th>\n",
       "      <th>Unnamed: 6</th>\n",
       "    </tr>\n",
       "  </thead>\n",
       "  <tbody>\n",
       "    <tr>\n",
       "      <th>0</th>\n",
       "      <td>Urban/rural</td>\n",
       "      <td>Urban</td>\n",
       "      <td>2</td>\n",
       "      <td>NaN</td>\n",
       "      <td>NaN</td>\n",
       "      <td>NaN</td>\n",
       "      <td>NaN</td>\n",
       "    </tr>\n",
       "    <tr>\n",
       "      <th>1</th>\n",
       "      <td>Urban/rural</td>\n",
       "      <td>Rural</td>\n",
       "      <td>1</td>\n",
       "      <td>NaN</td>\n",
       "      <td>NaN</td>\n",
       "      <td>NaN</td>\n",
       "      <td>NaN</td>\n",
       "    </tr>\n",
       "    <tr>\n",
       "      <th>2</th>\n",
       "      <td>Male/female_HHH</td>\n",
       "      <td>Male</td>\n",
       "      <td>1</td>\n",
       "      <td>NaN</td>\n",
       "      <td>NaN</td>\n",
       "      <td>NaN</td>\n",
       "      <td>NaN</td>\n",
       "    </tr>\n",
       "    <tr>\n",
       "      <th>3</th>\n",
       "      <td>Male/female_HHH</td>\n",
       "      <td>Female</td>\n",
       "      <td>2</td>\n",
       "      <td>NaN</td>\n",
       "      <td>NaN</td>\n",
       "      <td>NaN</td>\n",
       "      <td>NaN</td>\n",
       "    </tr>\n",
       "    <tr>\n",
       "      <th>4</th>\n",
       "      <td>Marital_status_HHH</td>\n",
       "      <td>Ongoing</td>\n",
       "      <td>1</td>\n",
       "      <td>NaN</td>\n",
       "      <td>NaN</td>\n",
       "      <td>NaN</td>\n",
       "      <td>NaN</td>\n",
       "    </tr>\n",
       "  </tbody>\n",
       "</table>\n",
       "</div>"
      ]
     },
     "execution_count": 10,
     "metadata": {},
     "output_type": "execute_result"
    }
   ],
   "execution_count": 10
  },
  {
   "metadata": {
    "ExecuteTime": {
     "end_time": "2024-11-04T11:20:48.352053Z",
     "start_time": "2024-11-04T11:20:48.347271Z"
    }
   },
   "cell_type": "code",
   "outputs": [
    {
     "data": {
      "text/plain": [
       "  Derived_variables_cat Final_cat Original_cat\n",
       "0           Urban/rural     Urban            2\n",
       "1           Urban/rural     Rural            1\n",
       "2       Male/female_HHH      Male            1\n",
       "3       Male/female_HHH    Female            2\n",
       "4    Marital_status_HHH   Ongoing            1"
      ],
      "text/html": [
       "<div>\n",
       "<style scoped>\n",
       "    .dataframe tbody tr th:only-of-type {\n",
       "        vertical-align: middle;\n",
       "    }\n",
       "\n",
       "    .dataframe tbody tr th {\n",
       "        vertical-align: top;\n",
       "    }\n",
       "\n",
       "    .dataframe thead th {\n",
       "        text-align: right;\n",
       "    }\n",
       "</style>\n",
       "<table border=\"1\" class=\"dataframe\">\n",
       "  <thead>\n",
       "    <tr style=\"text-align: right;\">\n",
       "      <th></th>\n",
       "      <th>Derived_variables_cat</th>\n",
       "      <th>Final_cat</th>\n",
       "      <th>Original_cat</th>\n",
       "    </tr>\n",
       "  </thead>\n",
       "  <tbody>\n",
       "    <tr>\n",
       "      <th>0</th>\n",
       "      <td>Urban/rural</td>\n",
       "      <td>Urban</td>\n",
       "      <td>2</td>\n",
       "    </tr>\n",
       "    <tr>\n",
       "      <th>1</th>\n",
       "      <td>Urban/rural</td>\n",
       "      <td>Rural</td>\n",
       "      <td>1</td>\n",
       "    </tr>\n",
       "    <tr>\n",
       "      <th>2</th>\n",
       "      <td>Male/female_HHH</td>\n",
       "      <td>Male</td>\n",
       "      <td>1</td>\n",
       "    </tr>\n",
       "    <tr>\n",
       "      <th>3</th>\n",
       "      <td>Male/female_HHH</td>\n",
       "      <td>Female</td>\n",
       "      <td>2</td>\n",
       "    </tr>\n",
       "    <tr>\n",
       "      <th>4</th>\n",
       "      <td>Marital_status_HHH</td>\n",
       "      <td>Ongoing</td>\n",
       "      <td>1</td>\n",
       "    </tr>\n",
       "  </tbody>\n",
       "</table>\n",
       "</div>"
      ]
     },
     "execution_count": 11,
     "metadata": {},
     "output_type": "execute_result"
    }
   ],
   "execution_count": 11,
   "source": [
    "cat_name_col = \"Derived_variables_cat\"\n",
    "final_cat_col = \"Final_cat\"\n",
    "original_cat_col = \"Original_cat\"\n",
    "df = df[[cat_name_col, final_cat_col, original_cat_col]]\n",
    "df.head()"
   ],
   "id": "7c302e5e5c71a001"
  },
  {
   "metadata": {
    "ExecuteTime": {
     "end_time": "2024-11-04T12:59:26.043533Z",
     "start_time": "2024-11-04T12:59:26.038118Z"
    }
   },
   "cell_type": "code",
   "source": [
    "categories = {\"Education_level_HHH\": \"Education_level_original2final\",\n",
    "              \"Socio_status_HHH\": \"Socio_status_original2final\",\n",
    "              \"Connection_type\": \"Connection_type_original2final\",\n",
    "              \"Dwelling_quality_wall\": \"Dwelling_quality_wall_original2final\",\n",
    "              \"Dwelling_quality_roof\": \"Dwelling_quality_roof_original2final\",\n",
    "              \"Dwelling_quality_floor\": \"Dwelling_quality_floor_original2final\",\n",
    "              \"Dwelling_quality_toilet\": \"Dwelling_quality_toilet_original2final\",\n",
    "              \"Clean_fuel\": \"Clean_fuel_original2final\",\n",
    "              \"Dwelling_toilet_1\": \"Dwelling_toilet_1_original2final\",\n",
    "              \"Dwelling_toilet_2\": \"Dwelling_toilet_2_original2final\",\n",
    "              \"Dwelling_toilet_3\": \"Dwelling_toilet_3_original2final\",\n",
    "              \"Dwelling_toilet_4\": \"Dwelling_toilet_4_original2final\",\n",
    "              \"Dwelling_toilet_5\": \"Dwelling_toilet_5_original2final\",\n",
    "              \"Dwelling_toilet_6\": \"Dwelling_toilet_6_original2final\",\n",
    "              }"
   ],
   "id": "15d274cdfeac7c06",
   "outputs": [],
   "execution_count": 30
  },
  {
   "metadata": {
    "ExecuteTime": {
     "end_time": "2024-11-04T12:59:26.513682Z",
     "start_time": "2024-11-04T12:59:26.499535Z"
    }
   },
   "cell_type": "code",
   "source": [
    "output = \"\"\n",
    "\n",
    "for key, value in categories.items():\n",
    "\n",
    "    dict_value = \"\"\n",
    "\n",
    "    for index, row in df[df[cat_name_col] == key].iterrows():\n",
    "        original = row[original_cat_col]\n",
    "        if type(original) == str:\n",
    "            original = original.replace(\"'\", \"\\\\'\")\n",
    "            original = f\"'{original}'\"\n",
    "\n",
    "        final = row[final_cat_col]\n",
    "        if type(final) == str:\n",
    "            final = final.replace(\"'\", \"\\\\'\")\n",
    "            final = f\"'{final}'\"\n",
    "\n",
    "        dict_value += f\"{original}: {final},\"\n",
    "\n",
    "    output += f\"{value} =\" + \"{\" + dict_value + \"}\" + \"\\n\"\n",
    "\n",
    "print(output)"
   ],
   "id": "814c5b2462a908af",
   "outputs": [
    {
     "name": "stdout",
     "output_type": "stream",
     "text": [
      "Education_level_original2final ={1: 'No schooling',11: 'Primary education',12: 'Primary education',13: 'Primary education',14: 'Primary education',15: 'Primary education',16: 'Primary education',17: 'Primary education',18: 'Primary education',19: 'Primary education',21: 'Upper secondary education',22: 'Upper secondary education',23: 'Upper secondary education',24: 'Upper secondary education',25: 'Upper secondary education',31: 'Post-secondary non-tertiary education',32: 'Post-secondary non-tertiary education',33: 'Post-secondary non-tertiary education',34: 'Post-secondary non-tertiary education',41: 'Bachelor\\'s or equivalent level',42: 'Bachelor\\'s or equivalent level',43: 'Bachelor\\'s or equivalent level',44: 'Master\\'s or equivalent level',45: 'Doctoral or equivalent level',2: 'Not elsewhere classified',}\n",
      "Socio_status_original2final ={1: 'Employee',2: 'Employer',3: 'Own-account worker non-farm',4: 'Contributing family worker',5: 'Contributing family worker',6: 'Own-account worker farm',}\n",
      "Connection_type_original2final ={1: 'National grid',2: 'Local mini-grid',3: 'Solar Home System',}\n",
      "Dwelling_quality_wall_original2final ={1: 0,2: 0,3: 0,4: 0,5: 1,6: 1,7: 0,}\n",
      "Dwelling_quality_roof_original2final ={1: 0,2: 0,3: 1,4: 0,5: 0,6: 0,7: 0,}\n",
      "Dwelling_quality_floor_original2final ={1: 0,2: 1,3: 0,}\n",
      "Dwelling_quality_toilet_original2final ={1: 0,2: 0,3: 0,4: 1,5: 1,6: 1,7: 1,8: 1,9: 0,}\n",
      "Clean_fuel_original2final ={1: 'No',2: 'No',3: 'Yes',4: 'Yes',5: 'No',6: 'No',7: 'Yes',8: 'No',}\n",
      "Dwelling_toilet_1_original2final ={1: 1,2: 1,3: 1,5: 1,7: 1,8: 1,9: 1,10: 1,4: 0,6: 0,11: 0,12: 0,}\n",
      "Dwelling_toilet_2_original2final ={2: 1,3: 1,4: 1,1: 0,5: 0,6: 0,7: 0,}\n",
      "Dwelling_toilet_3_original2final ={2: 1,3: 1,4: 1,1: 0,5: 0,6: 0,7: 0,}\n",
      "Dwelling_toilet_4_original2final ={1: 1,2: 1,3: 1,5: 1,7: 1,8: 1,9: 1,10: 1,4: 0,6: 0,11: 0,12: 0,}\n",
      "Dwelling_toilet_5_original2final ={2: 1,3: 1,4: 1,1: 0,5: 0,6: 0,7: 0,}\n",
      "Dwelling_toilet_6_original2final ={2: 1,3: 1,4: 1,1: 0,5: 0,6: 0,7: 0,}\n",
      "\n"
     ]
    }
   ],
   "execution_count": 31
  },
  {
   "metadata": {},
   "cell_type": "code",
   "outputs": [],
   "execution_count": null,
   "source": [
    "Education_level_HHH = {1: 'No schooling', 11: 'Primary education', 12: 'Primary education', 13: 'Primary education',\n",
    "                       14: 'Primary education', 15: 'Primary education', 16: 'Primary education',\n",
    "                       17: 'Primary education', 18: 'Primary education', 19: 'Primary education',\n",
    "                       21: 'Upper secondary education', 22: 'Upper secondary education',\n",
    "                       23: 'Upper secondary education', 24: 'Upper secondary education',\n",
    "                       25: 'Upper secondary education', 31: 'Post-secondary non-tertiary education',\n",
    "                       32: 'Post-secondary non-tertiary education', 33: 'Post-secondary non-tertiary education',\n",
    "                       34: 'Post-secondary non-tertiary education', 41: 'Bachelor\\'s or equivalent level',\n",
    "                       42: 'Bachelor\\'s or equivalent level', 43: 'Bachelor\\'s or equivalent level',\n",
    "                       44: 'Master\\'s or equivalent level', 45: 'Doctoral or equivalent level',\n",
    "                       2: 'Not elsewhere classified', }\n",
    "Socio_status_HHH = {1: 'Employee', 2: 'Employer', 3: 'Own-account worker non-farm', 4: 'Contributing family worker',\n",
    "                    5: 'Contributing family worker', 6: 'Own-account worker farm', }\n",
    "Connection_type = {1: 'National grid', 2: 'Local mini-grid', 3: 'Solar Home System', }\n",
    "Dwelling_quality_wall = {1: 0, 2: 0, 3: 0, 4: 0, 5: 1, 6: 1, 7: 0, }\n",
    "Dwelling_quality_roof = {1: 0, 2: 0, 3: 1, 4: 0, 5: 0, 6: 0, 7: 0, }\n",
    "Dwelling_quality_floor = {1: 0, 2: 1, 3: 0, }\n",
    "Dwelling_quality_toilet = {1: 0, 2: 0, 3: 0, 4: 1, 5: 1, 6: 1, 7: 1, 8: 1, 9: 0, }"
   ],
   "id": "b4d76510268c4252"
  }
 ],
 "metadata": {
  "kernelspec": {
   "display_name": "Python 3",
   "language": "python",
   "name": "python3"
  },
  "language_info": {
   "codemirror_mode": {
    "name": "ipython",
    "version": 2
   },
   "file_extension": ".py",
   "mimetype": "text/x-python",
   "name": "python",
   "nbconvert_exporter": "python",
   "pygments_lexer": "ipython2",
   "version": "2.7.6"
  }
 },
 "nbformat": 4,
 "nbformat_minor": 5
}
