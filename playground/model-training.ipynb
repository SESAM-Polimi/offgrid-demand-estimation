{
 "cells": [
  {
   "metadata": {
    "ExecuteTime": {
     "end_time": "2024-08-15T22:22:11.545893Z",
     "start_time": "2024-08-15T22:22:10.748059Z"
    }
   },
   "cell_type": "code",
   "source": [
    "import pandas as pd\n",
    "import torch.utils.data\n",
    "from datasets import AppliancePredictionDataset"
   ],
   "id": "initial_id",
   "outputs": [
    {
     "ename": "ModuleNotFoundError",
     "evalue": "No module named 'torch'",
     "output_type": "error",
     "traceback": [
      "\u001B[0;31m---------------------------------------------------------------------------\u001B[0m",
      "\u001B[0;31mModuleNotFoundError\u001B[0m                       Traceback (most recent call last)",
      "Cell \u001B[0;32mIn[1], line 2\u001B[0m\n\u001B[1;32m      1\u001B[0m \u001B[38;5;28;01mimport\u001B[39;00m \u001B[38;5;21;01mpandas\u001B[39;00m \u001B[38;5;28;01mas\u001B[39;00m \u001B[38;5;21;01mpd\u001B[39;00m\n\u001B[0;32m----> 2\u001B[0m \u001B[38;5;28;01mimport\u001B[39;00m \u001B[38;5;21;01mtorch\u001B[39;00m\u001B[38;5;21;01m.\u001B[39;00m\u001B[38;5;21;01mutils\u001B[39;00m\u001B[38;5;21;01m.\u001B[39;00m\u001B[38;5;21;01mdata\u001B[39;00m\n\u001B[1;32m      3\u001B[0m \u001B[38;5;28;01mfrom\u001B[39;00m \u001B[38;5;21;01mdatasets\u001B[39;00m \u001B[38;5;28;01mimport\u001B[39;00m AppliancePredictionDataset\n",
      "\u001B[0;31mModuleNotFoundError\u001B[0m: No module named 'torch'"
     ]
    }
   ],
   "execution_count": 1
  },
  {
   "metadata": {
    "ExecuteTime": {
     "end_time": "2024-08-15T22:21:15.680916Z",
     "start_time": "2024-08-15T22:21:15.461755Z"
    }
   },
   "cell_type": "code",
   "source": [
    "raw_ds = pd.read_csv('./data/Database_ready_v2.csv', low_memory=False)\n",
    "y = raw_ds[\"Presence_phone_charger\"].fillna(0).values\n",
    "ds = AppliancePredictionDataset(\"./data/numeric_data.csv\", y)"
   ],
   "id": "85ae752060d0c73f",
   "outputs": [
    {
     "ename": "NameError",
     "evalue": "name 'AppliancePredictionDataset' is not defined",
     "output_type": "error",
     "traceback": [
      "\u001B[0;31m---------------------------------------------------------------------------\u001B[0m",
      "\u001B[0;31mNameError\u001B[0m                                 Traceback (most recent call last)",
      "Cell \u001B[0;32mIn[4], line 3\u001B[0m\n\u001B[1;32m      1\u001B[0m raw_ds \u001B[38;5;241m=\u001B[39m pd\u001B[38;5;241m.\u001B[39mread_csv(\u001B[38;5;124m'\u001B[39m\u001B[38;5;124m./data/Database_ready_v2.csv\u001B[39m\u001B[38;5;124m'\u001B[39m, low_memory\u001B[38;5;241m=\u001B[39m\u001B[38;5;28;01mFalse\u001B[39;00m)\n\u001B[1;32m      2\u001B[0m y \u001B[38;5;241m=\u001B[39m raw_ds[\u001B[38;5;124m\"\u001B[39m\u001B[38;5;124mPresence_phone_charger\u001B[39m\u001B[38;5;124m\"\u001B[39m]\u001B[38;5;241m.\u001B[39mfillna(\u001B[38;5;241m0\u001B[39m)\u001B[38;5;241m.\u001B[39mvalues\n\u001B[0;32m----> 3\u001B[0m ds \u001B[38;5;241m=\u001B[39m AppliancePredictionDataset(\u001B[38;5;124m\"\u001B[39m\u001B[38;5;124m./data/numeric_data.csv\u001B[39m\u001B[38;5;124m\"\u001B[39m, y)\n",
      "\u001B[0;31mNameError\u001B[0m: name 'AppliancePredictionDataset' is not defined"
     ]
    }
   ],
   "execution_count": 4
  },
  {
   "metadata": {},
   "cell_type": "code",
   "source": "raw_ds['Presence_phone_charger'].fillna(0)",
   "id": "d6c33818267446a5",
   "outputs": [],
   "execution_count": null
  },
  {
   "metadata": {},
   "cell_type": "markdown",
   "source": "## Model Creation",
   "id": "9cd3eea7572a4592"
  },
  {
   "metadata": {},
   "cell_type": "code",
   "source": [
    "from torch import nn\n",
    "import torch.optim as optim\n",
    "from tqdm import tqdm\n"
   ],
   "id": "9eb81c568dae92b1",
   "outputs": [],
   "execution_count": null
  },
  {
   "metadata": {},
   "cell_type": "code",
   "source": [
    "batch_size = 128\n",
    "EPOCHS = 1000\n",
    "learning_rate = 1e-3\n",
    "CONFIDENCE_THRESHOLD = 0.5"
   ],
   "id": "23bf2b999314092a",
   "outputs": [],
   "execution_count": null
  },
  {
   "metadata": {},
   "cell_type": "code",
   "source": [
    "from torch.utils.data import DataLoader\n",
    "\n",
    "train_dataloader = DataLoader(ds, batch_size=batch_size, shuffle=True)\n",
    "\n",
    "for i, j in train_dataloader:\n",
    "    print(i.shape, j.shape)\n",
    "    break"
   ],
   "id": "13b0a678c2790fb1",
   "outputs": [],
   "execution_count": null
  },
  {
   "metadata": {},
   "cell_type": "code",
   "source": [
    "model = nn.Sequential(\n",
    "    nn.Linear(49, 16),\n",
    "    # nn.Linear(64, 32),\n",
    "    # nn.Linear(32, 32),\n",
    "    # nn.Linear(32, 32),\n",
    "    # nn.Linear(32, 32),\n",
    "    # nn.Linear(32, 16),\n",
    "    nn.Linear(16, 1),\n",
    "    nn.Sigmoid())\n",
    "\n",
    "criterion = nn.BCELoss()\n",
    "optimizer = optim.Adam(model.parameters(), lr=learning_rate)\n"
   ],
   "id": "6fd5907ed0e6ab86",
   "outputs": [],
   "execution_count": null
  },
  {
   "metadata": {
    "ExecuteTime": {
     "end_time": "2024-08-15T22:21:15.742727Z",
     "start_time": "2024-08-15T22:21:15.713597Z"
    }
   },
   "cell_type": "code",
   "source": [
    "from torch.utils.tensorboard import SummaryWriter\n",
    "writer = SummaryWriter('./logs')"
   ],
   "id": "a6877cbec74a0ed0",
   "outputs": [
    {
     "ename": "ModuleNotFoundError",
     "evalue": "No module named 'torch'",
     "output_type": "error",
     "traceback": [
      "\u001B[0;31m---------------------------------------------------------------------------\u001B[0m",
      "\u001B[0;31mModuleNotFoundError\u001B[0m                       Traceback (most recent call last)",
      "Cell \u001B[0;32mIn[5], line 1\u001B[0m\n\u001B[0;32m----> 1\u001B[0m \u001B[38;5;28;01mfrom\u001B[39;00m \u001B[38;5;21;01mtorch\u001B[39;00m\u001B[38;5;21;01m.\u001B[39;00m\u001B[38;5;21;01mutils\u001B[39;00m\u001B[38;5;21;01m.\u001B[39;00m\u001B[38;5;21;01mtensorboard\u001B[39;00m \u001B[38;5;28;01mimport\u001B[39;00m SummaryWriter\n\u001B[1;32m      2\u001B[0m writer \u001B[38;5;241m=\u001B[39m SummaryWriter(\u001B[38;5;124m'\u001B[39m\u001B[38;5;124m./logs\u001B[39m\u001B[38;5;124m'\u001B[39m)\n",
      "\u001B[0;31mModuleNotFoundError\u001B[0m: No module named 'torch'"
     ]
    }
   ],
   "execution_count": 5
  },
  {
   "metadata": {
    "ExecuteTime": {
     "end_time": "2024-08-15T22:21:16.654079Z",
     "start_time": "2024-08-15T22:21:15.772518Z"
    }
   },
   "cell_type": "code",
   "source": [
    "from sklearn.metrics import accuracy_score\n",
    "\n",
    "\n",
    "def calculate_accuracy(model: nn.Module, dataloader: torch.utils.data.DataLoader):\n",
    "    y_pred = []\n",
    "    y_true = []\n",
    "    model.eval()\n",
    "    for batch, (X, y) in enumerate(dataloader):\n",
    "        # Compute prediction and loss\n",
    "        pred = model(X).squeeze(1)\n",
    "        y_pred += [( 1 if(i > CONFIDENCE_THRESHOLD) else 0 )  for i in pred ]\n",
    "        y_true += list(y.tolist())\n",
    "\n",
    "    return accuracy_score(y_true=y_true, y_pred=y_pred)\n",
    "\n"
   ],
   "id": "656dfd7d3f6a68d0",
   "outputs": [
    {
     "ename": "NameError",
     "evalue": "name 'nn' is not defined",
     "output_type": "error",
     "traceback": [
      "\u001B[0;31m---------------------------------------------------------------------------\u001B[0m",
      "\u001B[0;31mNameError\u001B[0m                                 Traceback (most recent call last)",
      "Cell \u001B[0;32mIn[6], line 4\u001B[0m\n\u001B[1;32m      1\u001B[0m \u001B[38;5;28;01mfrom\u001B[39;00m \u001B[38;5;21;01msklearn\u001B[39;00m\u001B[38;5;21;01m.\u001B[39;00m\u001B[38;5;21;01mmetrics\u001B[39;00m \u001B[38;5;28;01mimport\u001B[39;00m accuracy_score\n\u001B[0;32m----> 4\u001B[0m \u001B[38;5;28;01mdef\u001B[39;00m \u001B[38;5;21mcalculate_accuracy\u001B[39m(model: nn\u001B[38;5;241m.\u001B[39mModule, dataloader: torch\u001B[38;5;241m.\u001B[39mutils\u001B[38;5;241m.\u001B[39mdata\u001B[38;5;241m.\u001B[39mDataLoader):\n\u001B[1;32m      5\u001B[0m     y_pred \u001B[38;5;241m=\u001B[39m []\n\u001B[1;32m      6\u001B[0m     y_true \u001B[38;5;241m=\u001B[39m []\n",
      "\u001B[0;31mNameError\u001B[0m: name 'nn' is not defined"
     ]
    }
   ],
   "execution_count": 6
  },
  {
   "metadata": {},
   "cell_type": "code",
   "source": [
    "from torch.utils.tensorboard import SummaryWriter\n",
    "\n",
    "def train_loop(dataloader: torch.utils.data.DataLoader, model: nn.Module, loss_fn,\n",
    "               optimizer: optim.Optimizer, writer: SummaryWriter):\n",
    "    # size = len(dataloader.dataset)\n",
    "    # Set the model to training mode - important for batch normalization and dropout layers\n",
    "    # Unnecessary in this situation but added for best practices\n",
    "    model.train()\n",
    "    for batch, (X, y) in enumerate(dataloader):\n",
    "        # Compute prediction and loss\n",
    "        pred = model(X).squeeze(1)\n",
    "        loss = loss_fn(pred, y)\n",
    "\n",
    "        # Backpropagation\n",
    "        loss.backward()\n",
    "        optimizer.step()\n",
    "        optimizer.zero_grad()\n",
    "        writer.add_scalar('./logs/Loss/train', loss.item(), batch)\n",
    "\n",
    "        if batch % 500 == 0:\n",
    "            loss, current = loss.item(), batch * batch_size + len(X)\n",
    "            print(f\"loss: {loss:>7f}\")\n",
    "            \n",
    "\n"
   ],
   "id": "d513d4d81ee30c8c",
   "outputs": [],
   "execution_count": null
  },
  {
   "metadata": {},
   "cell_type": "code",
   "source": [
    "for epoch in range(EPOCHS):\n",
    "    train_loop(dataloader=train_dataloader, model=model, loss_fn=criterion, optimizer=optimizer, writer=writer)\n",
    "    acc = calculate_accuracy(model, train_dataloader)\n",
    "    writer.add_scalar('./logs/Accuracy/train', acc, epoch) \n",
    "    print(f\"Accuracy: {acc*100:.2f}%\")\n",
    "    # torch.save(model.state_dict(), f'./checkpoints/model_{epoch}.pt')\n",
    "    # torch.save(optimizer.state_dict(), f'./checkpoints/optimizer_{epoch}.pt')\n",
    "\n",
    "writer.flush()"
   ],
   "id": "7add03a396a3d19a",
   "outputs": [],
   "execution_count": null
  },
  {
   "metadata": {},
   "cell_type": "code",
   "source": "print(calculate_accuracy(model=model, dataloader=train_dataloader))",
   "id": "b6663f5ac875d959",
   "outputs": [],
   "execution_count": null
  },
  {
   "metadata": {},
   "cell_type": "code",
   "source": "",
   "id": "c60ac72a5f4babe5",
   "outputs": [],
   "execution_count": null
  }
 ],
 "metadata": {
  "kernelspec": {
   "display_name": "Python 3",
   "language": "python",
   "name": "python3"
  },
  "language_info": {
   "codemirror_mode": {
    "name": "ipython",
    "version": 2
   },
   "file_extension": ".py",
   "mimetype": "text/x-python",
   "name": "python",
   "nbconvert_exporter": "python",
   "pygments_lexer": "ipython2",
   "version": "2.7.6"
  }
 },
 "nbformat": 4,
 "nbformat_minor": 5
}
