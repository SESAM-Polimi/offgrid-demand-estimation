{
 "cells": [
  {
   "cell_type": "code",
   "execution_count": 1,
   "id": "initial_id",
   "metadata": {
    "ExecuteTime": {
     "end_time": "2024-12-18T18:36:11.081809Z",
     "start_time": "2024-12-18T18:36:11.068583Z"
    },
    "collapsed": true
   },
   "outputs": [],
   "source": [
    "import os\n",
    "import sys\n",
    "\n",
    "sys.path.append(\"./\")  # Adds higher directory to python modules path.\n",
    "os.environ['TF_CPP_MIN_LOG_LEVEL'] = '1'\n"
   ]
  },
  {
   "cell_type": "code",
   "execution_count": 2,
   "id": "1e07c47cc005ee46",
   "metadata": {
    "ExecuteTime": {
     "end_time": "2024-12-18T18:36:15.253697Z",
     "start_time": "2024-12-18T18:36:11.117504Z"
    }
   },
   "outputs": [],
   "source": [
    "from core.ODEDataset import ODEDataset\n",
    "import pandas as pd\n",
    "\n",
    "pd.set_option('future.no_silent_downcasting', True)\n",
    "from utils import cleaning, constants, helpers\n"
   ]
  },
  {
   "cell_type": "code",
   "execution_count": 3,
   "id": "d03130217c47f2b3",
   "metadata": {
    "ExecuteTime": {
     "end_time": "2024-12-18T18:36:15.318287Z",
     "start_time": "2024-12-18T18:36:15.313836Z"
    }
   },
   "outputs": [],
   "source": [
    "filepath = \"./playground/data/esmap_lsms-tanzania.csv\"\n",
    "missing_value = -1\n"
   ]
  },
  {
   "cell_type": "code",
   "execution_count": 4,
   "id": "79f0638b1715b622",
   "metadata": {
    "ExecuteTime": {
     "end_time": "2024-12-18T18:36:15.412876Z",
     "start_time": "2024-12-18T18:36:15.363699Z"
    }
   },
   "outputs": [],
   "source": [
    "dataset = ODEDataset(\"combined\")\n",
    "dataset.from_csv(filepath)\n",
    "dataset = dataset.select([\n",
    "                             \"ID\",\n",
    "                         ] + constants.DRIVERS_LIST + constants.PRESENCE_LIST)\n"
   ]
  },
  {
   "cell_type": "markdown",
   "id": "191c976ca2a79bcc",
   "metadata": {},
   "source": [
    "# Drivers"
   ]
  },
  {
   "cell_type": "markdown",
   "id": "cf863e540f4f71fe",
   "metadata": {},
   "source": [
    "## Years_of_HHH_in_community"
   ]
  },
  {
   "cell_type": "code",
   "execution_count": 5,
   "id": "5f55ce2de3b34430",
   "metadata": {
    "ExecuteTime": {
     "end_time": "2024-12-18T18:36:15.572788Z",
     "start_time": "2024-12-18T18:36:15.431419Z"
    }
   },
   "outputs": [
    {
     "data": {
      "text/html": [
       "<div>\n",
       "<style scoped>\n",
       "    .dataframe tbody tr th:only-of-type {\n",
       "        vertical-align: middle;\n",
       "    }\n",
       "\n",
       "    .dataframe tbody tr th {\n",
       "        vertical-align: top;\n",
       "    }\n",
       "\n",
       "    .dataframe thead th {\n",
       "        text-align: right;\n",
       "    }\n",
       "</style>\n",
       "<table border=\"1\" class=\"dataframe\">\n",
       "  <thead>\n",
       "    <tr style=\"text-align: right;\">\n",
       "      <th></th>\n",
       "      <th>Years_of_HHH_in_community</th>\n",
       "      <th>Years_of_HHH_in_community_missing</th>\n",
       "    </tr>\n",
       "  </thead>\n",
       "  <tbody>\n",
       "    <tr>\n",
       "      <th>0</th>\n",
       "      <td>0.000000</td>\n",
       "      <td>1</td>\n",
       "    </tr>\n",
       "    <tr>\n",
       "      <th>1</th>\n",
       "      <td>0.000000</td>\n",
       "      <td>1</td>\n",
       "    </tr>\n",
       "    <tr>\n",
       "      <th>2</th>\n",
       "      <td>0.023622</td>\n",
       "      <td>0</td>\n",
       "    </tr>\n",
       "    <tr>\n",
       "      <th>3</th>\n",
       "      <td>0.023622</td>\n",
       "      <td>0</td>\n",
       "    </tr>\n",
       "    <tr>\n",
       "      <th>4</th>\n",
       "      <td>0.017998</td>\n",
       "      <td>0</td>\n",
       "    </tr>\n",
       "  </tbody>\n",
       "</table>\n",
       "</div>"
      ],
      "text/plain": [
       "   Years_of_HHH_in_community  Years_of_HHH_in_community_missing\n",
       "0                   0.000000                                  1\n",
       "1                   0.000000                                  1\n",
       "2                   0.023622                                  0\n",
       "3                   0.023622                                  0\n",
       "4                   0.017998                                  0"
      ]
     },
     "execution_count": 5,
     "metadata": {},
     "output_type": "execute_result"
    }
   ],
   "source": [
    "dataset = dataset.apply(cleaning.fillna(\"Years_of_HHH_in_community\", missing_value))\n",
    "dataset = dataset.apply(cleaning.astype(\"Years_of_HHH_in_community\", int))\n",
    "dataset = dataset.new_feature(\"Years_of_HHH_in_community_missing\",\n",
    "                              cleaning.add_missing_flag(\"Years_of_HHH_in_community\", missing_value))\n",
    "\n",
    "dataset = dataset.apply(cleaning.min_max_normalize(\"Years_of_HHH_in_community\"))\n",
    "dataset.to_dataframe()[[\"Years_of_HHH_in_community\", \"Years_of_HHH_in_community_missing\"]].head()"
   ]
  },
  {
   "cell_type": "markdown",
   "id": "8c5210735a30e773",
   "metadata": {},
   "source": [
    "## Dwelling_quality_index\n"
   ]
  },
  {
   "cell_type": "code",
   "execution_count": 6,
   "id": "c40bcfc9d983bb09",
   "metadata": {
    "ExecuteTime": {
     "end_time": "2024-12-18T18:36:15.828502Z",
     "start_time": "2024-12-18T18:36:15.718958Z"
    }
   },
   "outputs": [
    {
     "data": {
      "text/html": [
       "<div>\n",
       "<style scoped>\n",
       "    .dataframe tbody tr th:only-of-type {\n",
       "        vertical-align: middle;\n",
       "    }\n",
       "\n",
       "    .dataframe tbody tr th {\n",
       "        vertical-align: top;\n",
       "    }\n",
       "\n",
       "    .dataframe thead th {\n",
       "        text-align: right;\n",
       "    }\n",
       "</style>\n",
       "<table border=\"1\" class=\"dataframe\">\n",
       "  <thead>\n",
       "    <tr style=\"text-align: right;\">\n",
       "      <th></th>\n",
       "      <th>Dwelling_quality_index</th>\n",
       "      <th>Dwelling_quality_index_missing</th>\n",
       "    </tr>\n",
       "  </thead>\n",
       "  <tbody>\n",
       "    <tr>\n",
       "      <th>0</th>\n",
       "      <td>0.125</td>\n",
       "      <td>0</td>\n",
       "    </tr>\n",
       "    <tr>\n",
       "      <th>1</th>\n",
       "      <td>0.125</td>\n",
       "      <td>0</td>\n",
       "    </tr>\n",
       "    <tr>\n",
       "      <th>2</th>\n",
       "      <td>0.125</td>\n",
       "      <td>0</td>\n",
       "    </tr>\n",
       "    <tr>\n",
       "      <th>3</th>\n",
       "      <td>0.125</td>\n",
       "      <td>0</td>\n",
       "    </tr>\n",
       "    <tr>\n",
       "      <th>4</th>\n",
       "      <td>0.125</td>\n",
       "      <td>0</td>\n",
       "    </tr>\n",
       "  </tbody>\n",
       "</table>\n",
       "</div>"
      ],
      "text/plain": [
       "   Dwelling_quality_index  Dwelling_quality_index_missing\n",
       "0                   0.125                               0\n",
       "1                   0.125                               0\n",
       "2                   0.125                               0\n",
       "3                   0.125                               0\n",
       "4                   0.125                               0"
      ]
     },
     "execution_count": 6,
     "metadata": {},
     "output_type": "execute_result"
    }
   ],
   "source": [
    "\n",
    "dataset = dataset.apply(cleaning.fillna(\"Dwelling_quality_index\", missing_value))\n",
    "dataset = dataset.apply(cleaning.astype(\"Dwelling_quality_index\", int))\n",
    "dataset = dataset.new_feature(\"Dwelling_quality_index_missing\",\n",
    "                              cleaning.add_missing_flag(\"Dwelling_quality_index\", missing_value))\n",
    "dataset = dataset.apply(cleaning.min_max_normalize(\"Dwelling_quality_index\"))\n",
    "\n",
    "dataset.to_dataframe()[[\"Dwelling_quality_index\", \"Dwelling_quality_index_missing\"]].head()"
   ]
  },
  {
   "cell_type": "markdown",
   "id": "d65228128f0106b7",
   "metadata": {},
   "source": [
    "## Hours_available_electricity"
   ]
  },
  {
   "cell_type": "code",
   "execution_count": 7,
   "id": "b65b79fa63cf0727",
   "metadata": {
    "ExecuteTime": {
     "end_time": "2024-12-18T18:36:16.075959Z",
     "start_time": "2024-12-18T18:36:15.981139Z"
    }
   },
   "outputs": [
    {
     "data": {
      "text/html": [
       "<div>\n",
       "<style scoped>\n",
       "    .dataframe tbody tr th:only-of-type {\n",
       "        vertical-align: middle;\n",
       "    }\n",
       "\n",
       "    .dataframe tbody tr th {\n",
       "        vertical-align: top;\n",
       "    }\n",
       "\n",
       "    .dataframe thead th {\n",
       "        text-align: right;\n",
       "    }\n",
       "</style>\n",
       "<table border=\"1\" class=\"dataframe\">\n",
       "  <thead>\n",
       "    <tr style=\"text-align: right;\">\n",
       "      <th></th>\n",
       "      <th>Hours_available_electricity</th>\n",
       "      <th>Hours_available_electricity_missing</th>\n",
       "    </tr>\n",
       "  </thead>\n",
       "  <tbody>\n",
       "    <tr>\n",
       "      <th>0</th>\n",
       "      <td>0.007812</td>\n",
       "      <td>1</td>\n",
       "    </tr>\n",
       "    <tr>\n",
       "      <th>1</th>\n",
       "      <td>0.007812</td>\n",
       "      <td>1</td>\n",
       "    </tr>\n",
       "    <tr>\n",
       "      <th>2</th>\n",
       "      <td>0.007812</td>\n",
       "      <td>1</td>\n",
       "    </tr>\n",
       "    <tr>\n",
       "      <th>3</th>\n",
       "      <td>0.007812</td>\n",
       "      <td>1</td>\n",
       "    </tr>\n",
       "    <tr>\n",
       "      <th>4</th>\n",
       "      <td>0.007812</td>\n",
       "      <td>1</td>\n",
       "    </tr>\n",
       "  </tbody>\n",
       "</table>\n",
       "</div>"
      ],
      "text/plain": [
       "   Hours_available_electricity  Hours_available_electricity_missing\n",
       "0                     0.007812                                    1\n",
       "1                     0.007812                                    1\n",
       "2                     0.007812                                    1\n",
       "3                     0.007812                                    1\n",
       "4                     0.007812                                    1"
      ]
     },
     "execution_count": 7,
     "metadata": {},
     "output_type": "execute_result"
    }
   ],
   "source": [
    "dataset = dataset.apply(cleaning.fillna(\"Hours_available_electricity\", missing_value))\n",
    "dataset = dataset.apply(cleaning.astype(\"Hours_available_electricity\", int))\n",
    "dataset = dataset.new_feature(\"Hours_available_electricity_missing\",\n",
    "                              cleaning.add_missing_flag(\"Hours_available_electricity\", missing_value))\n",
    "dataset = dataset.apply(cleaning.min_max_normalize(\"Hours_available_electricity\"))\n",
    "\n",
    "dataset.to_dataframe()[[\"Hours_available_electricity\", \"Hours_available_electricity_missing\"]].head()\n"
   ]
  },
  {
   "cell_type": "markdown",
   "id": "bd3ba5884dce0110",
   "metadata": {},
   "source": [
    "## Measurement_age"
   ]
  },
  {
   "cell_type": "code",
   "execution_count": 8,
   "id": "79cc4a11f5f02eb2",
   "metadata": {
    "ExecuteTime": {
     "end_time": "2024-12-18T18:36:16.403425Z",
     "start_time": "2024-12-18T18:36:16.272851Z"
    }
   },
   "outputs": [
    {
     "data": {
      "text/html": [
       "<div>\n",
       "<style scoped>\n",
       "    .dataframe tbody tr th:only-of-type {\n",
       "        vertical-align: middle;\n",
       "    }\n",
       "\n",
       "    .dataframe tbody tr th {\n",
       "        vertical-align: top;\n",
       "    }\n",
       "\n",
       "    .dataframe thead th {\n",
       "        text-align: right;\n",
       "    }\n",
       "</style>\n",
       "<table border=\"1\" class=\"dataframe\">\n",
       "  <thead>\n",
       "    <tr style=\"text-align: right;\">\n",
       "      <th></th>\n",
       "      <th>Measurement_age</th>\n",
       "      <th>Measurement_age_missing</th>\n",
       "    </tr>\n",
       "  </thead>\n",
       "  <tbody>\n",
       "    <tr>\n",
       "      <th>0</th>\n",
       "      <td>0.0</td>\n",
       "      <td>1</td>\n",
       "    </tr>\n",
       "    <tr>\n",
       "      <th>1</th>\n",
       "      <td>0.0</td>\n",
       "      <td>1</td>\n",
       "    </tr>\n",
       "    <tr>\n",
       "      <th>2</th>\n",
       "      <td>0.0</td>\n",
       "      <td>1</td>\n",
       "    </tr>\n",
       "    <tr>\n",
       "      <th>3</th>\n",
       "      <td>0.0</td>\n",
       "      <td>1</td>\n",
       "    </tr>\n",
       "    <tr>\n",
       "      <th>4</th>\n",
       "      <td>0.0</td>\n",
       "      <td>1</td>\n",
       "    </tr>\n",
       "  </tbody>\n",
       "</table>\n",
       "</div>"
      ],
      "text/plain": [
       "   Measurement_age  Measurement_age_missing\n",
       "0              0.0                        1\n",
       "1              0.0                        1\n",
       "2              0.0                        1\n",
       "3              0.0                        1\n",
       "4              0.0                        1"
      ]
     },
     "execution_count": 8,
     "metadata": {},
     "output_type": "execute_result"
    }
   ],
   "source": [
    "dataset = dataset.apply(cleaning.fillna(\"Measurement_age\", missing_value))\n",
    "dataset = dataset.apply(cleaning.replace_value(\"Measurement_age\", -99, missing_value))\n",
    "dataset = dataset.apply(cleaning.astype(\"Measurement_age\", float))\n",
    "dataset = dataset.new_feature(\"Measurement_age_missing\", cleaning.add_missing_flag(\"Measurement_age\", missing_value))\n",
    "dataset = dataset.apply(cleaning.min_max_normalize(\"Measurement_age\"))\n",
    "\n",
    "dataset.to_dataframe()[[\"Measurement_age\", \"Measurement_age_missing\"]].head()\n"
   ]
  },
  {
   "cell_type": "markdown",
   "id": "d41d7e873a7f4fb4",
   "metadata": {},
   "source": [
    "## Monthly_expenditure"
   ]
  },
  {
   "cell_type": "code",
   "execution_count": 9,
   "id": "9e2775d3d2c2fadf",
   "metadata": {
    "ExecuteTime": {
     "end_time": "2024-12-18T18:36:16.711987Z",
     "start_time": "2024-12-18T18:36:16.614289Z"
    }
   },
   "outputs": [
    {
     "data": {
      "text/html": [
       "<div>\n",
       "<style scoped>\n",
       "    .dataframe tbody tr th:only-of-type {\n",
       "        vertical-align: middle;\n",
       "    }\n",
       "\n",
       "    .dataframe tbody tr th {\n",
       "        vertical-align: top;\n",
       "    }\n",
       "\n",
       "    .dataframe thead th {\n",
       "        text-align: right;\n",
       "    }\n",
       "</style>\n",
       "<table border=\"1\" class=\"dataframe\">\n",
       "  <thead>\n",
       "    <tr style=\"text-align: right;\">\n",
       "      <th></th>\n",
       "      <th>Monthly_expenditure</th>\n",
       "      <th>Monthly_expenditure_missing</th>\n",
       "    </tr>\n",
       "  </thead>\n",
       "  <tbody>\n",
       "    <tr>\n",
       "      <th>0</th>\n",
       "      <td>0.003872</td>\n",
       "      <td>0</td>\n",
       "    </tr>\n",
       "    <tr>\n",
       "      <th>1</th>\n",
       "      <td>0.003872</td>\n",
       "      <td>0</td>\n",
       "    </tr>\n",
       "    <tr>\n",
       "      <th>2</th>\n",
       "      <td>0.003981</td>\n",
       "      <td>0</td>\n",
       "    </tr>\n",
       "    <tr>\n",
       "      <th>3</th>\n",
       "      <td>0.003981</td>\n",
       "      <td>0</td>\n",
       "    </tr>\n",
       "    <tr>\n",
       "      <th>4</th>\n",
       "      <td>0.000000</td>\n",
       "      <td>1</td>\n",
       "    </tr>\n",
       "  </tbody>\n",
       "</table>\n",
       "</div>"
      ],
      "text/plain": [
       "   Monthly_expenditure  Monthly_expenditure_missing\n",
       "0             0.003872                            0\n",
       "1             0.003872                            0\n",
       "2             0.003981                            0\n",
       "3             0.003981                            0\n",
       "4             0.000000                            1"
      ]
     },
     "execution_count": 9,
     "metadata": {},
     "output_type": "execute_result"
    }
   ],
   "source": [
    "dataset = dataset.apply(cleaning.fillna(\"Monthly_expenditure\", missing_value))\n",
    "dataset = dataset.apply(cleaning.astype(\"Monthly_expenditure\", float))\n",
    "dataset = dataset.apply(cleaning.replace_value(\"Monthly_expenditure\", -99, missing_value))\n",
    "dataset = dataset.new_feature(\"Monthly_expenditure_missing\", cleaning.add_missing_flag(\"Monthly_expenditure\", missing_value))\n",
    "dataset = dataset.apply(cleaning.min_max_normalize(\"Monthly_expenditure\"))\n",
    "\n",
    "dataset.to_dataframe()[[\"Monthly_expenditure\", \"Monthly_expenditure_missing\"]].head()"
   ]
  },
  {
   "cell_type": "markdown",
   "id": "63927f187164c2a6",
   "metadata": {},
   "source": [
    "## Number_of_rooms"
   ]
  },
  {
   "cell_type": "code",
   "execution_count": 10,
   "id": "7603a87d2ec70b21",
   "metadata": {
    "ExecuteTime": {
     "end_time": "2024-12-18T18:36:17.089694Z",
     "start_time": "2024-12-18T18:36:16.997652Z"
    }
   },
   "outputs": [
    {
     "data": {
      "text/html": [
       "<div>\n",
       "<style scoped>\n",
       "    .dataframe tbody tr th:only-of-type {\n",
       "        vertical-align: middle;\n",
       "    }\n",
       "\n",
       "    .dataframe tbody tr th {\n",
       "        vertical-align: top;\n",
       "    }\n",
       "\n",
       "    .dataframe thead th {\n",
       "        text-align: right;\n",
       "    }\n",
       "</style>\n",
       "<table border=\"1\" class=\"dataframe\">\n",
       "  <thead>\n",
       "    <tr style=\"text-align: right;\">\n",
       "      <th></th>\n",
       "      <th>Number_of_rooms</th>\n",
       "      <th>Number_of_rooms_missing</th>\n",
       "    </tr>\n",
       "  </thead>\n",
       "  <tbody>\n",
       "    <tr>\n",
       "      <th>0</th>\n",
       "      <td>0.086957</td>\n",
       "      <td>0</td>\n",
       "    </tr>\n",
       "    <tr>\n",
       "      <th>1</th>\n",
       "      <td>0.086957</td>\n",
       "      <td>0</td>\n",
       "    </tr>\n",
       "    <tr>\n",
       "      <th>2</th>\n",
       "      <td>0.086957</td>\n",
       "      <td>0</td>\n",
       "    </tr>\n",
       "    <tr>\n",
       "      <th>3</th>\n",
       "      <td>0.086957</td>\n",
       "      <td>0</td>\n",
       "    </tr>\n",
       "    <tr>\n",
       "      <th>4</th>\n",
       "      <td>0.065217</td>\n",
       "      <td>0</td>\n",
       "    </tr>\n",
       "  </tbody>\n",
       "</table>\n",
       "</div>"
      ],
      "text/plain": [
       "   Number_of_rooms  Number_of_rooms_missing\n",
       "0         0.086957                        0\n",
       "1         0.086957                        0\n",
       "2         0.086957                        0\n",
       "3         0.086957                        0\n",
       "4         0.065217                        0"
      ]
     },
     "execution_count": 10,
     "metadata": {},
     "output_type": "execute_result"
    }
   ],
   "source": [
    "dataset = dataset.apply(cleaning.fillna(\"Number_of_rooms\", missing_value))\n",
    "dataset = dataset.apply(cleaning.astype(\"Number_of_rooms\", int))\n",
    "dataset = dataset.new_feature(\"Number_of_rooms_missing\", cleaning.add_missing_flag(\"Number_of_rooms\", missing_value))\n",
    "dataset = dataset.apply(cleaning.min_max_normalize(\"Number_of_rooms\"))\n",
    "\n",
    "dataset.to_dataframe()[[\"Number_of_rooms\", \"Number_of_rooms_missing\"]].head()\n",
    "\n"
   ]
  },
  {
   "cell_type": "markdown",
   "id": "37d5357c66b10d44",
   "metadata": {},
   "source": [
    "## Climate_zone_lev_1"
   ]
  },
  {
   "cell_type": "code",
   "execution_count": 11,
   "id": "e5f87ff91d9c4bc4",
   "metadata": {
    "ExecuteTime": {
     "end_time": "2024-12-18T18:36:17.419928Z",
     "start_time": "2024-12-18T18:36:17.258140Z"
    }
   },
   "outputs": [
    {
     "data": {
      "text/html": [
       "<div>\n",
       "<style scoped>\n",
       "    .dataframe tbody tr th:only-of-type {\n",
       "        vertical-align: middle;\n",
       "    }\n",
       "\n",
       "    .dataframe tbody tr th {\n",
       "        vertical-align: top;\n",
       "    }\n",
       "\n",
       "    .dataframe thead th {\n",
       "        text-align: right;\n",
       "    }\n",
       "</style>\n",
       "<table border=\"1\" class=\"dataframe\">\n",
       "  <thead>\n",
       "    <tr style=\"text-align: right;\">\n",
       "      <th></th>\n",
       "      <th>Climate_zone_lev_1</th>\n",
       "      <th>Climate_zone_lev_1_missing</th>\n",
       "    </tr>\n",
       "  </thead>\n",
       "  <tbody>\n",
       "    <tr>\n",
       "      <th>0</th>\n",
       "      <td>0.188229</td>\n",
       "      <td>0</td>\n",
       "    </tr>\n",
       "    <tr>\n",
       "      <th>1</th>\n",
       "      <td>0.188229</td>\n",
       "      <td>0</td>\n",
       "    </tr>\n",
       "    <tr>\n",
       "      <th>2</th>\n",
       "      <td>0.188229</td>\n",
       "      <td>0</td>\n",
       "    </tr>\n",
       "    <tr>\n",
       "      <th>3</th>\n",
       "      <td>0.188229</td>\n",
       "      <td>0</td>\n",
       "    </tr>\n",
       "    <tr>\n",
       "      <th>4</th>\n",
       "      <td>0.188229</td>\n",
       "      <td>0</td>\n",
       "    </tr>\n",
       "  </tbody>\n",
       "</table>\n",
       "</div>"
      ],
      "text/plain": [
       "   Climate_zone_lev_1  Climate_zone_lev_1_missing\n",
       "0            0.188229                           0\n",
       "1            0.188229                           0\n",
       "2            0.188229                           0\n",
       "3            0.188229                           0\n",
       "4            0.188229                           0"
      ]
     },
     "execution_count": 11,
     "metadata": {},
     "output_type": "execute_result"
    }
   ],
   "source": [
    "dataset = dataset.apply(cleaning.fillna(\"Climate_zone_lev_1\", missing_value))\n",
    "dataset = dataset.apply(cleaning.astype(\"Climate_zone_lev_1\", float))\n",
    "dataset = dataset.new_feature(\"Climate_zone_lev_1_missing\", cleaning.add_missing_flag(\"Climate_zone_lev_1\", missing_value))\n",
    "\n",
    "dataset = dataset.apply(cleaning.min_max_normalize(\"Climate_zone_lev_1\"))\n",
    "\n",
    "dataset.to_dataframe()[[\"Climate_zone_lev_1\", \"Climate_zone_lev_1_missing\"]].head()\n",
    "\n"
   ]
  },
  {
   "cell_type": "markdown",
   "id": "d8620d468fed9619",
   "metadata": {},
   "source": [
    "## Climate_zone_lev_2"
   ]
  },
  {
   "cell_type": "code",
   "execution_count": 12,
   "id": "950e4b4fbcd6219",
   "metadata": {
    "ExecuteTime": {
     "end_time": "2024-12-18T18:36:17.871760Z",
     "start_time": "2024-12-18T18:36:17.749988Z"
    }
   },
   "outputs": [
    {
     "data": {
      "text/html": [
       "<div>\n",
       "<style scoped>\n",
       "    .dataframe tbody tr th:only-of-type {\n",
       "        vertical-align: middle;\n",
       "    }\n",
       "\n",
       "    .dataframe tbody tr th {\n",
       "        vertical-align: top;\n",
       "    }\n",
       "\n",
       "    .dataframe thead th {\n",
       "        text-align: right;\n",
       "    }\n",
       "</style>\n",
       "<table border=\"1\" class=\"dataframe\">\n",
       "  <thead>\n",
       "    <tr style=\"text-align: right;\">\n",
       "      <th></th>\n",
       "      <th>Climate_zone_lev_2</th>\n",
       "      <th>Climate_zone_lev_2_missing</th>\n",
       "    </tr>\n",
       "  </thead>\n",
       "  <tbody>\n",
       "    <tr>\n",
       "      <th>0</th>\n",
       "      <td>0.000000</td>\n",
       "      <td>1</td>\n",
       "    </tr>\n",
       "    <tr>\n",
       "      <th>1</th>\n",
       "      <td>0.000000</td>\n",
       "      <td>1</td>\n",
       "    </tr>\n",
       "    <tr>\n",
       "      <th>2</th>\n",
       "      <td>0.185917</td>\n",
       "      <td>0</td>\n",
       "    </tr>\n",
       "    <tr>\n",
       "      <th>3</th>\n",
       "      <td>0.185917</td>\n",
       "      <td>0</td>\n",
       "    </tr>\n",
       "    <tr>\n",
       "      <th>4</th>\n",
       "      <td>0.185917</td>\n",
       "      <td>0</td>\n",
       "    </tr>\n",
       "  </tbody>\n",
       "</table>\n",
       "</div>"
      ],
      "text/plain": [
       "   Climate_zone_lev_2  Climate_zone_lev_2_missing\n",
       "0            0.000000                           1\n",
       "1            0.000000                           1\n",
       "2            0.185917                           0\n",
       "3            0.185917                           0\n",
       "4            0.185917                           0"
      ]
     },
     "execution_count": 12,
     "metadata": {},
     "output_type": "execute_result"
    }
   ],
   "source": [
    "dataset = dataset.apply(cleaning.fillna(\"Climate_zone_lev_2\", missing_value))\n",
    "dataset = dataset.apply(cleaning.astype(\"Climate_zone_lev_2\", float))\n",
    "\n",
    "dataset = dataset.new_feature(\"Climate_zone_lev_2_missing\", cleaning.add_missing_flag(\"Climate_zone_lev_2\", missing_value))\n",
    "\n",
    "dataset = dataset.apply(cleaning.min_max_normalize(\"Climate_zone_lev_2\"))\n",
    "\n",
    "dataset.to_dataframe()[[\"Climate_zone_lev_2\", \"Climate_zone_lev_2_missing\"]].head()\n",
    "\n"
   ]
  },
  {
   "cell_type": "markdown",
   "id": "e41f0d2c11be173f",
   "metadata": {},
   "source": [
    "## Age_HHH"
   ]
  },
  {
   "cell_type": "code",
   "execution_count": 13,
   "id": "3c4edfa9a34b5714",
   "metadata": {
    "ExecuteTime": {
     "end_time": "2024-12-18T18:36:18.222841Z",
     "start_time": "2024-12-18T18:36:18.082393Z"
    }
   },
   "outputs": [
    {
     "data": {
      "text/html": [
       "<div>\n",
       "<style scoped>\n",
       "    .dataframe tbody tr th:only-of-type {\n",
       "        vertical-align: middle;\n",
       "    }\n",
       "\n",
       "    .dataframe tbody tr th {\n",
       "        vertical-align: top;\n",
       "    }\n",
       "\n",
       "    .dataframe thead th {\n",
       "        text-align: right;\n",
       "    }\n",
       "</style>\n",
       "<table border=\"1\" class=\"dataframe\">\n",
       "  <thead>\n",
       "    <tr style=\"text-align: right;\">\n",
       "      <th></th>\n",
       "      <th>Age_HHH</th>\n",
       "      <th>Age_HHH_missing</th>\n",
       "    </tr>\n",
       "  </thead>\n",
       "  <tbody>\n",
       "    <tr>\n",
       "      <th>0</th>\n",
       "      <td>0.0</td>\n",
       "      <td>1</td>\n",
       "    </tr>\n",
       "    <tr>\n",
       "      <th>1</th>\n",
       "      <td>0.0</td>\n",
       "      <td>1</td>\n",
       "    </tr>\n",
       "    <tr>\n",
       "      <th>2</th>\n",
       "      <td>0.0</td>\n",
       "      <td>1</td>\n",
       "    </tr>\n",
       "    <tr>\n",
       "      <th>3</th>\n",
       "      <td>0.0</td>\n",
       "      <td>1</td>\n",
       "    </tr>\n",
       "    <tr>\n",
       "      <th>4</th>\n",
       "      <td>0.0</td>\n",
       "      <td>1</td>\n",
       "    </tr>\n",
       "  </tbody>\n",
       "</table>\n",
       "</div>"
      ],
      "text/plain": [
       "   Age_HHH  Age_HHH_missing\n",
       "0      0.0                1\n",
       "1      0.0                1\n",
       "2      0.0                1\n",
       "3      0.0                1\n",
       "4      0.0                1"
      ]
     },
     "execution_count": 13,
     "metadata": {},
     "output_type": "execute_result"
    }
   ],
   "source": [
    "dataset = dataset.apply(cleaning.fillna(\"Age_HHH\", missing_value))\n",
    "dataset = dataset.apply(cleaning.astype(\"Age_HHH\", int))\n",
    "dataset = dataset.new_feature(\"Age_HHH_missing\", cleaning.add_missing_flag(\"Age_HHH\", missing_value))\n",
    "\n",
    "dataset = dataset.apply(cleaning.min_max_normalize(\"Age_HHH\"))\n",
    "dataset.to_dataframe()[[\"Age_HHH\", \"Age_HHH_missing\"]].head()\n"
   ]
  },
  {
   "cell_type": "markdown",
   "id": "66b966b107cdb15d",
   "metadata": {},
   "source": [
    "## HH_with_home_business"
   ]
  },
  {
   "cell_type": "code",
   "execution_count": 14,
   "id": "dabe1d5674b5a47e",
   "metadata": {
    "ExecuteTime": {
     "end_time": "2024-12-18T18:36:18.588778Z",
     "start_time": "2024-12-18T18:36:18.560340Z"
    }
   },
   "outputs": [
    {
     "data": {
      "text/plain": [
       "HH_with_home_business\n",
       "No         4750\n",
       "missing    4474\n",
       "Yes        1494\n",
       "Name: count, dtype: int64"
      ]
     },
     "execution_count": 14,
     "metadata": {},
     "output_type": "execute_result"
    }
   ],
   "source": [
    "dataset = dataset.apply(cleaning.fillna(\"HH_with_home_business\", 'missing'))\n",
    "dataset = dataset.apply(cleaning.astype(\"HH_with_home_business\", str))\n",
    "dataset.value_counts(\"HH_with_home_business\")"
   ]
  },
  {
   "cell_type": "markdown",
   "id": "1d313bfd9b915b92",
   "metadata": {},
   "source": [
    "## Education_level_HHH"
   ]
  },
  {
   "cell_type": "code",
   "execution_count": 15,
   "id": "5f0400ff816f9214",
   "metadata": {
    "ExecuteTime": {
     "end_time": "2024-12-18T18:36:18.824991Z",
     "start_time": "2024-12-18T18:36:18.805066Z"
    }
   },
   "outputs": [
    {
     "data": {
      "text/plain": [
       "Education_level_HHH\n",
       "Other                                    3619\n",
       "Primary education                        3502\n",
       "Upper secondary education                1273\n",
       "Lower secondary education                 963\n",
       "Post-secondary non-tertiary education     469\n",
       "Bachelor's or equivalent level            404\n",
       "No schooling                              245\n",
       "Short-cycle tertiary education            117\n",
       "Doctoral or equivalent level               57\n",
       "Not elsewhere classified                   56\n",
       "Secondary education                        10\n",
       "Master's or equivalent level                3\n",
       "Name: count, dtype: int64"
      ]
     },
     "execution_count": 15,
     "metadata": {},
     "output_type": "execute_result"
    }
   ],
   "source": [
    "\n",
    "dataset = dataset.apply(cleaning.fillna(\"Education_level_HHH\", \"Other\"))\n",
    "dataset.to_dataframe()[\"Education_level_HHH\"].value_counts()"
   ]
  },
  {
   "cell_type": "markdown",
   "id": "732add2aef779815",
   "metadata": {},
   "source": [
    "## Socio_status_HHH"
   ]
  },
  {
   "cell_type": "code",
   "execution_count": 16,
   "id": "45263d2f5330cf06",
   "metadata": {
    "ExecuteTime": {
     "end_time": "2024-12-18T18:36:19.184707Z",
     "start_time": "2024-12-18T18:36:19.147355Z"
    }
   },
   "outputs": [
    {
     "data": {
      "text/plain": [
       "Socio_status_HHH\n",
       "Own-account worker farm              1994\n",
       "Employee                             1932\n",
       "Other                                1821\n",
       "Unemployed                           1679\n",
       "Employee non-farm                    1097\n",
       "Own-account worker non-farm          1062\n",
       "Contributing family worker            501\n",
       "Worker not classifiable by status     405\n",
       "Employee farm                         187\n",
       "Employer                               40\n",
       "Name: count, dtype: int64"
      ]
     },
     "execution_count": 16,
     "metadata": {},
     "output_type": "execute_result"
    }
   ],
   "source": [
    "dataset = dataset.apply(cleaning.fillna(\"Socio_status_HHH\", \"Other (not specified in Socio_status)\"))\n",
    "\n",
    "dataset = dataset.apply(cleaning.replace_value(\"Socio_status_HHH\", \"Other (not specified in Socio_status)\", \"Other\"))\n",
    "\n",
    "dataset.to_dataframe()[\"Socio_status_HHH\"].value_counts()"
   ]
  },
  {
   "cell_type": "markdown",
   "id": "1f20c6f90b6fae6b",
   "metadata": {},
   "source": [
    " ## Number_adults\n"
   ]
  },
  {
   "cell_type": "code",
   "execution_count": 17,
   "id": "cacbfc4ad3da90db",
   "metadata": {
    "ExecuteTime": {
     "end_time": "2024-12-18T18:36:19.658534Z",
     "start_time": "2024-12-18T18:36:19.539935Z"
    }
   },
   "outputs": [
    {
     "data": {
      "text/html": [
       "<div>\n",
       "<style scoped>\n",
       "    .dataframe tbody tr th:only-of-type {\n",
       "        vertical-align: middle;\n",
       "    }\n",
       "\n",
       "    .dataframe tbody tr th {\n",
       "        vertical-align: top;\n",
       "    }\n",
       "\n",
       "    .dataframe thead th {\n",
       "        text-align: right;\n",
       "    }\n",
       "</style>\n",
       "<table border=\"1\" class=\"dataframe\">\n",
       "  <thead>\n",
       "    <tr style=\"text-align: right;\">\n",
       "      <th></th>\n",
       "      <th>Number_adults</th>\n",
       "      <th>Number_adults_missing</th>\n",
       "    </tr>\n",
       "  </thead>\n",
       "  <tbody>\n",
       "    <tr>\n",
       "      <th>0</th>\n",
       "      <td>34</td>\n",
       "      <td>0</td>\n",
       "    </tr>\n",
       "    <tr>\n",
       "      <th>1</th>\n",
       "      <td>34</td>\n",
       "      <td>0</td>\n",
       "    </tr>\n",
       "    <tr>\n",
       "      <th>2</th>\n",
       "      <td>59</td>\n",
       "      <td>0</td>\n",
       "    </tr>\n",
       "    <tr>\n",
       "      <th>3</th>\n",
       "      <td>59</td>\n",
       "      <td>0</td>\n",
       "    </tr>\n",
       "    <tr>\n",
       "      <th>4</th>\n",
       "      <td>57</td>\n",
       "      <td>0</td>\n",
       "    </tr>\n",
       "  </tbody>\n",
       "</table>\n",
       "</div>"
      ],
      "text/plain": [
       "   Number_adults  Number_adults_missing\n",
       "0             34                      0\n",
       "1             34                      0\n",
       "2             59                      0\n",
       "3             59                      0\n",
       "4             57                      0"
      ]
     },
     "execution_count": 17,
     "metadata": {},
     "output_type": "execute_result"
    }
   ],
   "source": [
    "dataset = dataset.apply(cleaning.fillna(\"Number_adults\", -1))\n",
    "dataset = dataset.apply(cleaning.astype(\"Number_adults\", int))\n",
    "dataset = dataset.new_feature(\"Number_adults_missing\", cleaning.add_missing_flag(\"Number_adults\", -1))\n",
    "\n",
    "dataset.to_dataframe()[[\"Number_adults\", \"Number_adults_missing\"]].head()\n"
   ]
  },
  {
   "cell_type": "markdown",
   "id": "5b36d120cdaca549",
   "metadata": {},
   "source": [
    "## Ownership_motorized_vehicle\n"
   ]
  },
  {
   "cell_type": "code",
   "execution_count": 18,
   "id": "8d265d50dbeafd79",
   "metadata": {
    "ExecuteTime": {
     "end_time": "2024-12-18T18:36:20.293283Z",
     "start_time": "2024-12-18T18:36:20.270902Z"
    }
   },
   "outputs": [
    {
     "data": {
      "text/plain": [
       "Ownership_motorized_vehicle\n",
       "Yes        4982\n",
       "missing    4216\n",
       "No         1520\n",
       "Name: count, dtype: int64"
      ]
     },
     "execution_count": 18,
     "metadata": {},
     "output_type": "execute_result"
    }
   ],
   "source": [
    "dataset = dataset.apply(cleaning.replace_value(\"Ownership_motorized_vehicle\", \"1.0\", 'Yes'))\n",
    "dataset = dataset.apply(cleaning.replace_value(\"Ownership_motorized_vehicle\", \"0.0\", 'No'))\n",
    "dataset = dataset.apply(cleaning.fillna(\"Ownership_motorized_vehicle\", 'missing'))\n",
    "dataset = dataset.apply(cleaning.astype(\"Ownership_motorized_vehicle\", str))\n",
    "\n",
    "dataset.value_counts(\"Ownership_motorized_vehicle\")"
   ]
  },
  {
   "cell_type": "markdown",
   "id": "5f929c88ca41b3b6",
   "metadata": {},
   "source": [
    "## Ownership_small_livestock\n"
   ]
  },
  {
   "cell_type": "code",
   "execution_count": 19,
   "id": "9342fd48fa5ce994",
   "metadata": {
    "ExecuteTime": {
     "end_time": "2024-12-18T18:36:20.458855Z",
     "start_time": "2024-12-18T18:36:20.433565Z"
    }
   },
   "outputs": [
    {
     "data": {
      "text/plain": [
       "Ownership_small_livestock\n",
       "Yes        5102\n",
       "No         2876\n",
       "missing    2740\n",
       "Name: count, dtype: int64"
      ]
     },
     "execution_count": 19,
     "metadata": {},
     "output_type": "execute_result"
    }
   ],
   "source": [
    "dataset = dataset.apply(cleaning.replace_value(\"Ownership_small_livestock\", \"1.0\", 'Yes'))\n",
    "dataset = dataset.apply(cleaning.replace_value(\"Ownership_small_livestock\", \"0.0\", 'No'))\n",
    "dataset = dataset.apply(cleaning.fillna(\"Ownership_small_livestock\", 'missing'))\n",
    "dataset = dataset.apply(cleaning.astype(\"Ownership_small_livestock\", str))\n",
    "\n",
    "dataset.value_counts(\"Ownership_small_livestock\")"
   ]
  },
  {
   "cell_type": "markdown",
   "id": "d7a3ddeb8d776ca5",
   "metadata": {},
   "source": [
    "## Ownership_large_livestock\n"
   ]
  },
  {
   "cell_type": "code",
   "execution_count": 20,
   "id": "e20962f15241dc8c",
   "metadata": {
    "ExecuteTime": {
     "end_time": "2024-12-18T18:36:20.835024Z",
     "start_time": "2024-12-18T18:36:20.793525Z"
    }
   },
   "outputs": [
    {
     "data": {
      "text/plain": [
       "Ownership_large_livestock\n",
       "Yes        5070\n",
       "missing    4231\n",
       "No         1417\n",
       "Name: count, dtype: int64"
      ]
     },
     "execution_count": 20,
     "metadata": {},
     "output_type": "execute_result"
    }
   ],
   "source": [
    "dataset = dataset.apply(cleaning.replace_value(\"Ownership_large_livestock\", \"1.0\", 'Yes'))\n",
    "dataset = dataset.apply(cleaning.replace_value(\"Ownership_large_livestock\", \"0.0\", 'No'))\n",
    "dataset = dataset.apply(cleaning.fillna(\"Ownership_large_livestock\", 'missing'))\n",
    "dataset = dataset.apply(cleaning.astype(\"Ownership_large_livestock\", str))\n",
    "\n",
    "dataset.value_counts(\"Ownership_large_livestock\")"
   ]
  },
  {
   "cell_type": "markdown",
   "id": "d445766e629440bd",
   "metadata": {},
   "source": [
    "## Clean_fuel\n"
   ]
  },
  {
   "cell_type": "code",
   "execution_count": 21,
   "id": "8c69df0f4d9618c",
   "metadata": {
    "ExecuteTime": {
     "end_time": "2024-12-18T18:36:21.238961Z",
     "start_time": "2024-12-18T18:36:21.191112Z"
    }
   },
   "outputs": [
    {
     "data": {
      "text/plain": [
       "Clean_fuel\n",
       "No         10002\n",
       "Yes          596\n",
       "missing      120\n",
       "Name: count, dtype: int64"
      ]
     },
     "execution_count": 21,
     "metadata": {},
     "output_type": "execute_result"
    }
   ],
   "source": [
    "dataset = dataset.apply(cleaning.replace_value(\"Clean_fuel\", \"0\", 'No'))\n",
    "dataset = dataset.apply(cleaning.replace_value(\"Clean_fuel\", \"1\", 'Yes'))\n",
    "dataset = dataset.apply(cleaning.fillna(\"Clean_fuel\", 'missing'))\n",
    "dataset = dataset.apply(cleaning.astype(\"Clean_fuel\", str))\n",
    "dataset.value_counts(\"Clean_fuel\")"
   ]
  },
  {
   "cell_type": "markdown",
   "id": "dff46a500e30d9d4",
   "metadata": {},
   "source": [
    "## Tariff_payment_frequency"
   ]
  },
  {
   "cell_type": "code",
   "execution_count": 22,
   "id": "9293c673557e7211",
   "metadata": {
    "ExecuteTime": {
     "end_time": "2024-12-18T18:36:21.536899Z",
     "start_time": "2024-12-18T18:36:21.514114Z"
    }
   },
   "outputs": [
    {
     "data": {
      "text/plain": [
       "Tariff_payment_frequency\n",
       "Other             8856\n",
       "Monthly           1576\n",
       "Every 2 weeks      194\n",
       "Weekly              49\n",
       "No bill             38\n",
       "Every 6 months       4\n",
       "Every 3 months       1\n",
       "Name: count, dtype: int64"
      ]
     },
     "execution_count": 22,
     "metadata": {},
     "output_type": "execute_result"
    }
   ],
   "source": [
    "dataset = dataset.apply(cleaning.fillna(\"Tariff_payment_frequency\", \"Other\"))\n",
    "dataset.to_dataframe()[\"Tariff_payment_frequency\"].value_counts()"
   ]
  },
  {
   "cell_type": "code",
   "execution_count": null,
   "id": "9f794fbce6584411",
   "metadata": {
    "ExecuteTime": {
     "end_time": "2024-12-18T18:36:21.957829Z",
     "start_time": "2024-12-18T18:36:21.953990Z"
    }
   },
   "outputs": [],
   "source": []
  },
  {
   "cell_type": "markdown",
   "id": "93e029e61a0d6da9",
   "metadata": {},
   "source": [
    "# Appliances\n"
   ]
  },
  {
   "cell_type": "code",
   "execution_count": 23,
   "id": "5af668aa19a0facd",
   "metadata": {
    "ExecuteTime": {
     "end_time": "2024-12-18T18:36:22.397522Z",
     "start_time": "2024-12-18T18:36:22.343499Z"
    }
   },
   "outputs": [
    {
     "name": "stdout",
     "output_type": "stream",
     "text": [
      "Missing values for Presence_refrigerator/freezer 697\n",
      "Missing values for Presence_iron 1976\n",
      "Missing values for Presence_fan 794\n",
      "Missing values for Presence_DVD_player 794\n",
      "Missing values for Presence_radio/stereo 792\n",
      "Missing values for Presence_phone_charger 1184\n",
      "Missing values for Presence_TV 2\n"
     ]
    }
   ],
   "source": [
    "PRESENCE_LIST = [\n",
    "    'Presence_refrigerator/freezer', 'Presence_iron', 'Presence_fan',\n",
    "    'Presence_DVD_player', 'Presence_radio/stereo',\n",
    "    'Presence_phone_charger',\n",
    "    'Presence_TV'\n",
    "]\n",
    "\n",
    "for p in PRESENCE_LIST:\n",
    "    dataset = dataset.apply(cleaning.fillna(p, -1))\n",
    "    value_counts = dataset.value_counts(p)\n",
    "    print(\"Missing values for\", p, value_counts[-1])"
   ]
  },
  {
   "cell_type": "code",
   "execution_count": 24,
   "id": "f9387b715c1b53ed",
   "metadata": {
    "ExecuteTime": {
     "end_time": "2024-12-18T18:36:22.714532Z",
     "start_time": "2024-12-18T18:36:22.693197Z"
    }
   },
   "outputs": [
    {
     "data": {
      "text/html": [
       "<div>\n",
       "<style scoped>\n",
       "    .dataframe tbody tr th:only-of-type {\n",
       "        vertical-align: middle;\n",
       "    }\n",
       "\n",
       "    .dataframe tbody tr th {\n",
       "        vertical-align: top;\n",
       "    }\n",
       "\n",
       "    .dataframe thead th {\n",
       "        text-align: right;\n",
       "    }\n",
       "</style>\n",
       "<table border=\"1\" class=\"dataframe\">\n",
       "  <thead>\n",
       "    <tr style=\"text-align: right;\">\n",
       "      <th></th>\n",
       "      <th>ID</th>\n",
       "      <th>Years_of_HHH_in_community</th>\n",
       "      <th>Dwelling_quality_index</th>\n",
       "      <th>Hours_available_electricity</th>\n",
       "      <th>Measurement_age</th>\n",
       "      <th>Monthly_expenditure</th>\n",
       "      <th>Number_of_rooms</th>\n",
       "      <th>Climate_zone_lev_1</th>\n",
       "      <th>Climate_zone_lev_2</th>\n",
       "      <th>Age_HHH</th>\n",
       "      <th>...</th>\n",
       "      <th>Years_of_HHH_in_community_missing</th>\n",
       "      <th>Dwelling_quality_index_missing</th>\n",
       "      <th>Hours_available_electricity_missing</th>\n",
       "      <th>Measurement_age_missing</th>\n",
       "      <th>Monthly_expenditure_missing</th>\n",
       "      <th>Number_of_rooms_missing</th>\n",
       "      <th>Climate_zone_lev_1_missing</th>\n",
       "      <th>Climate_zone_lev_2_missing</th>\n",
       "      <th>Age_HHH_missing</th>\n",
       "      <th>Number_adults_missing</th>\n",
       "    </tr>\n",
       "  </thead>\n",
       "  <tbody>\n",
       "    <tr>\n",
       "      <th>0</th>\n",
       "      <td>1001_3</td>\n",
       "      <td>0.000000</td>\n",
       "      <td>0.125</td>\n",
       "      <td>0.007812</td>\n",
       "      <td>0.0</td>\n",
       "      <td>0.003872</td>\n",
       "      <td>0.086957</td>\n",
       "      <td>0.188229</td>\n",
       "      <td>0.000000</td>\n",
       "      <td>0.0</td>\n",
       "      <td>...</td>\n",
       "      <td>1</td>\n",
       "      <td>0</td>\n",
       "      <td>1</td>\n",
       "      <td>1</td>\n",
       "      <td>0</td>\n",
       "      <td>0</td>\n",
       "      <td>0</td>\n",
       "      <td>1</td>\n",
       "      <td>1</td>\n",
       "      <td>0</td>\n",
       "    </tr>\n",
       "    <tr>\n",
       "      <th>1</th>\n",
       "      <td>1001_3</td>\n",
       "      <td>0.000000</td>\n",
       "      <td>0.125</td>\n",
       "      <td>0.007812</td>\n",
       "      <td>0.0</td>\n",
       "      <td>0.003872</td>\n",
       "      <td>0.086957</td>\n",
       "      <td>0.188229</td>\n",
       "      <td>0.000000</td>\n",
       "      <td>0.0</td>\n",
       "      <td>...</td>\n",
       "      <td>1</td>\n",
       "      <td>0</td>\n",
       "      <td>1</td>\n",
       "      <td>1</td>\n",
       "      <td>0</td>\n",
       "      <td>0</td>\n",
       "      <td>0</td>\n",
       "      <td>1</td>\n",
       "      <td>1</td>\n",
       "      <td>0</td>\n",
       "    </tr>\n",
       "    <tr>\n",
       "      <th>2</th>\n",
       "      <td>1026_3</td>\n",
       "      <td>0.023622</td>\n",
       "      <td>0.125</td>\n",
       "      <td>0.007812</td>\n",
       "      <td>0.0</td>\n",
       "      <td>0.003981</td>\n",
       "      <td>0.086957</td>\n",
       "      <td>0.188229</td>\n",
       "      <td>0.185917</td>\n",
       "      <td>0.0</td>\n",
       "      <td>...</td>\n",
       "      <td>0</td>\n",
       "      <td>0</td>\n",
       "      <td>1</td>\n",
       "      <td>1</td>\n",
       "      <td>0</td>\n",
       "      <td>0</td>\n",
       "      <td>0</td>\n",
       "      <td>0</td>\n",
       "      <td>1</td>\n",
       "      <td>0</td>\n",
       "    </tr>\n",
       "    <tr>\n",
       "      <th>3</th>\n",
       "      <td>1026_3</td>\n",
       "      <td>0.023622</td>\n",
       "      <td>0.125</td>\n",
       "      <td>0.007812</td>\n",
       "      <td>0.0</td>\n",
       "      <td>0.003981</td>\n",
       "      <td>0.086957</td>\n",
       "      <td>0.188229</td>\n",
       "      <td>0.185917</td>\n",
       "      <td>0.0</td>\n",
       "      <td>...</td>\n",
       "      <td>0</td>\n",
       "      <td>0</td>\n",
       "      <td>1</td>\n",
       "      <td>1</td>\n",
       "      <td>0</td>\n",
       "      <td>0</td>\n",
       "      <td>0</td>\n",
       "      <td>0</td>\n",
       "      <td>1</td>\n",
       "      <td>0</td>\n",
       "    </tr>\n",
       "    <tr>\n",
       "      <th>4</th>\n",
       "      <td>1027_2</td>\n",
       "      <td>0.017998</td>\n",
       "      <td>0.125</td>\n",
       "      <td>0.007812</td>\n",
       "      <td>0.0</td>\n",
       "      <td>0.000000</td>\n",
       "      <td>0.065217</td>\n",
       "      <td>0.188229</td>\n",
       "      <td>0.185917</td>\n",
       "      <td>0.0</td>\n",
       "      <td>...</td>\n",
       "      <td>0</td>\n",
       "      <td>0</td>\n",
       "      <td>1</td>\n",
       "      <td>1</td>\n",
       "      <td>1</td>\n",
       "      <td>0</td>\n",
       "      <td>0</td>\n",
       "      <td>0</td>\n",
       "      <td>1</td>\n",
       "      <td>0</td>\n",
       "    </tr>\n",
       "  </tbody>\n",
       "</table>\n",
       "<p>5 rows × 36 columns</p>\n",
       "</div>"
      ],
      "text/plain": [
       "       ID  Years_of_HHH_in_community  Dwelling_quality_index  \\\n",
       "0  1001_3                   0.000000                   0.125   \n",
       "1  1001_3                   0.000000                   0.125   \n",
       "2  1026_3                   0.023622                   0.125   \n",
       "3  1026_3                   0.023622                   0.125   \n",
       "4  1027_2                   0.017998                   0.125   \n",
       "\n",
       "   Hours_available_electricity  Measurement_age  Monthly_expenditure  \\\n",
       "0                     0.007812              0.0             0.003872   \n",
       "1                     0.007812              0.0             0.003872   \n",
       "2                     0.007812              0.0             0.003981   \n",
       "3                     0.007812              0.0             0.003981   \n",
       "4                     0.007812              0.0             0.000000   \n",
       "\n",
       "   Number_of_rooms  Climate_zone_lev_1  Climate_zone_lev_2  Age_HHH  ...  \\\n",
       "0         0.086957            0.188229            0.000000      0.0  ...   \n",
       "1         0.086957            0.188229            0.000000      0.0  ...   \n",
       "2         0.086957            0.188229            0.185917      0.0  ...   \n",
       "3         0.086957            0.188229            0.185917      0.0  ...   \n",
       "4         0.065217            0.188229            0.185917      0.0  ...   \n",
       "\n",
       "  Years_of_HHH_in_community_missing Dwelling_quality_index_missing  \\\n",
       "0                                 1                              0   \n",
       "1                                 1                              0   \n",
       "2                                 0                              0   \n",
       "3                                 0                              0   \n",
       "4                                 0                              0   \n",
       "\n",
       "  Hours_available_electricity_missing  Measurement_age_missing  \\\n",
       "0                                   1                        1   \n",
       "1                                   1                        1   \n",
       "2                                   1                        1   \n",
       "3                                   1                        1   \n",
       "4                                   1                        1   \n",
       "\n",
       "  Monthly_expenditure_missing Number_of_rooms_missing  \\\n",
       "0                           0                       0   \n",
       "1                           0                       0   \n",
       "2                           0                       0   \n",
       "3                           0                       0   \n",
       "4                           1                       0   \n",
       "\n",
       "  Climate_zone_lev_1_missing Climate_zone_lev_2_missing Age_HHH_missing  \\\n",
       "0                          0                          1               1   \n",
       "1                          0                          1               1   \n",
       "2                          0                          0               1   \n",
       "3                          0                          0               1   \n",
       "4                          0                          0               1   \n",
       "\n",
       "   Number_adults_missing  \n",
       "0                      0  \n",
       "1                      0  \n",
       "2                      0  \n",
       "3                      0  \n",
       "4                      0  \n",
       "\n",
       "[5 rows x 36 columns]"
      ]
     },
     "execution_count": 24,
     "metadata": {},
     "output_type": "execute_result"
    }
   ],
   "source": [
    "dataset.preview()"
   ]
  },
  {
   "cell_type": "code",
   "execution_count": 25,
   "id": "7d1246f674f8bdb1",
   "metadata": {
    "ExecuteTime": {
     "end_time": "2024-12-18T18:36:23.071155Z",
     "start_time": "2024-12-18T18:36:22.878362Z"
    }
   },
   "outputs": [
    {
     "data": {
      "text/plain": [
       "<core.ODEDataset.ODEDataset at 0x7fee1a8cfcd0>"
      ]
     },
     "execution_count": 25,
     "metadata": {},
     "output_type": "execute_result"
    }
   ],
   "source": [
    "dataset.to_csv(\"./playground/data/dataset_normalized.csv\")"
   ]
  },
  {
   "cell_type": "code",
   "execution_count": null,
   "id": "a0c8beadcefc70aa",
   "metadata": {
    "ExecuteTime": {
     "end_time": "2024-12-18T18:36:23.327685Z",
     "start_time": "2024-12-18T18:36:23.323804Z"
    }
   },
   "outputs": [],
   "source": []
  }
 ],
 "metadata": {
  "kernelspec": {
   "display_name": "nlp",
   "language": "python",
   "name": "python3"
  },
  "language_info": {
   "codemirror_mode": {
    "name": "ipython",
    "version": 3
   },
   "file_extension": ".py",
   "mimetype": "text/x-python",
   "name": "python",
   "nbconvert_exporter": "python",
   "pygments_lexer": "ipython3",
   "version": "3.10.14"
  }
 },
 "nbformat": 4,
 "nbformat_minor": 5
}
