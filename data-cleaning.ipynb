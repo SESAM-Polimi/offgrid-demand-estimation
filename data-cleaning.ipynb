{
 "cells": [
  {
   "cell_type": "code",
   "id": "initial_id",
   "metadata": {
    "collapsed": true,
    "ExecuteTime": {
     "end_time": "2024-12-08T21:55:59.064203Z",
     "start_time": "2024-12-08T21:55:59.049915Z"
    }
   },
   "source": [
    "import os\n",
    "import sys\n",
    "sys.path.append(\"./\")  # Adds higher directory to python modules path.\n",
    "os.environ['TF_CPP_MIN_LOG_LEVEL'] = '1'\n"
   ],
   "outputs": [],
   "execution_count": 1
  },
  {
   "metadata": {
    "ExecuteTime": {
     "end_time": "2024-12-08T21:56:03.463497Z",
     "start_time": "2024-12-08T21:55:59.095339Z"
    }
   },
   "cell_type": "code",
   "source": [
    "from core.ODEDataset import ODEDataset\n",
    "import pandas as pd\n",
    "pd.set_option('future.no_silent_downcasting', True)\n",
    "from utils import cleaning, constants, helpers\n"
   ],
   "id": "1e07c47cc005ee46",
   "outputs": [],
   "execution_count": 2
  },
  {
   "metadata": {
    "ExecuteTime": {
     "end_time": "2024-12-08T21:56:03.522891Z",
     "start_time": "2024-12-08T21:56:03.519151Z"
    }
   },
   "cell_type": "code",
   "source": "filepath = \"./playground/data/esmap_lsms-tanzania.csv\"\n",
   "id": "d03130217c47f2b3",
   "outputs": [],
   "execution_count": 3
  },
  {
   "metadata": {
    "ExecuteTime": {
     "end_time": "2024-12-08T21:56:03.623065Z",
     "start_time": "2024-12-08T21:56:03.535640Z"
    }
   },
   "cell_type": "code",
   "source": [
    "dataset = ODEDataset(\"combined\")\n",
    "dataset.from_csv(filepath)\n",
    "dataset = dataset.select([\n",
    "                             \"ID\",\n",
    "                         ] + constants.DRIVERS_LIST + constants.PRESENCE_LIST)\n"
   ],
   "id": "79f0638b1715b622",
   "outputs": [],
   "execution_count": 4
  },
  {
   "metadata": {},
   "cell_type": "markdown",
   "source": "# Drivers",
   "id": "191c976ca2a79bcc"
  },
  {
   "metadata": {},
   "cell_type": "markdown",
   "source": "## Years_of_HHH_in_community",
   "id": "cf863e540f4f71fe"
  },
  {
   "metadata": {
    "ExecuteTime": {
     "end_time": "2024-12-08T21:56:03.658344Z",
     "start_time": "2024-12-08T21:56:03.638623Z"
    }
   },
   "cell_type": "code",
   "source": [
    "dataset = dataset.apply(cleaning.fillna(\"Years_of_HHH_in_community\", -1))\n",
    "dataset = dataset.apply(cleaning.astype(\"Years_of_HHH_in_community\", int))\n",
    "dataset.value_counts(\"Years_of_HHH_in_community\")"
   ],
   "id": "5f55ce2de3b34430",
   "outputs": [
    {
     "data": {
      "text/plain": [
       "Years_of_HHH_in_community\n",
       "-1     3580\n",
       " 1      515\n",
       " 20     392\n",
       " 10     386\n",
       " 2      382\n",
       "       ... \n",
       " 86       1\n",
       " 81       1\n",
       " 90       1\n",
       " 98       1\n",
       " 89       1\n",
       "Name: count, Length: 92, dtype: int64"
      ]
     },
     "execution_count": 5,
     "metadata": {},
     "output_type": "execute_result"
    }
   ],
   "execution_count": 5
  },
  {
   "metadata": {},
   "cell_type": "markdown",
   "source": "## Dwelling_quality_index\n",
   "id": "8c5210735a30e773"
  },
  {
   "metadata": {
    "ExecuteTime": {
     "end_time": "2024-12-08T21:56:03.857782Z",
     "start_time": "2024-12-08T21:56:03.842991Z"
    }
   },
   "cell_type": "code",
   "source": [
    "dataset = dataset.apply(cleaning.fillna(\"Dwelling_quality_index\", -1))\n",
    "dataset = dataset.apply(cleaning.astype(\"Dwelling_quality_index\", int))\n",
    "dataset.value_counts(\"Dwelling_quality_index\")"
   ],
   "id": "c40bcfc9d983bb09",
   "outputs": [
    {
     "data": {
      "text/plain": [
       "Dwelling_quality_index\n",
       " 0    9020\n",
       " 1    1332\n",
       "-1     204\n",
       " 5      56\n",
       " 4      51\n",
       " 6      23\n",
       " 7      20\n",
       " 2       6\n",
       " 3       6\n",
       "Name: count, dtype: int64"
      ]
     },
     "execution_count": 6,
     "metadata": {},
     "output_type": "execute_result"
    }
   ],
   "execution_count": 6
  },
  {
   "metadata": {},
   "cell_type": "markdown",
   "source": "## Hours_available_electricity",
   "id": "d65228128f0106b7"
  },
  {
   "metadata": {
    "ExecuteTime": {
     "end_time": "2024-12-08T21:56:03.992711Z",
     "start_time": "2024-12-08T21:56:03.891874Z"
    }
   },
   "cell_type": "code",
   "source": [
    "dataset = dataset.apply(cleaning.fillna(\"Hours_available_electricity\", -1))\n",
    "dataset = dataset.apply(cleaning.astype(\"Hours_available_electricity\", int))\n",
    "dataset = dataset.new_feature(\"Hours_available_electricity_missing\",cleaning.add_missing_flag(\"Hours_available_electricity\", -1))\n",
    "\n",
    "dataset.to_dataframe()[[\"Hours_available_electricity\", \"Hours_available_electricity_missing\"]].head()\n"
   ],
   "id": "b65b79fa63cf0727",
   "outputs": [
    {
     "data": {
      "text/plain": [
       "   Hours_available_electricity  Hours_available_electricity_missing\n",
       "0                           -1                                    1\n",
       "1                           -1                                    1\n",
       "2                           -1                                    1\n",
       "3                           -1                                    1\n",
       "4                           -1                                    1"
      ],
      "text/html": [
       "<div>\n",
       "<style scoped>\n",
       "    .dataframe tbody tr th:only-of-type {\n",
       "        vertical-align: middle;\n",
       "    }\n",
       "\n",
       "    .dataframe tbody tr th {\n",
       "        vertical-align: top;\n",
       "    }\n",
       "\n",
       "    .dataframe thead th {\n",
       "        text-align: right;\n",
       "    }\n",
       "</style>\n",
       "<table border=\"1\" class=\"dataframe\">\n",
       "  <thead>\n",
       "    <tr style=\"text-align: right;\">\n",
       "      <th></th>\n",
       "      <th>Hours_available_electricity</th>\n",
       "      <th>Hours_available_electricity_missing</th>\n",
       "    </tr>\n",
       "  </thead>\n",
       "  <tbody>\n",
       "    <tr>\n",
       "      <th>0</th>\n",
       "      <td>-1</td>\n",
       "      <td>1</td>\n",
       "    </tr>\n",
       "    <tr>\n",
       "      <th>1</th>\n",
       "      <td>-1</td>\n",
       "      <td>1</td>\n",
       "    </tr>\n",
       "    <tr>\n",
       "      <th>2</th>\n",
       "      <td>-1</td>\n",
       "      <td>1</td>\n",
       "    </tr>\n",
       "    <tr>\n",
       "      <th>3</th>\n",
       "      <td>-1</td>\n",
       "      <td>1</td>\n",
       "    </tr>\n",
       "    <tr>\n",
       "      <th>4</th>\n",
       "      <td>-1</td>\n",
       "      <td>1</td>\n",
       "    </tr>\n",
       "  </tbody>\n",
       "</table>\n",
       "</div>"
      ]
     },
     "execution_count": 7,
     "metadata": {},
     "output_type": "execute_result"
    }
   ],
   "execution_count": 7
  },
  {
   "metadata": {},
   "cell_type": "markdown",
   "source": "## Measurement_age",
   "id": "bd3ba5884dce0110"
  },
  {
   "metadata": {
    "ExecuteTime": {
     "end_time": "2024-12-08T21:56:04.312251Z",
     "start_time": "2024-12-08T21:56:04.168539Z"
    }
   },
   "cell_type": "code",
   "source": [
    "dataset = dataset.apply(cleaning.fillna(\"Measurement_age\", -1))\n",
    "dataset = dataset.apply(cleaning.replace_value(\"Measurement_age\", -99, -1))\n",
    "dataset = dataset.apply(cleaning.astype(\"Measurement_age\", float))\n",
    "dataset = dataset.new_feature(\"Measurement_age_missing\", cleaning.add_missing_flag(\"Measurement_age\", -1))\n",
    "dataset.value_counts(\"Measurement_age\")\n",
    "\n"
   ],
   "id": "79cc4a11f5f02eb2",
   "outputs": [
    {
     "data": {
      "text/plain": [
       "Measurement_age\n",
       "-1.0      6356\n",
       " 1.0       864\n",
       " 3.0       573\n",
       " 4.0       496\n",
       " 2.0       474\n",
       "          ... \n",
       " 59.0        1\n",
       " 54.0        1\n",
       " 49.0        1\n",
       " 46.0        1\n",
       " 888.0       1\n",
       "Name: count, Length: 62, dtype: int64"
      ]
     },
     "execution_count": 8,
     "metadata": {},
     "output_type": "execute_result"
    }
   ],
   "execution_count": 8
  },
  {
   "metadata": {},
   "cell_type": "markdown",
   "source": "## Monthly_expenditure",
   "id": "d41d7e873a7f4fb4"
  },
  {
   "metadata": {
    "ExecuteTime": {
     "end_time": "2024-12-08T21:56:04.684661Z",
     "start_time": "2024-12-08T21:56:04.661687Z"
    }
   },
   "cell_type": "code",
   "source": [
    "dataset = dataset.apply(cleaning.fillna(\"Monthly_expenditure\", -1))\n",
    "dataset = dataset.apply(cleaning.astype(\"Monthly_expenditure\", float))\n",
    "dataset = dataset.apply(cleaning.replace_value(\"Monthly_expenditure\", -99, -1))\n",
    "\n",
    "dataset.value_counts(\"Monthly_expenditure\")"
   ],
   "id": "9e2775d3d2c2fadf",
   "outputs": [
    {
     "data": {
      "text/plain": [
       "Monthly_expenditure\n",
       "-1.000000       628\n",
       " 0.000000       389\n",
       " 66.000000       96\n",
       " 132.000000      80\n",
       " 26.400000       70\n",
       "               ... \n",
       " 2384.666667      1\n",
       " 2648.833333      1\n",
       " 2619.166667      1\n",
       " 1149.166667      1\n",
       " 8333.333333      1\n",
       "Name: count, Length: 5236, dtype: int64"
      ]
     },
     "execution_count": 9,
     "metadata": {},
     "output_type": "execute_result"
    }
   ],
   "execution_count": 9
  },
  {
   "metadata": {},
   "cell_type": "markdown",
   "source": "## Number_of_rooms",
   "id": "63927f187164c2a6"
  },
  {
   "metadata": {
    "ExecuteTime": {
     "end_time": "2024-12-08T21:56:05.006330Z",
     "start_time": "2024-12-08T21:56:04.983852Z"
    }
   },
   "cell_type": "code",
   "source": [
    "dataset = dataset.apply(cleaning.fillna(\"Number_of_rooms\", -1))\n",
    "dataset = dataset.apply(cleaning.astype(\"Number_of_rooms\", int))\n",
    "dataset.value_counts(\"Number_of_rooms\")\n"
   ],
   "id": "7603a87d2ec70b21",
   "outputs": [
    {
     "data": {
      "text/plain": [
       "Number_of_rooms\n",
       " 2     3364\n",
       " 3     2610\n",
       " 1     2455\n",
       " 4     1092\n",
       " 5      455\n",
       "-1      281\n",
       " 6      214\n",
       " 7       71\n",
       " 12      57\n",
       " 8       57\n",
       " 9       18\n",
       " 0       17\n",
       " 10      11\n",
       " 13       6\n",
       " 11       4\n",
       " 15       2\n",
       " 14       2\n",
       " 16       1\n",
       " 45       1\n",
       "Name: count, dtype: int64"
      ]
     },
     "execution_count": 10,
     "metadata": {},
     "output_type": "execute_result"
    }
   ],
   "execution_count": 10
  },
  {
   "metadata": {},
   "cell_type": "markdown",
   "source": "## Climate_zone_lev_1",
   "id": "37d5357c66b10d44"
  },
  {
   "metadata": {
    "ExecuteTime": {
     "end_time": "2024-12-08T21:56:05.419693Z",
     "start_time": "2024-12-08T21:56:05.396747Z"
    }
   },
   "cell_type": "code",
   "source": [
    "dataset = dataset.apply(cleaning.fillna(\"Climate_zone_lev_1\", -1))\n",
    "dataset = dataset.apply(cleaning.astype(\"Climate_zone_lev_1\", float))\n",
    "dataset.value_counts(\"Climate_zone_lev_1\")\n",
    "\n"
   ],
   "id": "e5f87ff91d9c4bc4",
   "outputs": [
    {
     "data": {
      "text/plain": [
       "Climate_zone_lev_1\n",
       " 11.000000    2976\n",
       " 3.000000     1987\n",
       " 8.731500     1089\n",
       " 6.850500      982\n",
       " 10.163250     707\n",
       " 14.643750     624\n",
       " 6.000000      356\n",
       " 9.000000      223\n",
       " 5.303000      204\n",
       " 15.000000     195\n",
       " 15.779750     192\n",
       " 14.463750     180\n",
       " 14.370750     132\n",
       " 2.000000      127\n",
       " 4.000000      124\n",
       " 12.000000     120\n",
       " 1.000000      110\n",
       " 11.739750     104\n",
       " 11.753500      96\n",
       " 12.134000      60\n",
       " 10.854250      48\n",
       " 18.890500      27\n",
       " 16.195750      23\n",
       "-1.000000       14\n",
       " 20.065250       5\n",
       " 13.762500       3\n",
       " 18.240000       3\n",
       " 19.306000       2\n",
       " 16.407250       2\n",
       " 20.250750       1\n",
       " 19.993023       1\n",
       " 17.910250       1\n",
       "Name: count, dtype: int64"
      ]
     },
     "execution_count": 11,
     "metadata": {},
     "output_type": "execute_result"
    }
   ],
   "execution_count": 11
  },
  {
   "metadata": {},
   "cell_type": "markdown",
   "source": "## Climate_zone_lev_2",
   "id": "d8620d468fed9619"
  },
  {
   "metadata": {
    "ExecuteTime": {
     "end_time": "2024-12-08T21:56:05.875153Z",
     "start_time": "2024-12-08T21:56:05.756962Z"
    }
   },
   "cell_type": "code",
   "source": [
    "dataset = dataset.apply(cleaning.fillna(\"Climate_zone_lev_2\", -1))\n",
    "dataset = dataset.apply(cleaning.astype(\"Climate_zone_lev_2\", float))\n",
    "\n",
    "dataset = dataset.new_feature(\"Climate_zone_lev_2_missing\", cleaning.add_missing_flag(\"Climate_zone_lev_2\", -1))\n",
    "\n",
    "dataset.to_dataframe()[[\"Climate_zone_lev_2\", \"Climate_zone_lev_2_missing\"]].head()\n",
    "\n"
   ],
   "id": "950e4b4fbcd6219",
   "outputs": [
    {
     "data": {
      "text/plain": [
       "   Climate_zone_lev_2  Climate_zone_lev_2_missing\n",
       "0                -1.0                           1\n",
       "1                -1.0                           1\n",
       "2                 3.0                           0\n",
       "3                 3.0                           0\n",
       "4                 3.0                           0"
      ],
      "text/html": [
       "<div>\n",
       "<style scoped>\n",
       "    .dataframe tbody tr th:only-of-type {\n",
       "        vertical-align: middle;\n",
       "    }\n",
       "\n",
       "    .dataframe tbody tr th {\n",
       "        vertical-align: top;\n",
       "    }\n",
       "\n",
       "    .dataframe thead th {\n",
       "        text-align: right;\n",
       "    }\n",
       "</style>\n",
       "<table border=\"1\" class=\"dataframe\">\n",
       "  <thead>\n",
       "    <tr style=\"text-align: right;\">\n",
       "      <th></th>\n",
       "      <th>Climate_zone_lev_2</th>\n",
       "      <th>Climate_zone_lev_2_missing</th>\n",
       "    </tr>\n",
       "  </thead>\n",
       "  <tbody>\n",
       "    <tr>\n",
       "      <th>0</th>\n",
       "      <td>-1.0</td>\n",
       "      <td>1</td>\n",
       "    </tr>\n",
       "    <tr>\n",
       "      <th>1</th>\n",
       "      <td>-1.0</td>\n",
       "      <td>1</td>\n",
       "    </tr>\n",
       "    <tr>\n",
       "      <th>2</th>\n",
       "      <td>3.0</td>\n",
       "      <td>0</td>\n",
       "    </tr>\n",
       "    <tr>\n",
       "      <th>3</th>\n",
       "      <td>3.0</td>\n",
       "      <td>0</td>\n",
       "    </tr>\n",
       "    <tr>\n",
       "      <th>4</th>\n",
       "      <td>3.0</td>\n",
       "      <td>0</td>\n",
       "    </tr>\n",
       "  </tbody>\n",
       "</table>\n",
       "</div>"
      ]
     },
     "execution_count": 12,
     "metadata": {},
     "output_type": "execute_result"
    }
   ],
   "execution_count": 12
  },
  {
   "metadata": {},
   "cell_type": "markdown",
   "source": "## Age_HHH",
   "id": "e41f0d2c11be173f"
  },
  {
   "metadata": {
    "ExecuteTime": {
     "end_time": "2024-12-08T21:56:06.225740Z",
     "start_time": "2024-12-08T21:56:06.208715Z"
    }
   },
   "cell_type": "code",
   "source": [
    "dataset = dataset.apply(cleaning.fillna(\"Age_HHH\", -1))\n",
    "dataset = dataset.apply(cleaning.astype(\"Age_HHH\", int))\n",
    "dataset.value_counts(\"Age_HHH\")"
   ],
   "id": "3c4edfa9a34b5714",
   "outputs": [
    {
     "data": {
      "text/plain": [
       "Age_HHH\n",
       "-1     1450\n",
       " 35     557\n",
       " 40     479\n",
       " 45     446\n",
       " 30     391\n",
       "       ... \n",
       " 91       2\n",
       " 94       1\n",
       " 15       1\n",
       " 96       1\n",
       " 98       1\n",
       "Name: count, Length: 84, dtype: int64"
      ]
     },
     "execution_count": 13,
     "metadata": {},
     "output_type": "execute_result"
    }
   ],
   "execution_count": 13
  },
  {
   "metadata": {},
   "cell_type": "markdown",
   "source": "## HH_with_home_business",
   "id": "66b966b107cdb15d"
  },
  {
   "metadata": {
    "ExecuteTime": {
     "end_time": "2024-12-08T21:56:06.522350Z",
     "start_time": "2024-12-08T21:56:06.513205Z"
    }
   },
   "cell_type": "code",
   "source": "dataset.value_counts(\"HH_with_home_business\")",
   "id": "dabe1d5674b5a47e",
   "outputs": [
    {
     "data": {
      "text/plain": [
       "HH_with_home_business\n",
       "No     4750\n",
       "Yes    1494\n",
       "Name: count, dtype: int64"
      ]
     },
     "execution_count": 14,
     "metadata": {},
     "output_type": "execute_result"
    }
   ],
   "execution_count": 14
  },
  {
   "metadata": {},
   "cell_type": "markdown",
   "source": "## Education_level_HHH",
   "id": "1d313bfd9b915b92"
  },
  {
   "metadata": {
    "ExecuteTime": {
     "end_time": "2024-12-08T21:56:06.902654Z",
     "start_time": "2024-12-08T21:56:06.869381Z"
    }
   },
   "cell_type": "code",
   "source": [
    "dataset = dataset.apply(cleaning.categorize(\"Education_level_HHH\"))\n",
    "dataset.value_counts(\"Education_level_HHH\")"
   ],
   "id": "5f0400ff816f9214",
   "outputs": [
    {
     "data": {
      "text/plain": [
       "Education_level_HHH\n",
       "1     3502\n",
       "2     1273\n",
       "3      963\n",
       "4      469\n",
       "5      404\n",
       "6      245\n",
       "7      117\n",
       "8       57\n",
       "9       56\n",
       "10      10\n",
       "11       3\n",
       "Name: count, dtype: int64"
      ]
     },
     "execution_count": 15,
     "metadata": {},
     "output_type": "execute_result"
    }
   ],
   "execution_count": 15
  },
  {
   "metadata": {},
   "cell_type": "markdown",
   "source": "## Socio_status_HHH",
   "id": "732add2aef779815"
  },
  {
   "metadata": {
    "ExecuteTime": {
     "end_time": "2024-12-08T21:56:07.271198Z",
     "start_time": "2024-12-08T21:56:07.254544Z"
    }
   },
   "cell_type": "code",
   "source": [
    "dataset = dataset.apply(cleaning.categorize(\"Socio_status_HHH\"))\n",
    "dataset.value_counts(\"Socio_status_HHH\")"
   ],
   "id": "45263d2f5330cf06",
   "outputs": [
    {
     "data": {
      "text/plain": [
       "Socio_status_HHH\n",
       "1     1994\n",
       "2     1932\n",
       "3     1679\n",
       "4     1097\n",
       "5     1062\n",
       "6      501\n",
       "7      407\n",
       "8      405\n",
       "9      187\n",
       "10      40\n",
       "Name: count, dtype: int64"
      ]
     },
     "execution_count": 16,
     "metadata": {},
     "output_type": "execute_result"
    }
   ],
   "execution_count": 16
  },
  {
   "metadata": {},
   "cell_type": "markdown",
   "source": " ## Number_adults\n",
   "id": "1f20c6f90b6fae6b"
  },
  {
   "metadata": {
    "ExecuteTime": {
     "end_time": "2024-12-08T21:56:07.554162Z",
     "start_time": "2024-12-08T21:56:07.533489Z"
    }
   },
   "cell_type": "code",
   "source": [
    "dataset = dataset.apply(cleaning.fillna(\"Number_adults\", -1))\n",
    "dataset = dataset.apply(cleaning.astype(\"Number_adults\", int))\n",
    "dataset.value_counts(\"Number_adults\")"
   ],
   "id": "cacbfc4ad3da90db",
   "outputs": [
    {
     "data": {
      "text/plain": [
       "Number_adults\n",
       "2     3136\n",
       "1     1694\n",
       "3     1606\n",
       "0     1351\n",
       "4      953\n",
       "      ... \n",
       "19       2\n",
       "59       2\n",
       "17       1\n",
       "57       1\n",
       "15       1\n",
       "Name: count, Length: 61, dtype: int64"
      ]
     },
     "execution_count": 17,
     "metadata": {},
     "output_type": "execute_result"
    }
   ],
   "execution_count": 17
  },
  {
   "metadata": {},
   "cell_type": "markdown",
   "source": "## Ownership_motorized_vehicle\n",
   "id": "5b36d120cdaca549"
  },
  {
   "metadata": {
    "ExecuteTime": {
     "end_time": "2024-12-08T21:56:08.234140Z",
     "start_time": "2024-12-08T21:56:08.196855Z"
    }
   },
   "cell_type": "code",
   "source": [
    "dataset = dataset.apply(cleaning.replace_value(\"Ownership_motorized_vehicle\", \"Yes\", 1.0))\n",
    "dataset = dataset.apply(cleaning.replace_value(\"Ownership_motorized_vehicle\", \"No\", 0.0))\n",
    "dataset = dataset.apply(cleaning.replace_value(\"Ownership_motorized_vehicle\", \"1.0\", 1.0))\n",
    "dataset = dataset.apply(cleaning.replace_value(\"Ownership_motorized_vehicle\", \"0.0\", 0.0))\n",
    "dataset = dataset.apply(cleaning.astype(\"Ownership_motorized_vehicle\", float))\n",
    "dataset = dataset.apply(cleaning.fillna(\"Ownership_motorized_vehicle\", -1))\n",
    "dataset.value_counts(\"Ownership_motorized_vehicle\")"
   ],
   "id": "8d265d50dbeafd79",
   "outputs": [
    {
     "data": {
      "text/plain": [
       "Ownership_motorized_vehicle\n",
       " 1.0    4982\n",
       "-1.0    4216\n",
       " 0.0    1520\n",
       "Name: count, dtype: int64"
      ]
     },
     "execution_count": 18,
     "metadata": {},
     "output_type": "execute_result"
    }
   ],
   "execution_count": 18
  },
  {
   "metadata": {},
   "cell_type": "markdown",
   "source": "## Ownership_small_livestock\n",
   "id": "5f929c88ca41b3b6"
  },
  {
   "metadata": {
    "ExecuteTime": {
     "end_time": "2024-12-08T21:56:08.553935Z",
     "start_time": "2024-12-08T21:56:08.501326Z"
    }
   },
   "cell_type": "code",
   "source": [
    "dataset = dataset.apply(cleaning.replace_value(\"Ownership_small_livestock\", \"Yes\", 1.0))\n",
    "dataset = dataset.apply(cleaning.replace_value(\"Ownership_small_livestock\", \"No\", 0.0))\n",
    "dataset = dataset.apply(cleaning.replace_value(\"Ownership_small_livestock\", \"1.0\", 1.0))\n",
    "dataset = dataset.apply(cleaning.replace_value(\"Ownership_small_livestock\", \"0.0\", 0.0))\n",
    "dataset = dataset.apply(cleaning.astype(\"Ownership_small_livestock\", float))\n",
    "dataset = dataset.apply(cleaning.fillna(\"Ownership_small_livestock\", -1))\n",
    "dataset.value_counts(\"Ownership_small_livestock\")"
   ],
   "id": "9342fd48fa5ce994",
   "outputs": [
    {
     "data": {
      "text/plain": [
       "Ownership_small_livestock\n",
       " 1.0    5102\n",
       " 0.0    2876\n",
       "-1.0    2740\n",
       "Name: count, dtype: int64"
      ]
     },
     "execution_count": 19,
     "metadata": {},
     "output_type": "execute_result"
    }
   ],
   "execution_count": 19
  },
  {
   "metadata": {},
   "cell_type": "markdown",
   "source": "## Ownership_large_livestock\n",
   "id": "d7a3ddeb8d776ca5"
  },
  {
   "metadata": {
    "ExecuteTime": {
     "end_time": "2024-12-08T21:56:09.032914Z",
     "start_time": "2024-12-08T21:56:08.989684Z"
    }
   },
   "cell_type": "code",
   "source": [
    "dataset = dataset.apply(cleaning.replace_value(\"Ownership_large_livestock\", \"Yes\", 1.0))\n",
    "dataset = dataset.apply(cleaning.replace_value(\"Ownership_large_livestock\", \"No\", 0.0))\n",
    "dataset = dataset.apply(cleaning.replace_value(\"Ownership_large_livestock\", \"1.0\", 1.0))\n",
    "dataset = dataset.apply(cleaning.replace_value(\"Ownership_large_livestock\", \"0.0\", 0.0))\n",
    "dataset = dataset.apply(cleaning.astype(\"Ownership_large_livestock\", float))\n",
    "dataset = dataset.apply(cleaning.fillna(\"Ownership_large_livestock\", -1))\n",
    "dataset.value_counts(\"Ownership_large_livestock\")"
   ],
   "id": "e20962f15241dc8c",
   "outputs": [
    {
     "data": {
      "text/plain": [
       "Ownership_large_livestock\n",
       " 1.0    5070\n",
       "-1.0    4231\n",
       " 0.0    1417\n",
       "Name: count, dtype: int64"
      ]
     },
     "execution_count": 20,
     "metadata": {},
     "output_type": "execute_result"
    }
   ],
   "execution_count": 20
  },
  {
   "metadata": {},
   "cell_type": "markdown",
   "source": "## Clean_fuel\n",
   "id": "d445766e629440bd"
  },
  {
   "metadata": {
    "ExecuteTime": {
     "end_time": "2024-12-08T21:56:09.551613Z",
     "start_time": "2024-12-08T21:56:09.506749Z"
    }
   },
   "cell_type": "code",
   "source": [
    "dataset = dataset.apply(cleaning.replace_value(\"Clean_fuel\", \"0\", 0.0))\n",
    "dataset = dataset.apply(cleaning.replace_value(\"Clean_fuel\", \"1\", 1.0))\n",
    "dataset = dataset.apply(cleaning.replace_value(\"Clean_fuel\", \"Yes\", 1.0))\n",
    "dataset = dataset.apply(cleaning.replace_value(\"Clean_fuel\", \"No\", 0.0))\n",
    "dataset = dataset.apply(cleaning.astype(\"Clean_fuel\", float))\n",
    "dataset = dataset.apply(cleaning.fillna(\"Clean_fuel\", -1))\n",
    "dataset.value_counts(\"Clean_fuel\")\n",
    "\n"
   ],
   "id": "8c69df0f4d9618c",
   "outputs": [
    {
     "data": {
      "text/plain": [
       "Clean_fuel\n",
       " 0.0    10002\n",
       " 1.0      596\n",
       "-1.0      120\n",
       "Name: count, dtype: int64"
      ]
     },
     "execution_count": 21,
     "metadata": {},
     "output_type": "execute_result"
    }
   ],
   "execution_count": 21
  },
  {
   "metadata": {},
   "cell_type": "markdown",
   "source": "## Tariff_payment_frequency",
   "id": "dff46a500e30d9d4"
  },
  {
   "metadata": {
    "ExecuteTime": {
     "end_time": "2024-12-08T21:56:09.875395Z",
     "start_time": "2024-12-08T21:56:09.858899Z"
    }
   },
   "cell_type": "code",
   "source": [
    "dataset = dataset.apply(cleaning.fillna(\"Tariff_payment_frequency\", \"Other\"))\n",
    "dataset = dataset.apply(cleaning.categorize(\"Tariff_payment_frequency\"))"
   ],
   "id": "9293c673557e7211",
   "outputs": [],
   "execution_count": 22
  },
  {
   "metadata": {
    "ExecuteTime": {
     "end_time": "2024-12-08T21:56:10.203267Z",
     "start_time": "2024-12-08T21:56:10.198672Z"
    }
   },
   "cell_type": "code",
   "source": "",
   "id": "9f794fbce6584411",
   "outputs": [],
   "execution_count": null
  },
  {
   "metadata": {},
   "cell_type": "markdown",
   "source": "# Appliances\n",
   "id": "93e029e61a0d6da9"
  },
  {
   "metadata": {
    "ExecuteTime": {
     "end_time": "2024-12-08T21:56:10.453430Z",
     "start_time": "2024-12-08T21:56:10.405879Z"
    }
   },
   "cell_type": "code",
   "source": [
    "PRESENCE_LIST = [\n",
    "    'Presence_refrigerator/freezer', 'Presence_iron', 'Presence_fan',\n",
    "    'Presence_DVD_player', 'Presence_radio/stereo',\n",
    "    'Presence_phone_charger',\n",
    "    'Presence_TV'\n",
    "]\n",
    "\n",
    "for p in PRESENCE_LIST:\n",
    "    dataset = dataset.apply(cleaning.fillna(p, -1))\n",
    "    value_counts = dataset.value_counts(p)\n",
    "    print(\"Missing values for\", p, value_counts[-1])"
   ],
   "id": "5af668aa19a0facd",
   "outputs": [
    {
     "name": "stdout",
     "output_type": "stream",
     "text": [
      "Missing values for Presence_refrigerator/freezer 697\n",
      "Missing values for Presence_iron 1976\n",
      "Missing values for Presence_fan 794\n",
      "Missing values for Presence_DVD_player 794\n",
      "Missing values for Presence_radio/stereo 792\n",
      "Missing values for Presence_phone_charger 1184\n",
      "Missing values for Presence_TV 2\n"
     ]
    }
   ],
   "execution_count": 23
  },
  {
   "metadata": {
    "ExecuteTime": {
     "end_time": "2024-12-08T21:56:10.808076Z",
     "start_time": "2024-12-08T21:56:10.768884Z"
    }
   },
   "cell_type": "code",
   "source": "dataset.preview()",
   "id": "f9387b715c1b53ed",
   "outputs": [
    {
     "data": {
      "text/plain": [
       "       ID  Years_of_HHH_in_community  Dwelling_quality_index  \\\n",
       "0  1001_3                         -1                       0   \n",
       "1  1001_3                         -1                       0   \n",
       "2  1026_3                         20                       0   \n",
       "3  1026_3                         20                       0   \n",
       "4  1027_2                         15                       0   \n",
       "\n",
       "   Hours_available_electricity  Measurement_age  Monthly_expenditure  \\\n",
       "0                           -1             -1.0              63600.0   \n",
       "1                           -1             -1.0              63600.0   \n",
       "2                           -1             -1.0              65400.0   \n",
       "3                           -1             -1.0              65400.0   \n",
       "4                           -1             -1.0                 -1.0   \n",
       "\n",
       "   Number_of_rooms  Climate_zone_lev_1  Climate_zone_lev_2  Age_HHH  ...  \\\n",
       "0                3                 3.0                -1.0       -1  ...   \n",
       "1                3                 3.0                -1.0       -1  ...   \n",
       "2                3                 3.0                 3.0       -1  ...   \n",
       "3                3                 3.0                 3.0       -1  ...   \n",
       "4                2                 3.0                 3.0       -1  ...   \n",
       "\n",
       "  Presence_refrigerator/freezer Presence_iron Presence_fan  \\\n",
       "0                           0.0           0.0          0.0   \n",
       "1                           0.0           0.0          0.0   \n",
       "2                          -1.0          -1.0         -1.0   \n",
       "3                          -1.0          -1.0         -1.0   \n",
       "4                          -1.0          -1.0         -1.0   \n",
       "\n",
       "   Presence_DVD_player  Presence_radio/stereo  Presence_phone_charger  \\\n",
       "0                  0.0                    0.0                     1.0   \n",
       "1                  0.0                    0.0                     1.0   \n",
       "2                 -1.0                   -1.0                     0.0   \n",
       "3                 -1.0                   -1.0                     0.0   \n",
       "4                 -1.0                   -1.0                     0.0   \n",
       "\n",
       "   Presence_TV  Hours_available_electricity_missing Measurement_age_missing  \\\n",
       "0          0.0                                    1                       1   \n",
       "1          0.0                                    1                       1   \n",
       "2          0.0                                    1                       1   \n",
       "3          0.0                                    1                       1   \n",
       "4          0.0                                    1                       1   \n",
       "\n",
       "   Climate_zone_lev_2_missing  \n",
       "0                           1  \n",
       "1                           1  \n",
       "2                           0  \n",
       "3                           0  \n",
       "4                           0  \n",
       "\n",
       "[5 rows x 29 columns]"
      ],
      "text/html": [
       "<div>\n",
       "<style scoped>\n",
       "    .dataframe tbody tr th:only-of-type {\n",
       "        vertical-align: middle;\n",
       "    }\n",
       "\n",
       "    .dataframe tbody tr th {\n",
       "        vertical-align: top;\n",
       "    }\n",
       "\n",
       "    .dataframe thead th {\n",
       "        text-align: right;\n",
       "    }\n",
       "</style>\n",
       "<table border=\"1\" class=\"dataframe\">\n",
       "  <thead>\n",
       "    <tr style=\"text-align: right;\">\n",
       "      <th></th>\n",
       "      <th>ID</th>\n",
       "      <th>Years_of_HHH_in_community</th>\n",
       "      <th>Dwelling_quality_index</th>\n",
       "      <th>Hours_available_electricity</th>\n",
       "      <th>Measurement_age</th>\n",
       "      <th>Monthly_expenditure</th>\n",
       "      <th>Number_of_rooms</th>\n",
       "      <th>Climate_zone_lev_1</th>\n",
       "      <th>Climate_zone_lev_2</th>\n",
       "      <th>Age_HHH</th>\n",
       "      <th>...</th>\n",
       "      <th>Presence_refrigerator/freezer</th>\n",
       "      <th>Presence_iron</th>\n",
       "      <th>Presence_fan</th>\n",
       "      <th>Presence_DVD_player</th>\n",
       "      <th>Presence_radio/stereo</th>\n",
       "      <th>Presence_phone_charger</th>\n",
       "      <th>Presence_TV</th>\n",
       "      <th>Hours_available_electricity_missing</th>\n",
       "      <th>Measurement_age_missing</th>\n",
       "      <th>Climate_zone_lev_2_missing</th>\n",
       "    </tr>\n",
       "  </thead>\n",
       "  <tbody>\n",
       "    <tr>\n",
       "      <th>0</th>\n",
       "      <td>1001_3</td>\n",
       "      <td>-1</td>\n",
       "      <td>0</td>\n",
       "      <td>-1</td>\n",
       "      <td>-1.0</td>\n",
       "      <td>63600.0</td>\n",
       "      <td>3</td>\n",
       "      <td>3.0</td>\n",
       "      <td>-1.0</td>\n",
       "      <td>-1</td>\n",
       "      <td>...</td>\n",
       "      <td>0.0</td>\n",
       "      <td>0.0</td>\n",
       "      <td>0.0</td>\n",
       "      <td>0.0</td>\n",
       "      <td>0.0</td>\n",
       "      <td>1.0</td>\n",
       "      <td>0.0</td>\n",
       "      <td>1</td>\n",
       "      <td>1</td>\n",
       "      <td>1</td>\n",
       "    </tr>\n",
       "    <tr>\n",
       "      <th>1</th>\n",
       "      <td>1001_3</td>\n",
       "      <td>-1</td>\n",
       "      <td>0</td>\n",
       "      <td>-1</td>\n",
       "      <td>-1.0</td>\n",
       "      <td>63600.0</td>\n",
       "      <td>3</td>\n",
       "      <td>3.0</td>\n",
       "      <td>-1.0</td>\n",
       "      <td>-1</td>\n",
       "      <td>...</td>\n",
       "      <td>0.0</td>\n",
       "      <td>0.0</td>\n",
       "      <td>0.0</td>\n",
       "      <td>0.0</td>\n",
       "      <td>0.0</td>\n",
       "      <td>1.0</td>\n",
       "      <td>0.0</td>\n",
       "      <td>1</td>\n",
       "      <td>1</td>\n",
       "      <td>1</td>\n",
       "    </tr>\n",
       "    <tr>\n",
       "      <th>2</th>\n",
       "      <td>1026_3</td>\n",
       "      <td>20</td>\n",
       "      <td>0</td>\n",
       "      <td>-1</td>\n",
       "      <td>-1.0</td>\n",
       "      <td>65400.0</td>\n",
       "      <td>3</td>\n",
       "      <td>3.0</td>\n",
       "      <td>3.0</td>\n",
       "      <td>-1</td>\n",
       "      <td>...</td>\n",
       "      <td>-1.0</td>\n",
       "      <td>-1.0</td>\n",
       "      <td>-1.0</td>\n",
       "      <td>-1.0</td>\n",
       "      <td>-1.0</td>\n",
       "      <td>0.0</td>\n",
       "      <td>0.0</td>\n",
       "      <td>1</td>\n",
       "      <td>1</td>\n",
       "      <td>0</td>\n",
       "    </tr>\n",
       "    <tr>\n",
       "      <th>3</th>\n",
       "      <td>1026_3</td>\n",
       "      <td>20</td>\n",
       "      <td>0</td>\n",
       "      <td>-1</td>\n",
       "      <td>-1.0</td>\n",
       "      <td>65400.0</td>\n",
       "      <td>3</td>\n",
       "      <td>3.0</td>\n",
       "      <td>3.0</td>\n",
       "      <td>-1</td>\n",
       "      <td>...</td>\n",
       "      <td>-1.0</td>\n",
       "      <td>-1.0</td>\n",
       "      <td>-1.0</td>\n",
       "      <td>-1.0</td>\n",
       "      <td>-1.0</td>\n",
       "      <td>0.0</td>\n",
       "      <td>0.0</td>\n",
       "      <td>1</td>\n",
       "      <td>1</td>\n",
       "      <td>0</td>\n",
       "    </tr>\n",
       "    <tr>\n",
       "      <th>4</th>\n",
       "      <td>1027_2</td>\n",
       "      <td>15</td>\n",
       "      <td>0</td>\n",
       "      <td>-1</td>\n",
       "      <td>-1.0</td>\n",
       "      <td>-1.0</td>\n",
       "      <td>2</td>\n",
       "      <td>3.0</td>\n",
       "      <td>3.0</td>\n",
       "      <td>-1</td>\n",
       "      <td>...</td>\n",
       "      <td>-1.0</td>\n",
       "      <td>-1.0</td>\n",
       "      <td>-1.0</td>\n",
       "      <td>-1.0</td>\n",
       "      <td>-1.0</td>\n",
       "      <td>0.0</td>\n",
       "      <td>0.0</td>\n",
       "      <td>1</td>\n",
       "      <td>1</td>\n",
       "      <td>0</td>\n",
       "    </tr>\n",
       "  </tbody>\n",
       "</table>\n",
       "<p>5 rows × 29 columns</p>\n",
       "</div>"
      ]
     },
     "execution_count": 24,
     "metadata": {},
     "output_type": "execute_result"
    }
   ],
   "execution_count": 24
  },
  {
   "metadata": {
    "ExecuteTime": {
     "end_time": "2024-12-08T21:56:11.094092Z",
     "start_time": "2024-12-08T21:56:10.938373Z"
    }
   },
   "cell_type": "code",
   "source": "dataset.to_csv(\"./playground/data/combined_dataset_cleaned.csv\")",
   "id": "7d1246f674f8bdb1",
   "outputs": [
    {
     "data": {
      "text/plain": [
       "<core.ODEDataset.ODEDataset at 0x7eadd0666a90>"
      ]
     },
     "execution_count": 25,
     "metadata": {},
     "output_type": "execute_result"
    }
   ],
   "execution_count": 25
  },
  {
   "metadata": {
    "ExecuteTime": {
     "end_time": "2024-12-08T21:56:11.238781Z",
     "start_time": "2024-12-08T21:56:11.232475Z"
    }
   },
   "cell_type": "code",
   "source": "",
   "id": "a0c8beadcefc70aa",
   "outputs": [],
   "execution_count": null
  }
 ],
 "metadata": {
  "kernelspec": {
   "display_name": "Python 3",
   "language": "python",
   "name": "python3"
  },
  "language_info": {
   "codemirror_mode": {
    "name": "ipython",
    "version": 2
   },
   "file_extension": ".py",
   "mimetype": "text/x-python",
   "name": "python",
   "nbconvert_exporter": "python",
   "pygments_lexer": "ipython2",
   "version": "2.7.6"
  }
 },
 "nbformat": 4,
 "nbformat_minor": 5
}
