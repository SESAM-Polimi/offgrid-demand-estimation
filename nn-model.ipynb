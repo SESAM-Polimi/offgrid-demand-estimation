{
 "cells": [
  {
   "metadata": {
    "ExecuteTime": {
     "end_time": "2024-12-14T15:43:58.976176Z",
     "start_time": "2024-12-14T15:43:54.303851Z"
    }
   },
   "cell_type": "code",
   "source": [
    "import os\n",
    "import sys\n",
    "\n",
    "sys.path.append(\"./\")  # Adds higher directory to python modules path.\n",
    "os.environ['TF_CPP_MIN_LOG_LEVEL'] = '1'\n",
    "from core.ODEDataset import ODEDataset\n",
    "from utils import cleaning\n",
    "\n",
    "import tensorflow as tf\n",
    "from matplotlib import pyplot as plt"
   ],
   "id": "c5829abd0be016a7",
   "outputs": [],
   "execution_count": 1
  },
  {
   "metadata": {},
   "cell_type": "markdown",
   "source": "Let's load the dataset and  select the columns we want to use as features and labels.",
   "id": "f121b815121e8078"
  },
  {
   "metadata": {},
   "cell_type": "markdown",
   "source": "## Dataset and Feature Selection",
   "id": "c029035b879bf017"
  },
  {
   "metadata": {
    "ExecuteTime": {
     "end_time": "2024-12-14T15:43:59.038096Z",
     "start_time": "2024-12-14T15:43:58.988111Z"
    }
   },
   "cell_type": "code",
   "source": [
    "dataset = ODEDataset(\"Dataset\")\n",
    "dataset.from_csv(\"./playground/data/combined_dataset_cleaned.csv\")\n"
   ],
   "id": "a158b4d87eb3f48c",
   "outputs": [
    {
     "data": {
      "text/plain": [
       "<core.ODEDataset.ODEDataset at 0x76b220645910>"
      ]
     },
     "execution_count": 2,
     "metadata": {},
     "output_type": "execute_result"
    }
   ],
   "execution_count": 2
  },
  {
   "metadata": {
    "ExecuteTime": {
     "end_time": "2024-12-14T15:43:59.105849Z",
     "start_time": "2024-12-14T15:43:59.103214Z"
    }
   },
   "cell_type": "code",
   "source": "OUTPUT = \"Presence_TV\"",
   "id": "9924b8976bd18e89",
   "outputs": [],
   "execution_count": 3
  },
  {
   "metadata": {
    "ExecuteTime": {
     "end_time": "2024-12-14T15:43:59.160780Z",
     "start_time": "2024-12-14T15:43:59.150908Z"
    }
   },
   "cell_type": "code",
   "source": "dataset.value_counts(OUTPUT)",
   "id": "586f6f115319eba3",
   "outputs": [
    {
     "data": {
      "text/plain": [
       "Presence_TV\n",
       " 0.0    8809\n",
       " 1.0    1907\n",
       "-1.0       2\n",
       "Name: count, dtype: int64"
      ]
     },
     "execution_count": 4,
     "metadata": {},
     "output_type": "execute_result"
    }
   ],
   "execution_count": 4
  },
  {
   "metadata": {},
   "cell_type": "markdown",
   "source": "### Categorized Features",
   "id": "293154fa6ea4fdd0"
  },
  {
   "metadata": {
    "ExecuteTime": {
     "end_time": "2024-12-14T15:43:59.456819Z",
     "start_time": "2024-12-14T15:43:59.382051Z"
    }
   },
   "cell_type": "code",
   "source": [
    "categorized_features = ['Education_level_HHH',\n",
    "                        'Socio_status_HHH',\n",
    "                        'Tariff_payment_frequency',\n",
    "                        'HH_with_home_business',\n",
    "                        'Ownership_motorized_vehicle',\n",
    "                        'Ownership_small_livestock',\n",
    "                        'Ownership_large_livestock',\n",
    "                        'Clean_fuel',\n",
    "                        ]\n",
    "\n",
    "for feature in categorized_features:\n",
    "    dataset = dataset.apply(cleaning.add_one_hot_encoding(feature))\n",
    "\n",
    "dataset.preview()"
   ],
   "id": "e0799fe806f7273c",
   "outputs": [
    {
     "data": {
      "text/plain": [
       "   Unnamed: 0      ID  Years_of_HHH_in_community  Dwelling_quality_index  \\\n",
       "0           0  1001_3                         -1                       0   \n",
       "1           1  1001_3                         -1                       0   \n",
       "2           2  1026_3                         20                       0   \n",
       "3           3  1026_3                         20                       0   \n",
       "4           4  1027_2                         15                       0   \n",
       "\n",
       "   Hours_available_electricity  Measurement_age  Monthly_expenditure  \\\n",
       "0                           -1             -1.0              63600.0   \n",
       "1                           -1             -1.0              63600.0   \n",
       "2                           -1             -1.0              65400.0   \n",
       "3                           -1             -1.0              65400.0   \n",
       "4                           -1             -1.0                 -1.0   \n",
       "\n",
       "   Number_of_rooms  Climate_zone_lev_1  Climate_zone_lev_2  ...  \\\n",
       "0                3                 3.0                -1.0  ...   \n",
       "1                3                 3.0                -1.0  ...   \n",
       "2                3                 3.0                 3.0  ...   \n",
       "3                3                 3.0                 3.0  ...   \n",
       "4                2                 3.0                 3.0  ...   \n",
       "\n",
       "   Ownership_motorized_vehicle_missing  Ownership_small_livestock_No  \\\n",
       "0                                False                         False   \n",
       "1                                False                         False   \n",
       "2                                False                         False   \n",
       "3                                False                         False   \n",
       "4                                False                         False   \n",
       "\n",
       "   Ownership_small_livestock_Yes  Ownership_small_livestock_missing  \\\n",
       "0                           True                              False   \n",
       "1                           True                              False   \n",
       "2                           True                              False   \n",
       "3                           True                              False   \n",
       "4                           True                              False   \n",
       "\n",
       "   Ownership_large_livestock_No  Ownership_large_livestock_Yes  \\\n",
       "0                          True                          False   \n",
       "1                          True                          False   \n",
       "2                         False                           True   \n",
       "3                         False                           True   \n",
       "4                         False                           True   \n",
       "\n",
       "   Ownership_large_livestock_missing  Clean_fuel_No  Clean_fuel_Yes  \\\n",
       "0                              False           True           False   \n",
       "1                              False           True           False   \n",
       "2                              False           True           False   \n",
       "3                              False           True           False   \n",
       "4                              False           True           False   \n",
       "\n",
       "   Clean_fuel_missing  \n",
       "0               False  \n",
       "1               False  \n",
       "2               False  \n",
       "3               False  \n",
       "4               False  \n",
       "\n",
       "[5 rows x 73 columns]"
      ],
      "text/html": [
       "<div>\n",
       "<style scoped>\n",
       "    .dataframe tbody tr th:only-of-type {\n",
       "        vertical-align: middle;\n",
       "    }\n",
       "\n",
       "    .dataframe tbody tr th {\n",
       "        vertical-align: top;\n",
       "    }\n",
       "\n",
       "    .dataframe thead th {\n",
       "        text-align: right;\n",
       "    }\n",
       "</style>\n",
       "<table border=\"1\" class=\"dataframe\">\n",
       "  <thead>\n",
       "    <tr style=\"text-align: right;\">\n",
       "      <th></th>\n",
       "      <th>Unnamed: 0</th>\n",
       "      <th>ID</th>\n",
       "      <th>Years_of_HHH_in_community</th>\n",
       "      <th>Dwelling_quality_index</th>\n",
       "      <th>Hours_available_electricity</th>\n",
       "      <th>Measurement_age</th>\n",
       "      <th>Monthly_expenditure</th>\n",
       "      <th>Number_of_rooms</th>\n",
       "      <th>Climate_zone_lev_1</th>\n",
       "      <th>Climate_zone_lev_2</th>\n",
       "      <th>...</th>\n",
       "      <th>Ownership_motorized_vehicle_missing</th>\n",
       "      <th>Ownership_small_livestock_No</th>\n",
       "      <th>Ownership_small_livestock_Yes</th>\n",
       "      <th>Ownership_small_livestock_missing</th>\n",
       "      <th>Ownership_large_livestock_No</th>\n",
       "      <th>Ownership_large_livestock_Yes</th>\n",
       "      <th>Ownership_large_livestock_missing</th>\n",
       "      <th>Clean_fuel_No</th>\n",
       "      <th>Clean_fuel_Yes</th>\n",
       "      <th>Clean_fuel_missing</th>\n",
       "    </tr>\n",
       "  </thead>\n",
       "  <tbody>\n",
       "    <tr>\n",
       "      <th>0</th>\n",
       "      <td>0</td>\n",
       "      <td>1001_3</td>\n",
       "      <td>-1</td>\n",
       "      <td>0</td>\n",
       "      <td>-1</td>\n",
       "      <td>-1.0</td>\n",
       "      <td>63600.0</td>\n",
       "      <td>3</td>\n",
       "      <td>3.0</td>\n",
       "      <td>-1.0</td>\n",
       "      <td>...</td>\n",
       "      <td>False</td>\n",
       "      <td>False</td>\n",
       "      <td>True</td>\n",
       "      <td>False</td>\n",
       "      <td>True</td>\n",
       "      <td>False</td>\n",
       "      <td>False</td>\n",
       "      <td>True</td>\n",
       "      <td>False</td>\n",
       "      <td>False</td>\n",
       "    </tr>\n",
       "    <tr>\n",
       "      <th>1</th>\n",
       "      <td>1</td>\n",
       "      <td>1001_3</td>\n",
       "      <td>-1</td>\n",
       "      <td>0</td>\n",
       "      <td>-1</td>\n",
       "      <td>-1.0</td>\n",
       "      <td>63600.0</td>\n",
       "      <td>3</td>\n",
       "      <td>3.0</td>\n",
       "      <td>-1.0</td>\n",
       "      <td>...</td>\n",
       "      <td>False</td>\n",
       "      <td>False</td>\n",
       "      <td>True</td>\n",
       "      <td>False</td>\n",
       "      <td>True</td>\n",
       "      <td>False</td>\n",
       "      <td>False</td>\n",
       "      <td>True</td>\n",
       "      <td>False</td>\n",
       "      <td>False</td>\n",
       "    </tr>\n",
       "    <tr>\n",
       "      <th>2</th>\n",
       "      <td>2</td>\n",
       "      <td>1026_3</td>\n",
       "      <td>20</td>\n",
       "      <td>0</td>\n",
       "      <td>-1</td>\n",
       "      <td>-1.0</td>\n",
       "      <td>65400.0</td>\n",
       "      <td>3</td>\n",
       "      <td>3.0</td>\n",
       "      <td>3.0</td>\n",
       "      <td>...</td>\n",
       "      <td>False</td>\n",
       "      <td>False</td>\n",
       "      <td>True</td>\n",
       "      <td>False</td>\n",
       "      <td>False</td>\n",
       "      <td>True</td>\n",
       "      <td>False</td>\n",
       "      <td>True</td>\n",
       "      <td>False</td>\n",
       "      <td>False</td>\n",
       "    </tr>\n",
       "    <tr>\n",
       "      <th>3</th>\n",
       "      <td>3</td>\n",
       "      <td>1026_3</td>\n",
       "      <td>20</td>\n",
       "      <td>0</td>\n",
       "      <td>-1</td>\n",
       "      <td>-1.0</td>\n",
       "      <td>65400.0</td>\n",
       "      <td>3</td>\n",
       "      <td>3.0</td>\n",
       "      <td>3.0</td>\n",
       "      <td>...</td>\n",
       "      <td>False</td>\n",
       "      <td>False</td>\n",
       "      <td>True</td>\n",
       "      <td>False</td>\n",
       "      <td>False</td>\n",
       "      <td>True</td>\n",
       "      <td>False</td>\n",
       "      <td>True</td>\n",
       "      <td>False</td>\n",
       "      <td>False</td>\n",
       "    </tr>\n",
       "    <tr>\n",
       "      <th>4</th>\n",
       "      <td>4</td>\n",
       "      <td>1027_2</td>\n",
       "      <td>15</td>\n",
       "      <td>0</td>\n",
       "      <td>-1</td>\n",
       "      <td>-1.0</td>\n",
       "      <td>-1.0</td>\n",
       "      <td>2</td>\n",
       "      <td>3.0</td>\n",
       "      <td>3.0</td>\n",
       "      <td>...</td>\n",
       "      <td>False</td>\n",
       "      <td>False</td>\n",
       "      <td>True</td>\n",
       "      <td>False</td>\n",
       "      <td>False</td>\n",
       "      <td>True</td>\n",
       "      <td>False</td>\n",
       "      <td>True</td>\n",
       "      <td>False</td>\n",
       "      <td>False</td>\n",
       "    </tr>\n",
       "  </tbody>\n",
       "</table>\n",
       "<p>5 rows × 73 columns</p>\n",
       "</div>"
      ]
     },
     "execution_count": 5,
     "metadata": {},
     "output_type": "execute_result"
    }
   ],
   "execution_count": 5
  },
  {
   "metadata": {},
   "cell_type": "markdown",
   "source": "### Features Selection",
   "id": "4090a48273768002"
  },
  {
   "metadata": {
    "ExecuteTime": {
     "end_time": "2024-12-14T15:43:59.539773Z",
     "start_time": "2024-12-14T15:43:59.533172Z"
    }
   },
   "cell_type": "code",
   "source": "dataset.get_columns()",
   "id": "bf068db3e0f09186",
   "outputs": [
    {
     "data": {
      "text/plain": [
       "['Unnamed: 0',\n",
       " 'ID',\n",
       " 'Years_of_HHH_in_community',\n",
       " 'Dwelling_quality_index',\n",
       " 'Hours_available_electricity',\n",
       " 'Measurement_age',\n",
       " 'Monthly_expenditure',\n",
       " 'Number_of_rooms',\n",
       " 'Climate_zone_lev_1',\n",
       " 'Climate_zone_lev_2',\n",
       " 'Age_HHH',\n",
       " 'Number_adults',\n",
       " 'Presence_refrigerator/freezer',\n",
       " 'Presence_iron',\n",
       " 'Presence_fan',\n",
       " 'Presence_DVD_player',\n",
       " 'Presence_radio/stereo',\n",
       " 'Presence_phone_charger',\n",
       " 'Presence_TV',\n",
       " 'Years_of_HHH_in_community_missing',\n",
       " 'Dwelling_quality_index_missing',\n",
       " 'Hours_available_electricity_missing',\n",
       " 'Measurement_age_missing',\n",
       " 'Monthly_expenditure_missing',\n",
       " 'Number_of_rooms_missing',\n",
       " 'Climate_zone_lev_1_missing',\n",
       " 'Climate_zone_lev_2_missing',\n",
       " 'Age_HHH_missing',\n",
       " 'Number_adults_missing',\n",
       " \"Education_level_HHH_Bachelor's or equivalent level\",\n",
       " 'Education_level_HHH_Doctoral or equivalent level',\n",
       " 'Education_level_HHH_Lower secondary education',\n",
       " \"Education_level_HHH_Master's or equivalent level\",\n",
       " 'Education_level_HHH_No schooling',\n",
       " 'Education_level_HHH_Not elsewhere classified',\n",
       " 'Education_level_HHH_Other',\n",
       " 'Education_level_HHH_Post-secondary non-tertiary education',\n",
       " 'Education_level_HHH_Primary education',\n",
       " 'Education_level_HHH_Secondary education',\n",
       " 'Education_level_HHH_Short-cycle tertiary education',\n",
       " 'Education_level_HHH_Upper secondary education',\n",
       " 'Socio_status_HHH_Contributing family worker',\n",
       " 'Socio_status_HHH_Employee',\n",
       " 'Socio_status_HHH_Employee farm',\n",
       " 'Socio_status_HHH_Employee non-farm',\n",
       " 'Socio_status_HHH_Employer',\n",
       " 'Socio_status_HHH_Other',\n",
       " 'Socio_status_HHH_Own-account worker farm',\n",
       " 'Socio_status_HHH_Own-account worker non-farm',\n",
       " 'Socio_status_HHH_Unemployed',\n",
       " 'Socio_status_HHH_Worker not classifiable by status',\n",
       " 'Tariff_payment_frequency_Every 2 weeks',\n",
       " 'Tariff_payment_frequency_Every 3 months',\n",
       " 'Tariff_payment_frequency_Every 6 months',\n",
       " 'Tariff_payment_frequency_Monthly',\n",
       " 'Tariff_payment_frequency_No bill',\n",
       " 'Tariff_payment_frequency_Other',\n",
       " 'Tariff_payment_frequency_Weekly',\n",
       " 'HH_with_home_business_No',\n",
       " 'HH_with_home_business_Yes',\n",
       " 'HH_with_home_business_missing',\n",
       " 'Ownership_motorized_vehicle_No',\n",
       " 'Ownership_motorized_vehicle_Yes',\n",
       " 'Ownership_motorized_vehicle_missing',\n",
       " 'Ownership_small_livestock_No',\n",
       " 'Ownership_small_livestock_Yes',\n",
       " 'Ownership_small_livestock_missing',\n",
       " 'Ownership_large_livestock_No',\n",
       " 'Ownership_large_livestock_Yes',\n",
       " 'Ownership_large_livestock_missing',\n",
       " 'Clean_fuel_No',\n",
       " 'Clean_fuel_Yes',\n",
       " 'Clean_fuel_missing']"
      ]
     },
     "execution_count": 6,
     "metadata": {},
     "output_type": "execute_result"
    }
   ],
   "execution_count": 6
  },
  {
   "metadata": {
    "ExecuteTime": {
     "end_time": "2024-12-14T15:43:59.822955Z",
     "start_time": "2024-12-14T15:43:59.815056Z"
    }
   },
   "cell_type": "code",
   "source": [
    "Features = [\n",
    "    #    'Education_level_HHH',\n",
    "    'Education_level_HHH_Doctoral or equivalent level',\n",
    "    'Education_level_HHH_Lower secondary education',\n",
    "    \"Education_level_HHH_Master's or equivalent level\",\n",
    "    'Education_level_HHH_No schooling',\n",
    "    'Education_level_HHH_Not elsewhere classified',\n",
    "    'Education_level_HHH_Other',\n",
    "    'Education_level_HHH_Post-secondary non-tertiary education',\n",
    "    'Education_level_HHH_Primary education',\n",
    "    'Education_level_HHH_Secondary education',\n",
    "    'Education_level_HHH_Short-cycle tertiary education',\n",
    "    'Education_level_HHH_Upper secondary education',\n",
    "    # 'Socio_status_HHH',\n",
    "    'Socio_status_HHH_Employee', 'Socio_status_HHH_Employee farm',\n",
    "    'Socio_status_HHH_Employee non-farm', 'Socio_status_HHH_Employer',\n",
    "    'Socio_status_HHH_Other', 'Socio_status_HHH_Own-account worker farm',\n",
    "    'Socio_status_HHH_Own-account worker non-farm',\n",
    "    'Socio_status_HHH_Unemployed',\n",
    "    'Socio_status_HHH_Worker not classifiable by status',\n",
    "    # 'Tariff_payment_frequency',\n",
    "    'Tariff_payment_frequency_Every 3 months',\n",
    "    'Tariff_payment_frequency_Every 6 months',\n",
    "    'Tariff_payment_frequency_Monthly', 'Tariff_payment_frequency_No bill',\n",
    "    'Tariff_payment_frequency_Other', 'Tariff_payment_frequency_Weekly',\n",
    "\n",
    "    'HH_with_home_business_Yes',\n",
    "    'HH_with_home_business_No',\n",
    "    'HH_with_home_business_missing',\n",
    "\n",
    "    'Ownership_motorized_vehicle_Yes',\n",
    "    'Ownership_large_livestock_No',\n",
    "    'Ownership_motorized_vehicle_missing',\n",
    "\n",
    "    'Ownership_small_livestock_Yes',\n",
    "    'Ownership_small_livestock_No',\n",
    "    'Ownership_small_livestock_missing',\n",
    "\n",
    "    'Ownership_large_livestock_Yes',\n",
    "    'Ownership_large_livestock_No',\n",
    "    'Ownership_large_livestock_missing',\n",
    "\n",
    "    'Clean_fuel_Yes',\n",
    "    'Clean_fuel_No',\n",
    "    'Clean_fuel_missing',\n",
    "\n",
    "    'Years_of_HHH_in_community',\n",
    "    'Years_of_HHH_in_community_missing',\n",
    "\n",
    "    'Dwelling_quality_index',\n",
    "    'Dwelling_quality_index_missing',\n",
    "\n",
    "    'Hours_available_electricity',\n",
    "    'Hours_available_electricity_missing',\n",
    "\n",
    "    'Measurement_age',\n",
    "    'Measurement_age_missing',\n",
    "\n",
    "    'Monthly_expenditure',\n",
    "    'Monthly_expenditure_missing',\n",
    "\n",
    "    'Number_of_rooms',\n",
    "    'Number_of_rooms_missing',\n",
    "    'Climate_zone_lev_1',\n",
    "    'Climate_zone_lev_1_missing',\n",
    "\n",
    "    'Climate_zone_lev_2',\n",
    "    'Climate_zone_lev_2_missing',\n",
    "\n",
    "    'Age_HHH',\n",
    "    'Age_HHH_missing',\n",
    "\n",
    "    'Number_adults',\n",
    "    'Number_adults_missing'\n",
    "]\n",
    "\n",
    "FEATURE_NUM = len(Features)"
   ],
   "id": "d06756f51551672",
   "outputs": [],
   "execution_count": 7
  },
  {
   "metadata": {
    "ExecuteTime": {
     "end_time": "2024-12-14T15:43:59.955937Z",
     "start_time": "2024-12-14T15:43:59.935095Z"
    }
   },
   "cell_type": "code",
   "source": [
    "dataset = dataset.apply(cleaning.remove_row(OUTPUT, -1))\n",
    "dataset.value_counts(OUTPUT)"
   ],
   "id": "90f1638a136e1d18",
   "outputs": [
    {
     "data": {
      "text/plain": [
       "Presence_TV\n",
       "0.0    8809\n",
       "1.0    1907\n",
       "Name: count, dtype: int64"
      ]
     },
     "execution_count": 8,
     "metadata": {},
     "output_type": "execute_result"
    }
   ],
   "execution_count": 8
  },
  {
   "metadata": {
    "ExecuteTime": {
     "end_time": "2024-12-14T15:44:00.099153Z",
     "start_time": "2024-12-14T15:44:00.091136Z"
    }
   },
   "cell_type": "code",
   "source": [
    "total = len(dataset)\n",
    "positive = dataset.value_counts(OUTPUT)[1]\n",
    "negative = total - positive\n",
    "\n",
    "print(f\"Positive: {positive/total}, Negative: {negative/total}\")\n"
   ],
   "id": "1cf452a144faa4d2",
   "outputs": [
    {
     "name": "stdout",
     "output_type": "stream",
     "text": [
      "Positive: 0.17795819335572974, Negative: 0.8220418066442703\n"
     ]
    }
   ],
   "execution_count": 9
  },
  {
   "metadata": {
    "ExecuteTime": {
     "end_time": "2024-12-14T15:44:00.345330Z",
     "start_time": "2024-12-14T15:44:00.333471Z"
    }
   },
   "cell_type": "code",
   "source": "X, y = dataset.to_numpy(Features, [OUTPUT])",
   "id": "fdacf0a6b91cfd69",
   "outputs": [],
   "execution_count": 10
  },
  {
   "metadata": {
    "ExecuteTime": {
     "end_time": "2024-12-14T15:44:00.477893Z",
     "start_time": "2024-12-14T15:44:00.470534Z"
    }
   },
   "cell_type": "code",
   "source": "X.shape, y.shape",
   "id": "4e6d7509b154fe6",
   "outputs": [
    {
     "data": {
      "text/plain": [
       "((10716, 61), (10716, 1))"
      ]
     },
     "execution_count": 11,
     "metadata": {},
     "output_type": "execute_result"
    }
   ],
   "execution_count": 11
  },
  {
   "metadata": {},
   "cell_type": "markdown",
   "source": [
    "### Imbalanced Dataset Handling\n",
    "We use SMOTE to oversample the minority class.\n",
    "https://imbalanced-learn.org/stable/index.html"
   ],
   "id": "68cffc2f3f050485"
  },
  {
   "metadata": {
    "ExecuteTime": {
     "end_time": "2024-12-14T15:44:01.653300Z",
     "start_time": "2024-12-14T15:44:00.648155Z"
    }
   },
   "cell_type": "code",
   "source": [
    "from imblearn.over_sampling import SMOTE\n",
    "\n",
    "# Apply SMOTE (oversampling)\n",
    "smote = SMOTE(sampling_strategy='auto', random_state=42)\n",
    "X_resampled, y_resampled = smote.fit_resample(X, y)\n",
    "y_resampled = y_resampled.reshape(-1, 1)\n",
    "print(X_resampled.shape, y_resampled.shape)"
   ],
   "id": "133da5ea6124177c",
   "outputs": [
    {
     "name": "stdout",
     "output_type": "stream",
     "text": [
      "(17618, 61) (17618, 1)\n"
     ]
    }
   ],
   "execution_count": 12
  },
  {
   "metadata": {
    "ExecuteTime": {
     "end_time": "2024-12-14T15:44:01.794655Z",
     "start_time": "2024-12-14T15:44:01.697761Z"
    }
   },
   "cell_type": "code",
   "source": [
    "dataset_resampled = tf.data.Dataset.from_tensor_slices((X_resampled, y_resampled))\n",
    "for i, j in dataset_resampled:\n",
    "    print(i.shape, j.shape)\n",
    "    break"
   ],
   "id": "e26c05bb1b339b3b",
   "outputs": [
    {
     "name": "stdout",
     "output_type": "stream",
     "text": [
      "(61,) (1,)\n"
     ]
    }
   ],
   "execution_count": 13
  },
  {
   "metadata": {
    "ExecuteTime": {
     "end_time": "2024-12-14T15:44:01.884534Z",
     "start_time": "2024-12-14T15:44:01.867617Z"
    }
   },
   "cell_type": "code",
   "source": "tf_dataset = dataset.to_tf_dataset(Features, [OUTPUT])",
   "id": "f61bc0aec36dcf5e",
   "outputs": [],
   "execution_count": 14
  },
  {
   "metadata": {},
   "cell_type": "markdown",
   "source": "## Constants and dataset splitting",
   "id": "f09478faee6a47e2"
  },
  {
   "metadata": {
    "ExecuteTime": {
     "end_time": "2024-12-14T15:44:01.969115Z",
     "start_time": "2024-12-14T15:44:01.936508Z"
    }
   },
   "cell_type": "code",
   "source": [
    "BATCH_SIZE = 8\n",
    "EPOCHS = 100\n",
    "OPTIMIZER = tf.keras.optimizers.Adam(0.001)\n",
    "LOSS = tf.keras.losses.BinaryCrossentropy()\n"
   ],
   "id": "b33a9fca399e5326",
   "outputs": [],
   "execution_count": 15
  },
  {
   "metadata": {
    "ExecuteTime": {
     "end_time": "2024-12-14T15:44:02.025166Z",
     "start_time": "2024-12-14T15:44:02.013035Z"
    }
   },
   "cell_type": "code",
   "source": [
    "from collections import Counter\n",
    "def get_class_distribution(data):\n",
    "\n",
    "    # Extract all labels from the dataset\n",
    "    all_labels = []\n",
    "\n",
    "    for _, label in data:  # Iterate over the dataset\n",
    "        all_labels.append(label.numpy())  # Convert label tensors to NumPy arrays\n",
    "\n",
    "    # Flatten the list in case labels are multi-dimensional\n",
    "    all_labels = [i[0] for k in all_labels for i in list(k)]\n",
    "    # Count occurrences of each label\n",
    "    label_counts = Counter(all_labels)\n",
    "\n",
    "    # Calculate the ratio for each label\n",
    "    total_samples = sum(label_counts.values())\n",
    "    label_ratios = {label: count / total_samples for label, count in label_counts.items()}\n",
    "\n",
    "    # Print out the labels and their ratios\n",
    "    print(\"Label Counts:\", label_counts)\n",
    "    print(\"Label Ratios:\", label_ratios)\n",
    "\n"
   ],
   "id": "ad76d09caca519cc",
   "outputs": [],
   "execution_count": 16
  },
  {
   "metadata": {},
   "cell_type": "markdown",
   "source": "we want to shuffle until we get a good distribution of the classes",
   "id": "49caffd93650e2bb"
  },
  {
   "metadata": {},
   "cell_type": "markdown",
   "source": "#### Original Dataset",
   "id": "f5d58b87a86f8234"
  },
  {
   "metadata": {
    "ExecuteTime": {
     "end_time": "2024-12-14T15:44:02.713834Z",
     "start_time": "2024-12-14T15:44:02.063498Z"
    }
   },
   "cell_type": "code",
   "source": [
    "ds = tf_dataset.shuffle(9001).batch(BATCH_SIZE)\n",
    "ds_resampled = dataset_resampled.shuffle(9001).batch(BATCH_SIZE)\n",
    "\n",
    "print(\"Training\")\n",
    "print(\"Distribution of the original dataset\", len(ds))\n",
    "get_class_distribution(ds)\n",
    "\n",
    "print(\"Distribution of the resampled dataset\", len(ds_resampled))\n",
    "get_class_distribution(ds_resampled)\n",
    "\n"
   ],
   "id": "3bb1a02541b6c6e",
   "outputs": [
    {
     "name": "stdout",
     "output_type": "stream",
     "text": [
      "Training\n",
      "Distribution of the original dataset 1340\n",
      "Label Counts: Counter({0.0: 8809, 1.0: 1907})\n",
      "Label Ratios: {0.0: 0.8220418066442703, 1.0: 0.17795819335572974}\n",
      "Distribution of the resampled dataset 2203\n",
      "Label Counts: Counter({0.0: 8809, 1.0: 8809})\n",
      "Label Ratios: {0.0: 0.5, 1.0: 0.5}\n"
     ]
    }
   ],
   "execution_count": 17
  },
  {
   "metadata": {},
   "cell_type": "markdown",
   "source": "### Splitting",
   "id": "e1a26bbe2e875463"
  },
  {
   "metadata": {
    "ExecuteTime": {
     "end_time": "2024-12-14T15:44:03.291251Z",
     "start_time": "2024-12-14T15:44:02.737826Z"
    }
   },
   "cell_type": "code",
   "source": [
    "LEN = len(ds_resampled)\n",
    "train_len = int(0.8 * LEN)\n",
    "val_size = int(0.1 * LEN)\n",
    "test_size = int(0.1 * LEN)\n",
    "\n",
    "train_ds = ds_resampled.take(train_len)\n",
    "val_ds = ds_resampled.skip(train_len).take(val_size)\n",
    "test_ds = ds_resampled.skip(train_len + val_size).take(test_size)\n",
    "\n",
    "print(\"Training size\", len(train_ds))\n",
    "get_class_distribution(train_ds)\n",
    "print(\"Validation size\", len(val_ds))\n",
    "get_class_distribution(val_ds)\n",
    "print(\"Test size\", len(test_ds))\n",
    "get_class_distribution(test_ds)\n"
   ],
   "id": "c82fb6ee6ed81db",
   "outputs": [
    {
     "name": "stdout",
     "output_type": "stream",
     "text": [
      "Training size 1762\n",
      "Label Counts: Counter({0.0: 7506, 1.0: 6590})\n",
      "Label Ratios: {0.0: 0.5324914869466515, 1.0: 0.46750851305334845}\n",
      "Validation size 220\n",
      "Label Counts: Counter({1.0: 1099, 0.0: 661})\n",
      "Label Ratios: {1.0: 0.6244318181818181, 0.0: 0.3755681818181818}\n",
      "Test size 220\n",
      "Label Counts: Counter({1.0: 1091, 0.0: 669})\n",
      "Label Ratios: {0.0: 0.3801136363636364, 1.0: 0.6198863636363636}\n"
     ]
    }
   ],
   "execution_count": 18
  },
  {
   "metadata": {},
   "cell_type": "markdown",
   "source": "## Model",
   "id": "1bbda1ca2b2af7e9"
  },
  {
   "metadata": {
    "ExecuteTime": {
     "end_time": "2024-12-14T15:44:03.516249Z",
     "start_time": "2024-12-14T15:44:03.330678Z"
    }
   },
   "cell_type": "code",
   "source": [
    "model = tf.keras.Sequential([\n",
    "    tf.keras.layers.Input(shape=(FEATURE_NUM,)),\n",
    "    tf.keras.layers.Dense(128, activation='relu'),\n",
    "    tf.keras.layers.Dense(128, activation='relu'),\n",
    "    tf.keras.layers.Dense(128, activation='relu'),\n",
    "    tf.keras.layers.Dense(1, activation='sigmoid')\n",
    "])\n",
    "model.compile(optimizer=OPTIMIZER, loss=LOSS, metrics=['accuracy', 'precision', 'recall'])\n",
    "model.summary()"
   ],
   "id": "662cc3d113b9bc77",
   "outputs": [
    {
     "data": {
      "text/plain": [
       "\u001B[1mModel: \"sequential\"\u001B[0m\n"
      ],
      "text/html": [
       "<pre style=\"white-space:pre;overflow-x:auto;line-height:normal;font-family:Menlo,'DejaVu Sans Mono',consolas,'Courier New',monospace\"><span style=\"font-weight: bold\">Model: \"sequential\"</span>\n",
       "</pre>\n"
      ]
     },
     "metadata": {},
     "output_type": "display_data"
    },
    {
     "data": {
      "text/plain": [
       "┏━━━━━━━━━━━━━━━━━━━━━━━━━━━━━━━━━┳━━━━━━━━━━━━━━━━━━━━━━━━┳━━━━━━━━━━━━━━━┓\n",
       "┃\u001B[1m \u001B[0m\u001B[1mLayer (type)                   \u001B[0m\u001B[1m \u001B[0m┃\u001B[1m \u001B[0m\u001B[1mOutput Shape          \u001B[0m\u001B[1m \u001B[0m┃\u001B[1m \u001B[0m\u001B[1m      Param #\u001B[0m\u001B[1m \u001B[0m┃\n",
       "┡━━━━━━━━━━━━━━━━━━━━━━━━━━━━━━━━━╇━━━━━━━━━━━━━━━━━━━━━━━━╇━━━━━━━━━━━━━━━┩\n",
       "│ dense (\u001B[38;5;33mDense\u001B[0m)                   │ (\u001B[38;5;45mNone\u001B[0m, \u001B[38;5;34m128\u001B[0m)            │         \u001B[38;5;34m7,936\u001B[0m │\n",
       "├─────────────────────────────────┼────────────────────────┼───────────────┤\n",
       "│ dense_1 (\u001B[38;5;33mDense\u001B[0m)                 │ (\u001B[38;5;45mNone\u001B[0m, \u001B[38;5;34m128\u001B[0m)            │        \u001B[38;5;34m16,512\u001B[0m │\n",
       "├─────────────────────────────────┼────────────────────────┼───────────────┤\n",
       "│ dense_2 (\u001B[38;5;33mDense\u001B[0m)                 │ (\u001B[38;5;45mNone\u001B[0m, \u001B[38;5;34m128\u001B[0m)            │        \u001B[38;5;34m16,512\u001B[0m │\n",
       "├─────────────────────────────────┼────────────────────────┼───────────────┤\n",
       "│ dense_3 (\u001B[38;5;33mDense\u001B[0m)                 │ (\u001B[38;5;45mNone\u001B[0m, \u001B[38;5;34m1\u001B[0m)              │           \u001B[38;5;34m129\u001B[0m │\n",
       "└─────────────────────────────────┴────────────────────────┴───────────────┘\n"
      ],
      "text/html": [
       "<pre style=\"white-space:pre;overflow-x:auto;line-height:normal;font-family:Menlo,'DejaVu Sans Mono',consolas,'Courier New',monospace\">┏━━━━━━━━━━━━━━━━━━━━━━━━━━━━━━━━━┳━━━━━━━━━━━━━━━━━━━━━━━━┳━━━━━━━━━━━━━━━┓\n",
       "┃<span style=\"font-weight: bold\"> Layer (type)                    </span>┃<span style=\"font-weight: bold\"> Output Shape           </span>┃<span style=\"font-weight: bold\">       Param # </span>┃\n",
       "┡━━━━━━━━━━━━━━━━━━━━━━━━━━━━━━━━━╇━━━━━━━━━━━━━━━━━━━━━━━━╇━━━━━━━━━━━━━━━┩\n",
       "│ dense (<span style=\"color: #0087ff; text-decoration-color: #0087ff\">Dense</span>)                   │ (<span style=\"color: #00d7ff; text-decoration-color: #00d7ff\">None</span>, <span style=\"color: #00af00; text-decoration-color: #00af00\">128</span>)            │         <span style=\"color: #00af00; text-decoration-color: #00af00\">7,936</span> │\n",
       "├─────────────────────────────────┼────────────────────────┼───────────────┤\n",
       "│ dense_1 (<span style=\"color: #0087ff; text-decoration-color: #0087ff\">Dense</span>)                 │ (<span style=\"color: #00d7ff; text-decoration-color: #00d7ff\">None</span>, <span style=\"color: #00af00; text-decoration-color: #00af00\">128</span>)            │        <span style=\"color: #00af00; text-decoration-color: #00af00\">16,512</span> │\n",
       "├─────────────────────────────────┼────────────────────────┼───────────────┤\n",
       "│ dense_2 (<span style=\"color: #0087ff; text-decoration-color: #0087ff\">Dense</span>)                 │ (<span style=\"color: #00d7ff; text-decoration-color: #00d7ff\">None</span>, <span style=\"color: #00af00; text-decoration-color: #00af00\">128</span>)            │        <span style=\"color: #00af00; text-decoration-color: #00af00\">16,512</span> │\n",
       "├─────────────────────────────────┼────────────────────────┼───────────────┤\n",
       "│ dense_3 (<span style=\"color: #0087ff; text-decoration-color: #0087ff\">Dense</span>)                 │ (<span style=\"color: #00d7ff; text-decoration-color: #00d7ff\">None</span>, <span style=\"color: #00af00; text-decoration-color: #00af00\">1</span>)              │           <span style=\"color: #00af00; text-decoration-color: #00af00\">129</span> │\n",
       "└─────────────────────────────────┴────────────────────────┴───────────────┘\n",
       "</pre>\n"
      ]
     },
     "metadata": {},
     "output_type": "display_data"
    },
    {
     "data": {
      "text/plain": [
       "\u001B[1m Total params: \u001B[0m\u001B[38;5;34m41,089\u001B[0m (160.50 KB)\n"
      ],
      "text/html": [
       "<pre style=\"white-space:pre;overflow-x:auto;line-height:normal;font-family:Menlo,'DejaVu Sans Mono',consolas,'Courier New',monospace\"><span style=\"font-weight: bold\"> Total params: </span><span style=\"color: #00af00; text-decoration-color: #00af00\">41,089</span> (160.50 KB)\n",
       "</pre>\n"
      ]
     },
     "metadata": {},
     "output_type": "display_data"
    },
    {
     "data": {
      "text/plain": [
       "\u001B[1m Trainable params: \u001B[0m\u001B[38;5;34m41,089\u001B[0m (160.50 KB)\n"
      ],
      "text/html": [
       "<pre style=\"white-space:pre;overflow-x:auto;line-height:normal;font-family:Menlo,'DejaVu Sans Mono',consolas,'Courier New',monospace\"><span style=\"font-weight: bold\"> Trainable params: </span><span style=\"color: #00af00; text-decoration-color: #00af00\">41,089</span> (160.50 KB)\n",
       "</pre>\n"
      ]
     },
     "metadata": {},
     "output_type": "display_data"
    },
    {
     "data": {
      "text/plain": [
       "\u001B[1m Non-trainable params: \u001B[0m\u001B[38;5;34m0\u001B[0m (0.00 B)\n"
      ],
      "text/html": [
       "<pre style=\"white-space:pre;overflow-x:auto;line-height:normal;font-family:Menlo,'DejaVu Sans Mono',consolas,'Courier New',monospace\"><span style=\"font-weight: bold\"> Non-trainable params: </span><span style=\"color: #00af00; text-decoration-color: #00af00\">0</span> (0.00 B)\n",
       "</pre>\n"
      ]
     },
     "metadata": {},
     "output_type": "display_data"
    }
   ],
   "execution_count": 19
  },
  {
   "metadata": {
    "ExecuteTime": {
     "end_time": "2024-12-14T15:52:31.241073Z",
     "start_time": "2024-12-14T15:44:03.578980Z"
    }
   },
   "cell_type": "code",
   "source": [
    "history = model.fit(train_ds, epochs=EPOCHS,\n",
    "\n",
    "                    validation_data=val_ds)\n"
   ],
   "id": "fc0828bd2f8c4ac",
   "outputs": [
    {
     "name": "stdout",
     "output_type": "stream",
     "text": [
      "Epoch 1/100\n",
      "\u001B[1m1762/1762\u001B[0m \u001B[32m━━━━━━━━━━━━━━━━━━━━\u001B[0m\u001B[37m\u001B[0m \u001B[1m7s\u001B[0m 3ms/step - accuracy: 0.6896 - loss: 137.6161 - precision: 0.4834 - recall: 0.5766 - val_accuracy: 0.4994 - val_loss: 0.5274 - val_precision: 0.8586 - val_recall: 0.2331\n",
      "Epoch 2/100\n",
      "\u001B[1m1762/1762\u001B[0m \u001B[32m━━━━━━━━━━━━━━━━━━━━\u001B[0m\u001B[37m\u001B[0m \u001B[1m5s\u001B[0m 3ms/step - accuracy: 0.8210 - loss: 0.4068 - precision: 0.7405 - recall: 0.5094 - val_accuracy: 0.8153 - val_loss: 0.4079 - val_precision: 0.7764 - val_recall: 0.9746\n",
      "Epoch 3/100\n",
      "\u001B[1m1762/1762\u001B[0m \u001B[32m━━━━━━━━━━━━━━━━━━━━\u001B[0m\u001B[37m\u001B[0m \u001B[1m5s\u001B[0m 3ms/step - accuracy: 0.8077 - loss: 0.3614 - precision: 0.6004 - recall: 0.8566 - val_accuracy: 0.8676 - val_loss: 0.3544 - val_precision: 0.8273 - val_recall: 0.9954\n",
      "Epoch 4/100\n",
      "\u001B[1m1762/1762\u001B[0m \u001B[32m━━━━━━━━━━━━━━━━━━━━\u001B[0m\u001B[37m\u001B[0m \u001B[1m5s\u001B[0m 3ms/step - accuracy: 0.8204 - loss: 0.3725 - precision: 0.6395 - recall: 0.9236 - val_accuracy: 0.8517 - val_loss: 0.3678 - val_precision: 0.8171 - val_recall: 0.9798\n",
      "Epoch 5/100\n",
      "\u001B[1m1762/1762\u001B[0m \u001B[32m━━━━━━━━━━━━━━━━━━━━\u001B[0m\u001B[37m\u001B[0m \u001B[1m5s\u001B[0m 3ms/step - accuracy: 0.7299 - loss: 0.7545 - precision: 0.5288 - recall: 0.6290 - val_accuracy: 0.8710 - val_loss: 0.3440 - val_precision: 0.8387 - val_recall: 0.9847\n",
      "Epoch 6/100\n",
      "\u001B[1m1762/1762\u001B[0m \u001B[32m━━━━━━━━━━━━━━━━━━━━\u001B[0m\u001B[37m\u001B[0m \u001B[1m5s\u001B[0m 3ms/step - accuracy: 0.7748 - loss: 0.3952 - precision: 0.5696 - recall: 0.9031 - val_accuracy: 0.8500 - val_loss: 0.3762 - val_precision: 0.8084 - val_recall: 0.9926\n",
      "Epoch 7/100\n",
      "\u001B[1m1762/1762\u001B[0m \u001B[32m━━━━━━━━━━━━━━━━━━━━\u001B[0m\u001B[37m\u001B[0m \u001B[1m5s\u001B[0m 3ms/step - accuracy: 0.8223 - loss: 0.3880 - precision: 0.6365 - recall: 0.9093 - val_accuracy: 0.8875 - val_loss: 0.3088 - val_precision: 0.8717 - val_recall: 0.9596\n",
      "Epoch 8/100\n",
      "\u001B[1m1762/1762\u001B[0m \u001B[32m━━━━━━━━━━━━━━━━━━━━\u001B[0m\u001B[37m\u001B[0m \u001B[1m5s\u001B[0m 3ms/step - accuracy: 0.8084 - loss: 0.6711 - precision: 0.6146 - recall: 0.9227 - val_accuracy: 0.8625 - val_loss: 0.3682 - val_precision: 0.8272 - val_recall: 0.9902\n",
      "Epoch 9/100\n",
      "\u001B[1m1762/1762\u001B[0m \u001B[32m━━━━━━━━━━━━━━━━━━━━\u001B[0m\u001B[37m\u001B[0m \u001B[1m5s\u001B[0m 3ms/step - accuracy: 0.8041 - loss: 0.4170 - precision: 0.6084 - recall: 0.9299 - val_accuracy: 0.8756 - val_loss: 0.3343 - val_precision: 0.8533 - val_recall: 0.9714\n",
      "Epoch 10/100\n",
      "\u001B[1m1762/1762\u001B[0m \u001B[32m━━━━━━━━━━━━━━━━━━━━\u001B[0m\u001B[37m\u001B[0m \u001B[1m5s\u001B[0m 3ms/step - accuracy: 0.7479 - loss: 0.5838 - precision: 0.5451 - recall: 0.8888 - val_accuracy: 0.8443 - val_loss: 0.3794 - val_precision: 0.7979 - val_recall: 0.9981\n",
      "Epoch 11/100\n",
      "\u001B[1m1762/1762\u001B[0m \u001B[32m━━━━━━━━━━━━━━━━━━━━\u001B[0m\u001B[37m\u001B[0m \u001B[1m5s\u001B[0m 3ms/step - accuracy: 0.7774 - loss: 0.3802 - precision: 0.5839 - recall: 0.8442 - val_accuracy: 0.8369 - val_loss: 0.4061 - val_precision: 0.7939 - val_recall: 0.9954\n",
      "Epoch 12/100\n",
      "\u001B[1m1762/1762\u001B[0m \u001B[32m━━━━━━━━━━━━━━━━━━━━\u001B[0m\u001B[37m\u001B[0m \u001B[1m5s\u001B[0m 3ms/step - accuracy: 0.7896 - loss: 0.3820 - precision: 0.5975 - recall: 0.7662 - val_accuracy: 0.7949 - val_loss: 0.4571 - val_precision: 0.7509 - val_recall: 0.9944\n",
      "Epoch 13/100\n",
      "\u001B[1m1762/1762\u001B[0m \u001B[32m━━━━━━━━━━━━━━━━━━━━\u001B[0m\u001B[37m\u001B[0m \u001B[1m5s\u001B[0m 3ms/step - accuracy: 0.7441 - loss: 0.4819 - precision: 0.5397 - recall: 0.6481 - val_accuracy: 0.8597 - val_loss: 0.3608 - val_precision: 0.8167 - val_recall: 0.9935\n",
      "Epoch 14/100\n",
      "\u001B[1m1762/1762\u001B[0m \u001B[32m━━━━━━━━━━━━━━━━━━━━\u001B[0m\u001B[37m\u001B[0m \u001B[1m5s\u001B[0m 3ms/step - accuracy: 0.7854 - loss: 0.3687 - precision: 0.5937 - recall: 0.8690 - val_accuracy: 0.8801 - val_loss: 0.3314 - val_precision: 0.8416 - val_recall: 0.9907\n",
      "Epoch 15/100\n",
      "\u001B[1m1762/1762\u001B[0m \u001B[32m━━━━━━━━━━━━━━━━━━━━\u001B[0m\u001B[37m\u001B[0m \u001B[1m5s\u001B[0m 3ms/step - accuracy: 0.8321 - loss: 0.4731 - precision: 0.6398 - recall: 0.9443 - val_accuracy: 0.8892 - val_loss: 0.3064 - val_precision: 0.8650 - val_recall: 0.9724\n",
      "Epoch 16/100\n",
      "\u001B[1m1762/1762\u001B[0m \u001B[32m━━━━━━━━━━━━━━━━━━━━\u001B[0m\u001B[37m\u001B[0m \u001B[1m5s\u001B[0m 3ms/step - accuracy: 0.7827 - loss: 0.4690 - precision: 0.5956 - recall: 0.8419 - val_accuracy: 0.8739 - val_loss: 0.3313 - val_precision: 0.8390 - val_recall: 0.9892\n",
      "Epoch 17/100\n",
      "\u001B[1m1762/1762\u001B[0m \u001B[32m━━━━━━━━━━━━━━━━━━━━\u001B[0m\u001B[37m\u001B[0m \u001B[1m5s\u001B[0m 3ms/step - accuracy: 0.7953 - loss: 0.3719 - precision: 0.6034 - recall: 0.8902 - val_accuracy: 0.8795 - val_loss: 0.3189 - val_precision: 0.8512 - val_recall: 0.9751\n",
      "Epoch 18/100\n",
      "\u001B[1m1762/1762\u001B[0m \u001B[32m━━━━━━━━━━━━━━━━━━━━\u001B[0m\u001B[37m\u001B[0m \u001B[1m5s\u001B[0m 3ms/step - accuracy: 0.7973 - loss: 0.3877 - precision: 0.6120 - recall: 0.8030 - val_accuracy: 0.8926 - val_loss: 0.3054 - val_precision: 0.8834 - val_recall: 0.9547\n",
      "Epoch 19/100\n",
      "\u001B[1m1762/1762\u001B[0m \u001B[32m━━━━━━━━━━━━━━━━━━━━\u001B[0m\u001B[37m\u001B[0m \u001B[1m5s\u001B[0m 3ms/step - accuracy: 0.8229 - loss: 0.7152 - precision: 0.6347 - recall: 0.9630 - val_accuracy: 0.8938 - val_loss: 0.3062 - val_precision: 0.8671 - val_recall: 0.9790\n",
      "Epoch 20/100\n",
      "\u001B[1m1762/1762\u001B[0m \u001B[32m━━━━━━━━━━━━━━━━━━━━\u001B[0m\u001B[37m\u001B[0m \u001B[1m5s\u001B[0m 3ms/step - accuracy: 0.7989 - loss: 0.4953 - precision: 0.6000 - recall: 0.9528 - val_accuracy: 0.8483 - val_loss: 0.3873 - val_precision: 0.8146 - val_recall: 0.9819\n",
      "Epoch 21/100\n",
      "\u001B[1m1762/1762\u001B[0m \u001B[32m━━━━━━━━━━━━━━━━━━━━\u001B[0m\u001B[37m\u001B[0m \u001B[1m5s\u001B[0m 3ms/step - accuracy: 0.7806 - loss: 0.3655 - precision: 0.5847 - recall: 0.8232 - val_accuracy: 0.8807 - val_loss: 0.3298 - val_precision: 0.8568 - val_recall: 0.9687\n",
      "Epoch 22/100\n",
      "\u001B[1m1762/1762\u001B[0m \u001B[32m━━━━━━━━━━━━━━━━━━━━\u001B[0m\u001B[37m\u001B[0m \u001B[1m5s\u001B[0m 3ms/step - accuracy: 0.8103 - loss: 0.7160 - precision: 0.6177 - recall: 0.9515 - val_accuracy: 0.8864 - val_loss: 0.3046 - val_precision: 0.8505 - val_recall: 0.9849\n",
      "Epoch 23/100\n",
      "\u001B[1m1762/1762\u001B[0m \u001B[32m━━━━━━━━━━━━━━━━━━━━\u001B[0m\u001B[37m\u001B[0m \u001B[1m5s\u001B[0m 3ms/step - accuracy: 0.8069 - loss: 0.5744 - precision: 0.6078 - recall: 0.9578 - val_accuracy: 0.8636 - val_loss: 0.3517 - val_precision: 0.8208 - val_recall: 0.9925\n",
      "Epoch 24/100\n",
      "\u001B[1m1762/1762\u001B[0m \u001B[32m━━━━━━━━━━━━━━━━━━━━\u001B[0m\u001B[37m\u001B[0m \u001B[1m5s\u001B[0m 3ms/step - accuracy: 0.8283 - loss: 0.3953 - precision: 0.6411 - recall: 0.9444 - val_accuracy: 0.8790 - val_loss: 0.3311 - val_precision: 0.8543 - val_recall: 0.9738\n",
      "Epoch 25/100\n",
      "\u001B[1m1762/1762\u001B[0m \u001B[32m━━━━━━━━━━━━━━━━━━━━\u001B[0m\u001B[37m\u001B[0m \u001B[1m5s\u001B[0m 3ms/step - accuracy: 0.7863 - loss: 0.5569 - precision: 0.5802 - recall: 0.8835 - val_accuracy: 0.8875 - val_loss: 0.3189 - val_precision: 0.8589 - val_recall: 0.9848\n",
      "Epoch 26/100\n",
      "\u001B[1m1762/1762\u001B[0m \u001B[32m━━━━━━━━━━━━━━━━━━━━\u001B[0m\u001B[37m\u001B[0m \u001B[1m5s\u001B[0m 3ms/step - accuracy: 0.8062 - loss: 0.3797 - precision: 0.6142 - recall: 0.9215 - val_accuracy: 0.8949 - val_loss: 0.2620 - val_precision: 0.8626 - val_recall: 0.9900\n",
      "Epoch 27/100\n",
      "\u001B[1m1762/1762\u001B[0m \u001B[32m━━━━━━━━━━━━━━━━━━━━\u001B[0m\u001B[37m\u001B[0m \u001B[1m5s\u001B[0m 3ms/step - accuracy: 0.8287 - loss: 0.4048 - precision: 0.6393 - recall: 0.9369 - val_accuracy: 0.8716 - val_loss: 0.3431 - val_precision: 0.8276 - val_recall: 0.9953\n",
      "Epoch 28/100\n",
      "\u001B[1m1762/1762\u001B[0m \u001B[32m━━━━━━━━━━━━━━━━━━━━\u001B[0m\u001B[37m\u001B[0m \u001B[1m5s\u001B[0m 3ms/step - accuracy: 0.8334 - loss: 0.4290 - precision: 0.6479 - recall: 0.9230 - val_accuracy: 0.8852 - val_loss: 0.3129 - val_precision: 0.8538 - val_recall: 0.9805\n",
      "Epoch 29/100\n",
      "\u001B[1m1762/1762\u001B[0m \u001B[32m━━━━━━━━━━━━━━━━━━━━\u001B[0m\u001B[37m\u001B[0m \u001B[1m5s\u001B[0m 3ms/step - accuracy: 0.8409 - loss: 0.3175 - precision: 0.6518 - recall: 0.9247 - val_accuracy: 0.8994 - val_loss: 0.2795 - val_precision: 0.8732 - val_recall: 0.9798\n",
      "Epoch 30/100\n",
      "\u001B[1m1762/1762\u001B[0m \u001B[32m━━━━━━━━━━━━━━━━━━━━\u001B[0m\u001B[37m\u001B[0m \u001B[1m5s\u001B[0m 3ms/step - accuracy: 0.8213 - loss: 0.3798 - precision: 0.6293 - recall: 0.9152 - val_accuracy: 0.8943 - val_loss: 0.3015 - val_precision: 0.8681 - val_recall: 0.9780\n",
      "Epoch 31/100\n",
      "\u001B[1m1762/1762\u001B[0m \u001B[32m━━━━━━━━━━━━━━━━━━━━\u001B[0m\u001B[37m\u001B[0m \u001B[1m5s\u001B[0m 3ms/step - accuracy: 0.8347 - loss: 0.3749 - precision: 0.6524 - recall: 0.9151 - val_accuracy: 0.8801 - val_loss: 0.3284 - val_precision: 0.8620 - val_recall: 0.9561\n",
      "Epoch 32/100\n",
      "\u001B[1m1762/1762\u001B[0m \u001B[32m━━━━━━━━━━━━━━━━━━━━\u001B[0m\u001B[37m\u001B[0m \u001B[1m5s\u001B[0m 3ms/step - accuracy: 0.8226 - loss: 0.4477 - precision: 0.6274 - recall: 0.9506 - val_accuracy: 0.8523 - val_loss: 0.3639 - val_precision: 0.8109 - val_recall: 0.9964\n",
      "Epoch 33/100\n",
      "\u001B[1m1762/1762\u001B[0m \u001B[32m━━━━━━━━━━━━━━━━━━━━\u001B[0m\u001B[37m\u001B[0m \u001B[1m5s\u001B[0m 3ms/step - accuracy: 0.8024 - loss: 0.4450 - precision: 0.6038 - recall: 0.9666 - val_accuracy: 0.8841 - val_loss: 0.3447 - val_precision: 0.8469 - val_recall: 0.9917\n",
      "Epoch 34/100\n",
      "\u001B[1m1762/1762\u001B[0m \u001B[32m━━━━━━━━━━━━━━━━━━━━\u001B[0m\u001B[37m\u001B[0m \u001B[1m5s\u001B[0m 3ms/step - accuracy: 0.8488 - loss: 0.3822 - precision: 0.6727 - recall: 0.9286 - val_accuracy: 0.8949 - val_loss: 0.3022 - val_precision: 0.8668 - val_recall: 0.9837\n",
      "Epoch 35/100\n",
      "\u001B[1m1762/1762\u001B[0m \u001B[32m━━━━━━━━━━━━━━━━━━━━\u001B[0m\u001B[37m\u001B[0m \u001B[1m5s\u001B[0m 3ms/step - accuracy: 0.7992 - loss: 0.4646 - precision: 0.5969 - recall: 0.9626 - val_accuracy: 0.9011 - val_loss: 0.2887 - val_precision: 0.8758 - val_recall: 0.9809\n",
      "Epoch 36/100\n",
      "\u001B[1m1762/1762\u001B[0m \u001B[32m━━━━━━━━━━━━━━━━━━━━\u001B[0m\u001B[37m\u001B[0m \u001B[1m5s\u001B[0m 3ms/step - accuracy: 0.8145 - loss: 0.3575 - precision: 0.6195 - recall: 0.9733 - val_accuracy: 0.8801 - val_loss: 0.3115 - val_precision: 0.8417 - val_recall: 0.9945\n",
      "Epoch 37/100\n",
      "\u001B[1m1762/1762\u001B[0m \u001B[32m━━━━━━━━━━━━━━━━━━━━\u001B[0m\u001B[37m\u001B[0m \u001B[1m5s\u001B[0m 3ms/step - accuracy: 0.8574 - loss: 0.3209 - precision: 0.6794 - recall: 0.9437 - val_accuracy: 0.8955 - val_loss: 0.2944 - val_precision: 0.8671 - val_recall: 0.9775\n",
      "Epoch 38/100\n",
      "\u001B[1m1762/1762\u001B[0m \u001B[32m━━━━━━━━━━━━━━━━━━━━\u001B[0m\u001B[37m\u001B[0m \u001B[1m5s\u001B[0m 3ms/step - accuracy: 0.8392 - loss: 0.3216 - precision: 0.6431 - recall: 0.9558 - val_accuracy: 0.8994 - val_loss: 0.2814 - val_precision: 0.8667 - val_recall: 0.9889\n",
      "Epoch 39/100\n",
      "\u001B[1m1762/1762\u001B[0m \u001B[32m━━━━━━━━━━━━━━━━━━━━\u001B[0m\u001B[37m\u001B[0m \u001B[1m5s\u001B[0m 3ms/step - accuracy: 0.8491 - loss: 0.4662 - precision: 0.6703 - recall: 0.9500 - val_accuracy: 0.8847 - val_loss: 0.3168 - val_precision: 0.8480 - val_recall: 0.9918\n",
      "Epoch 40/100\n",
      "\u001B[1m1762/1762\u001B[0m \u001B[32m━━━━━━━━━━━━━━━━━━━━\u001B[0m\u001B[37m\u001B[0m \u001B[1m5s\u001B[0m 3ms/step - accuracy: 0.8419 - loss: 0.5653 - precision: 0.6650 - recall: 0.9599 - val_accuracy: 0.8903 - val_loss: 0.3034 - val_precision: 0.8540 - val_recall: 0.9936\n",
      "Epoch 41/100\n",
      "\u001B[1m1762/1762\u001B[0m \u001B[32m━━━━━━━━━━━━━━━━━━━━\u001B[0m\u001B[37m\u001B[0m \u001B[1m5s\u001B[0m 3ms/step - accuracy: 0.8429 - loss: 0.3200 - precision: 0.6642 - recall: 0.9458 - val_accuracy: 0.8591 - val_loss: 0.3598 - val_precision: 0.8154 - val_recall: 0.9944\n",
      "Epoch 42/100\n",
      "\u001B[1m1762/1762\u001B[0m \u001B[32m━━━━━━━━━━━━━━━━━━━━\u001B[0m\u001B[37m\u001B[0m \u001B[1m5s\u001B[0m 3ms/step - accuracy: 0.8339 - loss: 0.3286 - precision: 0.6654 - recall: 0.8781 - val_accuracy: 0.9057 - val_loss: 0.2886 - val_precision: 0.9057 - val_recall: 0.9470\n",
      "Epoch 43/100\n",
      "\u001B[1m1762/1762\u001B[0m \u001B[32m━━━━━━━━━━━━━━━━━━━━\u001B[0m\u001B[37m\u001B[0m \u001B[1m5s\u001B[0m 3ms/step - accuracy: 0.8162 - loss: 0.3740 - precision: 0.6347 - recall: 0.7840 - val_accuracy: 0.8977 - val_loss: 0.2872 - val_precision: 0.8641 - val_recall: 0.9839\n",
      "Epoch 44/100\n",
      "\u001B[1m1762/1762\u001B[0m \u001B[32m━━━━━━━━━━━━━━━━━━━━\u001B[0m\u001B[37m\u001B[0m \u001B[1m5s\u001B[0m 3ms/step - accuracy: 0.8544 - loss: 0.4320 - precision: 0.6699 - recall: 0.9559 - val_accuracy: 0.8909 - val_loss: 0.3013 - val_precision: 0.8550 - val_recall: 0.9848\n",
      "Epoch 45/100\n",
      "\u001B[1m1762/1762\u001B[0m \u001B[32m━━━━━━━━━━━━━━━━━━━━\u001B[0m\u001B[37m\u001B[0m \u001B[1m5s\u001B[0m 3ms/step - accuracy: 0.8575 - loss: 0.3064 - precision: 0.6791 - recall: 0.9661 - val_accuracy: 0.9102 - val_loss: 0.2640 - val_precision: 0.8828 - val_recall: 0.9853\n",
      "Epoch 46/100\n",
      "\u001B[1m1762/1762\u001B[0m \u001B[32m━━━━━━━━━━━━━━━━━━━━\u001B[0m\u001B[37m\u001B[0m \u001B[1m5s\u001B[0m 3ms/step - accuracy: 0.8436 - loss: 0.3799 - precision: 0.6559 - recall: 0.9647 - val_accuracy: 0.8926 - val_loss: 0.3000 - val_precision: 0.8565 - val_recall: 0.9907\n",
      "Epoch 47/100\n",
      "\u001B[1m1762/1762\u001B[0m \u001B[32m━━━━━━━━━━━━━━━━━━━━\u001B[0m\u001B[37m\u001B[0m \u001B[1m5s\u001B[0m 3ms/step - accuracy: 0.8286 - loss: 0.3369 - precision: 0.6324 - recall: 0.9604 - val_accuracy: 0.8881 - val_loss: 0.3090 - val_precision: 0.8575 - val_recall: 0.9855\n",
      "Epoch 48/100\n",
      "\u001B[1m1762/1762\u001B[0m \u001B[32m━━━━━━━━━━━━━━━━━━━━\u001B[0m\u001B[37m\u001B[0m \u001B[1m5s\u001B[0m 3ms/step - accuracy: 0.8388 - loss: 1.6863 - precision: 0.6475 - recall: 0.9637 - val_accuracy: 0.8813 - val_loss: 0.3168 - val_precision: 0.8627 - val_recall: 0.9658\n",
      "Epoch 49/100\n",
      "\u001B[1m1762/1762\u001B[0m \u001B[32m━━━━━━━━━━━━━━━━━━━━\u001B[0m\u001B[37m\u001B[0m \u001B[1m5s\u001B[0m 3ms/step - accuracy: 0.8433 - loss: 0.3114 - precision: 0.6604 - recall: 0.9389 - val_accuracy: 0.8949 - val_loss: 0.2885 - val_precision: 0.8702 - val_recall: 0.9730\n",
      "Epoch 50/100\n",
      "\u001B[1m1762/1762\u001B[0m \u001B[32m━━━━━━━━━━━━━━━━━━━━\u001B[0m\u001B[37m\u001B[0m \u001B[1m5s\u001B[0m 3ms/step - accuracy: 0.8426 - loss: 0.4542 - precision: 0.6734 - recall: 0.8808 - val_accuracy: 0.8898 - val_loss: 0.3014 - val_precision: 0.8525 - val_recall: 0.9867\n",
      "Epoch 51/100\n",
      "\u001B[1m1762/1762\u001B[0m \u001B[32m━━━━━━━━━━━━━━━━━━━━\u001B[0m\u001B[37m\u001B[0m \u001B[1m5s\u001B[0m 3ms/step - accuracy: 0.8501 - loss: 0.3137 - precision: 0.6727 - recall: 0.9600 - val_accuracy: 0.8989 - val_loss: 0.2865 - val_precision: 0.8766 - val_recall: 0.9701\n",
      "Epoch 52/100\n",
      "\u001B[1m1762/1762\u001B[0m \u001B[32m━━━━━━━━━━━━━━━━━━━━\u001B[0m\u001B[37m\u001B[0m \u001B[1m5s\u001B[0m 3ms/step - accuracy: 0.8353 - loss: 0.5348 - precision: 0.6499 - recall: 0.9648 - val_accuracy: 0.8989 - val_loss: 0.2814 - val_precision: 0.8694 - val_recall: 0.9844\n",
      "Epoch 53/100\n",
      "\u001B[1m1762/1762\u001B[0m \u001B[32m━━━━━━━━━━━━━━━━━━━━\u001B[0m\u001B[37m\u001B[0m \u001B[1m5s\u001B[0m 3ms/step - accuracy: 0.8551 - loss: 0.3762 - precision: 0.6821 - recall: 0.9396 - val_accuracy: 0.9023 - val_loss: 0.2716 - val_precision: 0.8773 - val_recall: 0.9809\n",
      "Epoch 54/100\n",
      "\u001B[1m1762/1762\u001B[0m \u001B[32m━━━━━━━━━━━━━━━━━━━━\u001B[0m\u001B[37m\u001B[0m \u001B[1m5s\u001B[0m 3ms/step - accuracy: 0.8608 - loss: 0.3701 - precision: 0.6883 - recall: 0.9352 - val_accuracy: 0.8972 - val_loss: 0.2851 - val_precision: 0.8661 - val_recall: 0.9832\n",
      "Epoch 55/100\n",
      "\u001B[1m1762/1762\u001B[0m \u001B[32m━━━━━━━━━━━━━━━━━━━━\u001B[0m\u001B[37m\u001B[0m \u001B[1m5s\u001B[0m 3ms/step - accuracy: 0.8495 - loss: 0.3054 - precision: 0.6612 - recall: 0.9649 - val_accuracy: 0.8909 - val_loss: 0.3119 - val_precision: 0.8658 - val_recall: 0.9783\n",
      "Epoch 56/100\n",
      "\u001B[1m1762/1762\u001B[0m \u001B[32m━━━━━━━━━━━━━━━━━━━━\u001B[0m\u001B[37m\u001B[0m \u001B[1m5s\u001B[0m 3ms/step - accuracy: 0.8475 - loss: 0.3277 - precision: 0.6645 - recall: 0.9714 - val_accuracy: 0.9034 - val_loss: 0.2713 - val_precision: 0.8892 - val_recall: 0.9676\n",
      "Epoch 57/100\n",
      "\u001B[1m1762/1762\u001B[0m \u001B[32m━━━━━━━━━━━━━━━━━━━━\u001B[0m\u001B[37m\u001B[0m \u001B[1m5s\u001B[0m 3ms/step - accuracy: 0.8581 - loss: 0.3078 - precision: 0.6811 - recall: 0.9647 - val_accuracy: 0.9108 - val_loss: 0.2621 - val_precision: 0.8891 - val_recall: 0.9758\n",
      "Epoch 58/100\n",
      "\u001B[1m1762/1762\u001B[0m \u001B[32m━━━━━━━━━━━━━━━━━━━━\u001B[0m\u001B[37m\u001B[0m \u001B[1m5s\u001B[0m 3ms/step - accuracy: 0.8617 - loss: 0.3611 - precision: 0.6912 - recall: 0.9562 - val_accuracy: 0.9023 - val_loss: 0.2758 - val_precision: 0.8675 - val_recall: 0.9954\n",
      "Epoch 59/100\n",
      "\u001B[1m1762/1762\u001B[0m \u001B[32m━━━━━━━━━━━━━━━━━━━━\u001B[0m\u001B[37m\u001B[0m \u001B[1m5s\u001B[0m 3ms/step - accuracy: 0.8637 - loss: 0.3021 - precision: 0.6915 - recall: 0.9647 - val_accuracy: 0.8886 - val_loss: 0.2961 - val_precision: 0.8587 - val_recall: 0.9765\n",
      "Epoch 60/100\n",
      "\u001B[1m1762/1762\u001B[0m \u001B[32m━━━━━━━━━━━━━━━━━━━━\u001B[0m\u001B[37m\u001B[0m \u001B[1m5s\u001B[0m 3ms/step - accuracy: 0.8619 - loss: 0.2971 - precision: 0.6904 - recall: 0.9579 - val_accuracy: 0.9051 - val_loss: 0.2720 - val_precision: 0.8782 - val_recall: 0.9794\n",
      "Epoch 61/100\n",
      "\u001B[1m1762/1762\u001B[0m \u001B[32m━━━━━━━━━━━━━━━━━━━━\u001B[0m\u001B[37m\u001B[0m \u001B[1m5s\u001B[0m 3ms/step - accuracy: 0.8437 - loss: 0.9128 - precision: 0.6552 - recall: 0.9510 - val_accuracy: 0.9028 - val_loss: 0.2763 - val_precision: 0.8737 - val_recall: 0.9843\n",
      "Epoch 62/100\n",
      "\u001B[1m1762/1762\u001B[0m \u001B[32m━━━━━━━━━━━━━━━━━━━━\u001B[0m\u001B[37m\u001B[0m \u001B[1m5s\u001B[0m 3ms/step - accuracy: 0.8537 - loss: 0.2918 - precision: 0.6645 - recall: 0.9629 - val_accuracy: 0.9131 - val_loss: 0.2238 - val_precision: 0.8817 - val_recall: 0.9917\n",
      "Epoch 63/100\n",
      "\u001B[1m1762/1762\u001B[0m \u001B[32m━━━━━━━━━━━━━━━━━━━━\u001B[0m\u001B[37m\u001B[0m \u001B[1m5s\u001B[0m 3ms/step - accuracy: 0.8429 - loss: 0.4247 - precision: 0.6530 - recall: 0.9603 - val_accuracy: 0.9045 - val_loss: 0.2480 - val_precision: 0.8789 - val_recall: 0.9817\n",
      "Epoch 64/100\n",
      "\u001B[1m1762/1762\u001B[0m \u001B[32m━━━━━━━━━━━━━━━━━━━━\u001B[0m\u001B[37m\u001B[0m \u001B[1m5s\u001B[0m 3ms/step - accuracy: 0.8551 - loss: 0.5984 - precision: 0.6761 - recall: 0.9571 - val_accuracy: 0.9000 - val_loss: 0.2983 - val_precision: 0.8774 - val_recall: 0.9753\n",
      "Epoch 65/100\n",
      "\u001B[1m1762/1762\u001B[0m \u001B[32m━━━━━━━━━━━━━━━━━━━━\u001B[0m\u001B[37m\u001B[0m \u001B[1m5s\u001B[0m 3ms/step - accuracy: 0.8544 - loss: 0.3955 - precision: 0.6679 - recall: 0.9609 - val_accuracy: 0.9074 - val_loss: 0.3626 - val_precision: 0.8810 - val_recall: 0.9875\n",
      "Epoch 66/100\n",
      "\u001B[1m1762/1762\u001B[0m \u001B[32m━━━━━━━━━━━━━━━━━━━━\u001B[0m\u001B[37m\u001B[0m \u001B[1m5s\u001B[0m 3ms/step - accuracy: 0.8588 - loss: 0.3647 - precision: 0.6833 - recall: 0.9631 - val_accuracy: 0.8972 - val_loss: 0.2902 - val_precision: 0.8730 - val_recall: 0.9793\n",
      "Epoch 67/100\n",
      "\u001B[1m1762/1762\u001B[0m \u001B[32m━━━━━━━━━━━━━━━━━━━━\u001B[0m\u001B[37m\u001B[0m \u001B[1m5s\u001B[0m 3ms/step - accuracy: 0.8575 - loss: 0.5015 - precision: 0.6775 - recall: 0.9633 - val_accuracy: 0.9017 - val_loss: 0.2830 - val_precision: 0.8693 - val_recall: 0.9889\n",
      "Epoch 68/100\n",
      "\u001B[1m1762/1762\u001B[0m \u001B[32m━━━━━━━━━━━━━━━━━━━━\u001B[0m\u001B[37m\u001B[0m \u001B[1m5s\u001B[0m 3ms/step - accuracy: 0.8697 - loss: 0.2787 - precision: 0.6972 - recall: 0.9719 - val_accuracy: 0.9114 - val_loss: 0.2680 - val_precision: 0.8791 - val_recall: 0.9973\n",
      "Epoch 69/100\n",
      "\u001B[1m1762/1762\u001B[0m \u001B[32m━━━━━━━━━━━━━━━━━━━━\u001B[0m\u001B[37m\u001B[0m \u001B[1m5s\u001B[0m 3ms/step - accuracy: 0.8546 - loss: 0.3261 - precision: 0.6846 - recall: 0.9297 - val_accuracy: 0.9097 - val_loss: 0.2695 - val_precision: 0.8797 - val_recall: 0.9880\n",
      "Epoch 70/100\n",
      "\u001B[1m1762/1762\u001B[0m \u001B[32m━━━━━━━━━━━━━━━━━━━━\u001B[0m\u001B[37m\u001B[0m \u001B[1m5s\u001B[0m 3ms/step - accuracy: 0.8559 - loss: 0.2961 - precision: 0.6794 - recall: 0.9385 - val_accuracy: 0.8739 - val_loss: 0.3268 - val_precision: 0.8332 - val_recall: 0.9916\n",
      "Epoch 71/100\n",
      "\u001B[1m1762/1762\u001B[0m \u001B[32m━━━━━━━━━━━━━━━━━━━━\u001B[0m\u001B[37m\u001B[0m \u001B[1m5s\u001B[0m 3ms/step - accuracy: 0.8412 - loss: 0.2922 - precision: 0.6625 - recall: 0.8781 - val_accuracy: 0.9119 - val_loss: 0.2478 - val_precision: 0.8826 - val_recall: 0.9899\n",
      "Epoch 72/100\n",
      "\u001B[1m1762/1762\u001B[0m \u001B[32m━━━━━━━━━━━━━━━━━━━━\u001B[0m\u001B[37m\u001B[0m \u001B[1m5s\u001B[0m 3ms/step - accuracy: 0.8639 - loss: 0.6990 - precision: 0.7156 - recall: 0.8076 - val_accuracy: 0.8920 - val_loss: 0.2954 - val_precision: 0.8664 - val_recall: 0.9812\n",
      "Epoch 73/100\n",
      "\u001B[1m1762/1762\u001B[0m \u001B[32m━━━━━━━━━━━━━━━━━━━━\u001B[0m\u001B[37m\u001B[0m \u001B[1m5s\u001B[0m 3ms/step - accuracy: 0.8475 - loss: 0.2946 - precision: 0.6659 - recall: 0.9180 - val_accuracy: 0.8915 - val_loss: 0.3049 - val_precision: 0.8671 - val_recall: 0.9701\n",
      "Epoch 74/100\n",
      "\u001B[1m1762/1762\u001B[0m \u001B[32m━━━━━━━━━━━━━━━━━━━━\u001B[0m\u001B[37m\u001B[0m \u001B[1m5s\u001B[0m 3ms/step - accuracy: 0.8461 - loss: 0.3464 - precision: 0.6689 - recall: 0.9058 - val_accuracy: 0.8761 - val_loss: 0.3309 - val_precision: 0.8355 - val_recall: 0.9857\n",
      "Epoch 75/100\n",
      "\u001B[1m1762/1762\u001B[0m \u001B[32m━━━━━━━━━━━━━━━━━━━━\u001B[0m\u001B[37m\u001B[0m \u001B[1m5s\u001B[0m 3ms/step - accuracy: 0.8449 - loss: 0.3253 - precision: 0.6671 - recall: 0.8996 - val_accuracy: 0.8886 - val_loss: 0.2994 - val_precision: 0.8519 - val_recall: 0.9907\n",
      "Epoch 76/100\n",
      "\u001B[1m1762/1762\u001B[0m \u001B[32m━━━━━━━━━━━━━━━━━━━━\u001B[0m\u001B[37m\u001B[0m \u001B[1m5s\u001B[0m 3ms/step - accuracy: 0.8599 - loss: 0.3856 - precision: 0.6801 - recall: 0.9617 - val_accuracy: 0.9045 - val_loss: 0.2702 - val_precision: 0.8805 - val_recall: 0.9820\n",
      "Epoch 77/100\n",
      "\u001B[1m1762/1762\u001B[0m \u001B[32m━━━━━━━━━━━━━━━━━━━━\u001B[0m\u001B[37m\u001B[0m \u001B[1m5s\u001B[0m 3ms/step - accuracy: 0.8648 - loss: 0.3104 - precision: 0.6860 - recall: 0.9620 - val_accuracy: 0.8903 - val_loss: 0.3113 - val_precision: 0.8587 - val_recall: 0.9863\n",
      "Epoch 78/100\n",
      "\u001B[1m1762/1762\u001B[0m \u001B[32m━━━━━━━━━━━━━━━━━━━━\u001B[0m\u001B[37m\u001B[0m \u001B[1m5s\u001B[0m 3ms/step - accuracy: 0.8402 - loss: 0.3662 - precision: 0.6474 - recall: 0.9756 - val_accuracy: 0.9074 - val_loss: 0.2634 - val_precision: 0.8718 - val_recall: 0.9905\n",
      "Epoch 79/100\n",
      "\u001B[1m1762/1762\u001B[0m \u001B[32m━━━━━━━━━━━━━━━━━━━━\u001B[0m\u001B[37m\u001B[0m \u001B[1m5s\u001B[0m 3ms/step - accuracy: 0.8677 - loss: 0.2772 - precision: 0.6997 - recall: 0.9714 - val_accuracy: 0.9097 - val_loss: 0.2486 - val_precision: 0.8792 - val_recall: 0.9909\n",
      "Epoch 80/100\n",
      "\u001B[1m1762/1762\u001B[0m \u001B[32m━━━━━━━━━━━━━━━━━━━━\u001B[0m\u001B[37m\u001B[0m \u001B[1m5s\u001B[0m 3ms/step - accuracy: 0.8696 - loss: 0.3656 - precision: 0.6945 - recall: 0.9643 - val_accuracy: 0.9057 - val_loss: 0.2746 - val_precision: 0.8812 - val_recall: 0.9798\n",
      "Epoch 81/100\n",
      "\u001B[1m1762/1762\u001B[0m \u001B[32m━━━━━━━━━━━━━━━━━━━━\u001B[0m\u001B[37m\u001B[0m \u001B[1m5s\u001B[0m 3ms/step - accuracy: 0.8664 - loss: 0.3652 - precision: 0.6985 - recall: 0.9420 - val_accuracy: 0.9176 - val_loss: 0.2216 - val_precision: 0.8939 - val_recall: 0.9845\n",
      "Epoch 82/100\n",
      "\u001B[1m1762/1762\u001B[0m \u001B[32m━━━━━━━━━━━━━━━━━━━━\u001B[0m\u001B[37m\u001B[0m \u001B[1m5s\u001B[0m 3ms/step - accuracy: 0.8598 - loss: 0.3291 - precision: 0.6815 - recall: 0.9639 - val_accuracy: 0.9068 - val_loss: 0.2574 - val_precision: 0.8810 - val_recall: 0.9816\n",
      "Epoch 83/100\n",
      "\u001B[1m1762/1762\u001B[0m \u001B[32m━━━━━━━━━━━━━━━━━━━━\u001B[0m\u001B[37m\u001B[0m \u001B[1m5s\u001B[0m 3ms/step - accuracy: 0.8638 - loss: 0.2688 - precision: 0.6864 - recall: 0.9732 - val_accuracy: 0.8977 - val_loss: 0.2768 - val_precision: 0.8630 - val_recall: 0.9917\n",
      "Epoch 84/100\n",
      "\u001B[1m1762/1762\u001B[0m \u001B[32m━━━━━━━━━━━━━━━━━━━━\u001B[0m\u001B[37m\u001B[0m \u001B[1m5s\u001B[0m 3ms/step - accuracy: 0.8430 - loss: 0.4946 - precision: 0.6615 - recall: 0.9009 - val_accuracy: 0.8994 - val_loss: 0.2567 - val_precision: 0.8616 - val_recall: 0.9925\n",
      "Epoch 85/100\n",
      "\u001B[1m1762/1762\u001B[0m \u001B[32m━━━━━━━━━━━━━━━━━━━━\u001B[0m\u001B[37m\u001B[0m \u001B[1m5s\u001B[0m 3ms/step - accuracy: 0.8731 - loss: 0.2696 - precision: 0.7295 - recall: 0.8919 - val_accuracy: 0.9068 - val_loss: 0.2728 - val_precision: 0.8752 - val_recall: 0.9889\n",
      "Epoch 86/100\n",
      "\u001B[1m1762/1762\u001B[0m \u001B[32m━━━━━━━━━━━━━━━━━━━━\u001B[0m\u001B[37m\u001B[0m \u001B[1m5s\u001B[0m 3ms/step - accuracy: 0.8622 - loss: 0.4548 - precision: 0.6802 - recall: 0.9707 - val_accuracy: 0.9062 - val_loss: 0.2692 - val_precision: 0.8792 - val_recall: 0.9864\n",
      "Epoch 87/100\n",
      "\u001B[1m1762/1762\u001B[0m \u001B[32m━━━━━━━━━━━━━━━━━━━━\u001B[0m\u001B[37m\u001B[0m \u001B[1m5s\u001B[0m 3ms/step - accuracy: 0.8546 - loss: 0.3025 - precision: 0.6702 - recall: 0.9496 - val_accuracy: 0.9011 - val_loss: 0.2821 - val_precision: 0.8771 - val_recall: 0.9749\n",
      "Epoch 88/100\n",
      "\u001B[1m1762/1762\u001B[0m \u001B[32m━━━━━━━━━━━━━━━━━━━━\u001B[0m\u001B[37m\u001B[0m \u001B[1m5s\u001B[0m 3ms/step - accuracy: 0.8652 - loss: 0.2937 - precision: 0.6945 - recall: 0.9683 - val_accuracy: 0.9085 - val_loss: 0.2421 - val_precision: 0.8774 - val_recall: 0.9908\n",
      "Epoch 89/100\n",
      "\u001B[1m1762/1762\u001B[0m \u001B[32m━━━━━━━━━━━━━━━━━━━━\u001B[0m\u001B[37m\u001B[0m \u001B[1m5s\u001B[0m 3ms/step - accuracy: 0.8634 - loss: 0.2677 - precision: 0.7021 - recall: 0.8945 - val_accuracy: 0.9062 - val_loss: 0.2719 - val_precision: 0.8795 - val_recall: 0.9804\n",
      "Epoch 90/100\n",
      "\u001B[1m1762/1762\u001B[0m \u001B[32m━━━━━━━━━━━━━━━━━━━━\u001B[0m\u001B[37m\u001B[0m \u001B[1m5s\u001B[0m 3ms/step - accuracy: 0.8593 - loss: 0.3072 - precision: 0.6774 - recall: 0.9614 - val_accuracy: 0.8858 - val_loss: 0.3099 - val_precision: 0.8509 - val_recall: 0.9851\n",
      "Epoch 91/100\n",
      "\u001B[1m1762/1762\u001B[0m \u001B[32m━━━━━━━━━━━━━━━━━━━━\u001B[0m\u001B[37m\u001B[0m \u001B[1m5s\u001B[0m 3ms/step - accuracy: 0.8440 - loss: 0.4600 - precision: 0.6618 - recall: 0.9178 - val_accuracy: 0.9045 - val_loss: 0.2502 - val_precision: 0.8690 - val_recall: 0.9954\n",
      "Epoch 92/100\n",
      "\u001B[1m1762/1762\u001B[0m \u001B[32m━━━━━━━━━━━━━━━━━━━━\u001B[0m\u001B[37m\u001B[0m \u001B[1m5s\u001B[0m 3ms/step - accuracy: 0.8526 - loss: 0.3532 - precision: 0.6640 - recall: 0.9747 - val_accuracy: 0.9114 - val_loss: 0.2665 - val_precision: 0.8944 - val_recall: 0.9681\n",
      "Epoch 93/100\n",
      "\u001B[1m1762/1762\u001B[0m \u001B[32m━━━━━━━━━━━━━━━━━━━━\u001B[0m\u001B[37m\u001B[0m \u001B[1m5s\u001B[0m 3ms/step - accuracy: 0.8555 - loss: 0.2949 - precision: 0.6771 - recall: 0.9541 - val_accuracy: 0.9074 - val_loss: 67.4923 - val_precision: 0.8755 - val_recall: 0.9868\n",
      "Epoch 94/100\n",
      "\u001B[1m1762/1762\u001B[0m \u001B[32m━━━━━━━━━━━━━━━━━━━━\u001B[0m\u001B[37m\u001B[0m \u001B[1m5s\u001B[0m 3ms/step - accuracy: 0.8538 - loss: 1.5501 - precision: 0.6681 - recall: 0.9509 - val_accuracy: 0.9159 - val_loss: 0.2555 - val_precision: 0.8868 - val_recall: 0.9868\n",
      "Epoch 95/100\n",
      "\u001B[1m1762/1762\u001B[0m \u001B[32m━━━━━━━━━━━━━━━━━━━━\u001B[0m\u001B[37m\u001B[0m \u001B[1m5s\u001B[0m 3ms/step - accuracy: 0.8595 - loss: 0.3244 - precision: 0.6812 - recall: 0.9760 - val_accuracy: 0.9034 - val_loss: 0.2777 - val_precision: 0.8791 - val_recall: 0.9779\n",
      "Epoch 96/100\n",
      "\u001B[1m1762/1762\u001B[0m \u001B[32m━━━━━━━━━━━━━━━━━━━━\u001B[0m\u001B[37m\u001B[0m \u001B[1m5s\u001B[0m 3ms/step - accuracy: 0.8562 - loss: 0.3343 - precision: 0.6627 - recall: 0.9671 - val_accuracy: 0.9051 - val_loss: 0.2632 - val_precision: 0.8769 - val_recall: 0.9853\n",
      "Epoch 97/100\n",
      "\u001B[1m1762/1762\u001B[0m \u001B[32m━━━━━━━━━━━━━━━━━━━━\u001B[0m\u001B[37m\u001B[0m \u001B[1m5s\u001B[0m 3ms/step - accuracy: 0.8643 - loss: 2.1487 - precision: 0.6905 - recall: 0.9468 - val_accuracy: 0.8949 - val_loss: 0.2451 - val_precision: 0.8564 - val_recall: 0.9982\n",
      "Epoch 98/100\n",
      "\u001B[1m1762/1762\u001B[0m \u001B[32m━━━━━━━━━━━━━━━━━━━━\u001B[0m\u001B[37m\u001B[0m \u001B[1m5s\u001B[0m 3ms/step - accuracy: 0.8638 - loss: 0.3445 - precision: 0.6907 - recall: 0.9557 - val_accuracy: 0.9017 - val_loss: 0.2774 - val_precision: 0.8742 - val_recall: 0.9826\n",
      "Epoch 99/100\n",
      "\u001B[1m1762/1762\u001B[0m \u001B[32m━━━━━━━━━━━━━━━━━━━━\u001B[0m\u001B[37m\u001B[0m \u001B[1m5s\u001B[0m 3ms/step - accuracy: 0.8591 - loss: 0.3124 - precision: 0.6877 - recall: 0.9529 - val_accuracy: 0.9062 - val_loss: 0.2841 - val_precision: 0.8775 - val_recall: 0.9872\n",
      "Epoch 100/100\n",
      "\u001B[1m1762/1762\u001B[0m \u001B[32m━━━━━━━━━━━━━━━━━━━━\u001B[0m\u001B[37m\u001B[0m \u001B[1m5s\u001B[0m 3ms/step - accuracy: 0.8646 - loss: 1.8096 - precision: 0.6861 - recall: 0.9458 - val_accuracy: 0.9159 - val_loss: 0.2175 - val_precision: 0.8989 - val_recall: 0.9755\n"
     ]
    }
   ],
   "execution_count": 20
  },
  {
   "metadata": {},
   "cell_type": "markdown",
   "source": "## Visualization",
   "id": "bcd21e01ff7a28f2"
  },
  {
   "metadata": {
    "ExecuteTime": {
     "end_time": "2024-12-14T15:52:31.474439Z",
     "start_time": "2024-12-14T15:52:31.288376Z"
    }
   },
   "cell_type": "code",
   "source": [
    "\n",
    "plt.plot(history.history['loss'])\n",
    "plt.title('Model loss')\n",
    "plt.ylabel('Loss')\n",
    "plt.xlabel('Epoch')"
   ],
   "id": "6d5cd6e5089a3530",
   "outputs": [
    {
     "data": {
      "text/plain": [
       "Text(0.5, 0, 'Epoch')"
      ]
     },
     "execution_count": 21,
     "metadata": {},
     "output_type": "execute_result"
    },
    {
     "data": {
      "text/plain": [
       "<Figure size 640x480 with 1 Axes>"
      ],
      "image/png": "[encoded data removed]"
     },
     "metadata": {},
     "output_type": "display_data"
    }
   ],
   "execution_count": 21
  },
  {
   "metadata": {
    "ExecuteTime": {
     "end_time": "2024-12-14T15:52:31.655527Z",
     "start_time": "2024-12-14T15:52:31.487637Z"
    }
   },
   "cell_type": "code",
   "source": [
    "plt.plot(history.history['accuracy'])\n",
    "plt.title('Model accuracy')\n",
    "plt.ylabel('Accuracy')\n",
    "plt.xlabel('Epoch')"
   ],
   "id": "208c7a6769b05949",
   "outputs": [
    {
     "data": {
      "text/plain": [
       "Text(0.5, 0, 'Epoch')"
      ]
     },
     "execution_count": 22,
     "metadata": {},
     "output_type": "execute_result"
    },
    {
     "data": {
      "text/plain": [
       "<Figure size 640x480 with 1 Axes>"
      ],
      "image/png": "[encoded data removed]"
     },
     "metadata": {},
     "output_type": "display_data"
    }
   ],
   "execution_count": 22
  },
  {
   "metadata": {
    "ExecuteTime": {
     "end_time": "2024-12-14T15:52:35.242846Z",
     "start_time": "2024-12-14T15:52:31.669427Z"
    }
   },
   "cell_type": "code",
   "source": [
    "train_result =  model.evaluate(train_ds    )\n",
    "val_result = model.evaluate(val_ds)\n",
    "test_result = model.evaluate(test_ds)"
   ],
   "id": "5b95a18f5b52b09b",
   "outputs": [
    {
     "name": "stdout",
     "output_type": "stream",
     "text": [
      "\u001B[1m1762/1762\u001B[0m \u001B[32m━━━━━━━━━━━━━━━━━━━━\u001B[0m\u001B[37m\u001B[0m \u001B[1m3s\u001B[0m 2ms/step - accuracy: 0.8834 - loss: 0.2568 - precision: 0.7224 - recall: 0.9702\n",
      "\u001B[1m220/220\u001B[0m \u001B[32m━━━━━━━━━━━━━━━━━━━━\u001B[0m\u001B[37m\u001B[0m \u001B[1m0s\u001B[0m 2ms/step - accuracy: 0.9088 - loss: 0.2451 - precision: 0.8850 - recall: 0.9821\n",
      "\u001B[1m220/220\u001B[0m \u001B[32m━━━━━━━━━━━━━━━━━━━━\u001B[0m\u001B[37m\u001B[0m \u001B[1m0s\u001B[0m 2ms/step - accuracy: 0.9112 - loss: 0.2373 - precision: 0.8880 - recall: 0.9769\n"
     ]
    }
   ],
   "execution_count": 23
  },
  {
   "metadata": {
    "ExecuteTime": {
     "end_time": "2024-12-14T15:52:35.268262Z",
     "start_time": "2024-12-14T15:52:35.263161Z"
    }
   },
   "cell_type": "code",
   "source": [
    "print(\"Train\")\n",
    "print(\"Accuracy\", train_result[1])\n",
    "print(\"Precision\", train_result[2])\n",
    "print(\"Recall\", train_result[3])\n",
    "print(\"#\" * 10)\n",
    "print(\"Validation\")\n",
    "print(\"Accuracy\", val_result[1])\n",
    "print(\"Precision\", val_result[2])\n",
    "print(\"Recall\", val_result[3])\n",
    "print(\"#\" * 10)\n",
    "print(\"Test\")\n",
    "print(\"Accuracy\", test_result[1])\n",
    "print(\"Precision\", test_result[2])\n",
    "print(\"Recall\", test_result[3])\n"
   ],
   "id": "6fa70085aa8d0823",
   "outputs": [
    {
     "name": "stdout",
     "output_type": "stream",
     "text": [
      "Train\n",
      "Accuracy 0.8972758054733276\n",
      "Precision 0.8339549899101257\n",
      "Recall 0.9763590097427368\n",
      "##########\n",
      "Validation\n",
      "Accuracy 0.9068182110786438\n",
      "Precision 0.8836065530776978\n",
      "Recall 0.9800000190734863\n",
      "##########\n",
      "Test\n",
      "Accuracy 0.9136363863945007\n",
      "Precision 0.8941666483879089\n",
      "Recall 0.9772313237190247\n"
     ]
    }
   ],
   "execution_count": 24
  },
  {
   "metadata": {
    "ExecuteTime": {
     "end_time": "2024-12-14T15:52:35.318276Z",
     "start_time": "2024-12-14T15:52:35.314085Z"
    }
   },
   "cell_type": "code",
   "source": "",
   "id": "56029d38dfe761a3",
   "outputs": [],
   "execution_count": null
  }
 ],
 "metadata": {
  "kernelspec": {
   "display_name": "Python 3",
   "language": "python",
   "name": "python3"
  },
  "language_info": {
   "codemirror_mode": {
    "name": "ipython",
    "version": 2
   },
   "file_extension": ".py",
   "mimetype": "text/x-python",
   "name": "python",
   "nbconvert_exporter": "python",
   "pygments_lexer": "ipython2",
   "version": "2.7.6"
  }
 },
 "nbformat": 4,
 "nbformat_minor": 5
}
