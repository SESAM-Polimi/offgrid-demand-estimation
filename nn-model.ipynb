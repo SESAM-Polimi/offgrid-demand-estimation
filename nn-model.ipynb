{
 "cells": [
  {
   "cell_type": "code",
   "execution_count": 1,
   "id": "c5829abd0be016a7",
   "metadata": {
    "ExecuteTime": {
     "end_time": "2024-12-14T22:23:04.512119Z",
     "start_time": "2024-12-14T22:22:59.155300Z"
    }
   },
   "outputs": [],
   "source": [
    "import os\n",
    "import sys\n",
    "\n",
    "sys.path.append(\"./\")  # Adds higher directory to python modules path.\n",
    "os.environ['TF_CPP_MIN_LOG_LEVEL'] = '1'\n",
    "\n",
    "import tensorflow as tf\n",
    "from matplotlib import pyplot as plt\n",
    "from sklearn.model_selection import train_test_split\n",
    "from data_pipeline import create_dataset"
   ]
  },
  {
   "cell_type": "markdown",
   "id": "f121b815121e8078",
   "metadata": {},
   "source": [
    "Let's load the dataset and  select the columns we want to use as features and labels."
   ]
  },
  {
   "cell_type": "markdown",
   "id": "c029035b879bf017",
   "metadata": {},
   "source": [
    "## Dataset and Feature Selection"
   ]
  },
  {
   "cell_type": "code",
   "execution_count": 2,
   "id": "9924b8976bd18e89",
   "metadata": {
    "ExecuteTime": {
     "end_time": "2024-12-14T22:23:18.825872Z",
     "start_time": "2024-12-14T22:23:18.821309Z"
    }
   },
   "outputs": [],
   "source": [
    "OUTPUT = \"Presence_TV\""
   ]
  },
  {
   "cell_type": "code",
   "execution_count": 3,
   "id": "a158b4d87eb3f48c",
   "metadata": {
    "ExecuteTime": {
     "end_time": "2024-12-14T22:23:19.220688Z",
     "start_time": "2024-12-14T22:23:19.058632Z"
    }
   },
   "outputs": [],
   "source": [
    "x_all, y_all = create_dataset(output=OUTPUT)\n",
    "x_train_val, x_test, y_train_val, y_test = train_test_split(x_all, y_all, test_size=0.1, random_state=42)\n",
    "\n"
   ]
  },
  {
   "cell_type": "markdown",
   "id": "68cffc2f3f050485",
   "metadata": {},
   "source": [
    "### Imbalanced Dataset Handling\n",
    "We use SMOTE to oversample the minority class.\n",
    "https://imbalanced-learn.org/stable/index.html"
   ]
  },
  {
   "cell_type": "code",
   "execution_count": 4,
   "id": "133da5ea6124177c",
   "metadata": {
    "ExecuteTime": {
     "end_time": "2024-12-14T22:23:20.331264Z",
     "start_time": "2024-12-14T22:23:20.166724Z"
    }
   },
   "outputs": [
    {
     "name": "stdout",
     "output_type": "stream",
     "text": [
      "(15842, 61) (15842, 1)\n"
     ]
    }
   ],
   "source": [
    "from imblearn.over_sampling import SMOTE\n",
    "\n",
    "# Apply SMOTE (oversampling)\n",
    "smote = SMOTE(sampling_strategy='auto', random_state=42)\n",
    "x_train_val, y_train_val = smote.fit_resample(x_train_val, y_train_val )\n",
    "y_train_val = y_train_val.reshape(-1, 1)\n",
    "print(x_train_val.shape, y_train_val.shape)"
   ]
  },
  {
   "cell_type": "markdown",
   "id": "f09478faee6a47e2",
   "metadata": {},
   "source": [
    "## Constants and dataset splitting"
   ]
  },
  {
   "cell_type": "code",
   "execution_count": 5,
   "id": "b33a9fca399e5326",
   "metadata": {
    "ExecuteTime": {
     "end_time": "2024-12-14T22:25:10.555064Z",
     "start_time": "2024-12-14T22:25:10.544939Z"
    }
   },
   "outputs": [
    {
     "name": "stdout",
     "output_type": "stream",
     "text": [
      "Feature Number 61\n"
     ]
    }
   ],
   "source": [
    "BATCH_SIZE = 16\n",
    "EPOCHS = 50\n",
    "OPTIMIZER = tf.keras.optimizers.Adam(0.001)\n",
    "LOSS = tf.keras.losses.BinaryCrossentropy()\n",
    "FEATURE_NUM = x_train_val.shape[1]\n",
    "print(\"Feature Number\", FEATURE_NUM)"
   ]
  },
  {
   "cell_type": "code",
   "execution_count": 6,
   "id": "ad76d09caca519cc",
   "metadata": {
    "ExecuteTime": {
     "end_time": "2024-12-14T22:25:10.771515Z",
     "start_time": "2024-12-14T22:25:10.760191Z"
    }
   },
   "outputs": [],
   "source": [
    "from collections import Counter\n",
    "def get_class_distribution(data):\n",
    "\n",
    "    # Extract all labels from the dataset\n",
    "    all_labels = []\n",
    "\n",
    "    for _, label in data:  # Iterate over the dataset\n",
    "        all_labels.append(label.numpy())  # Convert label tensors to NumPy arrays\n",
    "\n",
    "    # Flatten the list in case labels are multi-dimensional\n",
    "    all_labels = [i[0] for k in all_labels for i in list(k)]\n",
    "    # Count occurrences of each label\n",
    "    label_counts = Counter(all_labels)\n",
    "\n",
    "    # Calculate the ratio for each label\n",
    "    total_samples = sum(label_counts.values())\n",
    "    label_ratios = {label: count / total_samples for label, count in label_counts.items()}\n",
    "\n",
    "    # Print out the labels and their ratios\n",
    "    print(\"Label Counts:\", label_counts)\n",
    "    print(\"Label Ratios:\", label_ratios)\n",
    "\n"
   ]
  },
  {
   "cell_type": "code",
   "execution_count": 7,
   "id": "4706d5da2f80ecca",
   "metadata": {
    "ExecuteTime": {
     "end_time": "2024-12-14T22:25:11.472466Z",
     "start_time": "2024-12-14T22:25:10.984695Z"
    }
   },
   "outputs": [
    {
     "name": "stdout",
     "output_type": "stream",
     "text": [
      "Training size 892\n",
      "Label Counts: Counter({1.0: 7143, 0.0: 7114})\n",
      "Label Ratios: {1.0: 0.5010170442589605, 0.0: 0.4989829557410395}\n",
      "Validation size 100\n",
      "Label Counts: Counter({0.0: 807, 1.0: 778})\n",
      "Label Ratios: {1.0: 0.4908517350157729, 0.0: 0.5091482649842272}\n",
      "Test size 67\n",
      "Label Counts: Counter({0.0: 888, 1.0: 184})\n",
      "Label Ratios: {0.0: 0.8283582089552238, 1.0: 0.17164179104477612}\n"
     ]
    }
   ],
   "source": [
    "x_train, x_val, y_train, y_val = train_test_split(x_train_val, y_train_val, test_size=0.1, random_state=42)\n",
    "train_ds = tf.data.Dataset.from_tensor_slices((x_train, y_train)).batch(BATCH_SIZE)\n",
    "val_ds = tf.data.Dataset.from_tensor_slices((x_val, y_val)).batch(BATCH_SIZE)\n",
    "test_ds = tf.data.Dataset.from_tensor_slices((x_test, y_test)).batch(BATCH_SIZE)\n",
    "\n",
    "print(\"Training size\", len(train_ds))\n",
    "get_class_distribution(train_ds)\n",
    "\n",
    "print(\"Validation size\", len(val_ds))\n",
    "get_class_distribution(val_ds)\n",
    "\n",
    "print(\"Test size\", len(test_ds))\n",
    "get_class_distribution(test_ds)"
   ]
  },
  {
   "cell_type": "markdown",
   "id": "1bbda1ca2b2af7e9",
   "metadata": {},
   "source": [
    "## Model"
   ]
  },
  {
   "cell_type": "code",
   "execution_count": 8,
   "id": "662cc3d113b9bc77",
   "metadata": {
    "ExecuteTime": {
     "end_time": "2024-12-14T22:25:11.623614Z",
     "start_time": "2024-12-14T22:25:11.518750Z"
    }
   },
   "outputs": [
    {
     "data": {
      "text/html": [
       "<pre style=\"white-space:pre;overflow-x:auto;line-height:normal;font-family:Menlo,'DejaVu Sans Mono',consolas,'Courier New',monospace\"><span style=\"font-weight: bold\">Model: \"sequential\"</span>\n",
       "</pre>\n"
      ],
      "text/plain": [
       "\u001b[1mModel: \"sequential\"\u001b[0m\n"
      ]
     },
     "metadata": {},
     "output_type": "display_data"
    },
    {
     "data": {
      "text/html": [
       "<pre style=\"white-space:pre;overflow-x:auto;line-height:normal;font-family:Menlo,'DejaVu Sans Mono',consolas,'Courier New',monospace\">┏━━━━━━━━━━━━━━━━━━━━━━━━━━━━━━━━━┳━━━━━━━━━━━━━━━━━━━━━━━━┳━━━━━━━━━━━━━━━┓\n",
       "┃<span style=\"font-weight: bold\"> Layer (type)                    </span>┃<span style=\"font-weight: bold\"> Output Shape           </span>┃<span style=\"font-weight: bold\">       Param # </span>┃\n",
       "┡━━━━━━━━━━━━━━━━━━━━━━━━━━━━━━━━━╇━━━━━━━━━━━━━━━━━━━━━━━━╇━━━━━━━━━━━━━━━┩\n",
       "│ dense (<span style=\"color: #0087ff; text-decoration-color: #0087ff\">Dense</span>)                   │ (<span style=\"color: #00d7ff; text-decoration-color: #00d7ff\">None</span>, <span style=\"color: #00af00; text-decoration-color: #00af00\">128</span>)            │         <span style=\"color: #00af00; text-decoration-color: #00af00\">7,936</span> │\n",
       "├─────────────────────────────────┼────────────────────────┼───────────────┤\n",
       "│ dense_1 (<span style=\"color: #0087ff; text-decoration-color: #0087ff\">Dense</span>)                 │ (<span style=\"color: #00d7ff; text-decoration-color: #00d7ff\">None</span>, <span style=\"color: #00af00; text-decoration-color: #00af00\">128</span>)            │        <span style=\"color: #00af00; text-decoration-color: #00af00\">16,512</span> │\n",
       "├─────────────────────────────────┼────────────────────────┼───────────────┤\n",
       "│ dense_2 (<span style=\"color: #0087ff; text-decoration-color: #0087ff\">Dense</span>)                 │ (<span style=\"color: #00d7ff; text-decoration-color: #00d7ff\">None</span>, <span style=\"color: #00af00; text-decoration-color: #00af00\">128</span>)            │        <span style=\"color: #00af00; text-decoration-color: #00af00\">16,512</span> │\n",
       "├─────────────────────────────────┼────────────────────────┼───────────────┤\n",
       "│ dense_3 (<span style=\"color: #0087ff; text-decoration-color: #0087ff\">Dense</span>)                 │ (<span style=\"color: #00d7ff; text-decoration-color: #00d7ff\">None</span>, <span style=\"color: #00af00; text-decoration-color: #00af00\">1</span>)              │           <span style=\"color: #00af00; text-decoration-color: #00af00\">129</span> │\n",
       "└─────────────────────────────────┴────────────────────────┴───────────────┘\n",
       "</pre>\n"
      ],
      "text/plain": [
       "┏━━━━━━━━━━━━━━━━━━━━━━━━━━━━━━━━━┳━━━━━━━━━━━━━━━━━━━━━━━━┳━━━━━━━━━━━━━━━┓\n",
       "┃\u001b[1m \u001b[0m\u001b[1mLayer (type)                   \u001b[0m\u001b[1m \u001b[0m┃\u001b[1m \u001b[0m\u001b[1mOutput Shape          \u001b[0m\u001b[1m \u001b[0m┃\u001b[1m \u001b[0m\u001b[1m      Param #\u001b[0m\u001b[1m \u001b[0m┃\n",
       "┡━━━━━━━━━━━━━━━━━━━━━━━━━━━━━━━━━╇━━━━━━━━━━━━━━━━━━━━━━━━╇━━━━━━━━━━━━━━━┩\n",
       "│ dense (\u001b[38;5;33mDense\u001b[0m)                   │ (\u001b[38;5;45mNone\u001b[0m, \u001b[38;5;34m128\u001b[0m)            │         \u001b[38;5;34m7,936\u001b[0m │\n",
       "├─────────────────────────────────┼────────────────────────┼───────────────┤\n",
       "│ dense_1 (\u001b[38;5;33mDense\u001b[0m)                 │ (\u001b[38;5;45mNone\u001b[0m, \u001b[38;5;34m128\u001b[0m)            │        \u001b[38;5;34m16,512\u001b[0m │\n",
       "├─────────────────────────────────┼────────────────────────┼───────────────┤\n",
       "│ dense_2 (\u001b[38;5;33mDense\u001b[0m)                 │ (\u001b[38;5;45mNone\u001b[0m, \u001b[38;5;34m128\u001b[0m)            │        \u001b[38;5;34m16,512\u001b[0m │\n",
       "├─────────────────────────────────┼────────────────────────┼───────────────┤\n",
       "│ dense_3 (\u001b[38;5;33mDense\u001b[0m)                 │ (\u001b[38;5;45mNone\u001b[0m, \u001b[38;5;34m1\u001b[0m)              │           \u001b[38;5;34m129\u001b[0m │\n",
       "└─────────────────────────────────┴────────────────────────┴───────────────┘\n"
      ]
     },
     "metadata": {},
     "output_type": "display_data"
    },
    {
     "data": {
      "text/html": [
       "<pre style=\"white-space:pre;overflow-x:auto;line-height:normal;font-family:Menlo,'DejaVu Sans Mono',consolas,'Courier New',monospace\"><span style=\"font-weight: bold\"> Total params: </span><span style=\"color: #00af00; text-decoration-color: #00af00\">41,089</span> (160.50 KB)\n",
       "</pre>\n"
      ],
      "text/plain": [
       "\u001b[1m Total params: \u001b[0m\u001b[38;5;34m41,089\u001b[0m (160.50 KB)\n"
      ]
     },
     "metadata": {},
     "output_type": "display_data"
    },
    {
     "data": {
      "text/html": [
       "<pre style=\"white-space:pre;overflow-x:auto;line-height:normal;font-family:Menlo,'DejaVu Sans Mono',consolas,'Courier New',monospace\"><span style=\"font-weight: bold\"> Trainable params: </span><span style=\"color: #00af00; text-decoration-color: #00af00\">41,089</span> (160.50 KB)\n",
       "</pre>\n"
      ],
      "text/plain": [
       "\u001b[1m Trainable params: \u001b[0m\u001b[38;5;34m41,089\u001b[0m (160.50 KB)\n"
      ]
     },
     "metadata": {},
     "output_type": "display_data"
    },
    {
     "data": {
      "text/html": [
       "<pre style=\"white-space:pre;overflow-x:auto;line-height:normal;font-family:Menlo,'DejaVu Sans Mono',consolas,'Courier New',monospace\"><span style=\"font-weight: bold\"> Non-trainable params: </span><span style=\"color: #00af00; text-decoration-color: #00af00\">0</span> (0.00 B)\n",
       "</pre>\n"
      ],
      "text/plain": [
       "\u001b[1m Non-trainable params: \u001b[0m\u001b[38;5;34m0\u001b[0m (0.00 B)\n"
      ]
     },
     "metadata": {},
     "output_type": "display_data"
    }
   ],
   "source": [
    "model = tf.keras.Sequential([\n",
    "    tf.keras.layers.Input(shape=(FEATURE_NUM,)),\n",
    "    tf.keras.layers.Dense(128, activation='relu'),\n",
    "    tf.keras.layers.Dense(128, activation='relu'),\n",
    "    tf.keras.layers.Dense(128, activation='relu'),\n",
    "    tf.keras.layers.Dense(1, activation='sigmoid')\n",
    "])\n",
    "model.compile(optimizer=OPTIMIZER, loss=LOSS, metrics=['accuracy', 'precision', 'recall'])\n",
    "model.summary()"
   ]
  },
  {
   "cell_type": "code",
   "execution_count": 9,
   "id": "fc0828bd2f8c4ac",
   "metadata": {
    "ExecuteTime": {
     "end_time": "2024-12-14T22:27:27.792351Z",
     "start_time": "2024-12-14T22:25:11.825458Z"
    }
   },
   "outputs": [
    {
     "name": "stdout",
     "output_type": "stream",
     "text": [
      "Epoch 1/50\n",
      "\u001b[1m892/892\u001b[0m \u001b[32m━━━━━━━━━━━━━━━━━━━━\u001b[0m\u001b[37m\u001b[0m \u001b[1m5s\u001b[0m 4ms/step - accuracy: 0.6636 - loss: 256.7853 - precision: 0.6409 - recall: 0.7502 - val_accuracy: 0.8479 - val_loss: 4.0097 - val_precision: 0.7835 - val_recall: 0.9537\n",
      "Epoch 2/50\n",
      "\u001b[1m892/892\u001b[0m \u001b[32m━━━━━━━━━━━━━━━━━━━━\u001b[0m\u001b[37m\u001b[0m \u001b[1m3s\u001b[0m 4ms/step - accuracy: 0.7373 - loss: 16.2855 - precision: 0.7538 - recall: 0.6987 - val_accuracy: 0.7893 - val_loss: 0.4473 - val_precision: 0.8049 - val_recall: 0.7532\n",
      "Epoch 3/50\n",
      "\u001b[1m892/892\u001b[0m \u001b[32m━━━━━━━━━━━━━━━━━━━━\u001b[0m\u001b[37m\u001b[0m \u001b[1m3s\u001b[0m 4ms/step - accuracy: 0.8294 - loss: 0.5858 - precision: 0.7763 - recall: 0.9215 - val_accuracy: 0.8606 - val_loss: 0.3126 - val_precision: 0.7935 - val_recall: 0.9679\n",
      "Epoch 4/50\n",
      "\u001b[1m892/892\u001b[0m \u001b[32m━━━━━━━━━━━━━━━━━━━━\u001b[0m\u001b[37m\u001b[0m \u001b[1m3s\u001b[0m 4ms/step - accuracy: 0.8652 - loss: 0.3321 - precision: 0.8025 - recall: 0.9671 - val_accuracy: 0.7546 - val_loss: 0.4989 - val_precision: 0.6714 - val_recall: 0.9794\n",
      "Epoch 5/50\n",
      "\u001b[1m892/892\u001b[0m \u001b[32m━━━━━━━━━━━━━━━━━━━━\u001b[0m\u001b[37m\u001b[0m \u001b[1m3s\u001b[0m 4ms/step - accuracy: 0.8290 - loss: 0.4515 - precision: 0.7606 - recall: 0.9581 - val_accuracy: 0.8498 - val_loss: 0.3697 - val_precision: 0.7772 - val_recall: 0.9730\n",
      "Epoch 6/50\n",
      "\u001b[1m892/892\u001b[0m \u001b[32m━━━━━━━━━━━━━━━━━━━━\u001b[0m\u001b[37m\u001b[0m \u001b[1m3s\u001b[0m 4ms/step - accuracy: 0.8516 - loss: 0.3863 - precision: 0.7910 - recall: 0.9525 - val_accuracy: 0.8353 - val_loss: 0.3786 - val_precision: 0.7608 - val_recall: 0.9692\n",
      "Epoch 7/50\n",
      "\u001b[1m892/892\u001b[0m \u001b[32m━━━━━━━━━━━━━━━━━━━━\u001b[0m\u001b[37m\u001b[0m \u001b[1m3s\u001b[0m 4ms/step - accuracy: 0.8354 - loss: 0.5748 - precision: 0.7711 - recall: 0.9513 - val_accuracy: 0.7722 - val_loss: 0.4672 - val_precision: 0.6936 - val_recall: 0.9602\n",
      "Epoch 8/50\n",
      "\u001b[1m892/892\u001b[0m \u001b[32m━━━━━━━━━━━━━━━━━━━━\u001b[0m\u001b[37m\u001b[0m \u001b[1m4s\u001b[0m 4ms/step - accuracy: 0.8092 - loss: 0.4231 - precision: 0.7339 - recall: 0.9692 - val_accuracy: 0.8461 - val_loss: 0.3659 - val_precision: 0.7834 - val_recall: 0.9486\n",
      "Epoch 9/50\n",
      "\u001b[1m892/892\u001b[0m \u001b[32m━━━━━━━━━━━━━━━━━━━━\u001b[0m\u001b[37m\u001b[0m \u001b[1m4s\u001b[0m 4ms/step - accuracy: 0.8318 - loss: 0.3879 - precision: 0.7644 - recall: 0.9556 - val_accuracy: 0.8221 - val_loss: 0.3920 - val_precision: 0.7536 - val_recall: 0.9473\n",
      "Epoch 10/50\n",
      "\u001b[1m892/892\u001b[0m \u001b[32m━━━━━━━━━━━━━━━━━━━━\u001b[0m\u001b[37m\u001b[0m \u001b[1m3s\u001b[0m 4ms/step - accuracy: 0.7772 - loss: 0.6022 - precision: 0.6997 - recall: 0.9670 - val_accuracy: 0.7931 - val_loss: 0.4368 - val_precision: 0.7127 - val_recall: 0.9692\n",
      "Epoch 11/50\n",
      "\u001b[1m892/892\u001b[0m \u001b[32m━━━━━━━━━━━━━━━━━━━━\u001b[0m\u001b[37m\u001b[0m \u001b[1m3s\u001b[0m 4ms/step - accuracy: 0.8063 - loss: 0.4328 - precision: 0.7358 - recall: 0.9532 - val_accuracy: 0.8486 - val_loss: 0.3613 - val_precision: 0.7796 - val_recall: 0.9640\n",
      "Epoch 12/50\n",
      "\u001b[1m892/892\u001b[0m \u001b[32m━━━━━━━━━━━━━━━━━━━━\u001b[0m\u001b[37m\u001b[0m \u001b[1m3s\u001b[0m 4ms/step - accuracy: 0.8008 - loss: 0.8794 - precision: 0.7225 - recall: 0.9743 - val_accuracy: 0.8076 - val_loss: 0.4023 - val_precision: 0.7242 - val_recall: 0.9820\n",
      "Epoch 13/50\n",
      "\u001b[1m892/892\u001b[0m \u001b[32m━━━━━━━━━━━━━━━━━━━━\u001b[0m\u001b[37m\u001b[0m \u001b[1m3s\u001b[0m 4ms/step - accuracy: 0.8167 - loss: 0.3991 - precision: 0.7390 - recall: 0.9767 - val_accuracy: 0.8669 - val_loss: 0.3431 - val_precision: 0.8006 - val_recall: 0.9704\n",
      "Epoch 14/50\n",
      "\u001b[1m892/892\u001b[0m \u001b[32m━━━━━━━━━━━━━━━━━━━━\u001b[0m\u001b[37m\u001b[0m \u001b[1m3s\u001b[0m 4ms/step - accuracy: 0.8404 - loss: 0.5070 - precision: 0.7764 - recall: 0.9546 - val_accuracy: 0.7792 - val_loss: 0.4470 - val_precision: 0.6963 - val_recall: 0.9756\n",
      "Epoch 15/50\n",
      "\u001b[1m892/892\u001b[0m \u001b[32m━━━━━━━━━━━━━━━━━━━━\u001b[0m\u001b[37m\u001b[0m \u001b[1m3s\u001b[0m 4ms/step - accuracy: 0.7927 - loss: 0.4240 - precision: 0.7129 - recall: 0.9774 - val_accuracy: 0.8013 - val_loss: 0.4137 - val_precision: 0.7374 - val_recall: 0.9242\n",
      "Epoch 16/50\n",
      "\u001b[1m892/892\u001b[0m \u001b[32m━━━━━━━━━━━━━━━━━━━━\u001b[0m\u001b[37m\u001b[0m \u001b[1m3s\u001b[0m 4ms/step - accuracy: 0.8127 - loss: 0.4000 - precision: 0.7427 - recall: 0.9531 - val_accuracy: 0.8744 - val_loss: 0.2927 - val_precision: 0.8116 - val_recall: 0.9692\n",
      "Epoch 17/50\n",
      "\u001b[1m892/892\u001b[0m \u001b[32m━━━━━━━━━━━━━━━━━━━━\u001b[0m\u001b[37m\u001b[0m \u001b[1m3s\u001b[0m 4ms/step - accuracy: 0.8547 - loss: 0.3370 - precision: 0.7868 - recall: 0.9698 - val_accuracy: 0.8770 - val_loss: 0.2893 - val_precision: 0.8104 - val_recall: 0.9781\n",
      "Epoch 18/50\n",
      "\u001b[1m892/892\u001b[0m \u001b[32m━━━━━━━━━━━━━━━━━━━━\u001b[0m\u001b[37m\u001b[0m \u001b[1m3s\u001b[0m 4ms/step - accuracy: 0.8412 - loss: 0.3613 - precision: 0.7731 - recall: 0.9623 - val_accuracy: 0.8656 - val_loss: 0.3310 - val_precision: 0.7934 - val_recall: 0.9820\n",
      "Epoch 19/50\n",
      "\u001b[1m892/892\u001b[0m \u001b[32m━━━━━━━━━━━━━━━━━━━━\u001b[0m\u001b[37m\u001b[0m \u001b[1m3s\u001b[0m 4ms/step - accuracy: 0.8550 - loss: 0.3424 - precision: 0.7881 - recall: 0.9684 - val_accuracy: 0.8644 - val_loss: 0.3335 - val_precision: 0.7998 - val_recall: 0.9653\n",
      "Epoch 20/50\n",
      "\u001b[1m892/892\u001b[0m \u001b[32m━━━━━━━━━━━━━━━━━━━━\u001b[0m\u001b[37m\u001b[0m \u001b[1m3s\u001b[0m 4ms/step - accuracy: 0.8586 - loss: 0.5902 - precision: 0.7967 - recall: 0.9598 - val_accuracy: 0.7691 - val_loss: 0.4777 - val_precision: 0.6866 - val_recall: 0.9743\n",
      "Epoch 21/50\n",
      "\u001b[1m892/892\u001b[0m \u001b[32m━━━━━━━━━━━━━━━━━━━━\u001b[0m\u001b[37m\u001b[0m \u001b[1m3s\u001b[0m 4ms/step - accuracy: 0.8068 - loss: 0.4304 - precision: 0.7261 - recall: 0.9838 - val_accuracy: 0.8076 - val_loss: 0.4076 - val_precision: 0.7233 - val_recall: 0.9846\n",
      "Epoch 22/50\n",
      "\u001b[1m892/892\u001b[0m \u001b[32m━━━━━━━━━━━━━━━━━━━━\u001b[0m\u001b[37m\u001b[0m \u001b[1m3s\u001b[0m 4ms/step - accuracy: 0.8213 - loss: 0.3888 - precision: 0.7422 - recall: 0.9827 - val_accuracy: 0.8637 - val_loss: 0.3323 - val_precision: 0.7958 - val_recall: 0.9717\n",
      "Epoch 23/50\n",
      "\u001b[1m892/892\u001b[0m \u001b[32m━━━━━━━━━━━━━━━━━━━━\u001b[0m\u001b[37m\u001b[0m \u001b[1m3s\u001b[0m 4ms/step - accuracy: 0.8599 - loss: 0.3398 - precision: 0.7996 - recall: 0.9582 - val_accuracy: 0.7943 - val_loss: 0.4241 - val_precision: 0.7081 - val_recall: 0.9884\n",
      "Epoch 24/50\n",
      "\u001b[1m892/892\u001b[0m \u001b[32m━━━━━━━━━━━━━━━━━━━━\u001b[0m\u001b[37m\u001b[0m \u001b[1m4s\u001b[0m 4ms/step - accuracy: 0.8104 - loss: 0.4483 - precision: 0.7294 - recall: 0.9847 - val_accuracy: 0.8543 - val_loss: 0.3539 - val_precision: 0.7900 - val_recall: 0.9576\n",
      "Epoch 25/50\n",
      "\u001b[1m892/892\u001b[0m \u001b[32m━━━━━━━━━━━━━━━━━━━━\u001b[0m\u001b[37m\u001b[0m \u001b[1m3s\u001b[0m 4ms/step - accuracy: 0.8502 - loss: 0.3544 - precision: 0.7881 - recall: 0.9552 - val_accuracy: 0.8555 - val_loss: 0.3397 - val_precision: 0.8007 - val_recall: 0.9396\n",
      "Epoch 26/50\n",
      "\u001b[1m892/892\u001b[0m \u001b[32m━━━━━━━━━━━━━━━━━━━━\u001b[0m\u001b[37m\u001b[0m \u001b[1m3s\u001b[0m 4ms/step - accuracy: 0.8306 - loss: 0.5502 - precision: 0.7616 - recall: 0.9592 - val_accuracy: 0.7596 - val_loss: 0.4739 - val_precision: 0.6740 - val_recall: 0.9884\n",
      "Epoch 27/50\n",
      "\u001b[1m892/892\u001b[0m \u001b[32m━━━━━━━━━━━━━━━━━━━━\u001b[0m\u001b[37m\u001b[0m \u001b[1m3s\u001b[0m 4ms/step - accuracy: 0.7952 - loss: 0.4208 - precision: 0.7116 - recall: 0.9908 - val_accuracy: 0.8644 - val_loss: 0.3397 - val_precision: 0.7941 - val_recall: 0.9769\n",
      "Epoch 28/50\n",
      "\u001b[1m892/892\u001b[0m \u001b[32m━━━━━━━━━━━━━━━━━━━━\u001b[0m\u001b[37m\u001b[0m \u001b[1m3s\u001b[0m 4ms/step - accuracy: 0.8641 - loss: 0.3424 - precision: 0.8026 - recall: 0.9632 - val_accuracy: 0.7577 - val_loss: 0.4880 - val_precision: 0.6725 - val_recall: 0.9871\n",
      "Epoch 29/50\n",
      "\u001b[1m892/892\u001b[0m \u001b[32m━━━━━━━━━━━━━━━━━━━━\u001b[0m\u001b[37m\u001b[0m \u001b[1m3s\u001b[0m 4ms/step - accuracy: 0.8089 - loss: 0.4380 - precision: 0.7358 - recall: 0.9636 - val_accuracy: 0.8808 - val_loss: 0.2711 - val_precision: 0.8163 - val_recall: 0.9769\n",
      "Epoch 30/50\n",
      "\u001b[1m892/892\u001b[0m \u001b[32m━━━━━━━━━━━━━━━━━━━━\u001b[0m\u001b[37m\u001b[0m \u001b[1m3s\u001b[0m 4ms/step - accuracy: 0.7996 - loss: 0.6676 - precision: 0.7166 - recall: 0.9876 - val_accuracy: 0.8568 - val_loss: 0.3480 - val_precision: 0.7803 - val_recall: 0.9859\n",
      "Epoch 31/50\n",
      "\u001b[1m892/892\u001b[0m \u001b[32m━━━━━━━━━━━━━━━━━━━━\u001b[0m\u001b[37m\u001b[0m \u001b[1m3s\u001b[0m 4ms/step - accuracy: 0.8525 - loss: 0.3493 - precision: 0.7902 - recall: 0.9581 - val_accuracy: 0.8644 - val_loss: 0.3406 - val_precision: 0.7917 - val_recall: 0.9820\n",
      "Epoch 32/50\n",
      "\u001b[1m892/892\u001b[0m \u001b[32m━━━━━━━━━━━━━━━━━━━━\u001b[0m\u001b[37m\u001b[0m \u001b[1m3s\u001b[0m 3ms/step - accuracy: 0.8159 - loss: 0.4697 - precision: 0.7363 - recall: 0.9809 - val_accuracy: 0.8050 - val_loss: 0.4106 - val_precision: 0.7190 - val_recall: 0.9897\n",
      "Epoch 33/50\n",
      "\u001b[1m892/892\u001b[0m \u001b[32m━━━━━━━━━━━━━━━━━━━━\u001b[0m\u001b[37m\u001b[0m \u001b[1m3s\u001b[0m 4ms/step - accuracy: 0.8089 - loss: 0.4222 - precision: 0.7255 - recall: 0.9898 - val_accuracy: 0.8618 - val_loss: 0.3249 - val_precision: 0.7878 - val_recall: 0.9833\n",
      "Epoch 34/50\n",
      "\u001b[1m892/892\u001b[0m \u001b[32m━━━━━━━━━━━━━━━━━━━━\u001b[0m\u001b[37m\u001b[0m \u001b[1m3s\u001b[0m 3ms/step - accuracy: 0.8593 - loss: 0.3256 - precision: 0.7913 - recall: 0.9737 - val_accuracy: 0.8719 - val_loss: 0.3230 - val_precision: 0.8101 - val_recall: 0.9653\n",
      "Epoch 35/50\n",
      "\u001b[1m892/892\u001b[0m \u001b[32m━━━━━━━━━━━━━━━━━━━━\u001b[0m\u001b[37m\u001b[0m \u001b[1m3s\u001b[0m 3ms/step - accuracy: 0.8573 - loss: 0.3544 - precision: 0.7896 - recall: 0.9715 - val_accuracy: 0.8315 - val_loss: 0.3772 - val_precision: 0.7483 - val_recall: 0.9897\n",
      "Epoch 36/50\n",
      "\u001b[1m892/892\u001b[0m \u001b[32m━━━━━━━━━━━━━━━━━━━━\u001b[0m\u001b[37m\u001b[0m \u001b[1m3s\u001b[0m 3ms/step - accuracy: 0.8328 - loss: 0.3702 - precision: 0.7536 - recall: 0.9861 - val_accuracy: 0.8845 - val_loss: 0.2845 - val_precision: 0.8209 - val_recall: 0.9781\n",
      "Epoch 37/50\n",
      "\u001b[1m892/892\u001b[0m \u001b[32m━━━━━━━━━━━━━━━━━━━━\u001b[0m\u001b[37m\u001b[0m \u001b[1m3s\u001b[0m 3ms/step - accuracy: 0.8588 - loss: 0.3149 - precision: 0.7958 - recall: 0.9622 - val_accuracy: 0.8536 - val_loss: 0.3477 - val_precision: 0.7797 - val_recall: 0.9781\n",
      "Epoch 38/50\n",
      "\u001b[1m892/892\u001b[0m \u001b[32m━━━━━━━━━━━━━━━━━━━━\u001b[0m\u001b[37m\u001b[0m \u001b[1m3s\u001b[0m 3ms/step - accuracy: 0.8499 - loss: 0.3492 - precision: 0.7841 - recall: 0.9628 - val_accuracy: 0.8789 - val_loss: 0.3011 - val_precision: 0.8104 - val_recall: 0.9833\n",
      "Epoch 39/50\n",
      "\u001b[1m892/892\u001b[0m \u001b[32m━━━━━━━━━━━━━━━━━━━━\u001b[0m\u001b[37m\u001b[0m \u001b[1m3s\u001b[0m 4ms/step - accuracy: 0.8754 - loss: 0.2925 - precision: 0.8112 - recall: 0.9762 - val_accuracy: 0.8795 - val_loss: 0.2863 - val_precision: 0.8073 - val_recall: 0.9910\n",
      "Epoch 40/50\n",
      "\u001b[1m892/892\u001b[0m \u001b[32m━━━━━━━━━━━━━━━━━━━━\u001b[0m\u001b[37m\u001b[0m \u001b[1m3s\u001b[0m 4ms/step - accuracy: 0.8757 - loss: 0.2800 - precision: 0.8113 - recall: 0.9771 - val_accuracy: 0.8808 - val_loss: 0.2829 - val_precision: 0.8090 - val_recall: 0.9910\n",
      "Epoch 41/50\n",
      "\u001b[1m892/892\u001b[0m \u001b[32m━━━━━━━━━━━━━━━━━━━━\u001b[0m\u001b[37m\u001b[0m \u001b[1m3s\u001b[0m 3ms/step - accuracy: 0.8664 - loss: 0.3677 - precision: 0.8015 - recall: 0.9714 - val_accuracy: 0.8681 - val_loss: 0.3260 - val_precision: 0.8082 - val_recall: 0.9589\n",
      "Epoch 42/50\n",
      "\u001b[1m892/892\u001b[0m \u001b[32m━━━━━━━━━━━━━━━━━━━━\u001b[0m\u001b[37m\u001b[0m \u001b[1m3s\u001b[0m 3ms/step - accuracy: 0.8589 - loss: 0.3535 - precision: 0.7971 - recall: 0.9604 - val_accuracy: 0.8132 - val_loss: 0.4007 - val_precision: 0.7278 - val_recall: 0.9897\n",
      "Epoch 43/50\n",
      "\u001b[1m892/892\u001b[0m \u001b[32m━━━━━━━━━━━━━━━━━━━━\u001b[0m\u001b[37m\u001b[0m \u001b[1m3s\u001b[0m 4ms/step - accuracy: 0.8328 - loss: 0.3721 - precision: 0.7586 - recall: 0.9749 - val_accuracy: 0.8246 - val_loss: 0.3832 - val_precision: 0.7399 - val_recall: 0.9910\n",
      "Epoch 44/50\n",
      "\u001b[1m892/892\u001b[0m \u001b[32m━━━━━━━━━━━━━━━━━━━━\u001b[0m\u001b[37m\u001b[0m \u001b[1m3s\u001b[0m 3ms/step - accuracy: 0.8439 - loss: 0.3643 - precision: 0.7703 - recall: 0.9781 - val_accuracy: 0.8757 - val_loss: 0.3075 - val_precision: 0.8017 - val_recall: 0.9923\n",
      "Epoch 45/50\n",
      "\u001b[1m892/892\u001b[0m \u001b[32m━━━━━━━━━━━━━━━━━━━━\u001b[0m\u001b[37m\u001b[0m \u001b[1m3s\u001b[0m 3ms/step - accuracy: 0.8741 - loss: 0.3611 - precision: 0.8091 - recall: 0.9769 - val_accuracy: 0.8795 - val_loss: 0.2913 - val_precision: 0.8067 - val_recall: 0.9923\n",
      "Epoch 46/50\n",
      "\u001b[1m892/892\u001b[0m \u001b[32m━━━━━━━━━━━━━━━━━━━━\u001b[0m\u001b[37m\u001b[0m \u001b[1m3s\u001b[0m 3ms/step - accuracy: 0.8775 - loss: 0.2846 - precision: 0.8146 - recall: 0.9755 - val_accuracy: 0.8839 - val_loss: 0.2843 - val_precision: 0.8133 - val_recall: 0.9910\n",
      "Epoch 47/50\n",
      "\u001b[1m892/892\u001b[0m \u001b[32m━━━━━━━━━━━━━━━━━━━━\u001b[0m\u001b[37m\u001b[0m \u001b[1m3s\u001b[0m 3ms/step - accuracy: 0.8756 - loss: 0.2903 - precision: 0.8168 - recall: 0.9661 - val_accuracy: 0.8719 - val_loss: 0.3308 - val_precision: 0.7979 - val_recall: 0.9897\n",
      "Epoch 48/50\n",
      "\u001b[1m892/892\u001b[0m \u001b[32m━━━━━━━━━━━━━━━━━━━━\u001b[0m\u001b[37m\u001b[0m \u001b[1m3s\u001b[0m 3ms/step - accuracy: 0.8719 - loss: 0.4883 - precision: 0.8093 - recall: 0.9704 - val_accuracy: 0.8845 - val_loss: 0.2912 - val_precision: 0.8162 - val_recall: 0.9871\n",
      "Epoch 49/50\n",
      "\u001b[1m892/892\u001b[0m \u001b[32m━━━━━━━━━━━━━━━━━━━━\u001b[0m\u001b[37m\u001b[0m \u001b[1m3s\u001b[0m 3ms/step - accuracy: 0.8392 - loss: 0.5017 - precision: 0.7635 - recall: 0.9792 - val_accuracy: 0.8757 - val_loss: 0.3034 - val_precision: 0.8029 - val_recall: 0.9897\n",
      "Epoch 50/50\n",
      "\u001b[1m892/892\u001b[0m \u001b[32m━━━━━━━━━━━━━━━━━━━━\u001b[0m\u001b[37m\u001b[0m \u001b[1m3s\u001b[0m 3ms/step - accuracy: 0.8677 - loss: 0.2988 - precision: 0.8001 - recall: 0.9782 - val_accuracy: 0.8732 - val_loss: 0.3204 - val_precision: 0.8079 - val_recall: 0.9730\n"
     ]
    }
   ],
   "source": [
    "history = model.fit(train_ds, epochs=EPOCHS,\n",
    "\n",
    "                    validation_data=val_ds)\n"
   ]
  },
  {
   "cell_type": "markdown",
   "id": "bcd21e01ff7a28f2",
   "metadata": {},
   "source": [
    "## Visualization"
   ]
  },
  {
   "cell_type": "code",
   "execution_count": 16,
   "id": "6d5cd6e5089a3530",
   "metadata": {
    "ExecuteTime": {
     "end_time": "2024-12-14T22:27:28.100673Z",
     "start_time": "2024-12-14T22:27:27.838150Z"
    }
   },
   "outputs": [
    {
     "data": {
      "text/plain": [
       "Text(0.5, 0, 'Epoch')"
      ]
     },
     "execution_count": 16,
     "metadata": {},
     "output_type": "execute_result"
    },
    {
     "data": {
      "image/png": "[encoded data removed]",
      "text/plain": [
       "<Figure size 640x480 with 1 Axes>"
      ]
     },
     "metadata": {},
     "output_type": "display_data"
    }
   ],
   "source": [
    "\n",
    "plt.plot(history.history['loss'])\n",
    "plt.title('Model loss')\n",
    "plt.ylabel('Loss')\n",
    "plt.xlabel('Epoch')"
   ]
  },
  {
   "cell_type": "code",
   "execution_count": 17,
   "id": "208c7a6769b05949",
   "metadata": {
    "ExecuteTime": {
     "end_time": "2024-12-14T22:27:28.300941Z",
     "start_time": "2024-12-14T22:27:28.111031Z"
    }
   },
   "outputs": [
    {
     "data": {
      "text/plain": [
       "Text(0.5, 0, 'Epoch')"
      ]
     },
     "execution_count": 17,
     "metadata": {},
     "output_type": "execute_result"
    },
    {
     "data": {
      "image/png": "[encoded data removed]",
      "text/plain": [
       "<Figure size 640x480 with 1 Axes>"
      ]
     },
     "metadata": {},
     "output_type": "display_data"
    }
   ],
   "source": [
    "plt.plot(history.history['accuracy'])\n",
    "plt.title('Model accuracy')\n",
    "plt.ylabel('Accuracy')\n",
    "plt.xlabel('Epoch')"
   ]
  },
  {
   "cell_type": "code",
   "execution_count": 18,
   "id": "5b95a18f5b52b09b",
   "metadata": {
    "ExecuteTime": {
     "end_time": "2024-12-14T22:27:31.660378Z",
     "start_time": "2024-12-14T22:27:28.319384Z"
    }
   },
   "outputs": [
    {
     "name": "stdout",
     "output_type": "stream",
     "text": [
      "\u001b[1m1783/1783\u001b[0m \u001b[32m━━━━━━━━━━━━━━━━━━━━\u001b[0m\u001b[37m\u001b[0m \u001b[1m3s\u001b[0m 2ms/step - accuracy: 0.8509 - loss: 0.3501 - precision: 0.7815 - recall: 0.9713\n",
      "\u001b[1m199/199\u001b[0m \u001b[32m━━━━━━━━━━━━━━━━━━━━\u001b[0m\u001b[37m\u001b[0m \u001b[1m0s\u001b[0m 1ms/step - accuracy: 0.8727 - loss: 0.3357 - precision: 0.8012 - recall: 0.9821\n",
      "\u001b[1m134/134\u001b[0m \u001b[32m━━━━━━━━━━━━━━━━━━━━\u001b[0m\u001b[37m\u001b[0m \u001b[1m0s\u001b[0m 2ms/step - accuracy: 0.7785 - loss: 0.3799 - precision: 0.4417 - recall: 0.9731\n"
     ]
    }
   ],
   "source": [
    "train_result =  model.evaluate(train_ds    )\n",
    "val_result = model.evaluate(val_ds)\n",
    "test_result = model.evaluate(test_ds)"
   ]
  },
  {
   "cell_type": "code",
   "execution_count": 19,
   "id": "6fa70085aa8d0823",
   "metadata": {
    "ExecuteTime": {
     "end_time": "2024-12-14T22:27:31.694467Z",
     "start_time": "2024-12-14T22:27:31.685324Z"
    }
   },
   "outputs": [
    {
     "name": "stdout",
     "output_type": "stream",
     "text": [
      "Train\n",
      "Accuracy 0.8585256338119507\n",
      "Precision 0.7929812669754028\n",
      "Recall 0.9711605906486511\n",
      "##########\n",
      "Validation\n",
      "Accuracy 0.8649842143058777\n",
      "Precision 0.7931392788887024\n",
      "Recall 0.980719804763794\n",
      "##########\n",
      "Test\n",
      "Accuracy 0.7826492786407471\n",
      "Precision 0.4395061731338501\n",
      "Recall 0.967391312122345\n"
     ]
    }
   ],
   "source": [
    "print(\"Train\")\n",
    "print(\"Accuracy\", train_result[1])\n",
    "print(\"Precision\", train_result[2])\n",
    "print(\"Recall\", train_result[3])\n",
    "print(\"#\" * 10)\n",
    "print(\"Validation\")\n",
    "print(\"Accuracy\", val_result[1])\n",
    "print(\"Precision\", val_result[2])\n",
    "print(\"Recall\", val_result[3])\n",
    "print(\"#\" * 10)\n",
    "print(\"Test\")\n",
    "print(\"Accuracy\", test_result[1])\n",
    "print(\"Precision\", test_result[2])\n",
    "print(\"Recall\", test_result[3])\n"
   ]
  },
  {
   "cell_type": "code",
   "execution_count": null,
   "id": "56029d38dfe761a3",
   "metadata": {
    "ExecuteTime": {
     "end_time": "2024-12-14T15:52:35.318276Z",
     "start_time": "2024-12-14T15:52:35.314085Z"
    }
   },
   "outputs": [],
   "source": []
  }
 ],
 "metadata": {
  "kernelspec": {
   "display_name": "Python 3 (ipykernel)",
   "language": "python",
   "name": "python3"
  },
  "language_info": {
   "codemirror_mode": {
    "name": "ipython",
    "version": 3
   },
   "file_extension": ".py",
   "mimetype": "text/x-python",
   "name": "python",
   "nbconvert_exporter": "python",
   "pygments_lexer": "ipython3",
   "version": "3.11.10"
  }
 },
 "nbformat": 4,
 "nbformat_minor": 5
}
