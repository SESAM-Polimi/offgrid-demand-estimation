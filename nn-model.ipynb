{
 "cells": [
  {
   "metadata": {
    "ExecuteTime": {
     "end_time": "2024-12-14T15:02:06.622088Z",
     "start_time": "2024-12-14T15:02:02.107841Z"
    }
   },
   "cell_type": "code",
   "source": [
    "import os\n",
    "import sys\n",
    "\n",
    "sys.path.append(\"./\")  # Adds higher directory to python modules path.\n",
    "os.environ['TF_CPP_MIN_LOG_LEVEL'] = '1'\n",
    "from core.ODEDataset import ODEDataset\n",
    "from utils import cleaning\n",
    "\n",
    "import tensorflow as tf\n",
    "from matplotlib import pyplot as plt"
   ],
   "id": "c5829abd0be016a7",
   "outputs": [],
   "execution_count": 1
  },
  {
   "metadata": {},
   "cell_type": "markdown",
   "source": "Let's load the dataset and  select the columns we want to use as features and labels.",
   "id": "f121b815121e8078"
  },
  {
   "metadata": {},
   "cell_type": "markdown",
   "source": "## Dataset and Feature Selection",
   "id": "c029035b879bf017"
  },
  {
   "metadata": {
    "ExecuteTime": {
     "end_time": "2024-12-14T15:02:06.678965Z",
     "start_time": "2024-12-14T15:02:06.630424Z"
    }
   },
   "cell_type": "code",
   "source": [
    "dataset = ODEDataset(\"Dataset\")\n",
    "dataset.from_csv(\"./playground/data/combined_dataset_cleaned.csv\")\n"
   ],
   "id": "a158b4d87eb3f48c",
   "outputs": [
    {
     "data": {
      "text/plain": [
       "<core.ODEDataset.ODEDataset at 0x7631571b6010>"
      ]
     },
     "execution_count": 2,
     "metadata": {},
     "output_type": "execute_result"
    }
   ],
   "execution_count": 2
  },
  {
   "metadata": {
    "ExecuteTime": {
     "end_time": "2024-12-14T15:02:06.748836Z",
     "start_time": "2024-12-14T15:02:06.744331Z"
    }
   },
   "cell_type": "code",
   "source": "OUTPUT = \"Presence_TV\"",
   "id": "9924b8976bd18e89",
   "outputs": [],
   "execution_count": 3
  },
  {
   "metadata": {
    "ExecuteTime": {
     "end_time": "2024-12-14T15:02:06.778522Z",
     "start_time": "2024-12-14T15:02:06.767229Z"
    }
   },
   "cell_type": "code",
   "source": "dataset.value_counts(OUTPUT)",
   "id": "586f6f115319eba3",
   "outputs": [
    {
     "data": {
      "text/plain": [
       "Presence_TV\n",
       " 0.0    8809\n",
       " 1.0    1907\n",
       "-1.0       2\n",
       "Name: count, dtype: int64"
      ]
     },
     "execution_count": 4,
     "metadata": {},
     "output_type": "execute_result"
    }
   ],
   "execution_count": 4
  },
  {
   "metadata": {},
   "cell_type": "markdown",
   "source": "### Categorized Features",
   "id": "293154fa6ea4fdd0"
  },
  {
   "metadata": {
    "ExecuteTime": {
     "end_time": "2024-12-14T15:02:07.012005Z",
     "start_time": "2024-12-14T15:02:06.941230Z"
    }
   },
   "cell_type": "code",
   "source": [
    "categorized_features = ['Education_level_HHH',\n",
    "                        'Socio_status_HHH',\n",
    "                        'Tariff_payment_frequency',\n",
    "                        'HH_with_home_business',\n",
    "                        'Ownership_motorized_vehicle',\n",
    "                        'Ownership_small_livestock',\n",
    "                        'Ownership_large_livestock',\n",
    "                        'Clean_fuel',\n",
    "                        ]\n",
    "\n",
    "for feature in categorized_features:\n",
    "    dataset = dataset.apply(cleaning.add_one_hot_encoding(feature))\n",
    "\n",
    "dataset.preview()"
   ],
   "id": "e0799fe806f7273c",
   "outputs": [
    {
     "data": {
      "text/plain": [
       "   Unnamed: 0      ID  Years_of_HHH_in_community  Dwelling_quality_index  \\\n",
       "0           0  1001_3                         -1                       0   \n",
       "1           1  1001_3                         -1                       0   \n",
       "2           2  1026_3                         20                       0   \n",
       "3           3  1026_3                         20                       0   \n",
       "4           4  1027_2                         15                       0   \n",
       "\n",
       "   Hours_available_electricity  Measurement_age  Monthly_expenditure  \\\n",
       "0                           -1             -1.0              63600.0   \n",
       "1                           -1             -1.0              63600.0   \n",
       "2                           -1             -1.0              65400.0   \n",
       "3                           -1             -1.0              65400.0   \n",
       "4                           -1             -1.0                 -1.0   \n",
       "\n",
       "   Number_of_rooms  Climate_zone_lev_1  Climate_zone_lev_2  ...  \\\n",
       "0                3                 3.0                -1.0  ...   \n",
       "1                3                 3.0                -1.0  ...   \n",
       "2                3                 3.0                 3.0  ...   \n",
       "3                3                 3.0                 3.0  ...   \n",
       "4                2                 3.0                 3.0  ...   \n",
       "\n",
       "   Ownership_motorized_vehicle_missing  Ownership_small_livestock_No  \\\n",
       "0                                False                         False   \n",
       "1                                False                         False   \n",
       "2                                False                         False   \n",
       "3                                False                         False   \n",
       "4                                False                         False   \n",
       "\n",
       "   Ownership_small_livestock_Yes  Ownership_small_livestock_missing  \\\n",
       "0                           True                              False   \n",
       "1                           True                              False   \n",
       "2                           True                              False   \n",
       "3                           True                              False   \n",
       "4                           True                              False   \n",
       "\n",
       "   Ownership_large_livestock_No  Ownership_large_livestock_Yes  \\\n",
       "0                          True                          False   \n",
       "1                          True                          False   \n",
       "2                         False                           True   \n",
       "3                         False                           True   \n",
       "4                         False                           True   \n",
       "\n",
       "   Ownership_large_livestock_missing  Clean_fuel_No  Clean_fuel_Yes  \\\n",
       "0                              False           True           False   \n",
       "1                              False           True           False   \n",
       "2                              False           True           False   \n",
       "3                              False           True           False   \n",
       "4                              False           True           False   \n",
       "\n",
       "   Clean_fuel_missing  \n",
       "0               False  \n",
       "1               False  \n",
       "2               False  \n",
       "3               False  \n",
       "4               False  \n",
       "\n",
       "[5 rows x 73 columns]"
      ],
      "text/html": [
       "<div>\n",
       "<style scoped>\n",
       "    .dataframe tbody tr th:only-of-type {\n",
       "        vertical-align: middle;\n",
       "    }\n",
       "\n",
       "    .dataframe tbody tr th {\n",
       "        vertical-align: top;\n",
       "    }\n",
       "\n",
       "    .dataframe thead th {\n",
       "        text-align: right;\n",
       "    }\n",
       "</style>\n",
       "<table border=\"1\" class=\"dataframe\">\n",
       "  <thead>\n",
       "    <tr style=\"text-align: right;\">\n",
       "      <th></th>\n",
       "      <th>Unnamed: 0</th>\n",
       "      <th>ID</th>\n",
       "      <th>Years_of_HHH_in_community</th>\n",
       "      <th>Dwelling_quality_index</th>\n",
       "      <th>Hours_available_electricity</th>\n",
       "      <th>Measurement_age</th>\n",
       "      <th>Monthly_expenditure</th>\n",
       "      <th>Number_of_rooms</th>\n",
       "      <th>Climate_zone_lev_1</th>\n",
       "      <th>Climate_zone_lev_2</th>\n",
       "      <th>...</th>\n",
       "      <th>Ownership_motorized_vehicle_missing</th>\n",
       "      <th>Ownership_small_livestock_No</th>\n",
       "      <th>Ownership_small_livestock_Yes</th>\n",
       "      <th>Ownership_small_livestock_missing</th>\n",
       "      <th>Ownership_large_livestock_No</th>\n",
       "      <th>Ownership_large_livestock_Yes</th>\n",
       "      <th>Ownership_large_livestock_missing</th>\n",
       "      <th>Clean_fuel_No</th>\n",
       "      <th>Clean_fuel_Yes</th>\n",
       "      <th>Clean_fuel_missing</th>\n",
       "    </tr>\n",
       "  </thead>\n",
       "  <tbody>\n",
       "    <tr>\n",
       "      <th>0</th>\n",
       "      <td>0</td>\n",
       "      <td>1001_3</td>\n",
       "      <td>-1</td>\n",
       "      <td>0</td>\n",
       "      <td>-1</td>\n",
       "      <td>-1.0</td>\n",
       "      <td>63600.0</td>\n",
       "      <td>3</td>\n",
       "      <td>3.0</td>\n",
       "      <td>-1.0</td>\n",
       "      <td>...</td>\n",
       "      <td>False</td>\n",
       "      <td>False</td>\n",
       "      <td>True</td>\n",
       "      <td>False</td>\n",
       "      <td>True</td>\n",
       "      <td>False</td>\n",
       "      <td>False</td>\n",
       "      <td>True</td>\n",
       "      <td>False</td>\n",
       "      <td>False</td>\n",
       "    </tr>\n",
       "    <tr>\n",
       "      <th>1</th>\n",
       "      <td>1</td>\n",
       "      <td>1001_3</td>\n",
       "      <td>-1</td>\n",
       "      <td>0</td>\n",
       "      <td>-1</td>\n",
       "      <td>-1.0</td>\n",
       "      <td>63600.0</td>\n",
       "      <td>3</td>\n",
       "      <td>3.0</td>\n",
       "      <td>-1.0</td>\n",
       "      <td>...</td>\n",
       "      <td>False</td>\n",
       "      <td>False</td>\n",
       "      <td>True</td>\n",
       "      <td>False</td>\n",
       "      <td>True</td>\n",
       "      <td>False</td>\n",
       "      <td>False</td>\n",
       "      <td>True</td>\n",
       "      <td>False</td>\n",
       "      <td>False</td>\n",
       "    </tr>\n",
       "    <tr>\n",
       "      <th>2</th>\n",
       "      <td>2</td>\n",
       "      <td>1026_3</td>\n",
       "      <td>20</td>\n",
       "      <td>0</td>\n",
       "      <td>-1</td>\n",
       "      <td>-1.0</td>\n",
       "      <td>65400.0</td>\n",
       "      <td>3</td>\n",
       "      <td>3.0</td>\n",
       "      <td>3.0</td>\n",
       "      <td>...</td>\n",
       "      <td>False</td>\n",
       "      <td>False</td>\n",
       "      <td>True</td>\n",
       "      <td>False</td>\n",
       "      <td>False</td>\n",
       "      <td>True</td>\n",
       "      <td>False</td>\n",
       "      <td>True</td>\n",
       "      <td>False</td>\n",
       "      <td>False</td>\n",
       "    </tr>\n",
       "    <tr>\n",
       "      <th>3</th>\n",
       "      <td>3</td>\n",
       "      <td>1026_3</td>\n",
       "      <td>20</td>\n",
       "      <td>0</td>\n",
       "      <td>-1</td>\n",
       "      <td>-1.0</td>\n",
       "      <td>65400.0</td>\n",
       "      <td>3</td>\n",
       "      <td>3.0</td>\n",
       "      <td>3.0</td>\n",
       "      <td>...</td>\n",
       "      <td>False</td>\n",
       "      <td>False</td>\n",
       "      <td>True</td>\n",
       "      <td>False</td>\n",
       "      <td>False</td>\n",
       "      <td>True</td>\n",
       "      <td>False</td>\n",
       "      <td>True</td>\n",
       "      <td>False</td>\n",
       "      <td>False</td>\n",
       "    </tr>\n",
       "    <tr>\n",
       "      <th>4</th>\n",
       "      <td>4</td>\n",
       "      <td>1027_2</td>\n",
       "      <td>15</td>\n",
       "      <td>0</td>\n",
       "      <td>-1</td>\n",
       "      <td>-1.0</td>\n",
       "      <td>-1.0</td>\n",
       "      <td>2</td>\n",
       "      <td>3.0</td>\n",
       "      <td>3.0</td>\n",
       "      <td>...</td>\n",
       "      <td>False</td>\n",
       "      <td>False</td>\n",
       "      <td>True</td>\n",
       "      <td>False</td>\n",
       "      <td>False</td>\n",
       "      <td>True</td>\n",
       "      <td>False</td>\n",
       "      <td>True</td>\n",
       "      <td>False</td>\n",
       "      <td>False</td>\n",
       "    </tr>\n",
       "  </tbody>\n",
       "</table>\n",
       "<p>5 rows × 73 columns</p>\n",
       "</div>"
      ]
     },
     "execution_count": 5,
     "metadata": {},
     "output_type": "execute_result"
    }
   ],
   "execution_count": 5
  },
  {
   "metadata": {
    "ExecuteTime": {
     "end_time": "2024-12-14T15:02:07.117800Z",
     "start_time": "2024-12-14T15:02:07.105437Z"
    }
   },
   "cell_type": "code",
   "source": "dataset.get_columns()",
   "id": "130db6d4e64382a",
   "outputs": [
    {
     "data": {
      "text/plain": [
       "['Unnamed: 0',\n",
       " 'ID',\n",
       " 'Years_of_HHH_in_community',\n",
       " 'Dwelling_quality_index',\n",
       " 'Hours_available_electricity',\n",
       " 'Measurement_age',\n",
       " 'Monthly_expenditure',\n",
       " 'Number_of_rooms',\n",
       " 'Climate_zone_lev_1',\n",
       " 'Climate_zone_lev_2',\n",
       " 'Age_HHH',\n",
       " 'Number_adults',\n",
       " 'Presence_refrigerator/freezer',\n",
       " 'Presence_iron',\n",
       " 'Presence_fan',\n",
       " 'Presence_DVD_player',\n",
       " 'Presence_radio/stereo',\n",
       " 'Presence_phone_charger',\n",
       " 'Presence_TV',\n",
       " 'Years_of_HHH_in_community_missing',\n",
       " 'Dwelling_quality_index_missing',\n",
       " 'Hours_available_electricity_missing',\n",
       " 'Measurement_age_missing',\n",
       " 'Monthly_expenditure_missing',\n",
       " 'Number_of_rooms_missing',\n",
       " 'Climate_zone_lev_1_missing',\n",
       " 'Climate_zone_lev_2_missing',\n",
       " 'Age_HHH_missing',\n",
       " 'Number_adults_missing',\n",
       " \"Education_level_HHH_Bachelor's or equivalent level\",\n",
       " 'Education_level_HHH_Doctoral or equivalent level',\n",
       " 'Education_level_HHH_Lower secondary education',\n",
       " \"Education_level_HHH_Master's or equivalent level\",\n",
       " 'Education_level_HHH_No schooling',\n",
       " 'Education_level_HHH_Not elsewhere classified',\n",
       " 'Education_level_HHH_Other',\n",
       " 'Education_level_HHH_Post-secondary non-tertiary education',\n",
       " 'Education_level_HHH_Primary education',\n",
       " 'Education_level_HHH_Secondary education',\n",
       " 'Education_level_HHH_Short-cycle tertiary education',\n",
       " 'Education_level_HHH_Upper secondary education',\n",
       " 'Socio_status_HHH_Contributing family worker',\n",
       " 'Socio_status_HHH_Employee',\n",
       " 'Socio_status_HHH_Employee farm',\n",
       " 'Socio_status_HHH_Employee non-farm',\n",
       " 'Socio_status_HHH_Employer',\n",
       " 'Socio_status_HHH_Other',\n",
       " 'Socio_status_HHH_Own-account worker farm',\n",
       " 'Socio_status_HHH_Own-account worker non-farm',\n",
       " 'Socio_status_HHH_Unemployed',\n",
       " 'Socio_status_HHH_Worker not classifiable by status',\n",
       " 'Tariff_payment_frequency_Every 2 weeks',\n",
       " 'Tariff_payment_frequency_Every 3 months',\n",
       " 'Tariff_payment_frequency_Every 6 months',\n",
       " 'Tariff_payment_frequency_Monthly',\n",
       " 'Tariff_payment_frequency_No bill',\n",
       " 'Tariff_payment_frequency_Other',\n",
       " 'Tariff_payment_frequency_Weekly',\n",
       " 'HH_with_home_business_No',\n",
       " 'HH_with_home_business_Yes',\n",
       " 'HH_with_home_business_missing',\n",
       " 'Ownership_motorized_vehicle_No',\n",
       " 'Ownership_motorized_vehicle_Yes',\n",
       " 'Ownership_motorized_vehicle_missing',\n",
       " 'Ownership_small_livestock_No',\n",
       " 'Ownership_small_livestock_Yes',\n",
       " 'Ownership_small_livestock_missing',\n",
       " 'Ownership_large_livestock_No',\n",
       " 'Ownership_large_livestock_Yes',\n",
       " 'Ownership_large_livestock_missing',\n",
       " 'Clean_fuel_No',\n",
       " 'Clean_fuel_Yes',\n",
       " 'Clean_fuel_missing']"
      ]
     },
     "execution_count": 6,
     "metadata": {},
     "output_type": "execute_result"
    }
   ],
   "execution_count": 6
  },
  {
   "metadata": {},
   "cell_type": "markdown",
   "source": "### Features Selection",
   "id": "4090a48273768002"
  },
  {
   "metadata": {
    "ExecuteTime": {
     "end_time": "2024-12-14T15:02:07.422673Z",
     "start_time": "2024-12-14T15:02:07.413500Z"
    }
   },
   "cell_type": "code",
   "source": "dataset.get_columns()",
   "id": "bf068db3e0f09186",
   "outputs": [
    {
     "data": {
      "text/plain": [
       "['Unnamed: 0',\n",
       " 'ID',\n",
       " 'Years_of_HHH_in_community',\n",
       " 'Dwelling_quality_index',\n",
       " 'Hours_available_electricity',\n",
       " 'Measurement_age',\n",
       " 'Monthly_expenditure',\n",
       " 'Number_of_rooms',\n",
       " 'Climate_zone_lev_1',\n",
       " 'Climate_zone_lev_2',\n",
       " 'Age_HHH',\n",
       " 'Number_adults',\n",
       " 'Presence_refrigerator/freezer',\n",
       " 'Presence_iron',\n",
       " 'Presence_fan',\n",
       " 'Presence_DVD_player',\n",
       " 'Presence_radio/stereo',\n",
       " 'Presence_phone_charger',\n",
       " 'Presence_TV',\n",
       " 'Years_of_HHH_in_community_missing',\n",
       " 'Dwelling_quality_index_missing',\n",
       " 'Hours_available_electricity_missing',\n",
       " 'Measurement_age_missing',\n",
       " 'Monthly_expenditure_missing',\n",
       " 'Number_of_rooms_missing',\n",
       " 'Climate_zone_lev_1_missing',\n",
       " 'Climate_zone_lev_2_missing',\n",
       " 'Age_HHH_missing',\n",
       " 'Number_adults_missing',\n",
       " \"Education_level_HHH_Bachelor's or equivalent level\",\n",
       " 'Education_level_HHH_Doctoral or equivalent level',\n",
       " 'Education_level_HHH_Lower secondary education',\n",
       " \"Education_level_HHH_Master's or equivalent level\",\n",
       " 'Education_level_HHH_No schooling',\n",
       " 'Education_level_HHH_Not elsewhere classified',\n",
       " 'Education_level_HHH_Other',\n",
       " 'Education_level_HHH_Post-secondary non-tertiary education',\n",
       " 'Education_level_HHH_Primary education',\n",
       " 'Education_level_HHH_Secondary education',\n",
       " 'Education_level_HHH_Short-cycle tertiary education',\n",
       " 'Education_level_HHH_Upper secondary education',\n",
       " 'Socio_status_HHH_Contributing family worker',\n",
       " 'Socio_status_HHH_Employee',\n",
       " 'Socio_status_HHH_Employee farm',\n",
       " 'Socio_status_HHH_Employee non-farm',\n",
       " 'Socio_status_HHH_Employer',\n",
       " 'Socio_status_HHH_Other',\n",
       " 'Socio_status_HHH_Own-account worker farm',\n",
       " 'Socio_status_HHH_Own-account worker non-farm',\n",
       " 'Socio_status_HHH_Unemployed',\n",
       " 'Socio_status_HHH_Worker not classifiable by status',\n",
       " 'Tariff_payment_frequency_Every 2 weeks',\n",
       " 'Tariff_payment_frequency_Every 3 months',\n",
       " 'Tariff_payment_frequency_Every 6 months',\n",
       " 'Tariff_payment_frequency_Monthly',\n",
       " 'Tariff_payment_frequency_No bill',\n",
       " 'Tariff_payment_frequency_Other',\n",
       " 'Tariff_payment_frequency_Weekly',\n",
       " 'HH_with_home_business_No',\n",
       " 'HH_with_home_business_Yes',\n",
       " 'HH_with_home_business_missing',\n",
       " 'Ownership_motorized_vehicle_No',\n",
       " 'Ownership_motorized_vehicle_Yes',\n",
       " 'Ownership_motorized_vehicle_missing',\n",
       " 'Ownership_small_livestock_No',\n",
       " 'Ownership_small_livestock_Yes',\n",
       " 'Ownership_small_livestock_missing',\n",
       " 'Ownership_large_livestock_No',\n",
       " 'Ownership_large_livestock_Yes',\n",
       " 'Ownership_large_livestock_missing',\n",
       " 'Clean_fuel_No',\n",
       " 'Clean_fuel_Yes',\n",
       " 'Clean_fuel_missing']"
      ]
     },
     "execution_count": 7,
     "metadata": {},
     "output_type": "execute_result"
    }
   ],
   "execution_count": 7
  },
  {
   "metadata": {
    "ExecuteTime": {
     "end_time": "2024-12-14T15:02:07.574999Z",
     "start_time": "2024-12-14T15:02:07.559370Z"
    }
   },
   "cell_type": "code",
   "source": [
    "Features = [\n",
    "    #    'Education_level_HHH',\n",
    "    'Education_level_HHH_Doctoral or equivalent level',\n",
    "    'Education_level_HHH_Lower secondary education',\n",
    "    \"Education_level_HHH_Master's or equivalent level\",\n",
    "    'Education_level_HHH_No schooling',\n",
    "    'Education_level_HHH_Not elsewhere classified',\n",
    "    'Education_level_HHH_Other',\n",
    "    'Education_level_HHH_Post-secondary non-tertiary education',\n",
    "    'Education_level_HHH_Primary education',\n",
    "    'Education_level_HHH_Secondary education',\n",
    "    'Education_level_HHH_Short-cycle tertiary education',\n",
    "    'Education_level_HHH_Upper secondary education',\n",
    "    # 'Socio_status_HHH',\n",
    "    'Socio_status_HHH_Employee', 'Socio_status_HHH_Employee farm',\n",
    "    'Socio_status_HHH_Employee non-farm', 'Socio_status_HHH_Employer',\n",
    "    'Socio_status_HHH_Other', 'Socio_status_HHH_Own-account worker farm',\n",
    "    'Socio_status_HHH_Own-account worker non-farm',\n",
    "    'Socio_status_HHH_Unemployed',\n",
    "    'Socio_status_HHH_Worker not classifiable by status',\n",
    "    # 'Tariff_payment_frequency',\n",
    "    'Tariff_payment_frequency_Every 3 months',\n",
    "    'Tariff_payment_frequency_Every 6 months',\n",
    "    'Tariff_payment_frequency_Monthly', 'Tariff_payment_frequency_No bill',\n",
    "    'Tariff_payment_frequency_Other', 'Tariff_payment_frequency_Weekly',\n",
    "\n",
    "    'HH_with_home_business_Yes',\n",
    "    'HH_with_home_business_No',\n",
    "    'HH_with_home_business_missing',\n",
    "\n",
    "    'Ownership_motorized_vehicle_Yes',\n",
    "    'Ownership_large_livestock_No',\n",
    "    'Ownership_motorized_vehicle_missing',\n",
    "\n",
    "    'Ownership_small_livestock_Yes',\n",
    "    'Ownership_small_livestock_No',\n",
    "    'Ownership_small_livestock_missing',\n",
    "\n",
    "    'Ownership_large_livestock_Yes',\n",
    "    'Ownership_large_livestock_No',\n",
    "    'Ownership_large_livestock_missing',\n",
    "\n",
    "    'Clean_fuel_Yes',\n",
    "    'Clean_fuel_No',\n",
    "    'Clean_fuel_missing',\n",
    "\n",
    "    'Years_of_HHH_in_community',\n",
    "    'Years_of_HHH_in_community_missing',\n",
    "\n",
    "    'Dwelling_quality_index',\n",
    "    'Dwelling_quality_index_missing',\n",
    "\n",
    "    'Hours_available_electricity',\n",
    "    'Hours_available_electricity_missing',\n",
    "\n",
    "    'Measurement_age',\n",
    "    'Measurement_age_missing',\n",
    "\n",
    "    'Monthly_expenditure',\n",
    "    'Monthly_expenditure_missing',\n",
    "\n",
    "    'Number_of_rooms',\n",
    "    'Number_of_rooms_missing',\n",
    "    'Climate_zone_lev_1',\n",
    "    'Climate_zone_lev_1_missing',\n",
    "\n",
    "    'Climate_zone_lev_2',\n",
    "    'Climate_zone_lev_2_missing',\n",
    "\n",
    "    'Age_HHH',\n",
    "    'Age_HHH_missing',\n",
    "\n",
    "    'Number_adults',\n",
    "    'Number_adults_missing'\n",
    "]\n",
    "\n",
    "FEATURE_NUM = len(Features)"
   ],
   "id": "d06756f51551672",
   "outputs": [],
   "execution_count": 8
  },
  {
   "metadata": {
    "ExecuteTime": {
     "end_time": "2024-12-14T15:02:07.739014Z",
     "start_time": "2024-12-14T15:02:07.716910Z"
    }
   },
   "cell_type": "code",
   "source": [
    "dataset = dataset.apply(cleaning.remove_row(OUTPUT, -1))\n",
    "dataset.value_counts(OUTPUT)"
   ],
   "id": "90f1638a136e1d18",
   "outputs": [
    {
     "data": {
      "text/plain": [
       "Presence_TV\n",
       "0.0    8809\n",
       "1.0    1907\n",
       "Name: count, dtype: int64"
      ]
     },
     "execution_count": 9,
     "metadata": {},
     "output_type": "execute_result"
    }
   ],
   "execution_count": 9
  },
  {
   "metadata": {
    "ExecuteTime": {
     "end_time": "2024-12-14T15:02:07.978163Z",
     "start_time": "2024-12-14T15:02:07.971118Z"
    }
   },
   "cell_type": "code",
   "source": [
    "total = len(dataset)\n",
    "positive = dataset.value_counts(OUTPUT)[1]\n",
    "negative = total - positive\n",
    "\n",
    "print(f\"Positive: {positive/total}, Negative: {negative/total}\")\n"
   ],
   "id": "1cf452a144faa4d2",
   "outputs": [
    {
     "name": "stdout",
     "output_type": "stream",
     "text": [
      "Positive: 0.17795819335572974, Negative: 0.8220418066442703\n"
     ]
    }
   ],
   "execution_count": 10
  },
  {
   "metadata": {
    "ExecuteTime": {
     "end_time": "2024-12-14T15:02:08.421305Z",
     "start_time": "2024-12-14T15:02:08.348874Z"
    }
   },
   "cell_type": "code",
   "source": "dataset = dataset.to_tf_dataset(Features, [OUTPUT])",
   "id": "f61bc0aec36dcf5e",
   "outputs": [],
   "execution_count": 11
  },
  {
   "metadata": {},
   "cell_type": "markdown",
   "source": "## Constants and dataset splitting",
   "id": "f09478faee6a47e2"
  },
  {
   "metadata": {
    "ExecuteTime": {
     "end_time": "2024-12-14T15:02:08.614645Z",
     "start_time": "2024-12-14T15:02:08.553991Z"
    }
   },
   "cell_type": "code",
   "source": [
    "BATCH_SIZE = 8\n",
    "EPOCHS = 30\n",
    "OPTIMIZER = tf.keras.optimizers.Adam(0.001)\n",
    "LOSS = tf.keras.losses.BinaryCrossentropy()\n",
    "LEN = len(dataset) // BATCH_SIZE\n",
    "train_len = int(0.6 * LEN)\n",
    "val_size = int(0.1 * LEN)\n",
    "test_size = int(0.1 * LEN)"
   ],
   "id": "b33a9fca399e5326",
   "outputs": [],
   "execution_count": 12
  },
  {
   "metadata": {
    "ExecuteTime": {
     "end_time": "2024-12-14T15:02:08.679598Z",
     "start_time": "2024-12-14T15:02:08.665578Z"
    }
   },
   "cell_type": "code",
   "source": [
    "from collections import Counter\n",
    "def get_class_distribution(data):\n",
    "\n",
    "    # Extract all labels from the dataset\n",
    "    all_labels = []\n",
    "\n",
    "    for _, label in data:  # Iterate over the dataset\n",
    "        all_labels.append(label.numpy())  # Convert label tensors to NumPy arrays\n",
    "\n",
    "    # Flatten the list in case labels are multi-dimensional\n",
    "    all_labels = [i[0] for k in all_labels for i in list(k)]\n",
    "    # Count occurrences of each label\n",
    "    label_counts = Counter(all_labels)\n",
    "\n",
    "    # Calculate the ratio for each label\n",
    "    total_samples = sum(label_counts.values())\n",
    "    label_ratios = {label: count / total_samples for label, count in label_counts.items()}\n",
    "\n",
    "    # Print out the labels and their ratios\n",
    "    print(\"Label Counts:\", label_counts)\n",
    "    print(\"Label Ratios:\", label_ratios)\n",
    "\n"
   ],
   "id": "ad76d09caca519cc",
   "outputs": [],
   "execution_count": 13
  },
  {
   "metadata": {
    "ExecuteTime": {
     "end_time": "2024-12-14T15:02:08.746503Z",
     "start_time": "2024-12-14T15:02:08.701881Z"
    }
   },
   "cell_type": "code",
   "source": [
    "ds = dataset.shuffle(9001).batch(BATCH_SIZE)\n",
    "\n",
    "train_ds = ds.take(train_len)\n",
    "val_ds = ds.skip(train_len).take(val_size)\n",
    "test_ds = ds.skip(train_len + val_size).take(test_size)\n"
   ],
   "id": "3bb1a02541b6c6e",
   "outputs": [],
   "execution_count": 14
  },
  {
   "metadata": {},
   "cell_type": "markdown",
   "source": "we want to shuffle until we get a good distribution of the classes",
   "id": "49caffd93650e2bb"
  },
  {
   "metadata": {
    "ExecuteTime": {
     "end_time": "2024-12-14T15:02:09.139059Z",
     "start_time": "2024-12-14T15:02:08.771725Z"
    }
   },
   "cell_type": "code",
   "source": [
    "print(\"Training\")\n",
    "get_class_distribution(train_ds)\n",
    "print(\"Validation\")\n",
    "get_class_distribution(val_ds)\n",
    "print(\"Testing\")\n",
    "get_class_distribution(test_ds)"
   ],
   "id": "c82fb6ee6ed81db",
   "outputs": [
    {
     "name": "stdout",
     "output_type": "stream",
     "text": [
      "Training\n",
      "Label Counts: Counter({0.0: 5271, 1.0: 1153})\n",
      "Label Ratios: {0.0: 0.8205168119551681, 1.0: 0.17948318804483188}\n",
      "Validation\n",
      "Label Counts: Counter({0.0: 862, 1.0: 202})\n",
      "Label Ratios: {0.0: 0.8101503759398496, 1.0: 0.18984962406015038}\n",
      "Testing\n",
      "Label Counts: Counter({0.0: 879, 1.0: 185})\n",
      "Label Ratios: {0.0: 0.8261278195488722, 1.0: 0.17387218045112782}\n"
     ]
    }
   ],
   "execution_count": 15
  },
  {
   "metadata": {},
   "cell_type": "markdown",
   "source": "## Model",
   "id": "1bbda1ca2b2af7e9"
  },
  {
   "metadata": {
    "ExecuteTime": {
     "end_time": "2024-12-14T15:02:09.255285Z",
     "start_time": "2024-12-14T15:02:09.151685Z"
    }
   },
   "cell_type": "code",
   "source": [
    "model = tf.keras.Sequential([\n",
    "    tf.keras.layers.Input(shape=(FEATURE_NUM,)),\n",
    "    tf.keras.layers.Dense(128, activation='relu'),\n",
    "    tf.keras.layers.Dropout(0.2),\n",
    "    tf.keras.layers.Dense(128, activation='relu'),\n",
    "    tf.keras.layers.Dense(1, activation='sigmoid')\n",
    "])\n",
    "model.compile(optimizer=OPTIMIZER, loss=LOSS, metrics=['accuracy', 'precision', 'recall'])\n",
    "model.summary()"
   ],
   "id": "662cc3d113b9bc77",
   "outputs": [
    {
     "data": {
      "text/plain": [
       "\u001B[1mModel: \"sequential\"\u001B[0m\n"
      ],
      "text/html": [
       "<pre style=\"white-space:pre;overflow-x:auto;line-height:normal;font-family:Menlo,'DejaVu Sans Mono',consolas,'Courier New',monospace\"><span style=\"font-weight: bold\">Model: \"sequential\"</span>\n",
       "</pre>\n"
      ]
     },
     "metadata": {},
     "output_type": "display_data"
    },
    {
     "data": {
      "text/plain": [
       "┏━━━━━━━━━━━━━━━━━━━━━━━━━━━━━━━━━┳━━━━━━━━━━━━━━━━━━━━━━━━┳━━━━━━━━━━━━━━━┓\n",
       "┃\u001B[1m \u001B[0m\u001B[1mLayer (type)                   \u001B[0m\u001B[1m \u001B[0m┃\u001B[1m \u001B[0m\u001B[1mOutput Shape          \u001B[0m\u001B[1m \u001B[0m┃\u001B[1m \u001B[0m\u001B[1m      Param #\u001B[0m\u001B[1m \u001B[0m┃\n",
       "┡━━━━━━━━━━━━━━━━━━━━━━━━━━━━━━━━━╇━━━━━━━━━━━━━━━━━━━━━━━━╇━━━━━━━━━━━━━━━┩\n",
       "│ dense (\u001B[38;5;33mDense\u001B[0m)                   │ (\u001B[38;5;45mNone\u001B[0m, \u001B[38;5;34m128\u001B[0m)            │         \u001B[38;5;34m7,936\u001B[0m │\n",
       "├─────────────────────────────────┼────────────────────────┼───────────────┤\n",
       "│ dropout (\u001B[38;5;33mDropout\u001B[0m)               │ (\u001B[38;5;45mNone\u001B[0m, \u001B[38;5;34m128\u001B[0m)            │             \u001B[38;5;34m0\u001B[0m │\n",
       "├─────────────────────────────────┼────────────────────────┼───────────────┤\n",
       "│ dense_1 (\u001B[38;5;33mDense\u001B[0m)                 │ (\u001B[38;5;45mNone\u001B[0m, \u001B[38;5;34m128\u001B[0m)            │        \u001B[38;5;34m16,512\u001B[0m │\n",
       "├─────────────────────────────────┼────────────────────────┼───────────────┤\n",
       "│ dense_2 (\u001B[38;5;33mDense\u001B[0m)                 │ (\u001B[38;5;45mNone\u001B[0m, \u001B[38;5;34m1\u001B[0m)              │           \u001B[38;5;34m129\u001B[0m │\n",
       "└─────────────────────────────────┴────────────────────────┴───────────────┘\n"
      ],
      "text/html": [
       "<pre style=\"white-space:pre;overflow-x:auto;line-height:normal;font-family:Menlo,'DejaVu Sans Mono',consolas,'Courier New',monospace\">┏━━━━━━━━━━━━━━━━━━━━━━━━━━━━━━━━━┳━━━━━━━━━━━━━━━━━━━━━━━━┳━━━━━━━━━━━━━━━┓\n",
       "┃<span style=\"font-weight: bold\"> Layer (type)                    </span>┃<span style=\"font-weight: bold\"> Output Shape           </span>┃<span style=\"font-weight: bold\">       Param # </span>┃\n",
       "┡━━━━━━━━━━━━━━━━━━━━━━━━━━━━━━━━━╇━━━━━━━━━━━━━━━━━━━━━━━━╇━━━━━━━━━━━━━━━┩\n",
       "│ dense (<span style=\"color: #0087ff; text-decoration-color: #0087ff\">Dense</span>)                   │ (<span style=\"color: #00d7ff; text-decoration-color: #00d7ff\">None</span>, <span style=\"color: #00af00; text-decoration-color: #00af00\">128</span>)            │         <span style=\"color: #00af00; text-decoration-color: #00af00\">7,936</span> │\n",
       "├─────────────────────────────────┼────────────────────────┼───────────────┤\n",
       "│ dropout (<span style=\"color: #0087ff; text-decoration-color: #0087ff\">Dropout</span>)               │ (<span style=\"color: #00d7ff; text-decoration-color: #00d7ff\">None</span>, <span style=\"color: #00af00; text-decoration-color: #00af00\">128</span>)            │             <span style=\"color: #00af00; text-decoration-color: #00af00\">0</span> │\n",
       "├─────────────────────────────────┼────────────────────────┼───────────────┤\n",
       "│ dense_1 (<span style=\"color: #0087ff; text-decoration-color: #0087ff\">Dense</span>)                 │ (<span style=\"color: #00d7ff; text-decoration-color: #00d7ff\">None</span>, <span style=\"color: #00af00; text-decoration-color: #00af00\">128</span>)            │        <span style=\"color: #00af00; text-decoration-color: #00af00\">16,512</span> │\n",
       "├─────────────────────────────────┼────────────────────────┼───────────────┤\n",
       "│ dense_2 (<span style=\"color: #0087ff; text-decoration-color: #0087ff\">Dense</span>)                 │ (<span style=\"color: #00d7ff; text-decoration-color: #00d7ff\">None</span>, <span style=\"color: #00af00; text-decoration-color: #00af00\">1</span>)              │           <span style=\"color: #00af00; text-decoration-color: #00af00\">129</span> │\n",
       "└─────────────────────────────────┴────────────────────────┴───────────────┘\n",
       "</pre>\n"
      ]
     },
     "metadata": {},
     "output_type": "display_data"
    },
    {
     "data": {
      "text/plain": [
       "\u001B[1m Total params: \u001B[0m\u001B[38;5;34m24,577\u001B[0m (96.00 KB)\n"
      ],
      "text/html": [
       "<pre style=\"white-space:pre;overflow-x:auto;line-height:normal;font-family:Menlo,'DejaVu Sans Mono',consolas,'Courier New',monospace\"><span style=\"font-weight: bold\"> Total params: </span><span style=\"color: #00af00; text-decoration-color: #00af00\">24,577</span> (96.00 KB)\n",
       "</pre>\n"
      ]
     },
     "metadata": {},
     "output_type": "display_data"
    },
    {
     "data": {
      "text/plain": [
       "\u001B[1m Trainable params: \u001B[0m\u001B[38;5;34m24,577\u001B[0m (96.00 KB)\n"
      ],
      "text/html": [
       "<pre style=\"white-space:pre;overflow-x:auto;line-height:normal;font-family:Menlo,'DejaVu Sans Mono',consolas,'Courier New',monospace\"><span style=\"font-weight: bold\"> Trainable params: </span><span style=\"color: #00af00; text-decoration-color: #00af00\">24,577</span> (96.00 KB)\n",
       "</pre>\n"
      ]
     },
     "metadata": {},
     "output_type": "display_data"
    },
    {
     "data": {
      "text/plain": [
       "\u001B[1m Non-trainable params: \u001B[0m\u001B[38;5;34m0\u001B[0m (0.00 B)\n"
      ],
      "text/html": [
       "<pre style=\"white-space:pre;overflow-x:auto;line-height:normal;font-family:Menlo,'DejaVu Sans Mono',consolas,'Courier New',monospace\"><span style=\"font-weight: bold\"> Non-trainable params: </span><span style=\"color: #00af00; text-decoration-color: #00af00\">0</span> (0.00 B)\n",
       "</pre>\n"
      ]
     },
     "metadata": {},
     "output_type": "display_data"
    }
   ],
   "execution_count": 16
  },
  {
   "metadata": {
    "ExecuteTime": {
     "end_time": "2024-12-14T15:03:48.061311Z",
     "start_time": "2024-12-14T15:02:09.307120Z"
    }
   },
   "cell_type": "code",
   "source": [
    "history = model.fit(train_ds, epochs=EPOCHS,\n",
    "\n",
    "                    validation_data=val_ds)\n"
   ],
   "id": "fc0828bd2f8c4ac",
   "outputs": [
    {
     "name": "stdout",
     "output_type": "stream",
     "text": [
      "Epoch 1/30\n",
      "\u001B[1m803/803\u001B[0m \u001B[32m━━━━━━━━━━━━━━━━━━━━\u001B[0m\u001B[37m\u001B[0m \u001B[1m4s\u001B[0m 3ms/step - accuracy: 0.7109 - loss: 551.0551 - precision: 0.2792 - recall: 0.4243 - val_accuracy: 0.7613 - val_loss: 118.3438 - val_precision: 0.3949 - val_recall: 0.6596\n",
      "Epoch 2/30\n",
      "\u001B[1m803/803\u001B[0m \u001B[32m━━━━━━━━━━━━━━━━━━━━\u001B[0m\u001B[37m\u001B[0m \u001B[1m2s\u001B[0m 3ms/step - accuracy: 0.7918 - loss: 206.8011 - precision: 0.3947 - recall: 0.4297 - val_accuracy: 0.8130 - val_loss: 952.4619 - val_precision: 0.2727 - val_recall: 0.0317\n",
      "Epoch 3/30\n",
      "\u001B[1m803/803\u001B[0m \u001B[32m━━━━━━━━━━━━━━━━━━━━\u001B[0m\u001B[37m\u001B[0m \u001B[1m2s\u001B[0m 3ms/step - accuracy: 0.7675 - loss: 105.4680 - precision: 0.3491 - recall: 0.4709 - val_accuracy: 0.8064 - val_loss: 29.5336 - val_precision: 0.4783 - val_recall: 0.0537\n",
      "Epoch 4/30\n",
      "\u001B[1m803/803\u001B[0m \u001B[32m━━━━━━━━━━━━━━━━━━━━\u001B[0m\u001B[37m\u001B[0m \u001B[1m3s\u001B[0m 4ms/step - accuracy: 0.8217 - loss: 31.1515 - precision: 0.4919 - recall: 0.3751 - val_accuracy: 0.7585 - val_loss: 40.1262 - val_precision: 0.4421 - val_recall: 0.8990\n",
      "Epoch 5/30\n",
      "\u001B[1m803/803\u001B[0m \u001B[32m━━━━━━━━━━━━━━━━━━━━\u001B[0m\u001B[37m\u001B[0m \u001B[1m3s\u001B[0m 4ms/step - accuracy: 0.8154 - loss: 14.9445 - precision: 0.4731 - recall: 0.5125 - val_accuracy: 0.8327 - val_loss: 8.4449 - val_precision: 0.9333 - val_recall: 0.0733\n",
      "Epoch 6/30\n",
      "\u001B[1m803/803\u001B[0m \u001B[32m━━━━━━━━━━━━━━━━━━━━\u001B[0m\u001B[37m\u001B[0m \u001B[1m3s\u001B[0m 4ms/step - accuracy: 0.8374 - loss: 3.7526 - precision: 0.4930 - recall: 0.2682 - val_accuracy: 0.8205 - val_loss: 0.3357 - val_precision: 0.4219 - val_recall: 0.3158\n",
      "Epoch 7/30\n",
      "\u001B[1m803/803\u001B[0m \u001B[32m━━━━━━━━━━━━━━━━━━━━\u001B[0m\u001B[37m\u001B[0m \u001B[1m3s\u001B[0m 4ms/step - accuracy: 0.8645 - loss: 0.9396 - precision: 0.6443 - recall: 0.3706 - val_accuracy: 0.8985 - val_loss: 0.2393 - val_precision: 0.7786 - val_recall: 0.5860\n",
      "Epoch 8/30\n",
      "\u001B[1m803/803\u001B[0m \u001B[32m━━━━━━━━━━━━━━━━━━━━\u001B[0m\u001B[37m\u001B[0m \u001B[1m4s\u001B[0m 4ms/step - accuracy: 0.8974 - loss: 0.2562 - precision: 0.7707 - recall: 0.5538 - val_accuracy: 0.8402 - val_loss: 0.2924 - val_precision: 0.8000 - val_recall: 0.0670\n",
      "Epoch 9/30\n",
      "\u001B[1m803/803\u001B[0m \u001B[32m━━━━━━━━━━━━━━━━━━━━\u001B[0m\u001B[37m\u001B[0m \u001B[1m4s\u001B[0m 4ms/step - accuracy: 0.8489 - loss: 0.2663 - precision: 0.7053 - recall: 0.1088 - val_accuracy: 0.8656 - val_loss: 0.2595 - val_precision: 0.8148 - val_recall: 0.1375\n",
      "Epoch 10/30\n",
      "\u001B[1m803/803\u001B[0m \u001B[32m━━━━━━━━━━━━━━━━━━━━\u001B[0m\u001B[37m\u001B[0m \u001B[1m3s\u001B[0m 4ms/step - accuracy: 0.8435 - loss: 0.2598 - precision: 0.6110 - recall: 0.2220 - val_accuracy: 0.8487 - val_loss: 0.2394 - val_precision: 0.8276 - val_recall: 0.1333\n",
      "Epoch 11/30\n",
      "\u001B[1m803/803\u001B[0m \u001B[32m━━━━━━━━━━━━━━━━━━━━\u001B[0m\u001B[37m\u001B[0m \u001B[1m4s\u001B[0m 4ms/step - accuracy: 0.8502 - loss: 0.3538 - precision: 0.6462 - recall: 0.2406 - val_accuracy: 0.8449 - val_loss: 0.2671 - val_precision: 0.7917 - val_recall: 0.1969\n",
      "Epoch 12/30\n",
      "\u001B[1m803/803\u001B[0m \u001B[32m━━━━━━━━━━━━━━━━━━━━\u001B[0m\u001B[37m\u001B[0m \u001B[1m4s\u001B[0m 4ms/step - accuracy: 0.8624 - loss: 0.2747 - precision: 0.7442 - recall: 0.2502 - val_accuracy: 0.8712 - val_loss: 0.2665 - val_precision: 0.6268 - val_recall: 0.5145\n",
      "Epoch 13/30\n",
      "\u001B[1m803/803\u001B[0m \u001B[32m━━━━━━━━━━━━━━━━━━━━\u001B[0m\u001B[37m\u001B[0m \u001B[1m3s\u001B[0m 4ms/step - accuracy: 0.8621 - loss: 0.3779 - precision: 0.7282 - recall: 0.3395 - val_accuracy: 0.8468 - val_loss: 0.2990 - val_precision: 0.9333 - val_recall: 0.1481\n",
      "Epoch 14/30\n",
      "\u001B[1m803/803\u001B[0m \u001B[32m━━━━━━━━━━━━━━━━━━━━\u001B[0m\u001B[37m\u001B[0m \u001B[1m4s\u001B[0m 4ms/step - accuracy: 0.8491 - loss: 0.3249 - precision: 0.7750 - recall: 0.1300 - val_accuracy: 0.8440 - val_loss: 0.2792 - val_precision: 0.7500 - val_recall: 0.1319\n",
      "Epoch 15/30\n",
      "\u001B[1m803/803\u001B[0m \u001B[32m━━━━━━━━━━━━━━━━━━━━\u001B[0m\u001B[37m\u001B[0m \u001B[1m3s\u001B[0m 4ms/step - accuracy: 0.8531 - loss: 0.2780 - precision: 0.7372 - recall: 0.1171 - val_accuracy: 0.8336 - val_loss: 0.2929 - val_precision: 0.6111 - val_recall: 0.1189\n",
      "Epoch 16/30\n",
      "\u001B[1m803/803\u001B[0m \u001B[32m━━━━━━━━━━━━━━━━━━━━\u001B[0m\u001B[37m\u001B[0m \u001B[1m3s\u001B[0m 4ms/step - accuracy: 0.8427 - loss: 0.2864 - precision: 0.7752 - recall: 0.1133 - val_accuracy: 0.8449 - val_loss: 0.2868 - val_precision: 0.8710 - val_recall: 0.1436\n",
      "Epoch 17/30\n",
      "\u001B[1m803/803\u001B[0m \u001B[32m━━━━━━━━━━━━━━━━━━━━\u001B[0m\u001B[37m\u001B[0m \u001B[1m3s\u001B[0m 4ms/step - accuracy: 0.8475 - loss: 0.2739 - precision: 0.7014 - recall: 0.1251 - val_accuracy: 0.8496 - val_loss: 0.2550 - val_precision: 0.8333 - val_recall: 0.1136\n",
      "Epoch 18/30\n",
      "\u001B[1m803/803\u001B[0m \u001B[32m━━━━━━━━━━━━━━━━━━━━\u001B[0m\u001B[37m\u001B[0m \u001B[1m3s\u001B[0m 4ms/step - accuracy: 0.8533 - loss: 0.2856 - precision: 0.7129 - recall: 0.1183 - val_accuracy: 0.8242 - val_loss: 0.2942 - val_precision: 0.8000 - val_recall: 0.1346\n",
      "Epoch 19/30\n",
      "\u001B[1m803/803\u001B[0m \u001B[32m━━━━━━━━━━━━━━━━━━━━\u001B[0m\u001B[37m\u001B[0m \u001B[1m3s\u001B[0m 4ms/step - accuracy: 0.8462 - loss: 0.4363 - precision: 0.7294 - recall: 0.1457 - val_accuracy: 0.8553 - val_loss: 0.2710 - val_precision: 0.9062 - val_recall: 0.1611\n",
      "Epoch 20/30\n",
      "\u001B[1m803/803\u001B[0m \u001B[32m━━━━━━━━━━━━━━━━━━━━\u001B[0m\u001B[37m\u001B[0m \u001B[1m3s\u001B[0m 4ms/step - accuracy: 0.8693 - loss: 0.2708 - precision: 0.7704 - recall: 0.3565 - val_accuracy: 0.8374 - val_loss: 0.3030 - val_precision: 0.7895 - val_recall: 0.0815\n",
      "Epoch 21/30\n",
      "\u001B[1m803/803\u001B[0m \u001B[32m━━━━━━━━━━━━━━━━━━━━\u001B[0m\u001B[37m\u001B[0m \u001B[1m3s\u001B[0m 4ms/step - accuracy: 0.8337 - loss: 0.3858 - precision: 0.7177 - recall: 0.0989 - val_accuracy: 0.8355 - val_loss: 0.2871 - val_precision: 0.8421 - val_recall: 0.1592\n",
      "Epoch 22/30\n",
      "\u001B[1m803/803\u001B[0m \u001B[32m━━━━━━━━━━━━━━━━━━━━\u001B[0m\u001B[37m\u001B[0m \u001B[1m3s\u001B[0m 4ms/step - accuracy: 0.8558 - loss: 0.2564 - precision: 0.8241 - recall: 0.1596 - val_accuracy: 0.8553 - val_loss: 0.2598 - val_precision: 1.0000 - val_recall: 0.1299\n",
      "Epoch 23/30\n",
      "\u001B[1m803/803\u001B[0m \u001B[32m━━━━━━━━━━━━━━━━━━━━\u001B[0m\u001B[37m\u001B[0m \u001B[1m3s\u001B[0m 4ms/step - accuracy: 0.8549 - loss: 0.2581 - precision: 0.7539 - recall: 0.1905 - val_accuracy: 0.8759 - val_loss: 0.2536 - val_precision: 0.7629 - val_recall: 0.4044\n",
      "Epoch 24/30\n",
      "\u001B[1m803/803\u001B[0m \u001B[32m━━━━━━━━━━━━━━━━━━━━\u001B[0m\u001B[37m\u001B[0m \u001B[1m3s\u001B[0m 4ms/step - accuracy: 0.8706 - loss: 0.3017 - precision: 0.7497 - recall: 0.3865 - val_accuracy: 0.8853 - val_loss: 0.2393 - val_precision: 0.8495 - val_recall: 0.4225\n",
      "Epoch 25/30\n",
      "\u001B[1m803/803\u001B[0m \u001B[32m━━━━━━━━━━━━━━━━━━━━\u001B[0m\u001B[37m\u001B[0m \u001B[1m3s\u001B[0m 4ms/step - accuracy: 0.8841 - loss: 0.4398 - precision: 0.7570 - recall: 0.4560 - val_accuracy: 0.8957 - val_loss: 0.2407 - val_precision: 0.8000 - val_recall: 0.4972\n",
      "Epoch 26/30\n",
      "\u001B[1m803/803\u001B[0m \u001B[32m━━━━━━━━━━━━━━━━━━━━\u001B[0m\u001B[37m\u001B[0m \u001B[1m3s\u001B[0m 4ms/step - accuracy: 0.8838 - loss: 0.3060 - precision: 0.7628 - recall: 0.4310 - val_accuracy: 0.8957 - val_loss: 0.2499 - val_precision: 0.8532 - val_recall: 0.4947\n",
      "Epoch 27/30\n",
      "\u001B[1m803/803\u001B[0m \u001B[32m━━━━━━━━━━━━━━━━━━━━\u001B[0m\u001B[37m\u001B[0m \u001B[1m3s\u001B[0m 4ms/step - accuracy: 0.8867 - loss: 0.2987 - precision: 0.7824 - recall: 0.4530 - val_accuracy: 0.9051 - val_loss: 0.2394 - val_precision: 0.8793 - val_recall: 0.5397\n",
      "Epoch 28/30\n",
      "\u001B[1m803/803\u001B[0m \u001B[32m━━━━━━━━━━━━━━━━━━━━\u001B[0m\u001B[37m\u001B[0m \u001B[1m3s\u001B[0m 4ms/step - accuracy: 0.8731 - loss: 0.2575 - precision: 0.7841 - recall: 0.3102 - val_accuracy: 0.8675 - val_loss: 0.2671 - val_precision: 0.7802 - val_recall: 0.3698\n",
      "Epoch 29/30\n",
      "\u001B[1m803/803\u001B[0m \u001B[32m━━━━━━━━━━━━━━━━━━━━\u001B[0m\u001B[37m\u001B[0m \u001B[1m3s\u001B[0m 4ms/step - accuracy: 0.8698 - loss: 0.4374 - precision: 0.7540 - recall: 0.2983 - val_accuracy: 0.8571 - val_loss: 0.2592 - val_precision: 0.8103 - val_recall: 0.2500\n",
      "Epoch 30/30\n",
      "\u001B[1m803/803\u001B[0m \u001B[32m━━━━━━━━━━━━━━━━━━━━\u001B[0m\u001B[37m\u001B[0m \u001B[1m3s\u001B[0m 4ms/step - accuracy: 0.8622 - loss: 0.2666 - precision: 0.7436 - recall: 0.2867 - val_accuracy: 0.9098 - val_loss: 0.2365 - val_precision: 0.8862 - val_recall: 0.5707\n"
     ]
    }
   ],
   "execution_count": 17
  },
  {
   "metadata": {},
   "cell_type": "markdown",
   "source": "## Visualization",
   "id": "bcd21e01ff7a28f2"
  },
  {
   "metadata": {
    "ExecuteTime": {
     "end_time": "2024-12-14T15:03:48.343399Z",
     "start_time": "2024-12-14T15:03:48.146432Z"
    }
   },
   "cell_type": "code",
   "source": [
    "\n",
    "plt.plot(history.history['loss'])\n",
    "plt.title('Model loss')\n",
    "plt.ylabel('Loss')\n",
    "plt.xlabel('Epoch')"
   ],
   "id": "6d5cd6e5089a3530",
   "outputs": [
    {
     "data": {
      "text/plain": [
       "Text(0.5, 0, 'Epoch')"
      ]
     },
     "execution_count": 18,
     "metadata": {},
     "output_type": "execute_result"
    },
    {
     "data": {
      "text/plain": [
       "<Figure size 640x480 with 1 Axes>"
      ],
      "image/png": "[encoded data removed]"
     },
     "metadata": {},
     "output_type": "display_data"
    }
   ],
   "execution_count": 18
  },
  {
   "metadata": {
    "ExecuteTime": {
     "end_time": "2024-12-14T15:03:48.593932Z",
     "start_time": "2024-12-14T15:03:48.357001Z"
    }
   },
   "cell_type": "code",
   "source": [
    "plt.plot(history.history['accuracy'])\n",
    "plt.title('Model accuracy')\n",
    "plt.ylabel('Accuracy')\n",
    "plt.xlabel('Epoch')"
   ],
   "id": "208c7a6769b05949",
   "outputs": [
    {
     "data": {
      "text/plain": [
       "Text(0.5, 0, 'Epoch')"
      ]
     },
     "execution_count": 19,
     "metadata": {},
     "output_type": "execute_result"
    },
    {
     "data": {
      "text/plain": [
       "<Figure size 640x480 with 1 Axes>"
      ],
      "image/png": "[encoded data removed]"
     },
     "metadata": {},
     "output_type": "display_data"
    }
   ],
   "execution_count": 19
  },
  {
   "metadata": {
    "ExecuteTime": {
     "end_time": "2024-12-14T15:03:48.612822Z",
     "start_time": "2024-12-14T15:03:48.608923Z"
    }
   },
   "cell_type": "code",
   "source": "",
   "id": "302f9ba09abafa4",
   "outputs": [],
   "execution_count": null
  },
  {
   "metadata": {
    "ExecuteTime": {
     "end_time": "2024-12-14T15:03:48.986422Z",
     "start_time": "2024-12-14T15:03:48.657389Z"
    }
   },
   "cell_type": "code",
   "source": "result = model.evaluate(test_ds)",
   "id": "5b95a18f5b52b09b",
   "outputs": [
    {
     "name": "stdout",
     "output_type": "stream",
     "text": [
      "\u001B[1m133/133\u001B[0m \u001B[32m━━━━━━━━━━━━━━━━━━━━\u001B[0m\u001B[37m\u001B[0m \u001B[1m0s\u001B[0m 2ms/step - accuracy: 0.8843 - loss: 0.2540 - precision: 0.8410 - recall: 0.4554\n"
     ]
    }
   ],
   "execution_count": 20
  },
  {
   "metadata": {
    "ExecuteTime": {
     "end_time": "2024-12-14T15:03:49.001181Z",
     "start_time": "2024-12-14T15:03:48.997808Z"
    }
   },
   "cell_type": "code",
   "source": "print(result)",
   "id": "ac308c9140eca96d",
   "outputs": [
    {
     "name": "stdout",
     "output_type": "stream",
     "text": [
      "[0.2427227944135666, 0.8956766724586487, 0.8198198080062866, 0.5]\n"
     ]
    }
   ],
   "execution_count": 21
  },
  {
   "metadata": {
    "ExecuteTime": {
     "end_time": "2024-12-14T15:03:49.050161Z",
     "start_time": "2024-12-14T15:03:49.046199Z"
    }
   },
   "cell_type": "code",
   "source": "",
   "id": "6fa70085aa8d0823",
   "outputs": [],
   "execution_count": null
  }
 ],
 "metadata": {
  "kernelspec": {
   "display_name": "Python 3",
   "language": "python",
   "name": "python3"
  },
  "language_info": {
   "codemirror_mode": {
    "name": "ipython",
    "version": 2
   },
   "file_extension": ".py",
   "mimetype": "text/x-python",
   "name": "python",
   "nbconvert_exporter": "python",
   "pygments_lexer": "ipython2",
   "version": "2.7.6"
  }
 },
 "nbformat": 4,
 "nbformat_minor": 5
}
