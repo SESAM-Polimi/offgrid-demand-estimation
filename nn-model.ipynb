{
 "cells": [
  {
   "metadata": {
    "ExecuteTime": {
     "end_time": "2024-12-14T15:19:30.604830Z",
     "start_time": "2024-12-14T15:19:30.599365Z"
    }
   },
   "cell_type": "code",
   "source": [
    "import os\n",
    "import sys\n",
    "\n",
    "sys.path.append(\"./\")  # Adds higher directory to python modules path.\n",
    "os.environ['TF_CPP_MIN_LOG_LEVEL'] = '1'\n",
    "from core.ODEDataset import ODEDataset\n",
    "from utils import cleaning\n",
    "\n",
    "import tensorflow as tf\n",
    "from matplotlib import pyplot as plt"
   ],
   "id": "c5829abd0be016a7",
   "outputs": [],
   "execution_count": 44
  },
  {
   "metadata": {},
   "cell_type": "markdown",
   "source": "Let's load the dataset and  select the columns we want to use as features and labels.",
   "id": "f121b815121e8078"
  },
  {
   "metadata": {},
   "cell_type": "markdown",
   "source": "## Dataset and Feature Selection",
   "id": "c029035b879bf017"
  },
  {
   "metadata": {
    "ExecuteTime": {
     "end_time": "2024-12-14T15:19:31.261210Z",
     "start_time": "2024-12-14T15:19:31.166278Z"
    }
   },
   "cell_type": "code",
   "source": [
    "dataset = ODEDataset(\"Dataset\")\n",
    "dataset.from_csv(\"./playground/data/combined_dataset_cleaned.csv\")\n"
   ],
   "id": "a158b4d87eb3f48c",
   "outputs": [
    {
     "data": {
      "text/plain": [
       "<core.ODEDataset.ODEDataset at 0x74a26e344e10>"
      ]
     },
     "execution_count": 45,
     "metadata": {},
     "output_type": "execute_result"
    }
   ],
   "execution_count": 45
  },
  {
   "metadata": {
    "ExecuteTime": {
     "end_time": "2024-12-14T15:19:31.480254Z",
     "start_time": "2024-12-14T15:19:31.472996Z"
    }
   },
   "cell_type": "code",
   "source": "OUTPUT = \"Presence_TV\"",
   "id": "9924b8976bd18e89",
   "outputs": [],
   "execution_count": 46
  },
  {
   "metadata": {
    "ExecuteTime": {
     "end_time": "2024-12-14T15:19:31.839516Z",
     "start_time": "2024-12-14T15:19:31.826649Z"
    }
   },
   "cell_type": "code",
   "source": "dataset.value_counts(OUTPUT)",
   "id": "586f6f115319eba3",
   "outputs": [
    {
     "data": {
      "text/plain": [
       "Presence_TV\n",
       " 0.0    8809\n",
       " 1.0    1907\n",
       "-1.0       2\n",
       "Name: count, dtype: int64"
      ]
     },
     "execution_count": 47,
     "metadata": {},
     "output_type": "execute_result"
    }
   ],
   "execution_count": 47
  },
  {
   "metadata": {},
   "cell_type": "markdown",
   "source": "### Categorized Features",
   "id": "293154fa6ea4fdd0"
  },
  {
   "metadata": {
    "ExecuteTime": {
     "end_time": "2024-12-14T15:19:32.699661Z",
     "start_time": "2024-12-14T15:19:32.590852Z"
    }
   },
   "cell_type": "code",
   "source": [
    "categorized_features = ['Education_level_HHH',\n",
    "                        'Socio_status_HHH',\n",
    "                        'Tariff_payment_frequency',\n",
    "                        'HH_with_home_business',\n",
    "                        'Ownership_motorized_vehicle',\n",
    "                        'Ownership_small_livestock',\n",
    "                        'Ownership_large_livestock',\n",
    "                        'Clean_fuel',\n",
    "                        ]\n",
    "\n",
    "for feature in categorized_features:\n",
    "    dataset = dataset.apply(cleaning.add_one_hot_encoding(feature))\n",
    "\n",
    "dataset.preview()"
   ],
   "id": "e0799fe806f7273c",
   "outputs": [
    {
     "data": {
      "text/plain": [
       "   Unnamed: 0      ID  Years_of_HHH_in_community  Dwelling_quality_index  \\\n",
       "0           0  1001_3                         -1                       0   \n",
       "1           1  1001_3                         -1                       0   \n",
       "2           2  1026_3                         20                       0   \n",
       "3           3  1026_3                         20                       0   \n",
       "4           4  1027_2                         15                       0   \n",
       "\n",
       "   Hours_available_electricity  Measurement_age  Monthly_expenditure  \\\n",
       "0                           -1             -1.0              63600.0   \n",
       "1                           -1             -1.0              63600.0   \n",
       "2                           -1             -1.0              65400.0   \n",
       "3                           -1             -1.0              65400.0   \n",
       "4                           -1             -1.0                 -1.0   \n",
       "\n",
       "   Number_of_rooms  Climate_zone_lev_1  Climate_zone_lev_2  ...  \\\n",
       "0                3                 3.0                -1.0  ...   \n",
       "1                3                 3.0                -1.0  ...   \n",
       "2                3                 3.0                 3.0  ...   \n",
       "3                3                 3.0                 3.0  ...   \n",
       "4                2                 3.0                 3.0  ...   \n",
       "\n",
       "   Ownership_motorized_vehicle_missing  Ownership_small_livestock_No  \\\n",
       "0                                False                         False   \n",
       "1                                False                         False   \n",
       "2                                False                         False   \n",
       "3                                False                         False   \n",
       "4                                False                         False   \n",
       "\n",
       "   Ownership_small_livestock_Yes  Ownership_small_livestock_missing  \\\n",
       "0                           True                              False   \n",
       "1                           True                              False   \n",
       "2                           True                              False   \n",
       "3                           True                              False   \n",
       "4                           True                              False   \n",
       "\n",
       "   Ownership_large_livestock_No  Ownership_large_livestock_Yes  \\\n",
       "0                          True                          False   \n",
       "1                          True                          False   \n",
       "2                         False                           True   \n",
       "3                         False                           True   \n",
       "4                         False                           True   \n",
       "\n",
       "   Ownership_large_livestock_missing  Clean_fuel_No  Clean_fuel_Yes  \\\n",
       "0                              False           True           False   \n",
       "1                              False           True           False   \n",
       "2                              False           True           False   \n",
       "3                              False           True           False   \n",
       "4                              False           True           False   \n",
       "\n",
       "   Clean_fuel_missing  \n",
       "0               False  \n",
       "1               False  \n",
       "2               False  \n",
       "3               False  \n",
       "4               False  \n",
       "\n",
       "[5 rows x 73 columns]"
      ],
      "text/html": [
       "<div>\n",
       "<style scoped>\n",
       "    .dataframe tbody tr th:only-of-type {\n",
       "        vertical-align: middle;\n",
       "    }\n",
       "\n",
       "    .dataframe tbody tr th {\n",
       "        vertical-align: top;\n",
       "    }\n",
       "\n",
       "    .dataframe thead th {\n",
       "        text-align: right;\n",
       "    }\n",
       "</style>\n",
       "<table border=\"1\" class=\"dataframe\">\n",
       "  <thead>\n",
       "    <tr style=\"text-align: right;\">\n",
       "      <th></th>\n",
       "      <th>Unnamed: 0</th>\n",
       "      <th>ID</th>\n",
       "      <th>Years_of_HHH_in_community</th>\n",
       "      <th>Dwelling_quality_index</th>\n",
       "      <th>Hours_available_electricity</th>\n",
       "      <th>Measurement_age</th>\n",
       "      <th>Monthly_expenditure</th>\n",
       "      <th>Number_of_rooms</th>\n",
       "      <th>Climate_zone_lev_1</th>\n",
       "      <th>Climate_zone_lev_2</th>\n",
       "      <th>...</th>\n",
       "      <th>Ownership_motorized_vehicle_missing</th>\n",
       "      <th>Ownership_small_livestock_No</th>\n",
       "      <th>Ownership_small_livestock_Yes</th>\n",
       "      <th>Ownership_small_livestock_missing</th>\n",
       "      <th>Ownership_large_livestock_No</th>\n",
       "      <th>Ownership_large_livestock_Yes</th>\n",
       "      <th>Ownership_large_livestock_missing</th>\n",
       "      <th>Clean_fuel_No</th>\n",
       "      <th>Clean_fuel_Yes</th>\n",
       "      <th>Clean_fuel_missing</th>\n",
       "    </tr>\n",
       "  </thead>\n",
       "  <tbody>\n",
       "    <tr>\n",
       "      <th>0</th>\n",
       "      <td>0</td>\n",
       "      <td>1001_3</td>\n",
       "      <td>-1</td>\n",
       "      <td>0</td>\n",
       "      <td>-1</td>\n",
       "      <td>-1.0</td>\n",
       "      <td>63600.0</td>\n",
       "      <td>3</td>\n",
       "      <td>3.0</td>\n",
       "      <td>-1.0</td>\n",
       "      <td>...</td>\n",
       "      <td>False</td>\n",
       "      <td>False</td>\n",
       "      <td>True</td>\n",
       "      <td>False</td>\n",
       "      <td>True</td>\n",
       "      <td>False</td>\n",
       "      <td>False</td>\n",
       "      <td>True</td>\n",
       "      <td>False</td>\n",
       "      <td>False</td>\n",
       "    </tr>\n",
       "    <tr>\n",
       "      <th>1</th>\n",
       "      <td>1</td>\n",
       "      <td>1001_3</td>\n",
       "      <td>-1</td>\n",
       "      <td>0</td>\n",
       "      <td>-1</td>\n",
       "      <td>-1.0</td>\n",
       "      <td>63600.0</td>\n",
       "      <td>3</td>\n",
       "      <td>3.0</td>\n",
       "      <td>-1.0</td>\n",
       "      <td>...</td>\n",
       "      <td>False</td>\n",
       "      <td>False</td>\n",
       "      <td>True</td>\n",
       "      <td>False</td>\n",
       "      <td>True</td>\n",
       "      <td>False</td>\n",
       "      <td>False</td>\n",
       "      <td>True</td>\n",
       "      <td>False</td>\n",
       "      <td>False</td>\n",
       "    </tr>\n",
       "    <tr>\n",
       "      <th>2</th>\n",
       "      <td>2</td>\n",
       "      <td>1026_3</td>\n",
       "      <td>20</td>\n",
       "      <td>0</td>\n",
       "      <td>-1</td>\n",
       "      <td>-1.0</td>\n",
       "      <td>65400.0</td>\n",
       "      <td>3</td>\n",
       "      <td>3.0</td>\n",
       "      <td>3.0</td>\n",
       "      <td>...</td>\n",
       "      <td>False</td>\n",
       "      <td>False</td>\n",
       "      <td>True</td>\n",
       "      <td>False</td>\n",
       "      <td>False</td>\n",
       "      <td>True</td>\n",
       "      <td>False</td>\n",
       "      <td>True</td>\n",
       "      <td>False</td>\n",
       "      <td>False</td>\n",
       "    </tr>\n",
       "    <tr>\n",
       "      <th>3</th>\n",
       "      <td>3</td>\n",
       "      <td>1026_3</td>\n",
       "      <td>20</td>\n",
       "      <td>0</td>\n",
       "      <td>-1</td>\n",
       "      <td>-1.0</td>\n",
       "      <td>65400.0</td>\n",
       "      <td>3</td>\n",
       "      <td>3.0</td>\n",
       "      <td>3.0</td>\n",
       "      <td>...</td>\n",
       "      <td>False</td>\n",
       "      <td>False</td>\n",
       "      <td>True</td>\n",
       "      <td>False</td>\n",
       "      <td>False</td>\n",
       "      <td>True</td>\n",
       "      <td>False</td>\n",
       "      <td>True</td>\n",
       "      <td>False</td>\n",
       "      <td>False</td>\n",
       "    </tr>\n",
       "    <tr>\n",
       "      <th>4</th>\n",
       "      <td>4</td>\n",
       "      <td>1027_2</td>\n",
       "      <td>15</td>\n",
       "      <td>0</td>\n",
       "      <td>-1</td>\n",
       "      <td>-1.0</td>\n",
       "      <td>-1.0</td>\n",
       "      <td>2</td>\n",
       "      <td>3.0</td>\n",
       "      <td>3.0</td>\n",
       "      <td>...</td>\n",
       "      <td>False</td>\n",
       "      <td>False</td>\n",
       "      <td>True</td>\n",
       "      <td>False</td>\n",
       "      <td>False</td>\n",
       "      <td>True</td>\n",
       "      <td>False</td>\n",
       "      <td>True</td>\n",
       "      <td>False</td>\n",
       "      <td>False</td>\n",
       "    </tr>\n",
       "  </tbody>\n",
       "</table>\n",
       "<p>5 rows × 73 columns</p>\n",
       "</div>"
      ]
     },
     "execution_count": 48,
     "metadata": {},
     "output_type": "execute_result"
    }
   ],
   "execution_count": 48
  },
  {
   "metadata": {},
   "cell_type": "markdown",
   "source": "### Features Selection",
   "id": "4090a48273768002"
  },
  {
   "metadata": {
    "ExecuteTime": {
     "end_time": "2024-12-14T15:19:33.521455Z",
     "start_time": "2024-12-14T15:19:33.507479Z"
    }
   },
   "cell_type": "code",
   "source": "dataset.get_columns()",
   "id": "bf068db3e0f09186",
   "outputs": [
    {
     "data": {
      "text/plain": [
       "['Unnamed: 0',\n",
       " 'ID',\n",
       " 'Years_of_HHH_in_community',\n",
       " 'Dwelling_quality_index',\n",
       " 'Hours_available_electricity',\n",
       " 'Measurement_age',\n",
       " 'Monthly_expenditure',\n",
       " 'Number_of_rooms',\n",
       " 'Climate_zone_lev_1',\n",
       " 'Climate_zone_lev_2',\n",
       " 'Age_HHH',\n",
       " 'Number_adults',\n",
       " 'Presence_refrigerator/freezer',\n",
       " 'Presence_iron',\n",
       " 'Presence_fan',\n",
       " 'Presence_DVD_player',\n",
       " 'Presence_radio/stereo',\n",
       " 'Presence_phone_charger',\n",
       " 'Presence_TV',\n",
       " 'Years_of_HHH_in_community_missing',\n",
       " 'Dwelling_quality_index_missing',\n",
       " 'Hours_available_electricity_missing',\n",
       " 'Measurement_age_missing',\n",
       " 'Monthly_expenditure_missing',\n",
       " 'Number_of_rooms_missing',\n",
       " 'Climate_zone_lev_1_missing',\n",
       " 'Climate_zone_lev_2_missing',\n",
       " 'Age_HHH_missing',\n",
       " 'Number_adults_missing',\n",
       " \"Education_level_HHH_Bachelor's or equivalent level\",\n",
       " 'Education_level_HHH_Doctoral or equivalent level',\n",
       " 'Education_level_HHH_Lower secondary education',\n",
       " \"Education_level_HHH_Master's or equivalent level\",\n",
       " 'Education_level_HHH_No schooling',\n",
       " 'Education_level_HHH_Not elsewhere classified',\n",
       " 'Education_level_HHH_Other',\n",
       " 'Education_level_HHH_Post-secondary non-tertiary education',\n",
       " 'Education_level_HHH_Primary education',\n",
       " 'Education_level_HHH_Secondary education',\n",
       " 'Education_level_HHH_Short-cycle tertiary education',\n",
       " 'Education_level_HHH_Upper secondary education',\n",
       " 'Socio_status_HHH_Contributing family worker',\n",
       " 'Socio_status_HHH_Employee',\n",
       " 'Socio_status_HHH_Employee farm',\n",
       " 'Socio_status_HHH_Employee non-farm',\n",
       " 'Socio_status_HHH_Employer',\n",
       " 'Socio_status_HHH_Other',\n",
       " 'Socio_status_HHH_Own-account worker farm',\n",
       " 'Socio_status_HHH_Own-account worker non-farm',\n",
       " 'Socio_status_HHH_Unemployed',\n",
       " 'Socio_status_HHH_Worker not classifiable by status',\n",
       " 'Tariff_payment_frequency_Every 2 weeks',\n",
       " 'Tariff_payment_frequency_Every 3 months',\n",
       " 'Tariff_payment_frequency_Every 6 months',\n",
       " 'Tariff_payment_frequency_Monthly',\n",
       " 'Tariff_payment_frequency_No bill',\n",
       " 'Tariff_payment_frequency_Other',\n",
       " 'Tariff_payment_frequency_Weekly',\n",
       " 'HH_with_home_business_No',\n",
       " 'HH_with_home_business_Yes',\n",
       " 'HH_with_home_business_missing',\n",
       " 'Ownership_motorized_vehicle_No',\n",
       " 'Ownership_motorized_vehicle_Yes',\n",
       " 'Ownership_motorized_vehicle_missing',\n",
       " 'Ownership_small_livestock_No',\n",
       " 'Ownership_small_livestock_Yes',\n",
       " 'Ownership_small_livestock_missing',\n",
       " 'Ownership_large_livestock_No',\n",
       " 'Ownership_large_livestock_Yes',\n",
       " 'Ownership_large_livestock_missing',\n",
       " 'Clean_fuel_No',\n",
       " 'Clean_fuel_Yes',\n",
       " 'Clean_fuel_missing']"
      ]
     },
     "execution_count": 49,
     "metadata": {},
     "output_type": "execute_result"
    }
   ],
   "execution_count": 49
  },
  {
   "metadata": {
    "ExecuteTime": {
     "end_time": "2024-12-14T15:19:34.166816Z",
     "start_time": "2024-12-14T15:19:34.157063Z"
    }
   },
   "cell_type": "code",
   "source": [
    "Features = [\n",
    "    #    'Education_level_HHH',\n",
    "    'Education_level_HHH_Doctoral or equivalent level',\n",
    "    'Education_level_HHH_Lower secondary education',\n",
    "    \"Education_level_HHH_Master's or equivalent level\",\n",
    "    'Education_level_HHH_No schooling',\n",
    "    'Education_level_HHH_Not elsewhere classified',\n",
    "    'Education_level_HHH_Other',\n",
    "    'Education_level_HHH_Post-secondary non-tertiary education',\n",
    "    'Education_level_HHH_Primary education',\n",
    "    'Education_level_HHH_Secondary education',\n",
    "    'Education_level_HHH_Short-cycle tertiary education',\n",
    "    'Education_level_HHH_Upper secondary education',\n",
    "    # 'Socio_status_HHH',\n",
    "    'Socio_status_HHH_Employee', 'Socio_status_HHH_Employee farm',\n",
    "    'Socio_status_HHH_Employee non-farm', 'Socio_status_HHH_Employer',\n",
    "    'Socio_status_HHH_Other', 'Socio_status_HHH_Own-account worker farm',\n",
    "    'Socio_status_HHH_Own-account worker non-farm',\n",
    "    'Socio_status_HHH_Unemployed',\n",
    "    'Socio_status_HHH_Worker not classifiable by status',\n",
    "    # 'Tariff_payment_frequency',\n",
    "    'Tariff_payment_frequency_Every 3 months',\n",
    "    'Tariff_payment_frequency_Every 6 months',\n",
    "    'Tariff_payment_frequency_Monthly', 'Tariff_payment_frequency_No bill',\n",
    "    'Tariff_payment_frequency_Other', 'Tariff_payment_frequency_Weekly',\n",
    "\n",
    "    'HH_with_home_business_Yes',\n",
    "    'HH_with_home_business_No',\n",
    "    'HH_with_home_business_missing',\n",
    "\n",
    "    'Ownership_motorized_vehicle_Yes',\n",
    "    'Ownership_large_livestock_No',\n",
    "    'Ownership_motorized_vehicle_missing',\n",
    "\n",
    "    'Ownership_small_livestock_Yes',\n",
    "    'Ownership_small_livestock_No',\n",
    "    'Ownership_small_livestock_missing',\n",
    "\n",
    "    'Ownership_large_livestock_Yes',\n",
    "    'Ownership_large_livestock_No',\n",
    "    'Ownership_large_livestock_missing',\n",
    "\n",
    "    'Clean_fuel_Yes',\n",
    "    'Clean_fuel_No',\n",
    "    'Clean_fuel_missing',\n",
    "\n",
    "    'Years_of_HHH_in_community',\n",
    "    'Years_of_HHH_in_community_missing',\n",
    "\n",
    "    'Dwelling_quality_index',\n",
    "    'Dwelling_quality_index_missing',\n",
    "\n",
    "    'Hours_available_electricity',\n",
    "    'Hours_available_electricity_missing',\n",
    "\n",
    "    'Measurement_age',\n",
    "    'Measurement_age_missing',\n",
    "\n",
    "    'Monthly_expenditure',\n",
    "    'Monthly_expenditure_missing',\n",
    "\n",
    "    'Number_of_rooms',\n",
    "    'Number_of_rooms_missing',\n",
    "    'Climate_zone_lev_1',\n",
    "    'Climate_zone_lev_1_missing',\n",
    "\n",
    "    'Climate_zone_lev_2',\n",
    "    'Climate_zone_lev_2_missing',\n",
    "\n",
    "    'Age_HHH',\n",
    "    'Age_HHH_missing',\n",
    "\n",
    "    'Number_adults',\n",
    "    'Number_adults_missing'\n",
    "]\n",
    "\n",
    "FEATURE_NUM = len(Features)"
   ],
   "id": "d06756f51551672",
   "outputs": [],
   "execution_count": 50
  },
  {
   "metadata": {
    "ExecuteTime": {
     "end_time": "2024-12-14T15:19:35.454532Z",
     "start_time": "2024-12-14T15:19:35.440995Z"
    }
   },
   "cell_type": "code",
   "source": [
    "dataset = dataset.apply(cleaning.remove_row(OUTPUT, -1))\n",
    "dataset.value_counts(OUTPUT)"
   ],
   "id": "90f1638a136e1d18",
   "outputs": [
    {
     "data": {
      "text/plain": [
       "Presence_TV\n",
       "0.0    8809\n",
       "1.0    1907\n",
       "Name: count, dtype: int64"
      ]
     },
     "execution_count": 51,
     "metadata": {},
     "output_type": "execute_result"
    }
   ],
   "execution_count": 51
  },
  {
   "metadata": {
    "ExecuteTime": {
     "end_time": "2024-12-14T15:22:14.232445Z",
     "start_time": "2024-12-14T15:22:14.224479Z"
    }
   },
   "cell_type": "code",
   "source": [
    "total = len(dataset)\n",
    "positive = dataset.value_counts(OUTPUT)[1]\n",
    "negative = total - positive\n",
    "\n",
    "print(f\"Positive: {positive/total}, Negative: {negative/total}\")\n"
   ],
   "id": "1cf452a144faa4d2",
   "outputs": [
    {
     "name": "stdout",
     "output_type": "stream",
     "text": [
      "Positive: 0.17795819335572974, Negative: 0.8220418066442703\n"
     ]
    }
   ],
   "execution_count": 74
  },
  {
   "metadata": {
    "ExecuteTime": {
     "end_time": "2024-12-14T15:22:14.475932Z",
     "start_time": "2024-12-14T15:22:14.463130Z"
    }
   },
   "cell_type": "code",
   "source": "X, y = dataset.to_numpy(Features, [OUTPUT])",
   "id": "fdacf0a6b91cfd69",
   "outputs": [],
   "execution_count": 75
  },
  {
   "metadata": {
    "ExecuteTime": {
     "end_time": "2024-12-14T15:22:14.956700Z",
     "start_time": "2024-12-14T15:22:14.948719Z"
    }
   },
   "cell_type": "code",
   "source": "X.shape, y.shape",
   "id": "4e6d7509b154fe6",
   "outputs": [
    {
     "data": {
      "text/plain": [
       "((10716, 61), (10716, 1))"
      ]
     },
     "execution_count": 76,
     "metadata": {},
     "output_type": "execute_result"
    }
   ],
   "execution_count": 76
  },
  {
   "metadata": {},
   "cell_type": "markdown",
   "source": [
    "### Imbalanced Dataset Handling\n",
    "We use SMOTE to oversample the minority class.\n",
    "https://imbalanced-learn.org/stable/index.html"
   ],
   "id": "68cffc2f3f050485"
  },
  {
   "metadata": {
    "ExecuteTime": {
     "end_time": "2024-12-14T15:22:17.010592Z",
     "start_time": "2024-12-14T15:22:16.915531Z"
    }
   },
   "cell_type": "code",
   "source": [
    "from imblearn.over_sampling import SMOTE\n",
    "\n",
    "# Apply SMOTE (oversampling)\n",
    "smote = SMOTE(sampling_strategy='auto', random_state=42)\n",
    "X_resampled, y_resampled = smote.fit_resample(X, y)\n",
    "y_resampled = y_resampled.reshape(-1, 1)\n",
    "print(X_resampled.shape, y_resampled.shape)"
   ],
   "id": "133da5ea6124177c",
   "outputs": [
    {
     "name": "stdout",
     "output_type": "stream",
     "text": [
      "(17618, 61) (17618, 1)\n"
     ]
    }
   ],
   "execution_count": 77
  },
  {
   "metadata": {
    "ExecuteTime": {
     "end_time": "2024-12-14T15:22:17.832152Z",
     "start_time": "2024-12-14T15:22:17.808208Z"
    }
   },
   "cell_type": "code",
   "source": [
    "dataset_resampled = tf.data.Dataset.from_tensor_slices((X_resampled, y_resampled))\n",
    "for i, j in dataset_resampled:\n",
    "    print(i.shape, j.shape)\n",
    "    break"
   ],
   "id": "e26c05bb1b339b3b",
   "outputs": [
    {
     "name": "stdout",
     "output_type": "stream",
     "text": [
      "(61,) (1,)\n"
     ]
    }
   ],
   "execution_count": 78
  },
  {
   "metadata": {
    "ExecuteTime": {
     "end_time": "2024-12-14T15:22:26.335836Z",
     "start_time": "2024-12-14T15:22:26.315854Z"
    }
   },
   "cell_type": "code",
   "source": "tf_dataset = dataset.to_tf_dataset(Features, [OUTPUT])",
   "id": "f61bc0aec36dcf5e",
   "outputs": [],
   "execution_count": 79
  },
  {
   "metadata": {},
   "cell_type": "markdown",
   "source": "## Constants and dataset splitting",
   "id": "f09478faee6a47e2"
  },
  {
   "metadata": {
    "ExecuteTime": {
     "end_time": "2024-12-14T15:22:28.831556Z",
     "start_time": "2024-12-14T15:22:28.817925Z"
    }
   },
   "cell_type": "code",
   "source": [
    "BATCH_SIZE = 8\n",
    "EPOCHS = 30\n",
    "OPTIMIZER = tf.keras.optimizers.Adam(0.001)\n",
    "LOSS = tf.keras.losses.BinaryCrossentropy()\n"
   ],
   "id": "b33a9fca399e5326",
   "outputs": [],
   "execution_count": 80
  },
  {
   "metadata": {
    "ExecuteTime": {
     "end_time": "2024-12-14T15:22:30.307447Z",
     "start_time": "2024-12-14T15:22:30.297442Z"
    }
   },
   "cell_type": "code",
   "source": [
    "from collections import Counter\n",
    "def get_class_distribution(data):\n",
    "\n",
    "    # Extract all labels from the dataset\n",
    "    all_labels = []\n",
    "\n",
    "    for _, label in data:  # Iterate over the dataset\n",
    "        all_labels.append(label.numpy())  # Convert label tensors to NumPy arrays\n",
    "\n",
    "    # Flatten the list in case labels are multi-dimensional\n",
    "    all_labels = [i[0] for k in all_labels for i in list(k)]\n",
    "    # Count occurrences of each label\n",
    "    label_counts = Counter(all_labels)\n",
    "\n",
    "    # Calculate the ratio for each label\n",
    "    total_samples = sum(label_counts.values())\n",
    "    label_ratios = {label: count / total_samples for label, count in label_counts.items()}\n",
    "\n",
    "    # Print out the labels and their ratios\n",
    "    print(\"Label Counts:\", label_counts)\n",
    "    print(\"Label Ratios:\", label_ratios)\n",
    "\n"
   ],
   "id": "ad76d09caca519cc",
   "outputs": [],
   "execution_count": 81
  },
  {
   "metadata": {},
   "cell_type": "markdown",
   "source": "we want to shuffle until we get a good distribution of the classes",
   "id": "49caffd93650e2bb"
  },
  {
   "metadata": {},
   "cell_type": "markdown",
   "source": "#### Original Dataset",
   "id": "f5d58b87a86f8234"
  },
  {
   "metadata": {
    "ExecuteTime": {
     "end_time": "2024-12-14T15:22:53.179040Z",
     "start_time": "2024-12-14T15:22:52.403532Z"
    }
   },
   "cell_type": "code",
   "source": [
    "ds = tf_dataset.shuffle(9001).batch(BATCH_SIZE)\n",
    "ds_resampled = dataset_resampled.shuffle(9001).batch(BATCH_SIZE)\n",
    "\n",
    "print(\"Training\")\n",
    "print(\"Distribution of the original dataset\", len(ds))\n",
    "get_class_distribution(ds)\n",
    "\n",
    "print(\"Distribution of the resampled dataset\", len(ds_resampled))\n",
    "get_class_distribution(ds_resampled)\n",
    "\n"
   ],
   "id": "3bb1a02541b6c6e",
   "outputs": [
    {
     "name": "stdout",
     "output_type": "stream",
     "text": [
      "Training\n",
      "Distribution of the original dataset 1340\n",
      "Label Counts: Counter({0.0: 8809, 1.0: 1907})\n",
      "Label Ratios: {1.0: 0.17795819335572974, 0.0: 0.8220418066442703}\n",
      "Distribution of the resampled dataset 2203\n",
      "Label Counts: Counter({0.0: 8809, 1.0: 8809})\n",
      "Label Ratios: {0.0: 0.5, 1.0: 0.5}\n"
     ]
    }
   ],
   "execution_count": 82
  },
  {
   "metadata": {},
   "cell_type": "markdown",
   "source": "### Splitting",
   "id": "e1a26bbe2e875463"
  },
  {
   "metadata": {
    "ExecuteTime": {
     "end_time": "2024-12-14T15:24:51.056089Z",
     "start_time": "2024-12-14T15:24:50.369955Z"
    }
   },
   "cell_type": "code",
   "source": [
    "LEN = len(ds_resampled)\n",
    "train_len = int(0.8 * LEN)\n",
    "val_size = int(0.1 * LEN)\n",
    "test_size = int(0.1 * LEN)\n",
    "\n",
    "train_ds = ds_resampled.take(train_len)\n",
    "val_ds = ds_resampled.skip(train_len).take(val_size)\n",
    "test_ds = ds_resampled.skip(train_len + val_size).take(test_size)\n",
    "\n",
    "print(\"Training size\", len(train_ds))\n",
    "get_class_distribution(train_ds)\n",
    "print(\"Validation size\", len(val_ds))\n",
    "get_class_distribution(val_ds)\n",
    "print(\"Test size\", len(test_ds))\n",
    "get_class_distribution(test_ds)\n"
   ],
   "id": "c82fb6ee6ed81db",
   "outputs": [
    {
     "name": "stdout",
     "output_type": "stream",
     "text": [
      "Training size 1762\n",
      "Label Counts: Counter({0.0: 7476, 1.0: 6620})\n",
      "Label Ratios: {0.0: 0.5303632236095346, 1.0: 0.46963677639046536}\n",
      "Validation size 220\n",
      "Label Counts: Counter({1.0: 1103, 0.0: 657})\n",
      "Label Ratios: {0.0: 0.37329545454545454, 1.0: 0.6267045454545455}\n",
      "Test size 220\n",
      "Label Counts: Counter({1.0: 1082, 0.0: 678})\n",
      "Label Ratios: {0.0: 0.38522727272727275, 1.0: 0.6147727272727272}\n"
     ]
    }
   ],
   "execution_count": 84
  },
  {
   "metadata": {},
   "cell_type": "markdown",
   "source": "## Model",
   "id": "1bbda1ca2b2af7e9"
  },
  {
   "metadata": {
    "ExecuteTime": {
     "end_time": "2024-12-14T15:24:58.595447Z",
     "start_time": "2024-12-14T15:24:58.401154Z"
    }
   },
   "cell_type": "code",
   "source": [
    "model = tf.keras.Sequential([\n",
    "    tf.keras.layers.Input(shape=(FEATURE_NUM,)),\n",
    "    tf.keras.layers.Dense(128, activation='relu'),\n",
    "    tf.keras.layers.Dropout(0.2),\n",
    "    tf.keras.layers.Dense(128, activation='relu'),\n",
    "    tf.keras.layers.Dense(1, activation='sigmoid')\n",
    "])\n",
    "model.compile(optimizer=OPTIMIZER, loss=LOSS, metrics=['accuracy', 'precision', 'recall'])\n",
    "model.summary()"
   ],
   "id": "662cc3d113b9bc77",
   "outputs": [
    {
     "data": {
      "text/plain": [
       "\u001B[1mModel: \"sequential\"\u001B[0m\n"
      ],
      "text/html": [
       "<pre style=\"white-space:pre;overflow-x:auto;line-height:normal;font-family:Menlo,'DejaVu Sans Mono',consolas,'Courier New',monospace\"><span style=\"font-weight: bold\">Model: \"sequential\"</span>\n",
       "</pre>\n"
      ]
     },
     "metadata": {},
     "output_type": "display_data"
    },
    {
     "data": {
      "text/plain": [
       "┏━━━━━━━━━━━━━━━━━━━━━━━━━━━━━━━━━┳━━━━━━━━━━━━━━━━━━━━━━━━┳━━━━━━━━━━━━━━━┓\n",
       "┃\u001B[1m \u001B[0m\u001B[1mLayer (type)                   \u001B[0m\u001B[1m \u001B[0m┃\u001B[1m \u001B[0m\u001B[1mOutput Shape          \u001B[0m\u001B[1m \u001B[0m┃\u001B[1m \u001B[0m\u001B[1m      Param #\u001B[0m\u001B[1m \u001B[0m┃\n",
       "┡━━━━━━━━━━━━━━━━━━━━━━━━━━━━━━━━━╇━━━━━━━━━━━━━━━━━━━━━━━━╇━━━━━━━━━━━━━━━┩\n",
       "│ dense (\u001B[38;5;33mDense\u001B[0m)                   │ (\u001B[38;5;45mNone\u001B[0m, \u001B[38;5;34m128\u001B[0m)            │         \u001B[38;5;34m7,936\u001B[0m │\n",
       "├─────────────────────────────────┼────────────────────────┼───────────────┤\n",
       "│ dropout (\u001B[38;5;33mDropout\u001B[0m)               │ (\u001B[38;5;45mNone\u001B[0m, \u001B[38;5;34m128\u001B[0m)            │             \u001B[38;5;34m0\u001B[0m │\n",
       "├─────────────────────────────────┼────────────────────────┼───────────────┤\n",
       "│ dense_1 (\u001B[38;5;33mDense\u001B[0m)                 │ (\u001B[38;5;45mNone\u001B[0m, \u001B[38;5;34m128\u001B[0m)            │        \u001B[38;5;34m16,512\u001B[0m │\n",
       "├─────────────────────────────────┼────────────────────────┼───────────────┤\n",
       "│ dense_2 (\u001B[38;5;33mDense\u001B[0m)                 │ (\u001B[38;5;45mNone\u001B[0m, \u001B[38;5;34m1\u001B[0m)              │           \u001B[38;5;34m129\u001B[0m │\n",
       "└─────────────────────────────────┴────────────────────────┴───────────────┘\n"
      ],
      "text/html": [
       "<pre style=\"white-space:pre;overflow-x:auto;line-height:normal;font-family:Menlo,'DejaVu Sans Mono',consolas,'Courier New',monospace\">┏━━━━━━━━━━━━━━━━━━━━━━━━━━━━━━━━━┳━━━━━━━━━━━━━━━━━━━━━━━━┳━━━━━━━━━━━━━━━┓\n",
       "┃<span style=\"font-weight: bold\"> Layer (type)                    </span>┃<span style=\"font-weight: bold\"> Output Shape           </span>┃<span style=\"font-weight: bold\">       Param # </span>┃\n",
       "┡━━━━━━━━━━━━━━━━━━━━━━━━━━━━━━━━━╇━━━━━━━━━━━━━━━━━━━━━━━━╇━━━━━━━━━━━━━━━┩\n",
       "│ dense (<span style=\"color: #0087ff; text-decoration-color: #0087ff\">Dense</span>)                   │ (<span style=\"color: #00d7ff; text-decoration-color: #00d7ff\">None</span>, <span style=\"color: #00af00; text-decoration-color: #00af00\">128</span>)            │         <span style=\"color: #00af00; text-decoration-color: #00af00\">7,936</span> │\n",
       "├─────────────────────────────────┼────────────────────────┼───────────────┤\n",
       "│ dropout (<span style=\"color: #0087ff; text-decoration-color: #0087ff\">Dropout</span>)               │ (<span style=\"color: #00d7ff; text-decoration-color: #00d7ff\">None</span>, <span style=\"color: #00af00; text-decoration-color: #00af00\">128</span>)            │             <span style=\"color: #00af00; text-decoration-color: #00af00\">0</span> │\n",
       "├─────────────────────────────────┼────────────────────────┼───────────────┤\n",
       "│ dense_1 (<span style=\"color: #0087ff; text-decoration-color: #0087ff\">Dense</span>)                 │ (<span style=\"color: #00d7ff; text-decoration-color: #00d7ff\">None</span>, <span style=\"color: #00af00; text-decoration-color: #00af00\">128</span>)            │        <span style=\"color: #00af00; text-decoration-color: #00af00\">16,512</span> │\n",
       "├─────────────────────────────────┼────────────────────────┼───────────────┤\n",
       "│ dense_2 (<span style=\"color: #0087ff; text-decoration-color: #0087ff\">Dense</span>)                 │ (<span style=\"color: #00d7ff; text-decoration-color: #00d7ff\">None</span>, <span style=\"color: #00af00; text-decoration-color: #00af00\">1</span>)              │           <span style=\"color: #00af00; text-decoration-color: #00af00\">129</span> │\n",
       "└─────────────────────────────────┴────────────────────────┴───────────────┘\n",
       "</pre>\n"
      ]
     },
     "metadata": {},
     "output_type": "display_data"
    },
    {
     "data": {
      "text/plain": [
       "\u001B[1m Total params: \u001B[0m\u001B[38;5;34m24,577\u001B[0m (96.00 KB)\n"
      ],
      "text/html": [
       "<pre style=\"white-space:pre;overflow-x:auto;line-height:normal;font-family:Menlo,'DejaVu Sans Mono',consolas,'Courier New',monospace\"><span style=\"font-weight: bold\"> Total params: </span><span style=\"color: #00af00; text-decoration-color: #00af00\">24,577</span> (96.00 KB)\n",
       "</pre>\n"
      ]
     },
     "metadata": {},
     "output_type": "display_data"
    },
    {
     "data": {
      "text/plain": [
       "\u001B[1m Trainable params: \u001B[0m\u001B[38;5;34m24,577\u001B[0m (96.00 KB)\n"
      ],
      "text/html": [
       "<pre style=\"white-space:pre;overflow-x:auto;line-height:normal;font-family:Menlo,'DejaVu Sans Mono',consolas,'Courier New',monospace\"><span style=\"font-weight: bold\"> Trainable params: </span><span style=\"color: #00af00; text-decoration-color: #00af00\">24,577</span> (96.00 KB)\n",
       "</pre>\n"
      ]
     },
     "metadata": {},
     "output_type": "display_data"
    },
    {
     "data": {
      "text/plain": [
       "\u001B[1m Non-trainable params: \u001B[0m\u001B[38;5;34m0\u001B[0m (0.00 B)\n"
      ],
      "text/html": [
       "<pre style=\"white-space:pre;overflow-x:auto;line-height:normal;font-family:Menlo,'DejaVu Sans Mono',consolas,'Courier New',monospace\"><span style=\"font-weight: bold\"> Non-trainable params: </span><span style=\"color: #00af00; text-decoration-color: #00af00\">0</span> (0.00 B)\n",
       "</pre>\n"
      ]
     },
     "metadata": {},
     "output_type": "display_data"
    }
   ],
   "execution_count": 85
  },
  {
   "metadata": {
    "ExecuteTime": {
     "end_time": "2024-12-14T15:28:15.291805Z",
     "start_time": "2024-12-14T15:24:58.781389Z"
    }
   },
   "cell_type": "code",
   "source": [
    "history = model.fit(train_ds, epochs=EPOCHS,\n",
    "\n",
    "                    validation_data=val_ds)\n"
   ],
   "id": "fc0828bd2f8c4ac",
   "outputs": [
    {
     "name": "stdout",
     "output_type": "stream",
     "text": [
      "Epoch 1/30\n",
      "\u001B[1m1762/1762\u001B[0m \u001B[32m━━━━━━━━━━━━━━━━━━━━\u001B[0m\u001B[37m\u001B[0m \u001B[1m8s\u001B[0m 4ms/step - accuracy: 0.6952 - loss: 380.9667 - precision: 0.4672 - recall: 0.5946 - val_accuracy: 0.8006 - val_loss: 122.5406 - val_precision: 0.7716 - val_recall: 0.9663\n",
      "Epoch 2/30\n",
      "\u001B[1m1762/1762\u001B[0m \u001B[32m━━━━━━━━━━━━━━━━━━━━\u001B[0m\u001B[37m\u001B[0m \u001B[1m6s\u001B[0m 4ms/step - accuracy: 0.7549 - loss: 60.5643 - precision: 0.5690 - recall: 0.6341 - val_accuracy: 0.8392 - val_loss: 13.6686 - val_precision: 0.7938 - val_recall: 0.9906\n",
      "Epoch 3/30\n",
      "\u001B[1m1762/1762\u001B[0m \u001B[32m━━━━━━━━━━━━━━━━━━━━\u001B[0m\u001B[37m\u001B[0m \u001B[1m6s\u001B[0m 4ms/step - accuracy: 0.7995 - loss: 11.4240 - precision: 0.6411 - recall: 0.6962 - val_accuracy: 0.8813 - val_loss: 4.5534 - val_precision: 0.8596 - val_recall: 0.9713\n",
      "Epoch 4/30\n",
      "\u001B[1m1762/1762\u001B[0m \u001B[32m━━━━━━━━━━━━━━━━━━━━\u001B[0m\u001B[37m\u001B[0m \u001B[1m6s\u001B[0m 3ms/step - accuracy: 0.8352 - loss: 3.4910 - precision: 0.7103 - recall: 0.7313 - val_accuracy: 0.8983 - val_loss: 1.2141 - val_precision: 0.8716 - val_recall: 0.9808\n",
      "Epoch 5/30\n",
      "\u001B[1m1762/1762\u001B[0m \u001B[32m━━━━━━━━━━━━━━━━━━━━\u001B[0m\u001B[37m\u001B[0m \u001B[1m6s\u001B[0m 3ms/step - accuracy: 0.8431 - loss: 1.7788 - precision: 0.7432 - recall: 0.7248 - val_accuracy: 0.8949 - val_loss: 0.8245 - val_precision: 0.8864 - val_recall: 0.9547\n",
      "Epoch 6/30\n",
      "\u001B[1m1762/1762\u001B[0m \u001B[32m━━━━━━━━━━━━━━━━━━━━\u001B[0m\u001B[37m\u001B[0m \u001B[1m6s\u001B[0m 3ms/step - accuracy: 0.8563 - loss: 0.6469 - precision: 0.7529 - recall: 0.7345 - val_accuracy: 0.9170 - val_loss: 0.2430 - val_precision: 0.9066 - val_recall: 0.9674\n",
      "Epoch 7/30\n",
      "\u001B[1m1762/1762\u001B[0m \u001B[32m━━━━━━━━━━━━━━━━━━━━\u001B[0m\u001B[37m\u001B[0m \u001B[1m5s\u001B[0m 3ms/step - accuracy: 0.8381 - loss: 0.6798 - precision: 0.6548 - recall: 0.9074 - val_accuracy: 0.8989 - val_loss: 0.2660 - val_precision: 0.8717 - val_recall: 0.9837\n",
      "Epoch 8/30\n",
      "\u001B[1m1762/1762\u001B[0m \u001B[32m━━━━━━━━━━━━━━━━━━━━\u001B[0m\u001B[37m\u001B[0m \u001B[1m7s\u001B[0m 4ms/step - accuracy: 0.8332 - loss: 0.5040 - precision: 0.6526 - recall: 0.8639 - val_accuracy: 0.8869 - val_loss: 0.2851 - val_precision: 0.8581 - val_recall: 0.9809\n",
      "Epoch 9/30\n",
      "\u001B[1m1762/1762\u001B[0m \u001B[32m━━━━━━━━━━━━━━━━━━━━\u001B[0m\u001B[37m\u001B[0m \u001B[1m7s\u001B[0m 4ms/step - accuracy: 0.8161 - loss: 0.4022 - precision: 0.6289 - recall: 0.8917 - val_accuracy: 0.9057 - val_loss: 0.2511 - val_precision: 0.8853 - val_recall: 0.9755\n",
      "Epoch 10/30\n",
      "\u001B[1m1762/1762\u001B[0m \u001B[32m━━━━━━━━━━━━━━━━━━━━\u001B[0m\u001B[37m\u001B[0m \u001B[1m8s\u001B[0m 4ms/step - accuracy: 0.8510 - loss: 0.3505 - precision: 0.6809 - recall: 0.9004 - val_accuracy: 0.8744 - val_loss: 0.3277 - val_precision: 0.8750 - val_recall: 0.9367\n",
      "Epoch 11/30\n",
      "\u001B[1m1762/1762\u001B[0m \u001B[32m━━━━━━━━━━━━━━━━━━━━\u001B[0m\u001B[37m\u001B[0m \u001B[1m7s\u001B[0m 4ms/step - accuracy: 0.8272 - loss: 0.4231 - precision: 0.6301 - recall: 0.9137 - val_accuracy: 0.9034 - val_loss: 0.2556 - val_precision: 0.8748 - val_recall: 0.9813\n",
      "Epoch 12/30\n",
      "\u001B[1m1762/1762\u001B[0m \u001B[32m━━━━━━━━━━━━━━━━━━━━\u001B[0m\u001B[37m\u001B[0m \u001B[1m7s\u001B[0m 4ms/step - accuracy: 0.8525 - loss: 0.3149 - precision: 0.6785 - recall: 0.9172 - val_accuracy: 0.9085 - val_loss: 0.2397 - val_precision: 0.8935 - val_recall: 0.9745\n",
      "Epoch 13/30\n",
      "\u001B[1m1762/1762\u001B[0m \u001B[32m━━━━━━━━━━━━━━━━━━━━\u001B[0m\u001B[37m\u001B[0m \u001B[1m7s\u001B[0m 4ms/step - accuracy: 0.8466 - loss: 0.3570 - precision: 0.6838 - recall: 0.8434 - val_accuracy: 0.9119 - val_loss: 0.2690 - val_precision: 0.8836 - val_recall: 0.9891\n",
      "Epoch 14/30\n",
      "\u001B[1m1762/1762\u001B[0m \u001B[32m━━━━━━━━━━━━━━━━━━━━\u001B[0m\u001B[37m\u001B[0m \u001B[1m7s\u001B[0m 4ms/step - accuracy: 0.8514 - loss: 0.3904 - precision: 0.6712 - recall: 0.9332 - val_accuracy: 0.8972 - val_loss: 0.2611 - val_precision: 0.8667 - val_recall: 0.9873\n",
      "Epoch 15/30\n",
      "\u001B[1m1762/1762\u001B[0m \u001B[32m━━━━━━━━━━━━━━━━━━━━\u001B[0m\u001B[37m\u001B[0m \u001B[1m7s\u001B[0m 4ms/step - accuracy: 0.8486 - loss: 0.3351 - precision: 0.6818 - recall: 0.8871 - val_accuracy: 0.8932 - val_loss: 0.2606 - val_precision: 0.8639 - val_recall: 0.9775\n",
      "Epoch 16/30\n",
      "\u001B[1m1762/1762\u001B[0m \u001B[32m━━━━━━━━━━━━━━━━━━━━\u001B[0m\u001B[37m\u001B[0m \u001B[1m6s\u001B[0m 4ms/step - accuracy: 0.8622 - loss: 0.2865 - precision: 0.6981 - recall: 0.9335 - val_accuracy: 0.8989 - val_loss: 0.2934 - val_precision: 0.8734 - val_recall: 0.9779\n",
      "Epoch 17/30\n",
      "\u001B[1m1762/1762\u001B[0m \u001B[32m━━━━━━━━━━━━━━━━━━━━\u001B[0m\u001B[37m\u001B[0m \u001B[1m7s\u001B[0m 4ms/step - accuracy: 0.8520 - loss: 0.5790 - precision: 0.7122 - recall: 0.8203 - val_accuracy: 0.9034 - val_loss: 0.2529 - val_precision: 0.8753 - val_recall: 0.9834\n",
      "Epoch 18/30\n",
      "\u001B[1m1762/1762\u001B[0m \u001B[32m━━━━━━━━━━━━━━━━━━━━\u001B[0m\u001B[37m\u001B[0m \u001B[1m7s\u001B[0m 4ms/step - accuracy: 0.8573 - loss: 0.3221 - precision: 0.7275 - recall: 0.7890 - val_accuracy: 0.7102 - val_loss: 0.8913 - val_precision: 0.9697 - val_recall: 0.5532\n",
      "Epoch 19/30\n",
      "\u001B[1m1762/1762\u001B[0m \u001B[32m━━━━━━━━━━━━━━━━━━━━\u001B[0m\u001B[37m\u001B[0m \u001B[1m7s\u001B[0m 4ms/step - accuracy: 0.8597 - loss: 0.4857 - precision: 0.7096 - recall: 0.8496 - val_accuracy: 0.9091 - val_loss: 0.2384 - val_precision: 0.8889 - val_recall: 0.9805\n",
      "Epoch 20/30\n",
      "\u001B[1m1762/1762\u001B[0m \u001B[32m━━━━━━━━━━━━━━━━━━━━\u001B[0m\u001B[37m\u001B[0m \u001B[1m7s\u001B[0m 4ms/step - accuracy: 0.8610 - loss: 0.7524 - precision: 0.6796 - recall: 0.9179 - val_accuracy: 0.9182 - val_loss: 0.2345 - val_precision: 0.8975 - val_recall: 0.9819\n",
      "Epoch 21/30\n",
      "\u001B[1m1762/1762\u001B[0m \u001B[32m━━━━━━━━━━━━━━━━━━━━\u001B[0m\u001B[37m\u001B[0m \u001B[1m6s\u001B[0m 4ms/step - accuracy: 0.8596 - loss: 0.2857 - precision: 0.7122 - recall: 0.8712 - val_accuracy: 0.9131 - val_loss: 0.2328 - val_precision: 0.8886 - val_recall: 0.9866\n",
      "Epoch 22/30\n",
      "\u001B[1m1762/1762\u001B[0m \u001B[32m━━━━━━━━━━━━━━━━━━━━\u001B[0m\u001B[37m\u001B[0m \u001B[1m7s\u001B[0m 4ms/step - accuracy: 0.8593 - loss: 0.3380 - precision: 0.7076 - recall: 0.8468 - val_accuracy: 0.8989 - val_loss: 0.2682 - val_precision: 0.8743 - val_recall: 0.9739\n",
      "Epoch 23/30\n",
      "\u001B[1m1762/1762\u001B[0m \u001B[32m━━━━━━━━━━━━━━━━━━━━\u001B[0m\u001B[37m\u001B[0m \u001B[1m7s\u001B[0m 4ms/step - accuracy: 0.8637 - loss: 0.3926 - precision: 0.7187 - recall: 0.8749 - val_accuracy: 0.9193 - val_loss: 0.2281 - val_precision: 0.8994 - val_recall: 0.9820\n",
      "Epoch 24/30\n",
      "\u001B[1m1762/1762\u001B[0m \u001B[32m━━━━━━━━━━━━━━━━━━━━\u001B[0m\u001B[37m\u001B[0m \u001B[1m7s\u001B[0m 4ms/step - accuracy: 0.8657 - loss: 0.3142 - precision: 0.7036 - recall: 0.8993 - val_accuracy: 0.9068 - val_loss: 0.2560 - val_precision: 0.8882 - val_recall: 0.9758\n",
      "Epoch 25/30\n",
      "\u001B[1m1762/1762\u001B[0m \u001B[32m━━━━━━━━━━━━━━━━━━━━\u001B[0m\u001B[37m\u001B[0m \u001B[1m5s\u001B[0m 3ms/step - accuracy: 0.8667 - loss: 0.3062 - precision: 0.7242 - recall: 0.8572 - val_accuracy: 0.9205 - val_loss: 0.2405 - val_precision: 0.8964 - val_recall: 0.9863\n",
      "Epoch 26/30\n",
      "\u001B[1m1762/1762\u001B[0m \u001B[32m━━━━━━━━━━━━━━━━━━━━\u001B[0m\u001B[37m\u001B[0m \u001B[1m6s\u001B[0m 4ms/step - accuracy: 0.8697 - loss: 0.3510 - precision: 0.7040 - recall: 0.9440 - val_accuracy: 0.9176 - val_loss: 0.2257 - val_precision: 0.8898 - val_recall: 0.9890\n",
      "Epoch 27/30\n",
      "\u001B[1m1762/1762\u001B[0m \u001B[32m━━━━━━━━━━━━━━━━━━━━\u001B[0m\u001B[37m\u001B[0m \u001B[1m6s\u001B[0m 4ms/step - accuracy: 0.8672 - loss: 0.2937 - precision: 0.7145 - recall: 0.8800 - val_accuracy: 0.9011 - val_loss: 0.2511 - val_precision: 0.8827 - val_recall: 0.9665\n",
      "Epoch 28/30\n",
      "\u001B[1m1762/1762\u001B[0m \u001B[32m━━━━━━━━━━━━━━━━━━━━\u001B[0m\u001B[37m\u001B[0m \u001B[1m6s\u001B[0m 3ms/step - accuracy: 0.8665 - loss: 0.3170 - precision: 0.7159 - recall: 0.8914 - val_accuracy: 0.9023 - val_loss: 0.2544 - val_precision: 0.8741 - val_recall: 0.9844\n",
      "Epoch 29/30\n",
      "\u001B[1m1762/1762\u001B[0m \u001B[32m━━━━━━━━━━━━━━━━━━━━\u001B[0m\u001B[37m\u001B[0m \u001B[1m6s\u001B[0m 3ms/step - accuracy: 0.8596 - loss: 0.2854 - precision: 0.7252 - recall: 0.8395 - val_accuracy: 0.8824 - val_loss: 0.2946 - val_precision: 0.8919 - val_recall: 0.9178\n",
      "Epoch 30/30\n",
      "\u001B[1m1762/1762\u001B[0m \u001B[32m━━━━━━━━━━━━━━━━━━━━\u001B[0m\u001B[37m\u001B[0m \u001B[1m6s\u001B[0m 3ms/step - accuracy: 0.8763 - loss: 0.2626 - precision: 0.7454 - recall: 0.8496 - val_accuracy: 0.9006 - val_loss: 0.2589 - val_precision: 0.8784 - val_recall: 0.9795\n"
     ]
    }
   ],
   "execution_count": 86
  },
  {
   "metadata": {},
   "cell_type": "markdown",
   "source": "## Visualization",
   "id": "bcd21e01ff7a28f2"
  },
  {
   "metadata": {
    "ExecuteTime": {
     "end_time": "2024-12-14T15:28:47.350359Z",
     "start_time": "2024-12-14T15:28:47.071735Z"
    }
   },
   "cell_type": "code",
   "source": [
    "\n",
    "plt.plot(history.history['loss'])\n",
    "plt.title('Model loss')\n",
    "plt.ylabel('Loss')\n",
    "plt.xlabel('Epoch')"
   ],
   "id": "6d5cd6e5089a3530",
   "outputs": [
    {
     "data": {
      "text/plain": [
       "Text(0.5, 0, 'Epoch')"
      ]
     },
     "execution_count": 87,
     "metadata": {},
     "output_type": "execute_result"
    },
    {
     "data": {
      "text/plain": [
       "<Figure size 640x480 with 1 Axes>"
      ],
      "image/png": "[encoded data removed]"
     },
     "metadata": {},
     "output_type": "display_data"
    }
   ],
   "execution_count": 87
  },
  {
   "metadata": {
    "ExecuteTime": {
     "end_time": "2024-12-14T15:28:48.271831Z",
     "start_time": "2024-12-14T15:28:48.068069Z"
    }
   },
   "cell_type": "code",
   "source": [
    "plt.plot(history.history['accuracy'])\n",
    "plt.title('Model accuracy')\n",
    "plt.ylabel('Accuracy')\n",
    "plt.xlabel('Epoch')"
   ],
   "id": "208c7a6769b05949",
   "outputs": [
    {
     "data": {
      "text/plain": [
       "Text(0.5, 0, 'Epoch')"
      ]
     },
     "execution_count": 88,
     "metadata": {},
     "output_type": "execute_result"
    },
    {
     "data": {
      "text/plain": [
       "<Figure size 640x480 with 1 Axes>"
      ],
      "image/png": "[encoded data removed]"
     },
     "metadata": {},
     "output_type": "display_data"
    }
   ],
   "execution_count": 88
  },
  {
   "metadata": {
    "ExecuteTime": {
     "end_time": "2024-12-14T15:42:07.259539Z",
     "start_time": "2024-12-14T15:42:02.602807Z"
    }
   },
   "cell_type": "code",
   "source": [
    "train_result =  model.evaluate(train_ds    )\n",
    "val_result = model.evaluate(val_ds)\n",
    "test_result = model.evaluate(test_ds)"
   ],
   "id": "5b95a18f5b52b09b",
   "outputs": [
    {
     "name": "stdout",
     "output_type": "stream",
     "text": [
      "\u001B[1m1762/1762\u001B[0m \u001B[32m━━━━━━━━━━━━━━━━━━━━\u001B[0m\u001B[37m\u001B[0m \u001B[1m3s\u001B[0m 2ms/step - accuracy: 0.8656 - loss: 0.2764 - precision: 0.6910 - recall: 0.9710\n",
      "\u001B[1m220/220\u001B[0m \u001B[32m━━━━━━━━━━━━━━━━━━━━\u001B[0m\u001B[37m\u001B[0m \u001B[1m1s\u001B[0m 2ms/step - accuracy: 0.9041 - loss: 0.2410 - precision: 0.8778 - recall: 0.9823\n",
      "\u001B[1m220/220\u001B[0m \u001B[32m━━━━━━━━━━━━━━━━━━━━\u001B[0m\u001B[37m\u001B[0m \u001B[1m1s\u001B[0m 2ms/step - accuracy: 0.9121 - loss: 0.2407 - precision: 0.8927 - recall: 0.9816\n"
     ]
    }
   ],
   "execution_count": 93
  },
  {
   "metadata": {
    "ExecuteTime": {
     "end_time": "2024-12-14T15:42:07.285386Z",
     "start_time": "2024-12-14T15:42:07.275891Z"
    }
   },
   "cell_type": "code",
   "source": [
    "print(\"Train\")\n",
    "print(\"Accuracy\", train_result[1])\n",
    "print(\"Precision\", train_result[2])\n",
    "print(\"Recall\", train_result[3])\n",
    "print(\"#\" * 10)\n",
    "print(\"Validation\")\n",
    "print(\"Accuracy\", val_result[1])\n",
    "print(\"Precision\", val_result[2])\n",
    "print(\"Recall\", val_result[3])\n",
    "print(\"#\" * 10)\n",
    "print(\"Test\")\n",
    "print(\"Accuracy\", test_result[1])\n",
    "print(\"Precision\", test_result[2])\n",
    "print(\"Recall\", test_result[3])\n"
   ],
   "id": "6fa70085aa8d0823",
   "outputs": [
    {
     "name": "stdout",
     "output_type": "stream",
     "text": [
      "Train\n",
      "Accuracy 0.8800368905067444\n",
      "Precision 0.8058107495307922\n",
      "Recall 0.9808070063591003\n",
      "##########\n",
      "Validation\n",
      "Accuracy 0.8988636136054993\n",
      "Precision 0.8711256384849548\n",
      "Recall 0.9816176295280457\n",
      "##########\n",
      "Test\n",
      "Accuracy 0.90625\n",
      "Precision 0.8802931308746338\n",
      "Recall 0.9836214780807495\n"
     ]
    }
   ],
   "execution_count": 94
  },
  {
   "metadata": {},
   "cell_type": "code",
   "outputs": [],
   "execution_count": null,
   "source": "",
   "id": "56029d38dfe761a3"
  }
 ],
 "metadata": {
  "kernelspec": {
   "display_name": "Python 3",
   "language": "python",
   "name": "python3"
  },
  "language_info": {
   "codemirror_mode": {
    "name": "ipython",
    "version": 2
   },
   "file_extension": ".py",
   "mimetype": "text/x-python",
   "name": "python",
   "nbconvert_exporter": "python",
   "pygments_lexer": "ipython2",
   "version": "2.7.6"
  }
 },
 "nbformat": 4,
 "nbformat_minor": 5
}
