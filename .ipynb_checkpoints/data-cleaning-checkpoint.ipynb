{
 "cells": [
  {
   "cell_type": "code",
   "id": "initial_id",
   "metadata": {
    "collapsed": true,
    "ExecuteTime": {
     "end_time": "2024-12-14T14:09:17.345827Z",
     "start_time": "2024-12-14T14:09:17.343405Z"
    }
   },
   "source": [
    "import os\n",
    "import sys\n",
    "\n",
    "sys.path.append(\"./\")  # Adds higher directory to python modules path.\n",
    "os.environ['TF_CPP_MIN_LOG_LEVEL'] = '1'\n"
   ],
   "outputs": [],
   "execution_count": 32
  },
  {
   "metadata": {
    "ExecuteTime": {
     "end_time": "2024-12-14T14:09:17.392348Z",
     "start_time": "2024-12-14T14:09:17.389762Z"
    }
   },
   "cell_type": "code",
   "source": [
    "from core.ODEDataset import ODEDataset\n",
    "import pandas as pd\n",
    "\n",
    "pd.set_option('future.no_silent_downcasting', True)\n",
    "from utils import cleaning, constants, helpers\n"
   ],
   "id": "1e07c47cc005ee46",
   "outputs": [],
   "execution_count": 33
  },
  {
   "metadata": {
    "ExecuteTime": {
     "end_time": "2024-12-14T14:09:17.443224Z",
     "start_time": "2024-12-14T14:09:17.438790Z"
    }
   },
   "cell_type": "code",
   "source": "filepath = \"./playground/data/esmap_lsms-tanzania.csv\"\n",
   "id": "d03130217c47f2b3",
   "outputs": [],
   "execution_count": 34
  },
  {
   "metadata": {
    "ExecuteTime": {
     "end_time": "2024-12-14T14:09:17.515534Z",
     "start_time": "2024-12-14T14:09:17.490846Z"
    }
   },
   "cell_type": "code",
   "source": [
    "dataset = ODEDataset(\"combined\")\n",
    "dataset.from_csv(filepath)\n",
    "dataset = dataset.select([\n",
    "                             \"ID\",\n",
    "                         ] + constants.DRIVERS_LIST + constants.PRESENCE_LIST)\n"
   ],
   "id": "79f0638b1715b622",
   "outputs": [],
   "execution_count": 35
  },
  {
   "metadata": {},
   "cell_type": "markdown",
   "source": "# Drivers",
   "id": "191c976ca2a79bcc"
  },
  {
   "metadata": {},
   "cell_type": "markdown",
   "source": "## Years_of_HHH_in_community",
   "id": "cf863e540f4f71fe"
  },
  {
   "metadata": {
    "ExecuteTime": {
     "end_time": "2024-12-14T14:09:17.606375Z",
     "start_time": "2024-12-14T14:09:17.545208Z"
    }
   },
   "cell_type": "code",
   "source": [
    "dataset = dataset.apply(cleaning.fillna(\"Years_of_HHH_in_community\", -1))\n",
    "dataset = dataset.apply(cleaning.astype(\"Years_of_HHH_in_community\", int))\n",
    "dataset = dataset.new_feature(\"Years_of_HHH_in_community_missing\",\n",
    "                              cleaning.add_missing_flag(\"Years_of_HHH_in_community\", -1))\n",
    "dataset.to_dataframe()[[\"Years_of_HHH_in_community\", \"Years_of_HHH_in_community_missing\"]].head()"
   ],
   "id": "5f55ce2de3b34430",
   "outputs": [
    {
     "data": {
      "text/plain": [
       "   Years_of_HHH_in_community  Years_of_HHH_in_community_missing\n",
       "0                         -1                                  1\n",
       "1                         -1                                  1\n",
       "2                         20                                  0\n",
       "3                         20                                  0\n",
       "4                         15                                  0"
      ],
      "text/html": [
       "<div>\n",
       "<style scoped>\n",
       "    .dataframe tbody tr th:only-of-type {\n",
       "        vertical-align: middle;\n",
       "    }\n",
       "\n",
       "    .dataframe tbody tr th {\n",
       "        vertical-align: top;\n",
       "    }\n",
       "\n",
       "    .dataframe thead th {\n",
       "        text-align: right;\n",
       "    }\n",
       "</style>\n",
       "<table border=\"1\" class=\"dataframe\">\n",
       "  <thead>\n",
       "    <tr style=\"text-align: right;\">\n",
       "      <th></th>\n",
       "      <th>Years_of_HHH_in_community</th>\n",
       "      <th>Years_of_HHH_in_community_missing</th>\n",
       "    </tr>\n",
       "  </thead>\n",
       "  <tbody>\n",
       "    <tr>\n",
       "      <th>0</th>\n",
       "      <td>-1</td>\n",
       "      <td>1</td>\n",
       "    </tr>\n",
       "    <tr>\n",
       "      <th>1</th>\n",
       "      <td>-1</td>\n",
       "      <td>1</td>\n",
       "    </tr>\n",
       "    <tr>\n",
       "      <th>2</th>\n",
       "      <td>20</td>\n",
       "      <td>0</td>\n",
       "    </tr>\n",
       "    <tr>\n",
       "      <th>3</th>\n",
       "      <td>20</td>\n",
       "      <td>0</td>\n",
       "    </tr>\n",
       "    <tr>\n",
       "      <th>4</th>\n",
       "      <td>15</td>\n",
       "      <td>0</td>\n",
       "    </tr>\n",
       "  </tbody>\n",
       "</table>\n",
       "</div>"
      ]
     },
     "execution_count": 36,
     "metadata": {},
     "output_type": "execute_result"
    }
   ],
   "execution_count": 36
  },
  {
   "metadata": {},
   "cell_type": "markdown",
   "source": "## Dwelling_quality_index\n",
   "id": "8c5210735a30e773"
  },
  {
   "metadata": {
    "ExecuteTime": {
     "end_time": "2024-12-14T14:09:17.688080Z",
     "start_time": "2024-12-14T14:09:17.642240Z"
    }
   },
   "cell_type": "code",
   "source": [
    "dataset = dataset.apply(cleaning.fillna(\"Dwelling_quality_index\", -1))\n",
    "dataset = dataset.apply(cleaning.astype(\"Dwelling_quality_index\", int))\n",
    "dataset = dataset.new_feature(\"Dwelling_quality_index_missing\", cleaning.add_missing_flag(\"Dwelling_quality_index\", -1))\n",
    "\n",
    "dataset.to_dataframe()[[\"Dwelling_quality_index\", \"Dwelling_quality_index_missing\"]].head()"
   ],
   "id": "c40bcfc9d983bb09",
   "outputs": [
    {
     "data": {
      "text/plain": [
       "   Dwelling_quality_index  Dwelling_quality_index_missing\n",
       "0                       0                               0\n",
       "1                       0                               0\n",
       "2                       0                               0\n",
       "3                       0                               0\n",
       "4                       0                               0"
      ],
      "text/html": [
       "<div>\n",
       "<style scoped>\n",
       "    .dataframe tbody tr th:only-of-type {\n",
       "        vertical-align: middle;\n",
       "    }\n",
       "\n",
       "    .dataframe tbody tr th {\n",
       "        vertical-align: top;\n",
       "    }\n",
       "\n",
       "    .dataframe thead th {\n",
       "        text-align: right;\n",
       "    }\n",
       "</style>\n",
       "<table border=\"1\" class=\"dataframe\">\n",
       "  <thead>\n",
       "    <tr style=\"text-align: right;\">\n",
       "      <th></th>\n",
       "      <th>Dwelling_quality_index</th>\n",
       "      <th>Dwelling_quality_index_missing</th>\n",
       "    </tr>\n",
       "  </thead>\n",
       "  <tbody>\n",
       "    <tr>\n",
       "      <th>0</th>\n",
       "      <td>0</td>\n",
       "      <td>0</td>\n",
       "    </tr>\n",
       "    <tr>\n",
       "      <th>1</th>\n",
       "      <td>0</td>\n",
       "      <td>0</td>\n",
       "    </tr>\n",
       "    <tr>\n",
       "      <th>2</th>\n",
       "      <td>0</td>\n",
       "      <td>0</td>\n",
       "    </tr>\n",
       "    <tr>\n",
       "      <th>3</th>\n",
       "      <td>0</td>\n",
       "      <td>0</td>\n",
       "    </tr>\n",
       "    <tr>\n",
       "      <th>4</th>\n",
       "      <td>0</td>\n",
       "      <td>0</td>\n",
       "    </tr>\n",
       "  </tbody>\n",
       "</table>\n",
       "</div>"
      ]
     },
     "execution_count": 37,
     "metadata": {},
     "output_type": "execute_result"
    }
   ],
   "execution_count": 37
  },
  {
   "metadata": {},
   "cell_type": "markdown",
   "source": "## Hours_available_electricity",
   "id": "d65228128f0106b7"
  },
  {
   "metadata": {
    "ExecuteTime": {
     "end_time": "2024-12-14T14:09:17.797322Z",
     "start_time": "2024-12-14T14:09:17.734381Z"
    }
   },
   "cell_type": "code",
   "source": [
    "dataset = dataset.apply(cleaning.fillna(\"Hours_available_electricity\", -1))\n",
    "dataset = dataset.apply(cleaning.astype(\"Hours_available_electricity\", int))\n",
    "dataset = dataset.new_feature(\"Hours_available_electricity_missing\",\n",
    "                              cleaning.add_missing_flag(\"Hours_available_electricity\", -1))\n",
    "\n",
    "dataset.to_dataframe()[[\"Hours_available_electricity\", \"Hours_available_electricity_missing\"]].head()\n"
   ],
   "id": "b65b79fa63cf0727",
   "outputs": [
    {
     "data": {
      "text/plain": [
       "   Hours_available_electricity  Hours_available_electricity_missing\n",
       "0                           -1                                    1\n",
       "1                           -1                                    1\n",
       "2                           -1                                    1\n",
       "3                           -1                                    1\n",
       "4                           -1                                    1"
      ],
      "text/html": [
       "<div>\n",
       "<style scoped>\n",
       "    .dataframe tbody tr th:only-of-type {\n",
       "        vertical-align: middle;\n",
       "    }\n",
       "\n",
       "    .dataframe tbody tr th {\n",
       "        vertical-align: top;\n",
       "    }\n",
       "\n",
       "    .dataframe thead th {\n",
       "        text-align: right;\n",
       "    }\n",
       "</style>\n",
       "<table border=\"1\" class=\"dataframe\">\n",
       "  <thead>\n",
       "    <tr style=\"text-align: right;\">\n",
       "      <th></th>\n",
       "      <th>Hours_available_electricity</th>\n",
       "      <th>Hours_available_electricity_missing</th>\n",
       "    </tr>\n",
       "  </thead>\n",
       "  <tbody>\n",
       "    <tr>\n",
       "      <th>0</th>\n",
       "      <td>-1</td>\n",
       "      <td>1</td>\n",
       "    </tr>\n",
       "    <tr>\n",
       "      <th>1</th>\n",
       "      <td>-1</td>\n",
       "      <td>1</td>\n",
       "    </tr>\n",
       "    <tr>\n",
       "      <th>2</th>\n",
       "      <td>-1</td>\n",
       "      <td>1</td>\n",
       "    </tr>\n",
       "    <tr>\n",
       "      <th>3</th>\n",
       "      <td>-1</td>\n",
       "      <td>1</td>\n",
       "    </tr>\n",
       "    <tr>\n",
       "      <th>4</th>\n",
       "      <td>-1</td>\n",
       "      <td>1</td>\n",
       "    </tr>\n",
       "  </tbody>\n",
       "</table>\n",
       "</div>"
      ]
     },
     "execution_count": 38,
     "metadata": {},
     "output_type": "execute_result"
    }
   ],
   "execution_count": 38
  },
  {
   "metadata": {},
   "cell_type": "markdown",
   "source": "## Measurement_age",
   "id": "bd3ba5884dce0110"
  },
  {
   "metadata": {
    "ExecuteTime": {
     "end_time": "2024-12-14T14:09:17.906527Z",
     "start_time": "2024-12-14T14:09:17.858385Z"
    }
   },
   "cell_type": "code",
   "source": [
    "dataset = dataset.apply(cleaning.fillna(\"Measurement_age\", -1))\n",
    "dataset = dataset.apply(cleaning.replace_value(\"Measurement_age\", -99, -1))\n",
    "dataset = dataset.apply(cleaning.astype(\"Measurement_age\", float))\n",
    "dataset = dataset.new_feature(\"Measurement_age_missing\", cleaning.add_missing_flag(\"Measurement_age\", -1))\n",
    "dataset.to_dataframe()[[\"Measurement_age\", \"Measurement_age_missing\"]].head()\n"
   ],
   "id": "79cc4a11f5f02eb2",
   "outputs": [
    {
     "data": {
      "text/plain": [
       "   Measurement_age  Measurement_age_missing\n",
       "0             -1.0                        1\n",
       "1             -1.0                        1\n",
       "2             -1.0                        1\n",
       "3             -1.0                        1\n",
       "4             -1.0                        1"
      ],
      "text/html": [
       "<div>\n",
       "<style scoped>\n",
       "    .dataframe tbody tr th:only-of-type {\n",
       "        vertical-align: middle;\n",
       "    }\n",
       "\n",
       "    .dataframe tbody tr th {\n",
       "        vertical-align: top;\n",
       "    }\n",
       "\n",
       "    .dataframe thead th {\n",
       "        text-align: right;\n",
       "    }\n",
       "</style>\n",
       "<table border=\"1\" class=\"dataframe\">\n",
       "  <thead>\n",
       "    <tr style=\"text-align: right;\">\n",
       "      <th></th>\n",
       "      <th>Measurement_age</th>\n",
       "      <th>Measurement_age_missing</th>\n",
       "    </tr>\n",
       "  </thead>\n",
       "  <tbody>\n",
       "    <tr>\n",
       "      <th>0</th>\n",
       "      <td>-1.0</td>\n",
       "      <td>1</td>\n",
       "    </tr>\n",
       "    <tr>\n",
       "      <th>1</th>\n",
       "      <td>-1.0</td>\n",
       "      <td>1</td>\n",
       "    </tr>\n",
       "    <tr>\n",
       "      <th>2</th>\n",
       "      <td>-1.0</td>\n",
       "      <td>1</td>\n",
       "    </tr>\n",
       "    <tr>\n",
       "      <th>3</th>\n",
       "      <td>-1.0</td>\n",
       "      <td>1</td>\n",
       "    </tr>\n",
       "    <tr>\n",
       "      <th>4</th>\n",
       "      <td>-1.0</td>\n",
       "      <td>1</td>\n",
       "    </tr>\n",
       "  </tbody>\n",
       "</table>\n",
       "</div>"
      ]
     },
     "execution_count": 39,
     "metadata": {},
     "output_type": "execute_result"
    }
   ],
   "execution_count": 39
  },
  {
   "metadata": {},
   "cell_type": "markdown",
   "source": "## Monthly_expenditure",
   "id": "d41d7e873a7f4fb4"
  },
  {
   "metadata": {
    "ExecuteTime": {
     "end_time": "2024-12-14T14:09:18.019039Z",
     "start_time": "2024-12-14T14:09:17.973567Z"
    }
   },
   "cell_type": "code",
   "source": [
    "dataset = dataset.apply(cleaning.fillna(\"Monthly_expenditure\", -1))\n",
    "dataset = dataset.apply(cleaning.astype(\"Monthly_expenditure\", float))\n",
    "dataset = dataset.apply(cleaning.replace_value(\"Monthly_expenditure\", -99, -1))\n",
    "dataset = dataset.new_feature(\"Monthly_expenditure_missing\", cleaning.add_missing_flag(\"Monthly_expenditure\", -1))\n",
    "\n",
    "dataset.to_dataframe()[[\"Monthly_expenditure\", \"Monthly_expenditure_missing\"]].head()"
   ],
   "id": "9e2775d3d2c2fadf",
   "outputs": [
    {
     "data": {
      "text/plain": [
       "   Monthly_expenditure  Monthly_expenditure_missing\n",
       "0              63600.0                            0\n",
       "1              63600.0                            0\n",
       "2              65400.0                            0\n",
       "3              65400.0                            0\n",
       "4                 -1.0                            1"
      ],
      "text/html": [
       "<div>\n",
       "<style scoped>\n",
       "    .dataframe tbody tr th:only-of-type {\n",
       "        vertical-align: middle;\n",
       "    }\n",
       "\n",
       "    .dataframe tbody tr th {\n",
       "        vertical-align: top;\n",
       "    }\n",
       "\n",
       "    .dataframe thead th {\n",
       "        text-align: right;\n",
       "    }\n",
       "</style>\n",
       "<table border=\"1\" class=\"dataframe\">\n",
       "  <thead>\n",
       "    <tr style=\"text-align: right;\">\n",
       "      <th></th>\n",
       "      <th>Monthly_expenditure</th>\n",
       "      <th>Monthly_expenditure_missing</th>\n",
       "    </tr>\n",
       "  </thead>\n",
       "  <tbody>\n",
       "    <tr>\n",
       "      <th>0</th>\n",
       "      <td>63600.0</td>\n",
       "      <td>0</td>\n",
       "    </tr>\n",
       "    <tr>\n",
       "      <th>1</th>\n",
       "      <td>63600.0</td>\n",
       "      <td>0</td>\n",
       "    </tr>\n",
       "    <tr>\n",
       "      <th>2</th>\n",
       "      <td>65400.0</td>\n",
       "      <td>0</td>\n",
       "    </tr>\n",
       "    <tr>\n",
       "      <th>3</th>\n",
       "      <td>65400.0</td>\n",
       "      <td>0</td>\n",
       "    </tr>\n",
       "    <tr>\n",
       "      <th>4</th>\n",
       "      <td>-1.0</td>\n",
       "      <td>1</td>\n",
       "    </tr>\n",
       "  </tbody>\n",
       "</table>\n",
       "</div>"
      ]
     },
     "execution_count": 40,
     "metadata": {},
     "output_type": "execute_result"
    }
   ],
   "execution_count": 40
  },
  {
   "metadata": {},
   "cell_type": "markdown",
   "source": "## Number_of_rooms",
   "id": "63927f187164c2a6"
  },
  {
   "metadata": {
    "ExecuteTime": {
     "end_time": "2024-12-14T14:09:18.135421Z",
     "start_time": "2024-12-14T14:09:18.078781Z"
    }
   },
   "cell_type": "code",
   "source": [
    "dataset = dataset.apply(cleaning.fillna(\"Number_of_rooms\", -1))\n",
    "dataset = dataset.apply(cleaning.astype(\"Number_of_rooms\", int))\n",
    "dataset = dataset.new_feature(\"Number_of_rooms_missing\", cleaning.add_missing_flag(\"Number_of_rooms\", -1))\n",
    "\n",
    "dataset.to_dataframe()[[\"Number_of_rooms\", \"Number_of_rooms_missing\"]].head()\n",
    "\n"
   ],
   "id": "7603a87d2ec70b21",
   "outputs": [
    {
     "data": {
      "text/plain": [
       "   Number_of_rooms  Number_of_rooms_missing\n",
       "0                3                        0\n",
       "1                3                        0\n",
       "2                3                        0\n",
       "3                3                        0\n",
       "4                2                        0"
      ],
      "text/html": [
       "<div>\n",
       "<style scoped>\n",
       "    .dataframe tbody tr th:only-of-type {\n",
       "        vertical-align: middle;\n",
       "    }\n",
       "\n",
       "    .dataframe tbody tr th {\n",
       "        vertical-align: top;\n",
       "    }\n",
       "\n",
       "    .dataframe thead th {\n",
       "        text-align: right;\n",
       "    }\n",
       "</style>\n",
       "<table border=\"1\" class=\"dataframe\">\n",
       "  <thead>\n",
       "    <tr style=\"text-align: right;\">\n",
       "      <th></th>\n",
       "      <th>Number_of_rooms</th>\n",
       "      <th>Number_of_rooms_missing</th>\n",
       "    </tr>\n",
       "  </thead>\n",
       "  <tbody>\n",
       "    <tr>\n",
       "      <th>0</th>\n",
       "      <td>3</td>\n",
       "      <td>0</td>\n",
       "    </tr>\n",
       "    <tr>\n",
       "      <th>1</th>\n",
       "      <td>3</td>\n",
       "      <td>0</td>\n",
       "    </tr>\n",
       "    <tr>\n",
       "      <th>2</th>\n",
       "      <td>3</td>\n",
       "      <td>0</td>\n",
       "    </tr>\n",
       "    <tr>\n",
       "      <th>3</th>\n",
       "      <td>3</td>\n",
       "      <td>0</td>\n",
       "    </tr>\n",
       "    <tr>\n",
       "      <th>4</th>\n",
       "      <td>2</td>\n",
       "      <td>0</td>\n",
       "    </tr>\n",
       "  </tbody>\n",
       "</table>\n",
       "</div>"
      ]
     },
     "execution_count": 41,
     "metadata": {},
     "output_type": "execute_result"
    }
   ],
   "execution_count": 41
  },
  {
   "metadata": {},
   "cell_type": "markdown",
   "source": "## Climate_zone_lev_1",
   "id": "37d5357c66b10d44"
  },
  {
   "metadata": {
    "ExecuteTime": {
     "end_time": "2024-12-14T14:09:18.329430Z",
     "start_time": "2024-12-14T14:09:18.222639Z"
    }
   },
   "cell_type": "code",
   "source": [
    "dataset = dataset.apply(cleaning.fillna(\"Climate_zone_lev_1\", -1))\n",
    "dataset = dataset.apply(cleaning.astype(\"Climate_zone_lev_1\", float))\n",
    "dataset = dataset.new_feature(\"Climate_zone_lev_1_missing\", cleaning.add_missing_flag(\"Climate_zone_lev_1\", -1))\n",
    "\n",
    "dataset.to_dataframe()[[\"Climate_zone_lev_1\", \"Climate_zone_lev_1_missing\"]].head()\n",
    "\n"
   ],
   "id": "e5f87ff91d9c4bc4",
   "outputs": [
    {
     "data": {
      "text/plain": [
       "   Climate_zone_lev_1  Climate_zone_lev_1_missing\n",
       "0                 3.0                           0\n",
       "1                 3.0                           0\n",
       "2                 3.0                           0\n",
       "3                 3.0                           0\n",
       "4                 3.0                           0"
      ],
      "text/html": [
       "<div>\n",
       "<style scoped>\n",
       "    .dataframe tbody tr th:only-of-type {\n",
       "        vertical-align: middle;\n",
       "    }\n",
       "\n",
       "    .dataframe tbody tr th {\n",
       "        vertical-align: top;\n",
       "    }\n",
       "\n",
       "    .dataframe thead th {\n",
       "        text-align: right;\n",
       "    }\n",
       "</style>\n",
       "<table border=\"1\" class=\"dataframe\">\n",
       "  <thead>\n",
       "    <tr style=\"text-align: right;\">\n",
       "      <th></th>\n",
       "      <th>Climate_zone_lev_1</th>\n",
       "      <th>Climate_zone_lev_1_missing</th>\n",
       "    </tr>\n",
       "  </thead>\n",
       "  <tbody>\n",
       "    <tr>\n",
       "      <th>0</th>\n",
       "      <td>3.0</td>\n",
       "      <td>0</td>\n",
       "    </tr>\n",
       "    <tr>\n",
       "      <th>1</th>\n",
       "      <td>3.0</td>\n",
       "      <td>0</td>\n",
       "    </tr>\n",
       "    <tr>\n",
       "      <th>2</th>\n",
       "      <td>3.0</td>\n",
       "      <td>0</td>\n",
       "    </tr>\n",
       "    <tr>\n",
       "      <th>3</th>\n",
       "      <td>3.0</td>\n",
       "      <td>0</td>\n",
       "    </tr>\n",
       "    <tr>\n",
       "      <th>4</th>\n",
       "      <td>3.0</td>\n",
       "      <td>0</td>\n",
       "    </tr>\n",
       "  </tbody>\n",
       "</table>\n",
       "</div>"
      ]
     },
     "execution_count": 42,
     "metadata": {},
     "output_type": "execute_result"
    }
   ],
   "execution_count": 42
  },
  {
   "metadata": {},
   "cell_type": "markdown",
   "source": "## Climate_zone_lev_2",
   "id": "d8620d468fed9619"
  },
  {
   "metadata": {
    "ExecuteTime": {
     "end_time": "2024-12-14T14:09:18.441716Z",
     "start_time": "2024-12-14T14:09:18.393869Z"
    }
   },
   "cell_type": "code",
   "source": [
    "dataset = dataset.apply(cleaning.fillna(\"Climate_zone_lev_2\", -1))\n",
    "dataset = dataset.apply(cleaning.astype(\"Climate_zone_lev_2\", float))\n",
    "\n",
    "dataset = dataset.new_feature(\"Climate_zone_lev_2_missing\", cleaning.add_missing_flag(\"Climate_zone_lev_2\", -1))\n",
    "\n",
    "dataset.to_dataframe()[[\"Climate_zone_lev_2\", \"Climate_zone_lev_2_missing\"]].head()\n",
    "\n"
   ],
   "id": "950e4b4fbcd6219",
   "outputs": [
    {
     "data": {
      "text/plain": [
       "   Climate_zone_lev_2  Climate_zone_lev_2_missing\n",
       "0                -1.0                           1\n",
       "1                -1.0                           1\n",
       "2                 3.0                           0\n",
       "3                 3.0                           0\n",
       "4                 3.0                           0"
      ],
      "text/html": [
       "<div>\n",
       "<style scoped>\n",
       "    .dataframe tbody tr th:only-of-type {\n",
       "        vertical-align: middle;\n",
       "    }\n",
       "\n",
       "    .dataframe tbody tr th {\n",
       "        vertical-align: top;\n",
       "    }\n",
       "\n",
       "    .dataframe thead th {\n",
       "        text-align: right;\n",
       "    }\n",
       "</style>\n",
       "<table border=\"1\" class=\"dataframe\">\n",
       "  <thead>\n",
       "    <tr style=\"text-align: right;\">\n",
       "      <th></th>\n",
       "      <th>Climate_zone_lev_2</th>\n",
       "      <th>Climate_zone_lev_2_missing</th>\n",
       "    </tr>\n",
       "  </thead>\n",
       "  <tbody>\n",
       "    <tr>\n",
       "      <th>0</th>\n",
       "      <td>-1.0</td>\n",
       "      <td>1</td>\n",
       "    </tr>\n",
       "    <tr>\n",
       "      <th>1</th>\n",
       "      <td>-1.0</td>\n",
       "      <td>1</td>\n",
       "    </tr>\n",
       "    <tr>\n",
       "      <th>2</th>\n",
       "      <td>3.0</td>\n",
       "      <td>0</td>\n",
       "    </tr>\n",
       "    <tr>\n",
       "      <th>3</th>\n",
       "      <td>3.0</td>\n",
       "      <td>0</td>\n",
       "    </tr>\n",
       "    <tr>\n",
       "      <th>4</th>\n",
       "      <td>3.0</td>\n",
       "      <td>0</td>\n",
       "    </tr>\n",
       "  </tbody>\n",
       "</table>\n",
       "</div>"
      ]
     },
     "execution_count": 43,
     "metadata": {},
     "output_type": "execute_result"
    }
   ],
   "execution_count": 43
  },
  {
   "metadata": {},
   "cell_type": "markdown",
   "source": "## Age_HHH",
   "id": "e41f0d2c11be173f"
  },
  {
   "metadata": {
    "ExecuteTime": {
     "end_time": "2024-12-14T14:09:18.572096Z",
     "start_time": "2024-12-14T14:09:18.505311Z"
    }
   },
   "cell_type": "code",
   "source": [
    "dataset = dataset.apply(cleaning.fillna(\"Age_HHH\", -1))\n",
    "dataset = dataset.apply(cleaning.astype(\"Age_HHH\", int))\n",
    "dataset = dataset.new_feature(\"Age_HHH_missing\", cleaning.add_missing_flag(\"Age_HHH\", -1))\n",
    "\n",
    "dataset.to_dataframe()[[\"Age_HHH\", \"Age_HHH_missing\"]].head()\n"
   ],
   "id": "3c4edfa9a34b5714",
   "outputs": [
    {
     "data": {
      "text/plain": [
       "   Age_HHH  Age_HHH_missing\n",
       "0       -1                1\n",
       "1       -1                1\n",
       "2       -1                1\n",
       "3       -1                1\n",
       "4       -1                1"
      ],
      "text/html": [
       "<div>\n",
       "<style scoped>\n",
       "    .dataframe tbody tr th:only-of-type {\n",
       "        vertical-align: middle;\n",
       "    }\n",
       "\n",
       "    .dataframe tbody tr th {\n",
       "        vertical-align: top;\n",
       "    }\n",
       "\n",
       "    .dataframe thead th {\n",
       "        text-align: right;\n",
       "    }\n",
       "</style>\n",
       "<table border=\"1\" class=\"dataframe\">\n",
       "  <thead>\n",
       "    <tr style=\"text-align: right;\">\n",
       "      <th></th>\n",
       "      <th>Age_HHH</th>\n",
       "      <th>Age_HHH_missing</th>\n",
       "    </tr>\n",
       "  </thead>\n",
       "  <tbody>\n",
       "    <tr>\n",
       "      <th>0</th>\n",
       "      <td>-1</td>\n",
       "      <td>1</td>\n",
       "    </tr>\n",
       "    <tr>\n",
       "      <th>1</th>\n",
       "      <td>-1</td>\n",
       "      <td>1</td>\n",
       "    </tr>\n",
       "    <tr>\n",
       "      <th>2</th>\n",
       "      <td>-1</td>\n",
       "      <td>1</td>\n",
       "    </tr>\n",
       "    <tr>\n",
       "      <th>3</th>\n",
       "      <td>-1</td>\n",
       "      <td>1</td>\n",
       "    </tr>\n",
       "    <tr>\n",
       "      <th>4</th>\n",
       "      <td>-1</td>\n",
       "      <td>1</td>\n",
       "    </tr>\n",
       "  </tbody>\n",
       "</table>\n",
       "</div>"
      ]
     },
     "execution_count": 44,
     "metadata": {},
     "output_type": "execute_result"
    }
   ],
   "execution_count": 44
  },
  {
   "metadata": {},
   "cell_type": "markdown",
   "source": "## HH_with_home_business",
   "id": "66b966b107cdb15d"
  },
  {
   "metadata": {
    "ExecuteTime": {
     "end_time": "2024-12-14T14:11:15.741137Z",
     "start_time": "2024-12-14T14:11:15.729859Z"
    }
   },
   "cell_type": "code",
   "source": [
    "dataset = dataset.apply(cleaning.fillna(\"HH_with_home_business\", 'missing'))\n",
    "dataset = dataset.apply(cleaning.astype(\"HH_with_home_business\", str))\n",
    "dataset.value_counts(\"HH_with_home_business\")"
   ],
   "id": "dabe1d5674b5a47e",
   "outputs": [
    {
     "data": {
      "text/plain": [
       "HH_with_home_business\n",
       "No         4750\n",
       "missing    4474\n",
       "Yes        1494\n",
       "Name: count, dtype: int64"
      ]
     },
     "execution_count": 57,
     "metadata": {},
     "output_type": "execute_result"
    }
   ],
   "execution_count": 57
  },
  {
   "metadata": {},
   "cell_type": "markdown",
   "source": "## Education_level_HHH",
   "id": "1d313bfd9b915b92"
  },
  {
   "metadata": {
    "ExecuteTime": {
     "end_time": "2024-12-14T14:09:18.738383Z",
     "start_time": "2024-12-14T14:09:18.731642Z"
    }
   },
   "cell_type": "code",
   "source": [
    "\n",
    "dataset = dataset.apply(cleaning.fillna(\"Education_level_HHH\", \"Other\"))\n",
    "dataset.to_dataframe()[\"Education_level_HHH\"].value_counts()"
   ],
   "id": "5f0400ff816f9214",
   "outputs": [
    {
     "data": {
      "text/plain": [
       "Education_level_HHH\n",
       "Other                                    3619\n",
       "Primary education                        3502\n",
       "Upper secondary education                1273\n",
       "Lower secondary education                 963\n",
       "Post-secondary non-tertiary education     469\n",
       "Bachelor's or equivalent level            404\n",
       "No schooling                              245\n",
       "Short-cycle tertiary education            117\n",
       "Doctoral or equivalent level               57\n",
       "Not elsewhere classified                   56\n",
       "Secondary education                        10\n",
       "Master's or equivalent level                3\n",
       "Name: count, dtype: int64"
      ]
     },
     "execution_count": 46,
     "metadata": {},
     "output_type": "execute_result"
    }
   ],
   "execution_count": 46
  },
  {
   "metadata": {},
   "cell_type": "markdown",
   "source": "## Socio_status_HHH",
   "id": "732add2aef779815"
  },
  {
   "metadata": {
    "ExecuteTime": {
     "end_time": "2024-12-14T14:09:18.830045Z",
     "start_time": "2024-12-14T14:09:18.821094Z"
    }
   },
   "cell_type": "code",
   "source": [
    "dataset = dataset.apply(cleaning.fillna(\"Socio_status_HHH\", \"Other (not specified in Socio_status)\"))\n",
    "\n",
    "dataset = dataset.apply(cleaning.replace_value(\"Socio_status_HHH\", \"Other (not specified in Socio_status)\", \"Other\"))\n",
    "\n",
    "dataset.to_dataframe()[\"Socio_status_HHH\"].value_counts()"
   ],
   "id": "45263d2f5330cf06",
   "outputs": [
    {
     "data": {
      "text/plain": [
       "Socio_status_HHH\n",
       "Own-account worker farm              1994\n",
       "Employee                             1932\n",
       "Other                                1821\n",
       "Unemployed                           1679\n",
       "Employee non-farm                    1097\n",
       "Own-account worker non-farm          1062\n",
       "Contributing family worker            501\n",
       "Worker not classifiable by status     405\n",
       "Employee farm                         187\n",
       "Employer                               40\n",
       "Name: count, dtype: int64"
      ]
     },
     "execution_count": 47,
     "metadata": {},
     "output_type": "execute_result"
    }
   ],
   "execution_count": 47
  },
  {
   "metadata": {},
   "cell_type": "markdown",
   "source": " ## Number_adults\n",
   "id": "1f20c6f90b6fae6b"
  },
  {
   "metadata": {
    "ExecuteTime": {
     "end_time": "2024-12-14T14:09:18.931748Z",
     "start_time": "2024-12-14T14:09:18.888718Z"
    }
   },
   "cell_type": "code",
   "source": [
    "dataset = dataset.apply(cleaning.fillna(\"Number_adults\", -1))\n",
    "dataset = dataset.apply(cleaning.astype(\"Number_adults\", int))\n",
    "dataset = dataset.new_feature(\"Number_adults_missing\", cleaning.add_missing_flag(\"Number_adults\", -1))\n",
    "\n",
    "dataset.to_dataframe()[[\"Number_adults\", \"Number_adults_missing\"]].head()\n"
   ],
   "id": "cacbfc4ad3da90db",
   "outputs": [
    {
     "data": {
      "text/plain": [
       "   Number_adults  Number_adults_missing\n",
       "0             34                      0\n",
       "1             34                      0\n",
       "2             59                      0\n",
       "3             59                      0\n",
       "4             57                      0"
      ],
      "text/html": [
       "<div>\n",
       "<style scoped>\n",
       "    .dataframe tbody tr th:only-of-type {\n",
       "        vertical-align: middle;\n",
       "    }\n",
       "\n",
       "    .dataframe tbody tr th {\n",
       "        vertical-align: top;\n",
       "    }\n",
       "\n",
       "    .dataframe thead th {\n",
       "        text-align: right;\n",
       "    }\n",
       "</style>\n",
       "<table border=\"1\" class=\"dataframe\">\n",
       "  <thead>\n",
       "    <tr style=\"text-align: right;\">\n",
       "      <th></th>\n",
       "      <th>Number_adults</th>\n",
       "      <th>Number_adults_missing</th>\n",
       "    </tr>\n",
       "  </thead>\n",
       "  <tbody>\n",
       "    <tr>\n",
       "      <th>0</th>\n",
       "      <td>34</td>\n",
       "      <td>0</td>\n",
       "    </tr>\n",
       "    <tr>\n",
       "      <th>1</th>\n",
       "      <td>34</td>\n",
       "      <td>0</td>\n",
       "    </tr>\n",
       "    <tr>\n",
       "      <th>2</th>\n",
       "      <td>59</td>\n",
       "      <td>0</td>\n",
       "    </tr>\n",
       "    <tr>\n",
       "      <th>3</th>\n",
       "      <td>59</td>\n",
       "      <td>0</td>\n",
       "    </tr>\n",
       "    <tr>\n",
       "      <th>4</th>\n",
       "      <td>57</td>\n",
       "      <td>0</td>\n",
       "    </tr>\n",
       "  </tbody>\n",
       "</table>\n",
       "</div>"
      ]
     },
     "execution_count": 48,
     "metadata": {},
     "output_type": "execute_result"
    }
   ],
   "execution_count": 48
  },
  {
   "metadata": {},
   "cell_type": "markdown",
   "source": "## Ownership_motorized_vehicle\n",
   "id": "5b36d120cdaca549"
  },
  {
   "metadata": {
    "ExecuteTime": {
     "end_time": "2024-12-14T14:09:19.024505Z",
     "start_time": "2024-12-14T14:09:19.011254Z"
    }
   },
   "cell_type": "code",
   "source": [
    "dataset = dataset.apply(cleaning.replace_value(\"Ownership_motorized_vehicle\", \"1.0\", 'Yes'))\n",
    "dataset = dataset.apply(cleaning.replace_value(\"Ownership_motorized_vehicle\", \"0.0\", 'No'))\n",
    "dataset = dataset.apply(cleaning.fillna(\"Ownership_motorized_vehicle\", 'missing'))\n",
    "dataset = dataset.apply(cleaning.astype(\"Ownership_motorized_vehicle\", str))\n",
    "\n",
    "dataset.value_counts(\"Ownership_motorized_vehicle\")"
   ],
   "id": "8d265d50dbeafd79",
   "outputs": [
    {
     "data": {
      "text/plain": [
       "Ownership_motorized_vehicle\n",
       "Yes        4982\n",
       "missing    4216\n",
       "No         1520\n",
       "Name: count, dtype: int64"
      ]
     },
     "execution_count": 49,
     "metadata": {},
     "output_type": "execute_result"
    }
   ],
   "execution_count": 49
  },
  {
   "metadata": {},
   "cell_type": "markdown",
   "source": "## Ownership_small_livestock\n",
   "id": "5f929c88ca41b3b6"
  },
  {
   "metadata": {
    "ExecuteTime": {
     "end_time": "2024-12-14T14:09:19.135916Z",
     "start_time": "2024-12-14T14:09:19.121382Z"
    }
   },
   "cell_type": "code",
   "source": [
    "dataset = dataset.apply(cleaning.replace_value(\"Ownership_small_livestock\", \"1.0\", 'Yes'))\n",
    "dataset = dataset.apply(cleaning.replace_value(\"Ownership_small_livestock\", \"0.0\", 'No'))\n",
    "dataset = dataset.apply(cleaning.fillna(\"Ownership_small_livestock\", 'missing'))\n",
    "dataset = dataset.apply(cleaning.astype(\"Ownership_small_livestock\", str))\n",
    "\n",
    "\n",
    "dataset.value_counts(\"Ownership_small_livestock\")"
   ],
   "id": "9342fd48fa5ce994",
   "outputs": [
    {
     "data": {
      "text/plain": [
       "Ownership_small_livestock\n",
       "Yes        5102\n",
       "No         2876\n",
       "missing    2740\n",
       "Name: count, dtype: int64"
      ]
     },
     "execution_count": 50,
     "metadata": {},
     "output_type": "execute_result"
    }
   ],
   "execution_count": 50
  },
  {
   "metadata": {},
   "cell_type": "markdown",
   "source": "## Ownership_large_livestock\n",
   "id": "d7a3ddeb8d776ca5"
  },
  {
   "metadata": {
    "ExecuteTime": {
     "end_time": "2024-12-14T14:09:19.258954Z",
     "start_time": "2024-12-14T14:09:19.236847Z"
    }
   },
   "cell_type": "code",
   "source": [
    "dataset = dataset.apply(cleaning.replace_value(\"Ownership_large_livestock\", \"1.0\", 'Yes'))\n",
    "dataset = dataset.apply(cleaning.replace_value(\"Ownership_large_livestock\", \"0.0\", 'No'))\n",
    "dataset = dataset.apply(cleaning.fillna(\"Ownership_large_livestock\", 'missing'))\n",
    "dataset = dataset.apply(cleaning.astype(\"Ownership_large_livestock\", str))\n",
    "\n",
    "\n",
    "dataset.value_counts(\"Ownership_large_livestock\")"
   ],
   "id": "e20962f15241dc8c",
   "outputs": [
    {
     "data": {
      "text/plain": [
       "Ownership_large_livestock\n",
       "Yes        5070\n",
       "missing    4231\n",
       "No         1417\n",
       "Name: count, dtype: int64"
      ]
     },
     "execution_count": 51,
     "metadata": {},
     "output_type": "execute_result"
    }
   ],
   "execution_count": 51
  },
  {
   "metadata": {},
   "cell_type": "markdown",
   "source": "## Clean_fuel\n",
   "id": "d445766e629440bd"
  },
  {
   "metadata": {
    "ExecuteTime": {
     "end_time": "2024-12-14T14:09:19.335219Z",
     "start_time": "2024-12-14T14:09:19.320744Z"
    }
   },
   "cell_type": "code",
   "source": [
    "dataset = dataset.apply(cleaning.replace_value(\"Clean_fuel\", \"0\", 'No'))\n",
    "dataset = dataset.apply(cleaning.replace_value(\"Clean_fuel\", \"1\", 'Yes'))\n",
    "dataset = dataset.apply(cleaning.fillna(\"Clean_fuel\", 'missing'))\n",
    "dataset = dataset.apply(cleaning.astype(\"Clean_fuel\", str))\n",
    "dataset.value_counts(\"Clean_fuel\")"
   ],
   "id": "8c69df0f4d9618c",
   "outputs": [
    {
     "data": {
      "text/plain": [
       "Clean_fuel\n",
       "No         10002\n",
       "Yes          596\n",
       "missing      120\n",
       "Name: count, dtype: int64"
      ]
     },
     "execution_count": 52,
     "metadata": {},
     "output_type": "execute_result"
    }
   ],
   "execution_count": 52
  },
  {
   "metadata": {},
   "cell_type": "markdown",
   "source": "## Tariff_payment_frequency",
   "id": "dff46a500e30d9d4"
  },
  {
   "metadata": {
    "ExecuteTime": {
     "end_time": "2024-12-14T14:09:19.397681Z",
     "start_time": "2024-12-14T14:09:19.388943Z"
    }
   },
   "cell_type": "code",
   "source": [
    "dataset = dataset.apply(cleaning.fillna(\"Tariff_payment_frequency\", \"Other\"))\n",
    "dataset.to_dataframe()[\"Tariff_payment_frequency\"].value_counts()"
   ],
   "id": "9293c673557e7211",
   "outputs": [
    {
     "data": {
      "text/plain": [
       "Tariff_payment_frequency\n",
       "Other             8856\n",
       "Monthly           1576\n",
       "Every 2 weeks      194\n",
       "Weekly              49\n",
       "No bill             38\n",
       "Every 6 months       4\n",
       "Every 3 months       1\n",
       "Name: count, dtype: int64"
      ]
     },
     "execution_count": 53,
     "metadata": {},
     "output_type": "execute_result"
    }
   ],
   "execution_count": 53
  },
  {
   "metadata": {
    "ExecuteTime": {
     "end_time": "2024-12-14T14:09:19.538068Z",
     "start_time": "2024-12-14T14:09:19.536531Z"
    }
   },
   "cell_type": "code",
   "source": "",
   "id": "9f794fbce6584411",
   "outputs": [],
   "execution_count": null
  },
  {
   "metadata": {},
   "cell_type": "markdown",
   "source": "# Appliances\n",
   "id": "93e029e61a0d6da9"
  },
  {
   "metadata": {
    "ExecuteTime": {
     "end_time": "2024-12-14T14:09:19.665929Z",
     "start_time": "2024-12-14T14:09:19.650809Z"
    }
   },
   "cell_type": "code",
   "source": [
    "PRESENCE_LIST = [\n",
    "    'Presence_refrigerator/freezer', 'Presence_iron', 'Presence_fan',\n",
    "    'Presence_DVD_player', 'Presence_radio/stereo',\n",
    "    'Presence_phone_charger',\n",
    "    'Presence_TV'\n",
    "]\n",
    "\n",
    "for p in PRESENCE_LIST:\n",
    "    dataset = dataset.apply(cleaning.fillna(p, -1))\n",
    "    value_counts = dataset.value_counts(p)\n",
    "    print(\"Missing values for\", p, value_counts[-1])"
   ],
   "id": "5af668aa19a0facd",
   "outputs": [
    {
     "name": "stdout",
     "output_type": "stream",
     "text": [
      "Missing values for Presence_refrigerator/freezer 697\n",
      "Missing values for Presence_iron 1976\n",
      "Missing values for Presence_fan 794\n",
      "Missing values for Presence_DVD_player 794\n",
      "Missing values for Presence_radio/stereo 792\n",
      "Missing values for Presence_phone_charger 1184\n",
      "Missing values for Presence_TV 2\n"
     ]
    }
   ],
   "execution_count": 54
  },
  {
   "metadata": {
    "ExecuteTime": {
     "end_time": "2024-12-14T14:09:19.749105Z",
     "start_time": "2024-12-14T14:09:19.739791Z"
    }
   },
   "cell_type": "code",
   "source": "dataset.preview()",
   "id": "f9387b715c1b53ed",
   "outputs": [
    {
     "data": {
      "text/plain": [
       "       ID  Years_of_HHH_in_community  Dwelling_quality_index  \\\n",
       "0  1001_3                         -1                       0   \n",
       "1  1001_3                         -1                       0   \n",
       "2  1026_3                         20                       0   \n",
       "3  1026_3                         20                       0   \n",
       "4  1027_2                         15                       0   \n",
       "\n",
       "   Hours_available_electricity  Measurement_age  Monthly_expenditure  \\\n",
       "0                           -1             -1.0              63600.0   \n",
       "1                           -1             -1.0              63600.0   \n",
       "2                           -1             -1.0              65400.0   \n",
       "3                           -1             -1.0              65400.0   \n",
       "4                           -1             -1.0                 -1.0   \n",
       "\n",
       "   Number_of_rooms  Climate_zone_lev_1  Climate_zone_lev_2  Age_HHH  ...  \\\n",
       "0                3                 3.0                -1.0       -1  ...   \n",
       "1                3                 3.0                -1.0       -1  ...   \n",
       "2                3                 3.0                 3.0       -1  ...   \n",
       "3                3                 3.0                 3.0       -1  ...   \n",
       "4                2                 3.0                 3.0       -1  ...   \n",
       "\n",
       "  Years_of_HHH_in_community_missing Dwelling_quality_index_missing  \\\n",
       "0                                 1                              0   \n",
       "1                                 1                              0   \n",
       "2                                 0                              0   \n",
       "3                                 0                              0   \n",
       "4                                 0                              0   \n",
       "\n",
       "  Hours_available_electricity_missing  Measurement_age_missing  \\\n",
       "0                                   1                        1   \n",
       "1                                   1                        1   \n",
       "2                                   1                        1   \n",
       "3                                   1                        1   \n",
       "4                                   1                        1   \n",
       "\n",
       "  Monthly_expenditure_missing Number_of_rooms_missing  \\\n",
       "0                           0                       0   \n",
       "1                           0                       0   \n",
       "2                           0                       0   \n",
       "3                           0                       0   \n",
       "4                           1                       0   \n",
       "\n",
       "  Climate_zone_lev_1_missing Climate_zone_lev_2_missing Age_HHH_missing  \\\n",
       "0                          0                          1               1   \n",
       "1                          0                          1               1   \n",
       "2                          0                          0               1   \n",
       "3                          0                          0               1   \n",
       "4                          0                          0               1   \n",
       "\n",
       "   Number_adults_missing  \n",
       "0                      0  \n",
       "1                      0  \n",
       "2                      0  \n",
       "3                      0  \n",
       "4                      0  \n",
       "\n",
       "[5 rows x 36 columns]"
      ],
      "text/html": [
       "<div>\n",
       "<style scoped>\n",
       "    .dataframe tbody tr th:only-of-type {\n",
       "        vertical-align: middle;\n",
       "    }\n",
       "\n",
       "    .dataframe tbody tr th {\n",
       "        vertical-align: top;\n",
       "    }\n",
       "\n",
       "    .dataframe thead th {\n",
       "        text-align: right;\n",
       "    }\n",
       "</style>\n",
       "<table border=\"1\" class=\"dataframe\">\n",
       "  <thead>\n",
       "    <tr style=\"text-align: right;\">\n",
       "      <th></th>\n",
       "      <th>ID</th>\n",
       "      <th>Years_of_HHH_in_community</th>\n",
       "      <th>Dwelling_quality_index</th>\n",
       "      <th>Hours_available_electricity</th>\n",
       "      <th>Measurement_age</th>\n",
       "      <th>Monthly_expenditure</th>\n",
       "      <th>Number_of_rooms</th>\n",
       "      <th>Climate_zone_lev_1</th>\n",
       "      <th>Climate_zone_lev_2</th>\n",
       "      <th>Age_HHH</th>\n",
       "      <th>...</th>\n",
       "      <th>Years_of_HHH_in_community_missing</th>\n",
       "      <th>Dwelling_quality_index_missing</th>\n",
       "      <th>Hours_available_electricity_missing</th>\n",
       "      <th>Measurement_age_missing</th>\n",
       "      <th>Monthly_expenditure_missing</th>\n",
       "      <th>Number_of_rooms_missing</th>\n",
       "      <th>Climate_zone_lev_1_missing</th>\n",
       "      <th>Climate_zone_lev_2_missing</th>\n",
       "      <th>Age_HHH_missing</th>\n",
       "      <th>Number_adults_missing</th>\n",
       "    </tr>\n",
       "  </thead>\n",
       "  <tbody>\n",
       "    <tr>\n",
       "      <th>0</th>\n",
       "      <td>1001_3</td>\n",
       "      <td>-1</td>\n",
       "      <td>0</td>\n",
       "      <td>-1</td>\n",
       "      <td>-1.0</td>\n",
       "      <td>63600.0</td>\n",
       "      <td>3</td>\n",
       "      <td>3.0</td>\n",
       "      <td>-1.0</td>\n",
       "      <td>-1</td>\n",
       "      <td>...</td>\n",
       "      <td>1</td>\n",
       "      <td>0</td>\n",
       "      <td>1</td>\n",
       "      <td>1</td>\n",
       "      <td>0</td>\n",
       "      <td>0</td>\n",
       "      <td>0</td>\n",
       "      <td>1</td>\n",
       "      <td>1</td>\n",
       "      <td>0</td>\n",
       "    </tr>\n",
       "    <tr>\n",
       "      <th>1</th>\n",
       "      <td>1001_3</td>\n",
       "      <td>-1</td>\n",
       "      <td>0</td>\n",
       "      <td>-1</td>\n",
       "      <td>-1.0</td>\n",
       "      <td>63600.0</td>\n",
       "      <td>3</td>\n",
       "      <td>3.0</td>\n",
       "      <td>-1.0</td>\n",
       "      <td>-1</td>\n",
       "      <td>...</td>\n",
       "      <td>1</td>\n",
       "      <td>0</td>\n",
       "      <td>1</td>\n",
       "      <td>1</td>\n",
       "      <td>0</td>\n",
       "      <td>0</td>\n",
       "      <td>0</td>\n",
       "      <td>1</td>\n",
       "      <td>1</td>\n",
       "      <td>0</td>\n",
       "    </tr>\n",
       "    <tr>\n",
       "      <th>2</th>\n",
       "      <td>1026_3</td>\n",
       "      <td>20</td>\n",
       "      <td>0</td>\n",
       "      <td>-1</td>\n",
       "      <td>-1.0</td>\n",
       "      <td>65400.0</td>\n",
       "      <td>3</td>\n",
       "      <td>3.0</td>\n",
       "      <td>3.0</td>\n",
       "      <td>-1</td>\n",
       "      <td>...</td>\n",
       "      <td>0</td>\n",
       "      <td>0</td>\n",
       "      <td>1</td>\n",
       "      <td>1</td>\n",
       "      <td>0</td>\n",
       "      <td>0</td>\n",
       "      <td>0</td>\n",
       "      <td>0</td>\n",
       "      <td>1</td>\n",
       "      <td>0</td>\n",
       "    </tr>\n",
       "    <tr>\n",
       "      <th>3</th>\n",
       "      <td>1026_3</td>\n",
       "      <td>20</td>\n",
       "      <td>0</td>\n",
       "      <td>-1</td>\n",
       "      <td>-1.0</td>\n",
       "      <td>65400.0</td>\n",
       "      <td>3</td>\n",
       "      <td>3.0</td>\n",
       "      <td>3.0</td>\n",
       "      <td>-1</td>\n",
       "      <td>...</td>\n",
       "      <td>0</td>\n",
       "      <td>0</td>\n",
       "      <td>1</td>\n",
       "      <td>1</td>\n",
       "      <td>0</td>\n",
       "      <td>0</td>\n",
       "      <td>0</td>\n",
       "      <td>0</td>\n",
       "      <td>1</td>\n",
       "      <td>0</td>\n",
       "    </tr>\n",
       "    <tr>\n",
       "      <th>4</th>\n",
       "      <td>1027_2</td>\n",
       "      <td>15</td>\n",
       "      <td>0</td>\n",
       "      <td>-1</td>\n",
       "      <td>-1.0</td>\n",
       "      <td>-1.0</td>\n",
       "      <td>2</td>\n",
       "      <td>3.0</td>\n",
       "      <td>3.0</td>\n",
       "      <td>-1</td>\n",
       "      <td>...</td>\n",
       "      <td>0</td>\n",
       "      <td>0</td>\n",
       "      <td>1</td>\n",
       "      <td>1</td>\n",
       "      <td>1</td>\n",
       "      <td>0</td>\n",
       "      <td>0</td>\n",
       "      <td>0</td>\n",
       "      <td>1</td>\n",
       "      <td>0</td>\n",
       "    </tr>\n",
       "  </tbody>\n",
       "</table>\n",
       "<p>5 rows × 36 columns</p>\n",
       "</div>"
      ]
     },
     "execution_count": 55,
     "metadata": {},
     "output_type": "execute_result"
    }
   ],
   "execution_count": 55
  },
  {
   "metadata": {
    "ExecuteTime": {
     "end_time": "2024-12-14T14:15:13.810347Z",
     "start_time": "2024-12-14T14:15:13.739980Z"
    }
   },
   "cell_type": "code",
   "source": "dataset.to_csv(\"./playground/data/combined_dataset_cleaned.csv\")",
   "id": "7d1246f674f8bdb1",
   "outputs": [
    {
     "data": {
      "text/plain": [
       "<core.ODEDataset.ODEDataset at 0x72956ebda0d0>"
      ]
     },
     "execution_count": 58,
     "metadata": {},
     "output_type": "execute_result"
    }
   ],
   "execution_count": 58
  },
  {
   "metadata": {
    "ExecuteTime": {
     "end_time": "2024-12-14T14:09:19.913472Z",
     "start_time": "2024-12-14T14:09:19.911496Z"
    }
   },
   "cell_type": "code",
   "source": "",
   "id": "a0c8beadcefc70aa",
   "outputs": [],
   "execution_count": null
  }
 ],
 "metadata": {
  "kernelspec": {
   "display_name": "Python 3",
   "language": "python",
   "name": "python3"
  },
  "language_info": {
   "codemirror_mode": {
    "name": "ipython",
    "version": 2
   },
   "file_extension": ".py",
   "mimetype": "text/x-python",
   "name": "python",
   "nbconvert_exporter": "python",
   "pygments_lexer": "ipython2",
   "version": "2.7.6"
  }
 },
 "nbformat": 4,
 "nbformat_minor": 5
}
