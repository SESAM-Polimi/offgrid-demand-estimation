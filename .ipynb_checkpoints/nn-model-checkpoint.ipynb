{
 "cells": [
  {
   "metadata": {
    "ExecuteTime": {
     "end_time": "2024-12-14T22:00:56.715743Z",
     "start_time": "2024-12-14T22:00:51.659197Z"
    }
   },
   "cell_type": "code",
   "source": [
    "import os\n",
    "import sys\n",
    "\n",
    "sys.path.append(\"./\")  # Adds higher directory to python modules path.\n",
    "os.environ['TF_CPP_MIN_LOG_LEVEL'] = '1'\n",
    "\n",
    "import tensorflow as tf\n",
    "from matplotlib import pyplot as plt\n",
    "import data_pipeline\n"
   ],
   "id": "c5829abd0be016a7",
   "outputs": [],
   "execution_count": 1
  },
  {
   "metadata": {},
   "cell_type": "markdown",
   "source": "Let's load the dataset and  select the columns we want to use as features and labels.",
   "id": "f121b815121e8078"
  },
  {
   "metadata": {},
   "cell_type": "markdown",
   "source": "## Constants",
   "id": "19d0c13f9d41eb92"
  },
  {
   "metadata": {
    "ExecuteTime": {
     "end_time": "2024-12-14T22:00:56.785807Z",
     "start_time": "2024-12-14T22:00:56.723983Z"
    }
   },
   "cell_type": "code",
   "source": [
    "BATCH_SIZE = 32\n",
    "EPOCHS = 30\n",
    "OPTIMIZER = tf.keras.optimizers.Adam(0.01)\n",
    "LOSS = tf.keras.losses.BinaryCrossentropy()\n",
    "OUTPUT = \"Presence_TV\"\n"
   ],
   "id": "aeee18d728623c6b",
   "outputs": [],
   "execution_count": 2
  },
  {
   "metadata": {},
   "cell_type": "markdown",
   "source": "## Dataset",
   "id": "c029035b879bf017"
  },
  {
   "metadata": {
    "ExecuteTime": {
     "end_time": "2024-12-14T22:00:57.170704Z",
     "start_time": "2024-12-14T22:00:56.909341Z"
    }
   },
   "cell_type": "code",
   "source": "x_train, x_val, x_test, y_train, y_val, y_test = data_pipeline.create_dataset(OUTPUT ,0.1, 0.1)",
   "id": "a158b4d87eb3f48c",
   "outputs": [],
   "execution_count": 3
  },
  {
   "metadata": {
    "ExecuteTime": {
     "end_time": "2024-12-14T22:00:57.205247Z",
     "start_time": "2024-12-14T22:00:57.186986Z"
    }
   },
   "cell_type": "code",
   "source": [
    "train_ds = tf.data.Dataset.from_tensor_slices((x_train, y_train.reshape(-1, 1)))\n",
    "val_ds = tf.data.Dataset.from_tensor_slices((x_val, y_val.reshape(-1, 1)))\n",
    "test_ds = tf.data.Dataset.from_tensor_slices((x_test, y_test.reshape(-1, 1)))\n"
   ],
   "id": "9924b8976bd18e89",
   "outputs": [],
   "execution_count": 4
  },
  {
   "metadata": {
    "ExecuteTime": {
     "end_time": "2024-12-14T22:00:57.235191Z",
     "start_time": "2024-12-14T22:00:57.230476Z"
    }
   },
   "cell_type": "code",
   "source": [
    "def normalize(features, labels):\n",
    "    min_val = tf.reduce_min(features)\n",
    "    max_val = tf.reduce_max(features)\n",
    "    features = (features - min_val) / (max_val - min_val)\n",
    "    return features, labels"
   ],
   "id": "46a5322e95f5be31",
   "outputs": [],
   "execution_count": 5
  },
  {
   "metadata": {
    "ExecuteTime": {
     "end_time": "2024-12-14T22:00:57.303054Z",
     "start_time": "2024-12-14T22:00:57.283448Z"
    }
   },
   "cell_type": "code",
   "source": [
    "train_ds = train_ds.batch(BATCH_SIZE)\n",
    "val_ds = val_ds.batch(BATCH_SIZE)\n",
    "test_ds = test_ds.batch(BATCH_SIZE)"
   ],
   "id": "b16ddc93fc1b5007",
   "outputs": [],
   "execution_count": 6
  },
  {
   "metadata": {},
   "cell_type": "markdown",
   "source": "we want to shuffle until we get a good distribution of the classes",
   "id": "49caffd93650e2bb"
  },
  {
   "metadata": {},
   "cell_type": "markdown",
   "source": "#### Check the distribution of the classes",
   "id": "f5d58b87a86f8234"
  },
  {
   "metadata": {
    "ExecuteTime": {
     "end_time": "2024-12-14T22:00:57.371017Z",
     "start_time": "2024-12-14T22:00:57.361451Z"
    }
   },
   "cell_type": "code",
   "source": [
    "from collections import Counter\n",
    "def get_class_distribution(data):\n",
    "\n",
    "    # Extract all labels from the dataset\n",
    "    all_labels = []\n",
    "\n",
    "    for _, label in data:  # Iterate over the dataset\n",
    "        all_labels.append(label.numpy())  # Convert label tensors to NumPy arrays\n",
    "\n",
    "    # Flatten the list in case labels are multi-dimensional\n",
    "    all_labels = [i[0] for k in all_labels for i in list(k)]\n",
    "    # Count occurrences of each label\n",
    "    label_counts = Counter(all_labels)\n",
    "\n",
    "    # Calculate the ratio for each label\n",
    "    total_samples = sum(label_counts.values())\n",
    "    label_ratios = {label: count / total_samples for label, count in label_counts.items()}\n",
    "\n",
    "    # Print out the labels and their ratios\n",
    "    print(\"Label Counts:\", label_counts)\n",
    "    print(\"Label Ratios:\", label_ratios)\n",
    "\n"
   ],
   "id": "138a08ea957675dc",
   "outputs": [],
   "execution_count": 7
  },
  {
   "metadata": {
    "ExecuteTime": {
     "end_time": "2024-12-14T22:00:57.716529Z",
     "start_time": "2024-12-14T22:00:57.478383Z"
    }
   },
   "cell_type": "code",
   "source": [
    "\n",
    "print(\"Training\")\n",
    "print(\"Distribution of the original dataset\", len(train_ds))\n",
    "get_class_distribution(train_ds)\n",
    "\n",
    "\n"
   ],
   "id": "3bb1a02541b6c6e",
   "outputs": [
    {
     "name": "stdout",
     "output_type": "stream",
     "text": [
      "Training\n",
      "Distribution of the original dataset 440\n",
      "Label Counts: Counter({1.0: 7039, 0.0: 7039})\n",
      "Label Ratios: {1.0: 0.5, 0.0: 0.5}\n"
     ]
    }
   ],
   "execution_count": 8
  },
  {
   "metadata": {
    "ExecuteTime": {
     "end_time": "2024-12-14T22:00:57.758189Z",
     "start_time": "2024-12-14T22:00:57.746364Z"
    }
   },
   "cell_type": "code",
   "source": [
    "FEATURE_NUM = x_train.shape[1]\n",
    "FEATURE_NUM"
   ],
   "id": "296d05d2f7ace0e8",
   "outputs": [
    {
     "data": {
      "text/plain": [
       "61"
      ]
     },
     "execution_count": 9,
     "metadata": {},
     "output_type": "execute_result"
    }
   ],
   "execution_count": 9
  },
  {
   "metadata": {},
   "cell_type": "markdown",
   "source": "## Model",
   "id": "1bbda1ca2b2af7e9"
  },
  {
   "metadata": {
    "ExecuteTime": {
     "end_time": "2024-12-14T22:00:57.923392Z",
     "start_time": "2024-12-14T22:00:57.802984Z"
    }
   },
   "cell_type": "code",
   "source": [
    "\n",
    "\n",
    "model = tf.keras.Sequential([\n",
    "    tf.keras.layers.Input(shape=(FEATURE_NUM,)),\n",
    "    tf.keras.layers.Dense(128, activation='relu'),\n",
    "    tf.keras.layers.Dense(128, activation='relu'),\n",
    "    tf.keras.layers.Dense(1, activation='sigmoid')\n",
    "])\n",
    "model.compile(optimizer=OPTIMIZER, loss=LOSS, metrics=['accuracy', 'precision', 'recall'])\n",
    "# model.summary()"
   ],
   "id": "662cc3d113b9bc77",
   "outputs": [],
   "execution_count": 10
  },
  {
   "metadata": {
    "ExecuteTime": {
     "end_time": "2024-12-14T22:01:48.284772Z",
     "start_time": "2024-12-14T22:00:57.951999Z"
    }
   },
   "cell_type": "code",
   "source": [
    "history = model.fit(train_ds, epochs=EPOCHS,\n",
    "                    validation_data=val_ds)\n"
   ],
   "id": "fc0828bd2f8c4ac",
   "outputs": [
    {
     "name": "stdout",
     "output_type": "stream",
     "text": [
      "Epoch 1/30\n",
      "\u001B[1m440/440\u001B[0m \u001B[32m━━━━━━━━━━━━━━━━━━━━\u001B[0m\u001B[37m\u001B[0m \u001B[1m3s\u001B[0m 4ms/step - accuracy: 0.7421 - loss: 527.1419 - precision: 0.4503 - recall: 0.5277 - val_accuracy: 0.1772 - val_loss: 343.0515 - val_precision: 0.1772 - val_recall: 1.0000\n",
      "Epoch 2/30\n",
      "\u001B[1m440/440\u001B[0m \u001B[32m━━━━━━━━━━━━━━━━━━━━\u001B[0m\u001B[37m\u001B[0m \u001B[1m1s\u001B[0m 3ms/step - accuracy: 0.7712 - loss: 5.8751 - precision: 0.4901 - recall: 0.3357 - val_accuracy: 0.1772 - val_loss: 174.3126 - val_precision: 0.1772 - val_recall: 1.0000\n",
      "Epoch 3/30\n",
      "\u001B[1m440/440\u001B[0m \u001B[32m━━━━━━━━━━━━━━━━━━━━\u001B[0m\u001B[37m\u001B[0m \u001B[1m1s\u001B[0m 3ms/step - accuracy: 0.7780 - loss: 7.1912 - precision: 0.5228 - recall: 0.4304 - val_accuracy: 0.1866 - val_loss: 78.5194 - val_precision: 0.1789 - val_recall: 1.0000\n",
      "Epoch 4/30\n",
      "\u001B[1m440/440\u001B[0m \u001B[32m━━━━━━━━━━━━━━━━━━━━\u001B[0m\u001B[37m\u001B[0m \u001B[1m2s\u001B[0m 3ms/step - accuracy: 0.7838 - loss: 1.5885 - precision: 0.5380 - recall: 0.3959 - val_accuracy: 0.2229 - val_loss: 4.5274 - val_precision: 0.1857 - val_recall: 1.0000\n",
      "Epoch 5/30\n",
      "\u001B[1m440/440\u001B[0m \u001B[32m━━━━━━━━━━━━━━━━━━━━\u001B[0m\u001B[37m\u001B[0m \u001B[1m2s\u001B[0m 4ms/step - accuracy: 0.7743 - loss: 1.8609 - precision: 0.5340 - recall: 0.5777 - val_accuracy: 0.2118 - val_loss: 98.5878 - val_precision: 0.1836 - val_recall: 1.0000\n",
      "Epoch 6/30\n",
      "\u001B[1m440/440\u001B[0m \u001B[32m━━━━━━━━━━━━━━━━━━━━\u001B[0m\u001B[37m\u001B[0m \u001B[1m2s\u001B[0m 5ms/step - accuracy: 0.8100 - loss: 1.7284 - precision: 0.6199 - recall: 0.3560 - val_accuracy: 0.2295 - val_loss: 4.4822 - val_precision: 0.1870 - val_recall: 1.0000\n",
      "Epoch 7/30\n",
      "\u001B[1m440/440\u001B[0m \u001B[32m━━━━━━━━━━━━━━━━━━━━\u001B[0m\u001B[37m\u001B[0m \u001B[1m2s\u001B[0m 4ms/step - accuracy: 0.7741 - loss: 0.6530 - precision: 0.5369 - recall: 0.5677 - val_accuracy: 0.4608 - val_loss: 2.6932 - val_precision: 0.2474 - val_recall: 1.0000\n",
      "Epoch 8/30\n",
      "\u001B[1m440/440\u001B[0m \u001B[32m━━━━━━━━━━━━━━━━━━━━\u001B[0m\u001B[37m\u001B[0m \u001B[1m2s\u001B[0m 4ms/step - accuracy: 0.7694 - loss: 1.0894 - precision: 0.5281 - recall: 0.6145 - val_accuracy: 0.3041 - val_loss: 3.8567 - val_precision: 0.2030 - val_recall: 1.0000\n",
      "Epoch 9/30\n",
      "\u001B[1m440/440\u001B[0m \u001B[32m━━━━━━━━━━━━━━━━━━━━\u001B[0m\u001B[37m\u001B[0m \u001B[1m2s\u001B[0m 4ms/step - accuracy: 0.7521 - loss: 0.7805 - precision: 0.5012 - recall: 0.5542 - val_accuracy: 0.2826 - val_loss: 3416.2000 - val_precision: 0.1981 - val_recall: 1.0000\n",
      "Epoch 10/30\n",
      "\u001B[1m440/440\u001B[0m \u001B[32m━━━━━━━━━━━━━━━━━━━━\u001B[0m\u001B[37m\u001B[0m \u001B[1m2s\u001B[0m 4ms/step - accuracy: 0.7973 - loss: 106.2393 - precision: 0.5660 - recall: 0.5696 - val_accuracy: 0.3535 - val_loss: 3.3552 - val_precision: 0.2152 - val_recall: 1.0000\n",
      "Epoch 11/30\n",
      "\u001B[1m440/440\u001B[0m \u001B[32m━━━━━━━━━━━━━━━━━━━━\u001B[0m\u001B[37m\u001B[0m \u001B[1m2s\u001B[0m 5ms/step - accuracy: 0.7517 - loss: 0.6415 - precision: 0.4971 - recall: 0.5665 - val_accuracy: 0.1866 - val_loss: 56.4906 - val_precision: 0.1789 - val_recall: 1.0000\n",
      "Epoch 12/30\n",
      "\u001B[1m440/440\u001B[0m \u001B[32m━━━━━━━━━━━━━━━━━━━━\u001B[0m\u001B[37m\u001B[0m \u001B[1m2s\u001B[0m 4ms/step - accuracy: 0.7527 - loss: 1.9660 - precision: 0.5100 - recall: 0.5803 - val_accuracy: 0.3535 - val_loss: 5.6776 - val_precision: 0.2152 - val_recall: 1.0000\n",
      "Epoch 13/30\n",
      "\u001B[1m440/440\u001B[0m \u001B[32m━━━━━━━━━━━━━━━━━━━━\u001B[0m\u001B[37m\u001B[0m \u001B[1m2s\u001B[0m 4ms/step - accuracy: 0.7637 - loss: 0.6703 - precision: 0.5237 - recall: 0.5764 - val_accuracy: 0.3535 - val_loss: 695.3372 - val_precision: 0.2152 - val_recall: 1.0000\n",
      "Epoch 14/30\n",
      "\u001B[1m440/440\u001B[0m \u001B[32m━━━━━━━━━━━━━━━━━━━━\u001B[0m\u001B[37m\u001B[0m \u001B[1m2s\u001B[0m 4ms/step - accuracy: 0.8117 - loss: 11.5852 - precision: 0.6258 - recall: 0.3957 - val_accuracy: 0.3769 - val_loss: 2.5172 - val_precision: 0.2214 - val_recall: 1.0000\n",
      "Epoch 15/30\n",
      "\u001B[1m440/440\u001B[0m \u001B[32m━━━━━━━━━━━━━━━━━━━━\u001B[0m\u001B[37m\u001B[0m \u001B[1m1s\u001B[0m 3ms/step - accuracy: 0.7754 - loss: 0.5471 - precision: 0.5453 - recall: 0.6288 - val_accuracy: 0.4254 - val_loss: 2.2078 - val_precision: 0.2357 - val_recall: 1.0000\n",
      "Epoch 16/30\n",
      "\u001B[1m440/440\u001B[0m \u001B[32m━━━━━━━━━━━━━━━━━━━━\u001B[0m\u001B[37m\u001B[0m \u001B[1m2s\u001B[0m 4ms/step - accuracy: 0.7622 - loss: 0.6999 - precision: 0.5232 - recall: 0.6340 - val_accuracy: 0.3498 - val_loss: 2.6544 - val_precision: 0.2142 - val_recall: 1.0000\n",
      "Epoch 17/30\n",
      "\u001B[1m440/440\u001B[0m \u001B[32m━━━━━━━━━━━━━━━━━━━━\u001B[0m\u001B[37m\u001B[0m \u001B[1m1s\u001B[0m 3ms/step - accuracy: 0.7643 - loss: 0.5522 - precision: 0.5268 - recall: 0.6933 - val_accuracy: 0.3405 - val_loss: 2.6513 - val_precision: 0.2118 - val_recall: 1.0000\n",
      "Epoch 18/30\n",
      "\u001B[1m440/440\u001B[0m \u001B[32m━━━━━━━━━━━━━━━━━━━━\u001B[0m\u001B[37m\u001B[0m \u001B[1m1s\u001B[0m 3ms/step - accuracy: 0.7265 - loss: 0.6477 - precision: 0.4705 - recall: 0.5192 - val_accuracy: 0.3507 - val_loss: 3.1174 - val_precision: 0.2144 - val_recall: 1.0000\n",
      "Epoch 19/30\n",
      "\u001B[1m440/440\u001B[0m \u001B[32m━━━━━━━━━━━━━━━━━━━━\u001B[0m\u001B[37m\u001B[0m \u001B[1m1s\u001B[0m 3ms/step - accuracy: 0.7290 - loss: 0.7911 - precision: 0.4708 - recall: 0.5262 - val_accuracy: 0.3041 - val_loss: 3.8112 - val_precision: 0.2030 - val_recall: 1.0000\n",
      "Epoch 20/30\n",
      "\u001B[1m440/440\u001B[0m \u001B[32m━━━━━━━━━━━━━━━━━━━━\u001B[0m\u001B[37m\u001B[0m \u001B[1m2s\u001B[0m 4ms/step - accuracy: 0.7263 - loss: 0.6851 - precision: 0.4710 - recall: 0.5508 - val_accuracy: 0.3321 - val_loss: 3.1141 - val_precision: 0.2097 - val_recall: 1.0000\n",
      "Epoch 21/30\n",
      "\u001B[1m440/440\u001B[0m \u001B[32m━━━━━━━━━━━━━━━━━━━━\u001B[0m\u001B[37m\u001B[0m \u001B[1m2s\u001B[0m 4ms/step - accuracy: 0.7348 - loss: 0.6468 - precision: 0.4863 - recall: 0.6088 - val_accuracy: 0.2817 - val_loss: 6.5948 - val_precision: 0.1979 - val_recall: 1.0000\n",
      "Epoch 22/30\n",
      "\u001B[1m440/440\u001B[0m \u001B[32m━━━━━━━━━━━━━━━━━━━━\u001B[0m\u001B[37m\u001B[0m \u001B[1m1s\u001B[0m 3ms/step - accuracy: 0.7954 - loss: 0.6026 - precision: 0.5766 - recall: 0.4400 - val_accuracy: 0.2910 - val_loss: 6.6240 - val_precision: 0.2000 - val_recall: 1.0000\n",
      "Epoch 23/30\n",
      "\u001B[1m440/440\u001B[0m \u001B[32m━━━━━━━━━━━━━━━━━━━━\u001B[0m\u001B[37m\u001B[0m \u001B[1m2s\u001B[0m 3ms/step - accuracy: 0.7519 - loss: 5.1237 - precision: 0.4764 - recall: 0.4471 - val_accuracy: 0.3377 - val_loss: 610.6317 - val_precision: 0.2111 - val_recall: 1.0000\n",
      "Epoch 24/30\n",
      "\u001B[1m440/440\u001B[0m \u001B[32m━━━━━━━━━━━━━━━━━━━━\u001B[0m\u001B[37m\u001B[0m \u001B[1m1s\u001B[0m 3ms/step - accuracy: 0.7992 - loss: 12.4407 - precision: 0.5668 - recall: 0.4036 - val_accuracy: 0.3162 - val_loss: 740.6810 - val_precision: 0.2059 - val_recall: 1.0000\n",
      "Epoch 25/30\n",
      "\u001B[1m440/440\u001B[0m \u001B[32m━━━━━━━━━━━━━━━━━━━━\u001B[0m\u001B[37m\u001B[0m \u001B[1m1s\u001B[0m 3ms/step - accuracy: 0.7868 - loss: 11.7925 - precision: 0.5458 - recall: 0.4727 - val_accuracy: 0.3591 - val_loss: 5.7239 - val_precision: 0.2166 - val_recall: 1.0000\n",
      "Epoch 26/30\n",
      "\u001B[1m440/440\u001B[0m \u001B[32m━━━━━━━━━━━━━━━━━━━━\u001B[0m\u001B[37m\u001B[0m \u001B[1m1s\u001B[0m 3ms/step - accuracy: 0.7954 - loss: 0.6273 - precision: 0.5718 - recall: 0.5392 - val_accuracy: 0.3479 - val_loss: 5.7769 - val_precision: 0.2137 - val_recall: 1.0000\n",
      "Epoch 27/30\n",
      "\u001B[1m440/440\u001B[0m \u001B[32m━━━━━━━━━━━━━━━━━━━━\u001B[0m\u001B[37m\u001B[0m \u001B[1m1s\u001B[0m 3ms/step - accuracy: 0.7758 - loss: 0.7218 - precision: 0.5355 - recall: 0.5117 - val_accuracy: 0.4534 - val_loss: 2.2219 - val_precision: 0.2448 - val_recall: 1.0000\n",
      "Epoch 28/30\n",
      "\u001B[1m440/440\u001B[0m \u001B[32m━━━━━━━━━━━━━━━━━━━━\u001B[0m\u001B[37m\u001B[0m \u001B[1m2s\u001B[0m 4ms/step - accuracy: 0.7573 - loss: 0.6057 - precision: 0.5091 - recall: 0.5300 - val_accuracy: 0.4944 - val_loss: 1.7532 - val_precision: 0.2596 - val_recall: 1.0000\n",
      "Epoch 29/30\n",
      "\u001B[1m440/440\u001B[0m \u001B[32m━━━━━━━━━━━━━━━━━━━━\u001B[0m\u001B[37m\u001B[0m \u001B[1m1s\u001B[0m 3ms/step - accuracy: 0.7587 - loss: 0.5557 - precision: 0.5157 - recall: 0.6518 - val_accuracy: 0.3349 - val_loss: 493.9774 - val_precision: 0.2104 - val_recall: 1.0000\n",
      "Epoch 30/30\n",
      "\u001B[1m440/440\u001B[0m \u001B[32m━━━━━━━━━━━━━━━━━━━━\u001B[0m\u001B[37m\u001B[0m \u001B[1m1s\u001B[0m 3ms/step - accuracy: 0.7811 - loss: 15.8465 - precision: 0.5427 - recall: 0.5409 - val_accuracy: 0.2985 - val_loss: 11.4493 - val_precision: 0.2017 - val_recall: 1.0000\n"
     ]
    }
   ],
   "execution_count": 11
  },
  {
   "metadata": {},
   "cell_type": "markdown",
   "source": "## Visualization",
   "id": "bcd21e01ff7a28f2"
  },
  {
   "metadata": {
    "ExecuteTime": {
     "end_time": "2024-12-14T22:01:48.613024Z",
     "start_time": "2024-12-14T22:01:48.326228Z"
    }
   },
   "cell_type": "code",
   "source": [
    "\n",
    "plt.plot(history.history['loss'])\n",
    "plt.title('Model loss')\n",
    "plt.ylabel('Loss')\n",
    "plt.xlabel('Epoch')"
   ],
   "id": "6d5cd6e5089a3530",
   "outputs": [
    {
     "data": {
      "text/plain": [
       "Text(0.5, 0, 'Epoch')"
      ]
     },
     "execution_count": 13,
     "metadata": {},
     "output_type": "execute_result"
    },
    {
     "data": {
      "text/plain": [
       "<Figure size 640x480 with 1 Axes>"
      ],
      "image/png": "[encoded data removed]"
     },
     "metadata": {},
     "output_type": "display_data"
    }
   ],
   "execution_count": 13
  },
  {
   "metadata": {
    "ExecuteTime": {
     "end_time": "2024-12-14T22:01:48.840203Z",
     "start_time": "2024-12-14T22:01:48.624790Z"
    }
   },
   "cell_type": "code",
   "source": [
    "plt.plot(history.history['accuracy'])\n",
    "plt.title('Model accuracy')\n",
    "plt.ylabel('Accuracy')\n",
    "plt.xlabel('Epoch')"
   ],
   "id": "208c7a6769b05949",
   "outputs": [
    {
     "data": {
      "text/plain": [
       "Text(0.5, 0, 'Epoch')"
      ]
     },
     "execution_count": 14,
     "metadata": {},
     "output_type": "execute_result"
    },
    {
     "data": {
      "text/plain": [
       "<Figure size 640x480 with 1 Axes>"
      ],
      "image/png": "[encoded data removed]"
     },
     "metadata": {},
     "output_type": "display_data"
    }
   ],
   "execution_count": 14
  },
  {
   "metadata": {
    "ExecuteTime": {
     "end_time": "2024-12-14T22:01:50.106612Z",
     "start_time": "2024-12-14T22:01:48.858069Z"
    }
   },
   "cell_type": "code",
   "source": [
    "train_result =  model.evaluate(train_ds    )\n",
    "val_result = model.evaluate(val_ds)\n",
    "test_result = model.evaluate(test_ds)"
   ],
   "id": "5b95a18f5b52b09b",
   "outputs": [
    {
     "name": "stdout",
     "output_type": "stream",
     "text": [
      "\u001B[1m440/440\u001B[0m \u001B[32m━━━━━━━━━━━━━━━━━━━━\u001B[0m\u001B[37m\u001B[0m \u001B[1m1s\u001B[0m 2ms/step - accuracy: 0.3673 - loss: 9.9422 - precision: 0.2852 - recall: 1.0000 \n",
      "\u001B[1m34/34\u001B[0m \u001B[32m━━━━━━━━━━━━━━━━━━━━\u001B[0m\u001B[37m\u001B[0m \u001B[1m0s\u001B[0m 3ms/step - accuracy: 0.2893 - loss: 11.5195 - precision: 0.1935 - recall: 1.0000\n",
      "\u001B[1m34/34\u001B[0m \u001B[32m━━━━━━━━━━━━━━━━━━━━\u001B[0m\u001B[37m\u001B[0m \u001B[1m0s\u001B[0m 2ms/step - accuracy: 0.2930 - loss: 11.1339 - precision: 0.2096 - recall: 1.0000\n"
     ]
    }
   ],
   "execution_count": 15
  },
  {
   "metadata": {
    "ExecuteTime": {
     "end_time": "2024-12-14T22:01:50.173752Z",
     "start_time": "2024-12-14T22:01:50.162533Z"
    }
   },
   "cell_type": "code",
   "source": [
    "print(\"Train\")\n",
    "print(\"Accuracy\", train_result[1])\n",
    "print(\"Precision\", train_result[2])\n",
    "print(\"Recall\", train_result[3])\n",
    "print(\"#\" * 10)\n",
    "print(\"Validation\")\n",
    "print(\"Accuracy\", val_result[1])\n",
    "print(\"Precision\", val_result[2])\n",
    "print(\"Recall\", val_result[3])\n",
    "print(\"#\" * 10)\n",
    "print(\"Test\")\n",
    "print(\"Accuracy\", test_result[1])\n",
    "print(\"Precision\", test_result[2])\n",
    "print(\"Recall\", test_result[3])\n"
   ],
   "id": "6fa70085aa8d0823",
   "outputs": [
    {
     "name": "stdout",
     "output_type": "stream",
     "text": [
      "Train\n",
      "Accuracy 0.5744423866271973\n",
      "Precision 0.5402148962020874\n",
      "Recall 1.0\n",
      "##########\n",
      "Validation\n",
      "Accuracy 0.2985074520111084\n",
      "Precision 0.20169851183891296\n",
      "Recall 1.0\n",
      "##########\n",
      "Test\n",
      "Accuracy 0.28544774651527405\n",
      "Precision 0.19368420541286469\n",
      "Recall 1.0\n"
     ]
    }
   ],
   "execution_count": 16
  },
  {
   "metadata": {
    "ExecuteTime": {
     "end_time": "2024-12-14T22:01:50.278794Z",
     "start_time": "2024-12-14T22:01:50.273981Z"
    }
   },
   "cell_type": "code",
   "source": "",
   "id": "56029d38dfe761a3",
   "outputs": [],
   "execution_count": null
  }
 ],
 "metadata": {
  "kernelspec": {
   "display_name": "Python 3",
   "language": "python",
   "name": "python3"
  },
  "language_info": {
   "codemirror_mode": {
    "name": "ipython",
    "version": 2
   },
   "file_extension": ".py",
   "mimetype": "text/x-python",
   "name": "python",
   "nbconvert_exporter": "python",
   "pygments_lexer": "ipython2",
   "version": "2.7.6"
  }
 },
 "nbformat": 4,
 "nbformat_minor": 5
}
