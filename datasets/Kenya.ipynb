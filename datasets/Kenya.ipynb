{
 "cells": [
  {
   "cell_type": "code",
   "id": "initial_id",
   "metadata": {
    "collapsed": true,
    "ExecuteTime": {
     "end_time": "2024-10-04T11:21:31.190103Z",
     "start_time": "2024-10-04T11:21:31.183624Z"
    }
   },
   "source": [
    "import os\n",
    "import sys\n",
    "\n",
    "sys.path.append(\"../\")  # Adds higher directory to python modules path.\n",
    "os.environ['TF_CPP_MIN_LOG_LEVEL'] = '1'\n",
    "from core.ODEDataset import ODEDataset\n",
    "\n",
    "from utils import modifiers\n",
    "from utils import constants\n",
    "import pandas as pd\n"
   ],
   "outputs": [],
   "execution_count": 7
  },
  {
   "metadata": {},
   "cell_type": "markdown",
   "source": "# Clusters",
   "id": "88a01059cc864105"
  },
  {
   "metadata": {
    "ExecuteTime": {
     "end_time": "2024-10-04T11:21:24.201629Z",
     "start_time": "2024-10-04T11:21:24.196046Z"
    }
   },
   "cell_type": "code",
   "source": [
    "cooking_hrs_cluster = [\n",
    "    \"i_23_hrs_morning\",\n",
    "    \"i_24_hrs_afternoon\",\n",
    "    'i_25_hrs_evening',\n",
    "    'i_26_hrs_h2o'\n",
    "]"
   ],
   "id": "a5619d3927882174",
   "outputs": [],
   "execution_count": 2
  },
  {
   "metadata": {},
   "cell_type": "markdown",
   "source": "# Constants\n",
   "id": "6e1332390c647a17"
  },
  {
   "metadata": {
    "ExecuteTime": {
     "end_time": "2024-10-04T11:21:24.208777Z",
     "start_time": "2024-10-04T11:21:24.205146Z"
    }
   },
   "cell_type": "code",
   "source": "",
   "id": "b1ab14d6eec5b54f",
   "outputs": [],
   "execution_count": 2
  },
  {
   "metadata": {},
   "cell_type": "markdown",
   "source": [
    "\n",
    "# Categories"
   ],
   "id": "c62ee589515b130a"
  },
  {
   "metadata": {
    "ExecuteTime": {
     "end_time": "2024-10-04T11:21:24.251092Z",
     "start_time": "2024-10-04T11:21:24.212419Z"
    }
   },
   "cell_type": "code",
   "source": [
    "Main_occupation_original2final = {\n",
    "    'Unemployed': 'Unemployed',\n",
    "    'Student': 'Unemployed',\n",
    "    'Wage Employee, Non-Farm': 'Employee non-farm',\n",
    "    'Self-Employed Agriculture/Livestock': 'Own-account worker farm',\n",
    "    'Casual/Day Laborer': 'Worker not classifiable by status',\n",
    "    'Self-Employed Non-Farm-Business enterprise': 'Own-account worker non-farm',\n",
    "    'Job Seeker': 'Unemployed',\n",
    "    'Wage Employee, Farm': 'Employee farm',\n",
    "    'Too old to work': 'Unemployed',\n",
    "    'Self-Employed Non-Farm-Independent contractor,technician, professional, etc.': 'Own-account worker non-farm',\n",
    "    'Retired/pensioner': 'Unemployed',\n",
    "    'Assistance in family enterprise': 'Contributing family worker',\n",
    "    'Other': 'Worker not classifiable by status',\n",
    "    'Disabled': 'Unemployed',\n",
    "    'Intern/free labor/voluntary work': 'Worker not classifiable by status'\n",
    "}\n",
    "\n",
    "Education_level_original2final = {\n",
    "    'None': 'No schooling',\n",
    "    'Primary': 'Primary education',\n",
    "    'Secondary School': 'Lower secondary education',\n",
    "    'Vocational/Technical/School- after completing primary education': 'Post-secondary non-tertiary education',\n",
    "    'Vocational/Technical/School- after completing secondary education': 'Post-secondary non-tertiary education',\n",
    "    'University': \"Bachelor's or equivalent level\",\n",
    "    'Post-Grad': \"Doctoral or equivalent level\",\n",
    "    'Other': 'Not elsewhere classified'\n",
    "}\n"
   ],
   "id": "311ed1083b935d8b",
   "outputs": [],
   "execution_count": 3
  },
  {
   "metadata": {
    "ExecuteTime": {
     "end_time": "2024-10-04T11:25:17.621194Z",
     "start_time": "2024-10-04T11:25:16.227332Z"
    }
   },
   "cell_type": "code",
   "source": [
    "\n",
    "# MTF_HH_Roster\n",
    "MTF_HH_Roster = ODEDataset(\"keyna/MTF_HH_Roster\")\n",
    "MTF_HH_Roster.from_csv(\"../playground/data/ESMAP/kenya/MTF_HH_Roster.csv\").group_by(\"cluuq\")\n",
    "\n",
    "MTF_HH_Roster = MTF_HH_Roster.new_feature(\"Age_HHH\", modifiers.extract_age_of_head('a_5_age', 'a_4_rel_hhh', 'Head'))\n",
    "\n",
    "MTF_HH_Roster = MTF_HH_Roster.new_feature('Main_occupation',\n",
    "                                          modifiers.categorize(\"a_14_main_occ\", Main_occupation_original2final))\n",
    "\n",
    "MTF_HH_Roster = MTF_HH_Roster.new_feature(\"HH_with_home_business\",\n",
    "                                          modifiers.extract_head_w_home_business('a_19_hh_ent', 'Main_occupation',\n",
    "                                                                                 'a_5_age', 'Yes'))\n",
    "\n",
    "MTF_HH_Roster = MTF_HH_Roster.new_feature('Education_level_HHH',\n",
    "                                          modifiers.categorize('a_9a_sch_lev', Education_level_original2final))\n",
    "\n",
    "MTF_HH_Roster = MTF_HH_Roster.new_feature('Number_workers', modifiers.extract_working_people('Main_occupation'))\n",
    "MTF_HH_Roster = MTF_HH_Roster.new_feature('Socio_status_HHH',\n",
    "                                          modifiers.extract_socio_status_hhh('Kenya', 'Main_occupation', 'a_4_rel_hhh',\n",
    "                                                                             'Head'))\n",
    "\n",
    "MTF_HH_Roster = MTF_HH_Roster.new_feature('Number_adults', modifiers.extract_age_groups('a_5_age', 'adults'))"
   ],
   "id": "1859f97a70343264",
   "outputs": [],
   "execution_count": 12
  },
  {
   "metadata": {},
   "cell_type": "markdown",
   "source": "",
   "id": "de8af607083fecb6"
  },
  {
   "metadata": {
    "ExecuteTime": {
     "end_time": "2024-10-04T11:25:48.084901Z",
     "start_time": "2024-10-04T11:25:48.066583Z"
    }
   },
   "cell_type": "code",
   "source": [
    "MTF_HH_Roster = MTF_HH_Roster.select(\n",
    "    ['cluuq', 'Age_HHH', 'Number_workers', 'Socio_status_HHH', 'Number_adults'])\n",
    "\n",
    "MTF_HH_Roster.to_dataframe().head()"
   ],
   "id": "8495a9a03434e584",
   "outputs": [
    {
     "data": {
      "text/plain": [
       "    cluuq  Age_HHH  Number_workers   Socio_status_HHH  Number_adults\n",
       "0       0     50.0             NaN  Employee non-farm           15.0\n",
       "1  1001_3      NaN             NaN                NaN           34.0\n",
       "2  1026_3      NaN             NaN                NaN           59.0\n",
       "3  1027_2      NaN             NaN                NaN           57.0\n",
       "4  1029_3      NaN             NaN                NaN           29.0"
      ],
      "text/html": [
       "<div>\n",
       "<style scoped>\n",
       "    .dataframe tbody tr th:only-of-type {\n",
       "        vertical-align: middle;\n",
       "    }\n",
       "\n",
       "    .dataframe tbody tr th {\n",
       "        vertical-align: top;\n",
       "    }\n",
       "\n",
       "    .dataframe thead th {\n",
       "        text-align: right;\n",
       "    }\n",
       "</style>\n",
       "<table border=\"1\" class=\"dataframe\">\n",
       "  <thead>\n",
       "    <tr style=\"text-align: right;\">\n",
       "      <th></th>\n",
       "      <th>cluuq</th>\n",
       "      <th>Age_HHH</th>\n",
       "      <th>Number_workers</th>\n",
       "      <th>Socio_status_HHH</th>\n",
       "      <th>Number_adults</th>\n",
       "    </tr>\n",
       "  </thead>\n",
       "  <tbody>\n",
       "    <tr>\n",
       "      <th>0</th>\n",
       "      <td>0</td>\n",
       "      <td>50.0</td>\n",
       "      <td>NaN</td>\n",
       "      <td>Employee non-farm</td>\n",
       "      <td>15.0</td>\n",
       "    </tr>\n",
       "    <tr>\n",
       "      <th>1</th>\n",
       "      <td>1001_3</td>\n",
       "      <td>NaN</td>\n",
       "      <td>NaN</td>\n",
       "      <td>NaN</td>\n",
       "      <td>34.0</td>\n",
       "    </tr>\n",
       "    <tr>\n",
       "      <th>2</th>\n",
       "      <td>1026_3</td>\n",
       "      <td>NaN</td>\n",
       "      <td>NaN</td>\n",
       "      <td>NaN</td>\n",
       "      <td>59.0</td>\n",
       "    </tr>\n",
       "    <tr>\n",
       "      <th>3</th>\n",
       "      <td>1027_2</td>\n",
       "      <td>NaN</td>\n",
       "      <td>NaN</td>\n",
       "      <td>NaN</td>\n",
       "      <td>57.0</td>\n",
       "    </tr>\n",
       "    <tr>\n",
       "      <th>4</th>\n",
       "      <td>1029_3</td>\n",
       "      <td>NaN</td>\n",
       "      <td>NaN</td>\n",
       "      <td>NaN</td>\n",
       "      <td>29.0</td>\n",
       "    </tr>\n",
       "  </tbody>\n",
       "</table>\n",
       "</div>"
      ]
     },
     "execution_count": 17,
     "metadata": {},
     "output_type": "execute_result"
    }
   ],
   "execution_count": 17
  },
  {
   "metadata": {},
   "cell_type": "markdown",
   "source": "# MTF_HH_Cooking_Data_Final",
   "id": "394be1ba47be06be"
  },
  {
   "metadata": {
    "ExecuteTime": {
     "end_time": "2024-10-04T11:25:50.937581Z",
     "start_time": "2024-10-04T11:25:49.888258Z"
    }
   },
   "cell_type": "code",
   "source": [
    "\n",
    "MTF_HH_Cooking_Data_Final = ODEDataset(\"keyna/MTF_HH_Cooking_Data_Final\")\n",
    "MTF_HH_Cooking_Data_Final.from_csv(\"../playground/data/ESMAP/kenya/MTF_HH_Cooking_Data_Final.csv\").group_by(\"cluuq\")\n",
    "\n",
    "MTF_HH_Cooking_Data_Final = MTF_HH_Cooking_Data_Final.new_feature('Fuel_usage',\n",
    "                                                                  modifiers.extract_fuel_usage(cooking_hrs_cluster))\n",
    "\n",
    "MTF_HH_Cooking_Data_Final = MTF_HH_Cooking_Data_Final.new_feature('Clean_fuel',\n",
    "                                                                  modifiers.is_clean_fuel(constants.CLEAN_FUELS,\n",
    "                                                                                          'i_18_a_1st_fuel'))\n",
    "\n",
    "\n",
    "MTF_HH_Cooking_Data_Final.to_dataframe().head()\n",
    "\n",
    "MTF_HH_Cooking_Data_Final = MTF_HH_Cooking_Data_Final.select(['cluuq','Clean_fuel'])\n"
   ],
   "id": "b5612c06afc7f970",
   "outputs": [],
   "execution_count": 18
  },
  {
   "metadata": {
    "ExecuteTime": {
     "end_time": "2024-10-04T11:25:50.955114Z",
     "start_time": "2024-10-04T11:25:50.939506Z"
    }
   },
   "cell_type": "code",
   "source": [
    "Kenya = MTF_HH_Roster.merge(MTF_HH_Cooking_Data_Final,'cluuq')\n",
    "Kenya.to_dataframe().head()"
   ],
   "id": "97073fd47591f560",
   "outputs": [
    {
     "data": {
      "text/plain": [
       "    cluuq  Age_HHH  Number_workers   Socio_status_HHH  Number_adults  \\\n",
       "0       0     50.0             NaN  Employee non-farm           15.0   \n",
       "1  1001_3      NaN             NaN                NaN           34.0   \n",
       "2  1026_3      NaN             NaN                NaN           59.0   \n",
       "3  1027_2      NaN             NaN                NaN           57.0   \n",
       "4  1029_3      NaN             NaN                NaN           29.0   \n",
       "\n",
       "  Clean_fuel  \n",
       "0         No  \n",
       "1         No  \n",
       "2         No  \n",
       "3         No  \n",
       "4         No  "
      ],
      "text/html": [
       "<div>\n",
       "<style scoped>\n",
       "    .dataframe tbody tr th:only-of-type {\n",
       "        vertical-align: middle;\n",
       "    }\n",
       "\n",
       "    .dataframe tbody tr th {\n",
       "        vertical-align: top;\n",
       "    }\n",
       "\n",
       "    .dataframe thead th {\n",
       "        text-align: right;\n",
       "    }\n",
       "</style>\n",
       "<table border=\"1\" class=\"dataframe\">\n",
       "  <thead>\n",
       "    <tr style=\"text-align: right;\">\n",
       "      <th></th>\n",
       "      <th>cluuq</th>\n",
       "      <th>Age_HHH</th>\n",
       "      <th>Number_workers</th>\n",
       "      <th>Socio_status_HHH</th>\n",
       "      <th>Number_adults</th>\n",
       "      <th>Clean_fuel</th>\n",
       "    </tr>\n",
       "  </thead>\n",
       "  <tbody>\n",
       "    <tr>\n",
       "      <th>0</th>\n",
       "      <td>0</td>\n",
       "      <td>50.0</td>\n",
       "      <td>NaN</td>\n",
       "      <td>Employee non-farm</td>\n",
       "      <td>15.0</td>\n",
       "      <td>No</td>\n",
       "    </tr>\n",
       "    <tr>\n",
       "      <th>1</th>\n",
       "      <td>1001_3</td>\n",
       "      <td>NaN</td>\n",
       "      <td>NaN</td>\n",
       "      <td>NaN</td>\n",
       "      <td>34.0</td>\n",
       "      <td>No</td>\n",
       "    </tr>\n",
       "    <tr>\n",
       "      <th>2</th>\n",
       "      <td>1026_3</td>\n",
       "      <td>NaN</td>\n",
       "      <td>NaN</td>\n",
       "      <td>NaN</td>\n",
       "      <td>59.0</td>\n",
       "      <td>No</td>\n",
       "    </tr>\n",
       "    <tr>\n",
       "      <th>3</th>\n",
       "      <td>1027_2</td>\n",
       "      <td>NaN</td>\n",
       "      <td>NaN</td>\n",
       "      <td>NaN</td>\n",
       "      <td>57.0</td>\n",
       "      <td>No</td>\n",
       "    </tr>\n",
       "    <tr>\n",
       "      <th>4</th>\n",
       "      <td>1029_3</td>\n",
       "      <td>NaN</td>\n",
       "      <td>NaN</td>\n",
       "      <td>NaN</td>\n",
       "      <td>29.0</td>\n",
       "      <td>No</td>\n",
       "    </tr>\n",
       "  </tbody>\n",
       "</table>\n",
       "</div>"
      ]
     },
     "execution_count": 19,
     "metadata": {},
     "output_type": "execute_result"
    }
   ],
   "execution_count": 19
  },
  {
   "metadata": {},
   "cell_type": "code",
   "outputs": [],
   "execution_count": null,
   "source": "",
   "id": "b43123943c32df43"
  }
 ],
 "metadata": {
  "kernelspec": {
   "display_name": "Python 3",
   "language": "python",
   "name": "python3"
  },
  "language_info": {
   "codemirror_mode": {
    "name": "ipython",
    "version": 2
   },
   "file_extension": ".py",
   "mimetype": "text/x-python",
   "name": "python",
   "nbconvert_exporter": "python",
   "pygments_lexer": "ipython2",
   "version": "2.7.6"
  }
 },
 "nbformat": 4,
 "nbformat_minor": 5
}
