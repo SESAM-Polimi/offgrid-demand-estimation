{
 "cells": [
  {
   "cell_type": "markdown",
   "id": "9363d26563c27189",
   "metadata": {},
   "source": [
    "Here we combine all the datasets from different sources into one dataset."
   ]
  },
  {
   "cell_type": "code",
   "execution_count": 1,
   "id": "f9a25da68e8066a5",
   "metadata": {
    "ExecuteTime": {
     "end_time": "2024-12-08T18:13:12.326595Z",
     "start_time": "2024-12-08T18:13:12.322141Z"
    }
   },
   "outputs": [],
   "source": [
    "import os\n",
    "import sys\n",
    "sys.path.append(\"../\")  # Adds higher directory to python modules path.\n",
    "os.environ['TF_CPP_MIN_LOG_LEVEL'] = '1'\n",
    "from core.ODEDataset import ODEDataset\n",
    "from utils import constants, common_modifiers"
   ]
  },
  {
   "cell_type": "code",
   "execution_count": 2,
   "id": "69b9cf7eed363fea",
   "metadata": {
    "ExecuteTime": {
     "end_time": "2024-12-08T18:13:12.675676Z",
     "start_time": "2024-12-08T18:13:12.647019Z"
    }
   },
   "outputs": [],
   "source": [
    "# Load the datasets\n",
    "ESMAP = ODEDataset(\"ESMAP\")\n",
    "ESMAP.from_csv(\"../playground/data/ESMAP/ESMAP_with_source.csv\")\n",
    "\n",
    "Tanzania = ODEDataset(\"Tanzania\")\n",
    "Tanzania.from_csv(\"../playground/data/LSMS/Tanzania/Tanzania.csv\")\n",
    "\n",
    "\n",
    "CEFA_Tanzania = ODEDataset(\"CEFA_Tanzania\")\n",
    "CEFA_Tanzania.from_csv(\"../playground/data/CEFA_Tanzania/CEFA_Tanzania.csv\")\n",
    "\n",
    "Tanzania = Tanzania.apply(common_modifiers.add_const_driver(\"source\", \"tanzania\"))\n",
    "CEFA_Tanzania = CEFA_Tanzania.apply(common_modifiers.add_const_driver(\"source\", \"tanzania\"))\n",
    "dataset = ESMAP.concat(Tanzania).concat(CEFA_Tanzania)\n",
    "\n",
    "dataset = dataset.select([\n",
    "    \"ID\", 'source'\n",
    "] + constants.DRIVERS_LIST + constants.PRESENCE_LIST)\n"
   ]
  },
  {
   "cell_type": "code",
   "execution_count": 3,
   "id": "ef39d53ac8189444",
   "metadata": {
    "ExecuteTime": {
     "end_time": "2024-12-08T18:13:14.506082Z",
     "start_time": "2024-12-08T18:13:14.492538Z"
    }
   },
   "outputs": [
    {
     "data": {
      "text/html": [
       "<div>\n",
       "<style scoped>\n",
       "    .dataframe tbody tr th:only-of-type {\n",
       "        vertical-align: middle;\n",
       "    }\n",
       "\n",
       "    .dataframe tbody tr th {\n",
       "        vertical-align: top;\n",
       "    }\n",
       "\n",
       "    .dataframe thead th {\n",
       "        text-align: right;\n",
       "    }\n",
       "</style>\n",
       "<table border=\"1\" class=\"dataframe\">\n",
       "  <thead>\n",
       "    <tr style=\"text-align: right;\">\n",
       "      <th></th>\n",
       "      <th>ID</th>\n",
       "      <th>source</th>\n",
       "      <th>Years_of_HHH_in_community</th>\n",
       "      <th>Dwelling_quality_index</th>\n",
       "      <th>Hours_available_electricity</th>\n",
       "      <th>Measurement_age</th>\n",
       "      <th>Monthly_expenditure</th>\n",
       "      <th>Number_of_rooms</th>\n",
       "      <th>Climate_zone_lev_1</th>\n",
       "      <th>Climate_zone_lev_2</th>\n",
       "      <th>...</th>\n",
       "      <th>Ownership_large_livestock</th>\n",
       "      <th>Clean_fuel</th>\n",
       "      <th>Tariff_payment_frequency</th>\n",
       "      <th>Presence_refrigerator/freezer</th>\n",
       "      <th>Presence_iron</th>\n",
       "      <th>Presence_fan</th>\n",
       "      <th>Presence_DVD_player</th>\n",
       "      <th>Presence_radio/stereo</th>\n",
       "      <th>Presence_phone_charger</th>\n",
       "      <th>Presence_TV</th>\n",
       "    </tr>\n",
       "  </thead>\n",
       "  <tbody>\n",
       "    <tr>\n",
       "      <th>0</th>\n",
       "      <td>1001_3</td>\n",
       "      <td>kenya</td>\n",
       "      <td>NaN</td>\n",
       "      <td>0.0</td>\n",
       "      <td>NaN</td>\n",
       "      <td>NaN</td>\n",
       "      <td>63600.0</td>\n",
       "      <td>3.0</td>\n",
       "      <td>3.0</td>\n",
       "      <td>NaN</td>\n",
       "      <td>...</td>\n",
       "      <td>No</td>\n",
       "      <td>No</td>\n",
       "      <td>NaN</td>\n",
       "      <td>0.0</td>\n",
       "      <td>0.0</td>\n",
       "      <td>0.0</td>\n",
       "      <td>0.0</td>\n",
       "      <td>0.0</td>\n",
       "      <td>1.0</td>\n",
       "      <td>0.0</td>\n",
       "    </tr>\n",
       "    <tr>\n",
       "      <th>1</th>\n",
       "      <td>1001_3</td>\n",
       "      <td>kenya</td>\n",
       "      <td>NaN</td>\n",
       "      <td>0.0</td>\n",
       "      <td>NaN</td>\n",
       "      <td>NaN</td>\n",
       "      <td>63600.0</td>\n",
       "      <td>3.0</td>\n",
       "      <td>3.0</td>\n",
       "      <td>NaN</td>\n",
       "      <td>...</td>\n",
       "      <td>No</td>\n",
       "      <td>No</td>\n",
       "      <td>NaN</td>\n",
       "      <td>0.0</td>\n",
       "      <td>0.0</td>\n",
       "      <td>0.0</td>\n",
       "      <td>0.0</td>\n",
       "      <td>0.0</td>\n",
       "      <td>1.0</td>\n",
       "      <td>0.0</td>\n",
       "    </tr>\n",
       "    <tr>\n",
       "      <th>2</th>\n",
       "      <td>1026_3</td>\n",
       "      <td>kenya</td>\n",
       "      <td>20.0</td>\n",
       "      <td>0.0</td>\n",
       "      <td>NaN</td>\n",
       "      <td>NaN</td>\n",
       "      <td>65400.0</td>\n",
       "      <td>3.0</td>\n",
       "      <td>3.0</td>\n",
       "      <td>3.0</td>\n",
       "      <td>...</td>\n",
       "      <td>Yes</td>\n",
       "      <td>No</td>\n",
       "      <td>NaN</td>\n",
       "      <td>NaN</td>\n",
       "      <td>NaN</td>\n",
       "      <td>NaN</td>\n",
       "      <td>NaN</td>\n",
       "      <td>NaN</td>\n",
       "      <td>NaN</td>\n",
       "      <td>NaN</td>\n",
       "    </tr>\n",
       "    <tr>\n",
       "      <th>3</th>\n",
       "      <td>1026_3</td>\n",
       "      <td>kenya</td>\n",
       "      <td>20.0</td>\n",
       "      <td>0.0</td>\n",
       "      <td>NaN</td>\n",
       "      <td>NaN</td>\n",
       "      <td>65400.0</td>\n",
       "      <td>3.0</td>\n",
       "      <td>3.0</td>\n",
       "      <td>3.0</td>\n",
       "      <td>...</td>\n",
       "      <td>Yes</td>\n",
       "      <td>No</td>\n",
       "      <td>NaN</td>\n",
       "      <td>NaN</td>\n",
       "      <td>NaN</td>\n",
       "      <td>NaN</td>\n",
       "      <td>NaN</td>\n",
       "      <td>NaN</td>\n",
       "      <td>NaN</td>\n",
       "      <td>NaN</td>\n",
       "    </tr>\n",
       "    <tr>\n",
       "      <th>4</th>\n",
       "      <td>1027_2</td>\n",
       "      <td>kenya</td>\n",
       "      <td>15.0</td>\n",
       "      <td>0.0</td>\n",
       "      <td>NaN</td>\n",
       "      <td>NaN</td>\n",
       "      <td>NaN</td>\n",
       "      <td>2.0</td>\n",
       "      <td>3.0</td>\n",
       "      <td>3.0</td>\n",
       "      <td>...</td>\n",
       "      <td>Yes</td>\n",
       "      <td>No</td>\n",
       "      <td>NaN</td>\n",
       "      <td>NaN</td>\n",
       "      <td>NaN</td>\n",
       "      <td>NaN</td>\n",
       "      <td>NaN</td>\n",
       "      <td>NaN</td>\n",
       "      <td>NaN</td>\n",
       "      <td>NaN</td>\n",
       "    </tr>\n",
       "  </tbody>\n",
       "</table>\n",
       "<p>5 rows × 27 columns</p>\n",
       "</div>"
      ],
      "text/plain": [
       "       ID source  Years_of_HHH_in_community  Dwelling_quality_index  \\\n",
       "0  1001_3  kenya                        NaN                     0.0   \n",
       "1  1001_3  kenya                        NaN                     0.0   \n",
       "2  1026_3  kenya                       20.0                     0.0   \n",
       "3  1026_3  kenya                       20.0                     0.0   \n",
       "4  1027_2  kenya                       15.0                     0.0   \n",
       "\n",
       "   Hours_available_electricity  Measurement_age  Monthly_expenditure  \\\n",
       "0                          NaN              NaN              63600.0   \n",
       "1                          NaN              NaN              63600.0   \n",
       "2                          NaN              NaN              65400.0   \n",
       "3                          NaN              NaN              65400.0   \n",
       "4                          NaN              NaN                  NaN   \n",
       "\n",
       "   Number_of_rooms  Climate_zone_lev_1  Climate_zone_lev_2  ...  \\\n",
       "0              3.0                 3.0                 NaN  ...   \n",
       "1              3.0                 3.0                 NaN  ...   \n",
       "2              3.0                 3.0                 3.0  ...   \n",
       "3              3.0                 3.0                 3.0  ...   \n",
       "4              2.0                 3.0                 3.0  ...   \n",
       "\n",
       "   Ownership_large_livestock Clean_fuel Tariff_payment_frequency  \\\n",
       "0                         No         No                      NaN   \n",
       "1                         No         No                      NaN   \n",
       "2                        Yes         No                      NaN   \n",
       "3                        Yes         No                      NaN   \n",
       "4                        Yes         No                      NaN   \n",
       "\n",
       "  Presence_refrigerator/freezer  Presence_iron Presence_fan  \\\n",
       "0                           0.0            0.0          0.0   \n",
       "1                           0.0            0.0          0.0   \n",
       "2                           NaN            NaN          NaN   \n",
       "3                           NaN            NaN          NaN   \n",
       "4                           NaN            NaN          NaN   \n",
       "\n",
       "  Presence_DVD_player Presence_radio/stereo Presence_phone_charger Presence_TV  \n",
       "0                 0.0                   0.0                    1.0         0.0  \n",
       "1                 0.0                   0.0                    1.0         0.0  \n",
       "2                 NaN                   NaN                    NaN         NaN  \n",
       "3                 NaN                   NaN                    NaN         NaN  \n",
       "4                 NaN                   NaN                    NaN         NaN  \n",
       "\n",
       "[5 rows x 27 columns]"
      ]
     },
     "execution_count": 3,
     "metadata": {},
     "output_type": "execute_result"
    }
   ],
   "source": [
    "dataset.preview()"
   ]
  },
  {
   "cell_type": "code",
   "execution_count": 4,
   "id": "882da4b955a71bbe",
   "metadata": {
    "ExecuteTime": {
     "end_time": "2024-12-08T18:13:14.988503Z",
     "start_time": "2024-12-08T18:13:14.929194Z"
    }
   },
   "outputs": [
    {
     "name": "stdout",
     "output_type": "stream",
     "text": [
      "10718\n"
     ]
    },
    {
     "data": {
      "text/plain": [
       "<core.ODEDataset.ODEDataset at 0x7f60fad71b90>"
      ]
     },
     "execution_count": 4,
     "metadata": {},
     "output_type": "execute_result"
    }
   ],
   "source": [
    "print(len(dataset))\n",
    "\n",
    "dataset.to_csv(\"../playground/data/esmap_lsms-tanzania_with_source.csv\")\n",
    "\n"
   ]
  },
  {
   "cell_type": "code",
   "execution_count": null,
   "id": "72b0ed2352090cfd",
   "metadata": {
    "ExecuteTime": {
     "end_time": "2024-12-08T18:14:40.451739Z",
     "start_time": "2024-12-08T18:14:40.442417Z"
    }
   },
   "outputs": [],
   "source": []
  },
  {
   "cell_type": "code",
   "execution_count": null,
   "id": "7bda69e0f2cee77",
   "metadata": {},
   "outputs": [],
   "source": []
  }
 ],
 "metadata": {
  "kernelspec": {
   "display_name": "tf",
   "language": "python",
   "name": "python3"
  },
  "language_info": {
   "codemirror_mode": {
    "name": "ipython",
    "version": 3
   },
   "file_extension": ".py",
   "mimetype": "text/x-python",
   "name": "python",
   "nbconvert_exporter": "python",
   "pygments_lexer": "ipython3",
   "version": "3.11.10"
  }
 },
 "nbformat": 4,
 "nbformat_minor": 5
}
