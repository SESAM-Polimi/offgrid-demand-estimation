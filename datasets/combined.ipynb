{
 "cells": [
  {
   "metadata": {},
   "cell_type": "markdown",
   "source": "Here we combine all the datasets from different sources into one dataset.",
   "id": "9363d26563c27189"
  },
  {
   "metadata": {
    "ExecuteTime": {
     "end_time": "2024-11-16T14:09:22.426575Z",
     "start_time": "2024-11-16T14:09:22.423240Z"
    }
   },
   "cell_type": "code",
   "source": [
    "import os\n",
    "import sys\n",
    "sys.path.append(\"../../\")  # Adds higher directory to python modules path.\n",
    "os.environ['TF_CPP_MIN_LOG_LEVEL'] = '1'\n",
    "from core.ODEDataset import ODEDataset"
   ],
   "id": "f9a25da68e8066a5",
   "outputs": [],
   "execution_count": 13
  },
  {
   "metadata": {
    "ExecuteTime": {
     "end_time": "2024-11-16T14:09:22.741627Z",
     "start_time": "2024-11-16T14:09:22.704198Z"
    }
   },
   "cell_type": "code",
   "source": [
    "# Load the datasets\n",
    "ESMAP = ODEDataset(\"ESMAP\")\n",
    "ESMAP.from_csv(\"../playground/data/ESMAP/ESMAP.csv\")\n",
    "\n",
    "Tanzania = ODEDataset(\"Tanzania\")\n",
    "Tanzania.from_csv(\"../playground/data/LSMS/Tanzania/Tanzania.csv\")\n",
    "\n",
    "dataset = ESMAP.concat(Tanzania)\n",
    "\n"
   ],
   "id": "69b9cf7eed363fea",
   "outputs": [],
   "execution_count": 14
  },
  {
   "metadata": {
    "ExecuteTime": {
     "end_time": "2024-11-16T14:09:23.325255Z",
     "start_time": "2024-11-16T14:09:23.249771Z"
    }
   },
   "cell_type": "code",
   "source": [
    "print(len(dataset))\n",
    "\n",
    "dataset.to_csv(\"../playground/data/esmap_lsms-tanzania.csv\")\n",
    "\n"
   ],
   "id": "882da4b955a71bbe",
   "outputs": [
    {
     "name": "stdout",
     "output_type": "stream",
     "text": [
      "6113\n"
     ]
    },
    {
     "data": {
      "text/plain": [
       "<core.ODEDataset.ODEDataset at 0x7fb312ed5250>"
      ]
     },
     "execution_count": 15,
     "metadata": {},
     "output_type": "execute_result"
    }
   ],
   "execution_count": 15
  },
  {
   "metadata": {},
   "cell_type": "markdown",
   "source": "",
   "id": "6aefc85d76767d63"
  }
 ],
 "metadata": {
  "kernelspec": {
   "display_name": "Python 3",
   "language": "python",
   "name": "python3"
  },
  "language_info": {
   "codemirror_mode": {
    "name": "ipython",
    "version": 2
   },
   "file_extension": ".py",
   "mimetype": "text/x-python",
   "name": "python",
   "nbconvert_exporter": "python",
   "pygments_lexer": "ipython2",
   "version": "2.7.6"
  }
 },
 "nbformat": 4,
 "nbformat_minor": 5
}
