{
 "cells": [
  {
   "cell_type": "code",
   "id": "initial_id",
   "metadata": {
    "collapsed": true,
    "ExecuteTime": {
     "end_time": "2024-10-20T19:56:58.177250Z",
     "start_time": "2024-10-20T19:56:56.224696Z"
    }
   },
   "source": [
    "import os\n",
    "import sys\n",
    "from utils import common_modifiers\n",
    "import numpy as np\n",
    "sys.path.append(\"../\")  # Adds higher directory to python modules path.\n",
    "os.environ['TF_CPP_MIN_LOG_LEVEL'] = '1'\n",
    "from core.ODEDataset import ODEDataset"
   ],
   "outputs": [],
   "execution_count": 1
  },
  {
   "metadata": {},
   "cell_type": "markdown",
   "source": [
    "# Merge the datasets:\n",
    "- Kenya\n",
    "- Zambia\n",
    "- ESMAP"
   ],
   "id": "cb2e5aa87d4266f7"
  },
  {
   "metadata": {
    "ExecuteTime": {
     "end_time": "2024-10-20T19:56:58.719956Z",
     "start_time": "2024-10-20T19:56:58.693397Z"
    }
   },
   "cell_type": "code",
   "source": [
    "Kenya = ODEDataset(\"Kenya\").from_csv(\"../playground/data/ESMAP/kenya/kenya.csv\", index_col=0).apply(\n",
    "    common_modifiers.rename({\"cluuq\": \"ID\"})).drop_columns([\"Number_workers\"])\n",
    "\n",
    "Kenya = Kenya.apply(common_modifiers.add_const_driver(\"Tariff_payment_frequency\", np.nan))\n",
    "Zambia = ODEDataset(\"Zambia\").from_csv(\"../playground/data/ESMAP/zambia/Zambia.csv\", index_col=0).apply(\n",
    "    common_modifiers.rename({\"HouseholdID\": \"ID\"}))\n",
    "\n",
    "Nigeria = ODEDataset(\"Nigeria\").from_csv(\"../playground/data/ESMAP/nigeria/Nigeria.csv\", index_col=0).apply(\n",
    "    common_modifiers.rename({\"HH_ID\": \"ID\"}))\n",
    "\n",
    "print(\"Drivers\")\n",
    "print(\"Kenya\", len(Kenya.get_columns()))\n",
    "print(\"Zambia\", len(Zambia.get_columns()))\n",
    "print(\"Nigeria\", len(Nigeria.get_columns()))\n",
    "\n",
    "print(\"Len Datasets\")\n",
    "print(\"Kenya\", len(Kenya))\n",
    "print(\"Zambia\", len(Zambia))\n",
    "print(\"Nigeria\", len(Nigeria))\n",
    "\n",
    "\n"
   ],
   "id": "9e3ddba62d27f1c2",
   "outputs": [
    {
     "name": "stdout",
     "output_type": "stream",
     "text": [
      "Drivers\n",
      "Kenya 26\n",
      "Zambia 26\n",
      "Nigeria 26\n",
      "Len Datasets\n",
      "Kenya 1274\n",
      "Zambia 3612\n",
      "Nigeria 43\n"
     ]
    }
   ],
   "execution_count": 2
  },
  {
   "metadata": {
    "ExecuteTime": {
     "end_time": "2024-10-20T19:57:02.166524Z",
     "start_time": "2024-10-20T19:57:02.162199Z"
    }
   },
   "cell_type": "code",
   "source": [
    "kcols = Kenya.get_columns()\n",
    "zcols = Zambia.get_columns()\n",
    "ncols = Nigeria.get_columns()\n",
    "\n",
    "z_not_k = []\n",
    "for i in zcols:\n",
    "    if i not in kcols:\n",
    "        z_not_k.append(i)\n",
    "\n",
    "print(\"Zambia not in Kenya\", z_not_k)\n",
    "\n",
    "z_not_n = []\n",
    "for i in zcols:\n",
    "    if i not in ncols:\n",
    "        z_not_n.append(i)\n",
    "\n",
    "print(\"Zambia not in Nigeria\", z_not_n)"
   ],
   "id": "c1225000704edf01",
   "outputs": [
    {
     "name": "stdout",
     "output_type": "stream",
     "text": [
      "Zambia not in Kenya []\n",
      "Zambia not in Nigeria []\n"
     ]
    }
   ],
   "execution_count": 3
  },
  {
   "metadata": {
    "ExecuteTime": {
     "end_time": "2024-10-20T19:57:02.498639Z",
     "start_time": "2024-10-20T19:57:02.441134Z"
    }
   },
   "cell_type": "code",
   "source": [
    "ESMAP = Kenya.concat(Zambia).concat(Nigeria)\n",
    "\n",
    "# %% Save the merged dataset\n",
    "filename = \"../playground/data/ESMAP/ESMAP.csv\"\n",
    "\n",
    "ESMAP.to_csv(filename)\n"
   ],
   "id": "ff15b4eb95373b59",
   "outputs": [
    {
     "data": {
      "text/plain": [
       "<core.ODEDataset.ODEDataset at 0x78332efeb890>"
      ]
     },
     "execution_count": 4,
     "metadata": {},
     "output_type": "execute_result"
    }
   ],
   "execution_count": 4
  },
  {
   "metadata": {
    "ExecuteTime": {
     "end_time": "2024-10-20T19:57:03.641389Z",
     "start_time": "2024-10-20T19:57:03.624182Z"
    }
   },
   "cell_type": "code",
   "source": [
    "df = ESMAP.to_dataframe()\n",
    "print(len(df))\n",
    "df.head()"
   ],
   "id": "1193bff624daa103",
   "outputs": [
    {
     "name": "stdout",
     "output_type": "stream",
     "text": [
      "4929\n"
     ]
    },
    {
     "data": {
      "text/plain": [
       "       ID  Years_of_HHH_in_community  Dwelling_quality_index  \\\n",
       "0  1001_3                        NaN                     0.6   \n",
       "1  1001_3                        NaN                     0.6   \n",
       "2  1026_3                       20.0                     0.4   \n",
       "3  1026_3                       20.0                     0.4   \n",
       "4  1027_2                       15.0                     0.2   \n",
       "\n",
       "   Hours_available_electricity  Measurement_age  Monthly_expenditure  \\\n",
       "0                          NaN              NaN              63600.0   \n",
       "1                          NaN              NaN              63600.0   \n",
       "2                          NaN              NaN              65400.0   \n",
       "3                          NaN              NaN              65400.0   \n",
       "4                          NaN              NaN                  NaN   \n",
       "\n",
       "   Number_of_rooms  Climate_zone_lev_1  Climate_zone_lev_2  Presence_TV  ...  \\\n",
       "0              3.0                   3                 NaN            0  ...   \n",
       "1              3.0                   3                 NaN            0  ...   \n",
       "2              3.0                   3                 3.0            0  ...   \n",
       "3              3.0                   3                 3.0            0  ...   \n",
       "4              2.0                   3                 3.0            0  ...   \n",
       "\n",
       "   Age_HHH     HH_with_home_business  \\\n",
       "0      NaN  ['Yes', [0, 35, 49, 57]]   \n",
       "1      NaN  ['Yes', [0, 35, 49, 57]]   \n",
       "2      NaN               ['No', nan]   \n",
       "3      NaN               ['No', nan]   \n",
       "4      NaN             ['Yes', [27]]   \n",
       "\n",
       "                                 Education_level_HHH  Socio_status_HHH  \\\n",
       "0  ['Primary education', 'Primary education', 'Lo...               NaN   \n",
       "1  ['Primary education', 'Primary education', 'Lo...               NaN   \n",
       "2  ['Primary education', 'Primary education', nan...               NaN   \n",
       "3  ['Primary education', 'Primary education', nan...               NaN   \n",
       "4  ['Lower secondary education', 'Primary educati...               NaN   \n",
       "\n",
       "   Number_adults  Ownership_motorized_vehicle  Ownership_small_livestock  \\\n",
       "0           34.0                           No                        Yes   \n",
       "1           34.0                           No                        Yes   \n",
       "2           59.0                          Yes                        Yes   \n",
       "3           59.0                          Yes                        Yes   \n",
       "4           57.0                          Yes                        Yes   \n",
       "\n",
       "  Ownership_large_livestock Clean_fuel Tariff_payment_frequency  \n",
       "0                        No         No                      NaN  \n",
       "1                        No         No                      NaN  \n",
       "2                       Yes         No                      NaN  \n",
       "3                       Yes         No                      NaN  \n",
       "4                       Yes         No                      NaN  \n",
       "\n",
       "[5 rows x 26 columns]"
      ],
      "text/html": [
       "<div>\n",
       "<style scoped>\n",
       "    .dataframe tbody tr th:only-of-type {\n",
       "        vertical-align: middle;\n",
       "    }\n",
       "\n",
       "    .dataframe tbody tr th {\n",
       "        vertical-align: top;\n",
       "    }\n",
       "\n",
       "    .dataframe thead th {\n",
       "        text-align: right;\n",
       "    }\n",
       "</style>\n",
       "<table border=\"1\" class=\"dataframe\">\n",
       "  <thead>\n",
       "    <tr style=\"text-align: right;\">\n",
       "      <th></th>\n",
       "      <th>ID</th>\n",
       "      <th>Years_of_HHH_in_community</th>\n",
       "      <th>Dwelling_quality_index</th>\n",
       "      <th>Hours_available_electricity</th>\n",
       "      <th>Measurement_age</th>\n",
       "      <th>Monthly_expenditure</th>\n",
       "      <th>Number_of_rooms</th>\n",
       "      <th>Climate_zone_lev_1</th>\n",
       "      <th>Climate_zone_lev_2</th>\n",
       "      <th>Presence_TV</th>\n",
       "      <th>...</th>\n",
       "      <th>Age_HHH</th>\n",
       "      <th>HH_with_home_business</th>\n",
       "      <th>Education_level_HHH</th>\n",
       "      <th>Socio_status_HHH</th>\n",
       "      <th>Number_adults</th>\n",
       "      <th>Ownership_motorized_vehicle</th>\n",
       "      <th>Ownership_small_livestock</th>\n",
       "      <th>Ownership_large_livestock</th>\n",
       "      <th>Clean_fuel</th>\n",
       "      <th>Tariff_payment_frequency</th>\n",
       "    </tr>\n",
       "  </thead>\n",
       "  <tbody>\n",
       "    <tr>\n",
       "      <th>0</th>\n",
       "      <td>1001_3</td>\n",
       "      <td>NaN</td>\n",
       "      <td>0.6</td>\n",
       "      <td>NaN</td>\n",
       "      <td>NaN</td>\n",
       "      <td>63600.0</td>\n",
       "      <td>3.0</td>\n",
       "      <td>3</td>\n",
       "      <td>NaN</td>\n",
       "      <td>0</td>\n",
       "      <td>...</td>\n",
       "      <td>NaN</td>\n",
       "      <td>['Yes', [0, 35, 49, 57]]</td>\n",
       "      <td>['Primary education', 'Primary education', 'Lo...</td>\n",
       "      <td>NaN</td>\n",
       "      <td>34.0</td>\n",
       "      <td>No</td>\n",
       "      <td>Yes</td>\n",
       "      <td>No</td>\n",
       "      <td>No</td>\n",
       "      <td>NaN</td>\n",
       "    </tr>\n",
       "    <tr>\n",
       "      <th>1</th>\n",
       "      <td>1001_3</td>\n",
       "      <td>NaN</td>\n",
       "      <td>0.6</td>\n",
       "      <td>NaN</td>\n",
       "      <td>NaN</td>\n",
       "      <td>63600.0</td>\n",
       "      <td>3.0</td>\n",
       "      <td>3</td>\n",
       "      <td>NaN</td>\n",
       "      <td>0</td>\n",
       "      <td>...</td>\n",
       "      <td>NaN</td>\n",
       "      <td>['Yes', [0, 35, 49, 57]]</td>\n",
       "      <td>['Primary education', 'Primary education', 'Lo...</td>\n",
       "      <td>NaN</td>\n",
       "      <td>34.0</td>\n",
       "      <td>No</td>\n",
       "      <td>Yes</td>\n",
       "      <td>No</td>\n",
       "      <td>No</td>\n",
       "      <td>NaN</td>\n",
       "    </tr>\n",
       "    <tr>\n",
       "      <th>2</th>\n",
       "      <td>1026_3</td>\n",
       "      <td>20.0</td>\n",
       "      <td>0.4</td>\n",
       "      <td>NaN</td>\n",
       "      <td>NaN</td>\n",
       "      <td>65400.0</td>\n",
       "      <td>3.0</td>\n",
       "      <td>3</td>\n",
       "      <td>3.0</td>\n",
       "      <td>0</td>\n",
       "      <td>...</td>\n",
       "      <td>NaN</td>\n",
       "      <td>['No', nan]</td>\n",
       "      <td>['Primary education', 'Primary education', nan...</td>\n",
       "      <td>NaN</td>\n",
       "      <td>59.0</td>\n",
       "      <td>Yes</td>\n",
       "      <td>Yes</td>\n",
       "      <td>Yes</td>\n",
       "      <td>No</td>\n",
       "      <td>NaN</td>\n",
       "    </tr>\n",
       "    <tr>\n",
       "      <th>3</th>\n",
       "      <td>1026_3</td>\n",
       "      <td>20.0</td>\n",
       "      <td>0.4</td>\n",
       "      <td>NaN</td>\n",
       "      <td>NaN</td>\n",
       "      <td>65400.0</td>\n",
       "      <td>3.0</td>\n",
       "      <td>3</td>\n",
       "      <td>3.0</td>\n",
       "      <td>0</td>\n",
       "      <td>...</td>\n",
       "      <td>NaN</td>\n",
       "      <td>['No', nan]</td>\n",
       "      <td>['Primary education', 'Primary education', nan...</td>\n",
       "      <td>NaN</td>\n",
       "      <td>59.0</td>\n",
       "      <td>Yes</td>\n",
       "      <td>Yes</td>\n",
       "      <td>Yes</td>\n",
       "      <td>No</td>\n",
       "      <td>NaN</td>\n",
       "    </tr>\n",
       "    <tr>\n",
       "      <th>4</th>\n",
       "      <td>1027_2</td>\n",
       "      <td>15.0</td>\n",
       "      <td>0.2</td>\n",
       "      <td>NaN</td>\n",
       "      <td>NaN</td>\n",
       "      <td>NaN</td>\n",
       "      <td>2.0</td>\n",
       "      <td>3</td>\n",
       "      <td>3.0</td>\n",
       "      <td>0</td>\n",
       "      <td>...</td>\n",
       "      <td>NaN</td>\n",
       "      <td>['Yes', [27]]</td>\n",
       "      <td>['Lower secondary education', 'Primary educati...</td>\n",
       "      <td>NaN</td>\n",
       "      <td>57.0</td>\n",
       "      <td>Yes</td>\n",
       "      <td>Yes</td>\n",
       "      <td>Yes</td>\n",
       "      <td>No</td>\n",
       "      <td>NaN</td>\n",
       "    </tr>\n",
       "  </tbody>\n",
       "</table>\n",
       "<p>5 rows × 26 columns</p>\n",
       "</div>"
      ]
     },
     "execution_count": 5,
     "metadata": {},
     "output_type": "execute_result"
    }
   ],
   "execution_count": 5
  },
  {
   "metadata": {},
   "cell_type": "code",
   "outputs": [],
   "execution_count": null,
   "source": "",
   "id": "1854eec448ed7ccc"
  }
 ],
 "metadata": {
  "kernelspec": {
   "display_name": "Python 3",
   "language": "python",
   "name": "python3"
  },
  "language_info": {
   "codemirror_mode": {
    "name": "ipython",
    "version": 2
   },
   "file_extension": ".py",
   "mimetype": "text/x-python",
   "name": "python",
   "nbconvert_exporter": "python",
   "pygments_lexer": "ipython2",
   "version": "2.7.6"
  }
 },
 "nbformat": 4,
 "nbformat_minor": 5
}
