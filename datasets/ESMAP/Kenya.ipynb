{
 "cells": [
  {
   "cell_type": "markdown",
   "id": "f4b317292372f121",
   "metadata": {},
   "source": [
    "# Kenya\n",
    "This notebook is used to create the dataset for Kenya. The dataset consists of multiple files. \n",
    "- MTF_HH_Roster : This file contains the information about the household.\n",
    "- MTF_HH_Cooking_Data_Final : This file contains the information about the cooking data of the household.\n",
    "- MTF_HH_Core_Survey:\n",
    "- Asset_Data_Final: consists of M1_Asset_Data_Final and M2_Asset_Data_Final files."
   ]
  },
  {
   "cell_type": "code",
   "execution_count": 1,
   "id": "initial_id",
   "metadata": {
    "ExecuteTime": {
     "end_time": "2024-12-08T18:01:38.597426Z",
     "start_time": "2024-12-08T18:01:36.559775Z"
    },
    "collapsed": true
   },
   "outputs": [],
   "source": [
    "import os\n",
    "import sys\n",
    "import pandas as pd\n",
    "\n",
    "sys.path.append(\"../../\")  # Adds higher directory to python modules path.\n",
    "os.environ['TF_CPP_MIN_LOG_LEVEL'] = '1'\n",
    "from core.ODEDataset import ODEDataset\n",
    "from utils import common_modifiers, dwelling_modifiers, socio_modifiers, finance_modifiers, appliances_modifiers, \\\n",
    "    geospatial, energy_modifiers\n",
    "from utils import constants\n",
    "import numpy as np\n"
   ]
  },
  {
   "cell_type": "markdown",
   "id": "88a01059cc864105",
   "metadata": {},
   "source": [
    "# Clusters\n",
    "Clusters are group of columns used together to create a new feature. \n",
    "\n",
    "### Cooking Hours Cluster\n",
    "- i_23_hrs_morning\n",
    "- i_24_hrs_afternoon\n",
    "- i_25_hrs_evening\n",
    "- i_26_hrs_h2o"
   ]
  },
  {
   "cell_type": "markdown",
   "id": "f9882e7d245a71f1",
   "metadata": {},
   "source": []
  },
  {
   "cell_type": "code",
   "execution_count": 2,
   "id": "a5619d3927882174",
   "metadata": {
    "ExecuteTime": {
     "end_time": "2024-12-08T18:01:38.604428Z",
     "start_time": "2024-12-08T18:01:38.601205Z"
    }
   },
   "outputs": [],
   "source": [
    "cooking_hrs_cluster = [\n",
    "    \"i_23_hrs_morning\",\n",
    "    \"i_24_hrs_afternoon\",\n",
    "    'i_25_hrs_evening',\n",
    "    'i_26_hrs_h2o'\n",
    "]\n",
    "\n",
    "monthly_expenditure_cluster = ['l_l_12',\n",
    "                               'l_l_13',\n",
    "                               'l_l_14',\n",
    "                               'l_l_15',\n",
    "                               'l_l_16',\n",
    "                               'l_l_17',\n",
    "                               'l_l_18',\n",
    "                               'l_l_19']\n"
   ]
  },
  {
   "cell_type": "markdown",
   "id": "c62ee589515b130a",
   "metadata": {},
   "source": [
    "# Categories\n",
    "Map the original values to the standard values.\n",
    "- Main Occupation\n",
    "- Education Level\n",
    "- Dwelling Wall Quality\n",
    "- Dwelling Roof Quality\n",
    "- Dwelling Floor Quality\n",
    "- Dwelling Toilet Quality\n",
    "- Dwelling Water Quality"
   ]
  },
  {
   "cell_type": "code",
   "execution_count": 3,
   "id": "311ed1083b935d8b",
   "metadata": {
    "ExecuteTime": {
     "end_time": "2024-12-08T18:01:38.662408Z",
     "start_time": "2024-12-08T18:01:38.647850Z"
    }
   },
   "outputs": [],
   "source": [
    "Main_occupation_original2final = {\n",
    "    'Unemployed': 'Unemployed',\n",
    "    'Student': 'Unemployed',\n",
    "    'Wage Employee, Non-Farm': 'Employee non-farm',\n",
    "    'Self-Employed Agriculture/Livestock': 'Own-account worker farm',\n",
    "    'Casual/Day Laborer': 'Worker not classifiable by status',\n",
    "    'Self-Employed Non-Farm-Business enterprise': 'Own-account worker non-farm',\n",
    "    'Job Seeker': 'Unemployed',\n",
    "    'Wage Employee, Farm': 'Employee farm',\n",
    "    'Too old to work': 'Unemployed',\n",
    "    'Self-Employed Non-Farm-Independent contractor,technician, professional, etc.': 'Own-account worker non-farm',\n",
    "    'Retired/pensioner': 'Unemployed',\n",
    "    'Assistance in family enterprise': 'Contributing family worker',\n",
    "    'Other': 'Worker not classifiable by status',\n",
    "    'Disabled': 'Unemployed',\n",
    "    'Intern/free labor/voluntary work': 'Worker not classifiable by status'\n",
    "}\n",
    "\n",
    "Education_level_original2final = {\n",
    "    'None': 'No schooling',\n",
    "    'Primary': 'Primary education',\n",
    "    'Secondary School': 'Lower secondary education',\n",
    "    'Vocational/Technical/School- after completing primary education': 'Post-secondary non-tertiary education',\n",
    "    'Vocational/Technical/School- after completing secondary education': 'Post-secondary non-tertiary education',\n",
    "    'University': \"Bachelor's or equivalent level\",\n",
    "    'Post-Grad': \"Doctoral or equivalent level\",\n",
    "    'Other': 'Not elsewhere classified'\n",
    "}\n",
    "\n",
    "Dwelling_Wall_Quality_label2id = {\n",
    "    'Blocks, plastered with cement': 1,\n",
    "    'Stone and cement': 1,\n",
    "    'Blocks, unplastered': 1,\n",
    "    'Steel': 1,\n",
    "    'Bricks': 1,\n",
    "    'Mud bricks (traditional)': 0,\n",
    "    'Wood and mud': 0,\n",
    "    'Corrugated iron sheet': 0,\n",
    "    'Chip wood': 0,\n",
    "    'Parquet or polished wood': 0,\n",
    "    'Wood only': 0,\n",
    "    'Stone only': 0,\n",
    "    'Wood and thatch': 0,\n",
    "    'Stone and mud': 0,\n",
    "    '0': 0,\n",
    "    'Reed/bamboo': 0,\n",
    "    'Asbestos': 0,\n",
    "    'Other': 0,\n",
    "    'Cargo container': 0\n",
    "}\n",
    "\n",
    "Dwelling_Roof_Quality_label2id = {\n",
    "    'Corrugated iron sheet': 0,\n",
    "    'Thatch': 0,\n",
    "    'Concrete/Cement': 1,\n",
    "    'Wood and mud': 0,\n",
    "    'Bricks': 1,\n",
    "    'Asbestos': 0,\n",
    "    'Bamboo/Reed': 0,\n",
    "    '0': 0,\n",
    "    'Plastic canvas': 0,\n",
    "    'Other': 0\n",
    "}\n",
    "\n",
    "Dwelling_Floor_Quality_label2id = {\n",
    "    'Mud/Dung': 0,\n",
    "    'Cement tiles': 1,\n",
    "    'Ceramic/Marble tiles': 1,\n",
    "    'Brick tiles': 1,\n",
    "    'Plastic tiles': 1,\n",
    "    'Wood planks': 1,\n",
    "    'Parquet or polished wood': 1,\n",
    "    'Cement screed': 1,\n",
    "    '0': 0,\n",
    "    'Other': 0,\n",
    "    'Bamboo/Reed': 0\n",
    "}\n",
    "\n",
    "Dwelling_Toilet_Quality_label2id = {\n",
    "    'Covered pit latrine': 1,\n",
    "    'Uncovered pit latrine': 0,\n",
    "    'Flush to sewage': 1,\n",
    "    'Flush to septic tank': 1,\n",
    "    'None': 1,\n",
    "    'Community latrine': 0,\n",
    "    'Pail / Bucket': 0,\n",
    "    'Other, specify': 0,\n",
    "    7.0: 0\n",
    "}\n",
    "\n",
    "Dwelling_Water_Quality_label2id = {\n",
    "    'Piped water': 1,\n",
    "    'Bore hole/ well': 1,\n",
    "    'River/spring': 0,\n",
    "    'Tanker/truck/vendor': 1,\n",
    "    'Rain water': 1,\n",
    "    'Lake/reservoir': 0,\n",
    "    'Bottle water': 1,\n",
    "    'Other': 0\n",
    "}\n",
    "\n",
    "Ownership_small_livestock_original2final = {\n",
    "    'Camel': 0,\n",
    "    'Cow/bull/calves': 0,\n",
    "    'Goat': 1,\n",
    "    'Horse/donkey': 0,\n",
    "    'Other Animal': 0,\n",
    "    'Pig': 1,\n",
    "    'Sheep': 1\n",
    "}\n",
    "\n",
    "Ownership_large_livestock_original2final = {\n",
    "    'Camel': 1,\n",
    "    'Cow/bull/calves': 1,\n",
    "    'Goat': 0,\n",
    "    'Horse/donkey': 1,\n",
    "    'Other Animal': 0,\n",
    "    'Pig': 0,\n",
    "    'Sheep': 0\n",
    "}\n",
    "\n",
    "Ownership_motorized_vehicle_original2final = {\n",
    "    'Vehicle (Car, pickup truck, etc)': 1,\n",
    "    'Bicycle': 0,\n",
    "    'Domestic water pump': 0,\n",
    "    'Motorcycle': 1,\n",
    "    'Other equipment': 0,\n",
    "    'Tractor': 0\n",
    "}\n",
    "\n"
   ]
  },
  {
   "cell_type": "markdown",
   "id": "5e09890d9cdfaaca",
   "metadata": {},
   "source": [
    "# MTF_HH_Roster"
   ]
  },
  {
   "cell_type": "markdown",
   "id": "1c27dcfc5315c742",
   "metadata": {},
   "source": []
  },
  {
   "cell_type": "code",
   "execution_count": null,
   "id": "1859f97a70343264",
   "metadata": {
    "ExecuteTime": {
     "end_time": "2024-12-08T18:01:39.118939Z",
     "start_time": "2024-12-08T18:01:38.702764Z"
    }
   },
   "outputs": [],
   "source": [
    "\n",
    "\n",
    "MTF_HH_Roster = ODEDataset(\"keyna/MTF_HH_Roster\")\n",
    "MTF_HH_Roster.from_csv(\"../../playground/data/ESMAP/kenya/MTF_HH_Roster.csv\").group_by(\"cluuq\")\n",
    "\n",
    "MTF_HH_Roster = MTF_HH_Roster.new_feature(\"Age_HHH\",\n",
    "                                          socio_modifiers.extract_age_of_head('a_5_age', 'a_4_rel_hhh', 'Head'))\n",
    "\n",
    "MTF_HH_Roster = MTF_HH_Roster.new_feature('Main_occupation',\n",
    "                                          common_modifiers.categorize(\"a_14_main_occ\", Main_occupation_original2final))\n",
    "\n",
    "MTF_HH_Roster = MTF_HH_Roster.new_feature(\"HH_with_home_business\",\n",
    "                                          socio_modifiers.extract_head_w_home_business('a_19_hh_ent', 'Main_occupation',\n",
    "                                                                                       'a_5_age', 'Yes')).apply(common_modifiers.take('HH_with_home_business', 0))\n",
    "\n",
    "MTF_HH_Roster = MTF_HH_Roster.new_feature('Education_level_HHH',\n",
    "                                          common_modifiers.categorize('a_9a_sch_lev', Education_level_original2final)).apply(common_modifiers.take('Education_level_HHH', 0))\n",
    "\n",
    "MTF_HH_Roster = MTF_HH_Roster.new_feature('Number_workers', socio_modifiers.extract_working_people('Main_occupation'))\n",
    "MTF_HH_Roster = MTF_HH_Roster.new_feature(\"H_pos\", socio_modifiers.extract_household_position('a_4_rel_hhh', 'Head'))\n",
    "\n",
    "MTF_HH_Roster = MTF_HH_Roster.new_feature('Socio_status_HHH',\n",
    "                                          common_modifiers.extract_feature_by_position('Main_occupation', 'H_pos'))\n",
    "\n",
    "MTF_HH_Roster = MTF_HH_Roster.new_feature('Number_adults', socio_modifiers.extract_age_groups('a_5_age', 'adults'))\n",
    "MTF_HH_Roster = MTF_HH_Roster.select(\n",
    "    ['cluuq', 'Age_HHH', 'Main_occupation', 'HH_with_home_business', \"Education_level_HHH\", 'Socio_status_HHH',\n",
    "     'Number_adults'])\n",
    "\n",
    "MTF_HH_Roster.preview()"
   ]
  },
  {
   "cell_type": "markdown",
   "id": "de8af607083fecb6",
   "metadata": {},
   "source": []
  },
  {
   "cell_type": "code",
   "execution_count": null,
   "id": "9d74566b7bc4fe75",
   "metadata": {
    "ExecuteTime": {
     "end_time": "2024-12-08T18:01:39.188702Z",
     "start_time": "2024-12-08T18:01:39.182171Z"
    }
   },
   "outputs": [],
   "source": [
    "MTF_HH_Roster.to_dataframe().head()"
   ]
  },
  {
   "cell_type": "markdown",
   "id": "394be1ba47be06be",
   "metadata": {},
   "source": [
    "# MTF_HH_Cooking_Data_Final"
   ]
  },
  {
   "cell_type": "code",
   "execution_count": 6,
   "id": "b5612c06afc7f970",
   "metadata": {
    "ExecuteTime": {
     "end_time": "2024-12-08T18:01:39.556645Z",
     "start_time": "2024-12-08T18:01:39.236569Z"
    }
   },
   "outputs": [],
   "source": [
    "\n",
    "MTF_HH_Cooking_Data_Final = ODEDataset(\"keyna/MTF_HH_Cooking_Data_Final\")\n",
    "MTF_HH_Cooking_Data_Final.from_csv(\"../../playground/data/ESMAP/kenya/MTF_HH_Cooking_Data_Final.csv\",\n",
    "                                   encoding='ISO-8859-1').group_by(\"cluuq\")\n",
    "\n",
    "MTF_HH_Cooking_Data_Final = MTF_HH_Cooking_Data_Final.new_feature('Fuel_usage',\n",
    "                                                                  energy_modifiers.extract_fuel_usage(\n",
    "                                                                      cooking_hrs_cluster))\n",
    "\n",
    "MTF_HH_Cooking_Data_Final = MTF_HH_Cooking_Data_Final.new_feature('Clean_fuel',\n",
    "                                                                  energy_modifiers.is_clean_fuel(\n",
    "                                                                      constants.CLEAN_FUELS,\n",
    "                                                                      'i_18_a_1st_fuel'))\n",
    "\n",
    "MTF_HH_Cooking_Data_Final.to_dataframe().head()\n",
    "\n",
    "MTF_HH_Cooking_Data_Final = MTF_HH_Cooking_Data_Final.select(['cluuq', 'Clean_fuel'])\n"
   ]
  },
  {
   "cell_type": "markdown",
   "id": "688efef1aa0a3c59",
   "metadata": {},
   "source": [
    "# MTF_HH_Core_Survey: \n",
    "This file contains the information about the household.\n",
    "- Dwelling_quality_index\n",
    "- Hours_available_electricity\n",
    "- Measurement_age\n",
    "- Monthly_expenditure\n",
    "- Connection_type\n",
    "- Number of rooms "
   ]
  },
  {
   "cell_type": "markdown",
   "id": "17fae92525e3dbf1",
   "metadata": {},
   "source": [
    "In Order to get the hours available electricity, we need to get the connection type and data of the household from the MTF_HH_Solar_Roster file."
   ]
  },
  {
   "cell_type": "code",
   "execution_count": 7,
   "id": "caebb828d05e416d",
   "metadata": {
    "ExecuteTime": {
     "end_time": "2024-12-08T18:01:42.677218Z",
     "start_time": "2024-12-08T18:01:39.682842Z"
    }
   },
   "outputs": [],
   "source": [
    "MTF_HH_Core_Survey = ODEDataset(\"keyna/MTF_HH_Core_Survey\")\n",
    "MTF_HH_Core_Survey.from_csv(\"../../playground/data/ESMAP/kenya/MTF_HH_Core_Survey.csv\", encoding='ISO-8859-1').group_by(\n",
    "    \"cluuq\")\n",
    "\n",
    "MTF_HH_Roster_helper = ODEDataset(\"keyna/MTF_HH_Roster\")\n",
    "MTF_HH_Roster_helper.from_csv(\"../../playground/data/ESMAP/kenya/MTF_HH_Roster.csv\").group_by(\"cluuq\")\n",
    "cls = [c for c in MTF_HH_Roster_helper.get_columns() if c not in MTF_HH_Core_Survey.get_columns()]\n",
    "cls.append(\"cluuq\")\n",
    "MTF_HH_Roster_helper = MTF_HH_Roster_helper.select(cls)\n",
    "MTF_HH_Core_Survey = MTF_HH_Core_Survey.merge(MTF_HH_Roster_helper, on='cluuq', how='left')"
   ]
  },
  {
   "cell_type": "code",
   "execution_count": null,
   "id": "8f22e980276eb3bd",
   "metadata": {
    "ExecuteTime": {
     "end_time": "2024-12-08T18:01:42.785838Z",
     "start_time": "2024-12-08T18:01:42.704483Z"
    }
   },
   "outputs": [],
   "source": [
    "MTF_HH_Solar_Roster_helper = ODEDataset('kenya/MTF_HH_Solar_Roster').from_csv(\n",
    "    \"../../playground/data/ESMAP/kenya/MTF_HH_Solar_Roster.csv\", encoding='ISO-8859-1')\n",
    "cls = [c for c in MTF_HH_Solar_Roster_helper.get_columns() if c not in MTF_HH_Core_Survey.get_columns()]\n",
    "cls.append(\"cluuq\")\n",
    "MTF_HH_Solar_Roster_helper = MTF_HH_Solar_Roster_helper.select(cls)\n",
    "MTF_HH_Core_Survey = MTF_HH_Core_Survey.merge(MTF_HH_Solar_Roster_helper, on='cluuq', how='left')\n",
    "MTF_HH_Core_Survey.to_dataframe().head()"
   ]
  },
  {
   "cell_type": "code",
   "execution_count": null,
   "id": "1e194a3830e655bd",
   "metadata": {
    "ExecuteTime": {
     "end_time": "2024-12-08T18:01:42.875264Z",
     "start_time": "2024-12-08T18:01:42.870616Z"
    }
   },
   "outputs": [],
   "source": [
    "MTF_HH_Core_Survey.to_dataframe()['a_4_rel_hhh']"
   ]
  },
  {
   "cell_type": "code",
   "execution_count": null,
   "id": "b43123943c32df43",
   "metadata": {
    "ExecuteTime": {
     "end_time": "2024-12-08T18:01:43.581371Z",
     "start_time": "2024-12-08T18:01:43.096348Z"
    }
   },
   "outputs": [],
   "source": [
    "\n",
    "MTF_HH_Core_Survey = MTF_HH_Core_Survey.new_feature('Number_of_rooms',\n",
    "                                                    lambda x: x['b_b_9'][0])\n",
    "\n",
    "MTF_HH_Core_Survey = MTF_HH_Core_Survey.new_feature('Dwelling_wall',\n",
    "                                                    common_modifiers.categorize('b_b_10',\n",
    "                                                                                Dwelling_Wall_Quality_label2id))\n",
    "MTF_HH_Core_Survey = MTF_HH_Core_Survey.new_feature(\"Dwelling_roof\",\n",
    "                                                    common_modifiers.categorize(\"b_b_11\",\n",
    "                                                                                Dwelling_Roof_Quality_label2id))\n",
    "\n",
    "MTF_HH_Core_Survey = MTF_HH_Core_Survey.new_feature(\"Dwelling_floor\",\n",
    "                                                    common_modifiers.categorize(\"b_b12\",\n",
    "                                                                                Dwelling_Floor_Quality_label2id))\n",
    "\n",
    "MTF_HH_Core_Survey = MTF_HH_Core_Survey.new_feature(\"Dwelling_water\",\n",
    "                                                    common_modifiers.categorize(\"b_b_14\",\n",
    "                                                                                Dwelling_Water_Quality_label2id))\n",
    "\n",
    "MTF_HH_Core_Survey = MTF_HH_Core_Survey.new_feature(\"Dwelling_toilet\",\n",
    "                                                    dwelling_modifiers.get_dwelling_toilet(\"b_b_13A\", \"b_b_13B\",\n",
    "                                                                                           \"b_b_13C\",\n",
    "                                                                                           Dwelling_Toilet_Quality_label2id))\n",
    "\n",
    "MTF_HH_Core_Survey = MTF_HH_Core_Survey.new_feature(\"Dwelling_quality_index\",\n",
    "                                                    dwelling_modifiers.dwelling_quality_index())\n",
    "\n",
    "connection_type_valid_answers = {constants.NATIONAL_GRID: 'Yes', constants.LOCAL_MINI_GRID: 'Yes',\n",
    "                                 constants.SOLAR_HOME_SYSTEM: 1}\n",
    "connection_type_modifier = energy_modifiers.get_connection_type('c_c_2',\n",
    "                                                                'c_c_38',\n",
    "                                                                'c_c_q122_3',\n",
    "                                                                connection_type_valid_answers)\n",
    "\n",
    "MTF_HH_Core_Survey = MTF_HH_Core_Survey.new_feature(\"Connection_type\", connection_type_modifier)\n",
    "\n",
    "MTF_HH_Core_Survey = MTF_HH_Core_Survey.new_feature(\n",
    "    \"Hours_available_electricity\",\n",
    "    energy_modifiers.get_hours_available_electricity('c_c_25aii', 'c_c_25aii', 'c_127_device',\n",
    "                                                     'c_c_147b_Typicalmonth', constants.SOLAR_HOME_SYSTEM_SOLAR_PV))\n",
    "\n",
    "MTF_HH_Core_Survey = MTF_HH_Core_Survey.new_feature('Measurement_age',\n",
    "                                                    socio_modifiers.measurement_age('c_c_7', 'c_c_38', 'c_135_yrs',\n",
    "                                                                                    'c_127_device'))\n",
    "\n",
    "MTF_HH_Core_Survey = MTF_HH_Core_Survey.new_feature('Monthly_expenditure',\n",
    "                                                    finance_modifiers.calculate_expenditure_monthly(\n",
    "                                                        monthly_expenditure_cluster))\n",
    "MTF_HH_Core_Survey = MTF_HH_Core_Survey.new_feature(\"Years_of_HHH_in_community\",\n",
    "                                                    socio_modifiers.get_years_of_hhh_in_community_multi_section(\n",
    "                                                        'a_4_rel_hhh', 'b_b_4', 'b_b_1', 'Head'))\n",
    "\n",
    "MTF_HH_Core_Survey.to_dataframe().head()"
   ]
  },
  {
   "cell_type": "code",
   "execution_count": 11,
   "id": "9ad6585b91a58eab",
   "metadata": {
    "ExecuteTime": {
     "end_time": "2024-12-08T18:01:44.198416Z",
     "start_time": "2024-12-08T18:01:44.194503Z"
    }
   },
   "outputs": [],
   "source": [
    "MTF_HH_Core_Survey = MTF_HH_Core_Survey.select(['cluuq',\n",
    "                                                'Years_of_HHH_in_community',\n",
    "                                                'Dwelling_quality_index',\n",
    "                                                'Hours_available_electricity',\n",
    "                                                'Measurement_age',\n",
    "                                                'Monthly_expenditure',\n",
    "                                                'Number_of_rooms',\n",
    "                                                'Connection_type'\n",
    "                                                ])"
   ]
  },
  {
   "cell_type": "markdown",
   "id": "c7ec74e5a9fb7ef2",
   "metadata": {},
   "source": []
  },
  {
   "cell_type": "markdown",
   "id": "e349a83c8aca5b3f",
   "metadata": {},
   "source": [
    "## Appliances\n",
    "- Presence_phone_charger\n",
    "- Presence_iron\n",
    "- Presence_TV\n",
    "- Presence_refrigerator/freezer\n",
    "- Presence_radio/stereo\n",
    "- Presence_DVD_player\n",
    "- Presence_fan\n"
   ]
  },
  {
   "cell_type": "code",
   "execution_count": 12,
   "id": "d0cfedf8761eb695",
   "metadata": {
    "ExecuteTime": {
     "end_time": "2024-12-08T18:01:47.148047Z",
     "start_time": "2024-12-08T18:01:44.221192Z"
    }
   },
   "outputs": [],
   "source": [
    "Applicances = ODEDataset(\"keyna/MTF_HH_Core_Survey\")\n",
    "Applicances.from_csv(\"../../playground/data/ESMAP/kenya/MTF_HH_Core_Survey.csv\", encoding='ISO-8859-1').group_by(\n",
    "    \"cluuq\")\n",
    "Applicances = Applicances.new_feature(\"Presence_smartphone_charger\",\n",
    "                                      appliances_modifiers.presence_appliances_string('m_m_3_group',\n",
    "                                                                                      '34'))\n",
    "\n",
    "Applicances = Applicances.new_feature(\"Presence_regular_phone_charger\",\n",
    "                                      appliances_modifiers.presence_appliances_string('m_m_3_group',\n",
    "                                                                                      '35'))\n",
    "\n",
    "Applicances = Applicances.new_feature(\"Presence_phone_charger\", common_modifiers.multi_unify_presence(\n",
    "    ['Presence_smartphone_charger', 'Presence_regular_phone_charger']))\n",
    "\n",
    "Applicances = Applicances.new_feature(\"Presence_iron\",\n",
    "                                      appliances_modifiers.presence_appliances_string('m_m_3_group',\n",
    "                                                                                      '25'))\n",
    "\n",
    "Applicances = Applicances.new_feature(\"Presence_refrigerator/freezer\",\n",
    "                                      appliances_modifiers.presence_appliances_string('m_m_3_group',\n",
    "                                                                                      '23'))\n",
    "\n",
    "Applicances = Applicances.new_feature(\"Presence_radio/stereo\",\n",
    "                                      appliances_modifiers.presence_appliances_string('m_m_3_group',\n",
    "                                                                                      '20'))\n",
    "\n",
    "Applicances = Applicances.new_feature(\"Presence_DVD_player\",\n",
    "                                      appliances_modifiers.presence_appliances_string('m_m_3_group',\n",
    "                                                                                      '21'))\n",
    "\n",
    "Applicances = Applicances.new_feature(\"Presence_fan\",\n",
    "                                      appliances_modifiers.presence_appliances_string('m_m_3_group',\n",
    "                                                                                      '22'))\n",
    "\n",
    "Applicances = Applicances.new_feature(\"Presence_black&white_TV\",\n",
    "                                      appliances_modifiers.presence_appliances_string('m_m_3_group',\n",
    "                                                                                      '36'))\n",
    "Applicances = Applicances.new_feature(\"Presence_color_TV\",\n",
    "                                      appliances_modifiers.presence_appliances_string('m_m_3_group',\n",
    "                                                                                      '37'))\n",
    "Applicances = Applicances.new_feature(\"Presence_flat_color_TV\",\n",
    "                                      appliances_modifiers.presence_appliances_string('m_m_3_group',\n",
    "                                                                                      '38'))\n",
    "\n",
    "Applicances = Applicances.new_feature(\"Presence_TV\", common_modifiers.multi_unify_presence(\n",
    "    ['Presence_black&white_TV', 'Presence_color_TV', 'Presence_flat_color_TV']))\n",
    "\n",
    "Applicances = Applicances.select(['cluuq',\n",
    "                                  'Presence_TV',\n",
    "                                  'Presence_refrigerator/freezer',\n",
    "                                  'Presence_iron',\n",
    "                                  'Presence_fan',\n",
    "                                  'Presence_DVD_player',\n",
    "                                  'Presence_radio/stereo',\n",
    "                                  'Presence_phone_charger',\n",
    "                                  ])"
   ]
  },
  {
   "cell_type": "markdown",
   "id": "2689f33ac3379493",
   "metadata": {},
   "source": [
    "## Geospatial Data"
   ]
  },
  {
   "cell_type": "code",
   "execution_count": null,
   "id": "af16fe53843c8dfb",
   "metadata": {
    "ExecuteTime": {
     "end_time": "2024-12-08T18:01:50.002289Z",
     "start_time": "2024-12-08T18:01:47.280797Z"
    }
   },
   "outputs": [],
   "source": [
    "Geospatial_Data = ODEDataset(\"keyna/MTF_HH_Core_Survey\")\n",
    "Geospatial_Data.from_csv(\"../../playground/data/ESMAP/kenya/MTF_HH_Core_Survey.csv\", encoding='ISO-8859-1').group_by(\n",
    "    \"cluuq\")"
   ]
  },
  {
   "cell_type": "markdown",
   "id": "1eff20c5f6bf70ac",
   "metadata": {},
   "source": [
    "### GADM"
   ]
  },
  {
   "cell_type": "code",
   "execution_count": null,
   "id": "922f90bf41b8b7a1",
   "metadata": {
    "ExecuteTime": {
     "end_time": "2024-12-08T18:01:50.959475Z",
     "start_time": "2024-12-08T18:01:50.563563Z"
    }
   },
   "outputs": [],
   "source": [
    "gadm_level_1_df = pd.read_excel(\"../../playground/data/ESMAP/kenya/GADM_level_1.xlsx\")\n",
    "gadm_level_2_df = pd.read_excel(\"../../playground/data/ESMAP/kenya/GADM_level_2.xlsx\")\n",
    "gadm_level_3_df = pd.read_csv(\"../../playground/data/ESMAP/kenya/GADM_level_3.csv\")\n",
    "gadm_level_1_df.head()"
   ]
  },
  {
   "cell_type": "code",
   "execution_count": null,
   "id": "58b29786c211dd35",
   "metadata": {
    "ExecuteTime": {
     "end_time": "2024-12-08T18:01:51.385632Z",
     "start_time": "2024-12-08T18:01:51.372841Z"
    }
   },
   "outputs": [],
   "source": [
    "for i, gdm_row in gadm_level_1_df.iterrows():\n",
    "    print(gdm_row[\"GID_1\"])\n",
    "    # print( gadm_level_1_df[i])"
   ]
  },
  {
   "cell_type": "code",
   "execution_count": null,
   "id": "9d65a168071dccf1",
   "metadata": {
    "ExecuteTime": {
     "end_time": "2024-12-08T18:01:51.757552Z",
     "start_time": "2024-12-08T18:01:51.733302Z"
    }
   },
   "outputs": [],
   "source": [
    "Geospatial_Data = Geospatial_Data.apply(common_modifiers.add_const_driver(\"GADM_level_0\", \"Kenya\"))\n",
    "\n",
    "Geospatial_Data.to_dataframe().head()"
   ]
  },
  {
   "cell_type": "code",
   "execution_count": 17,
   "id": "fd0d69872284e8ab",
   "metadata": {
    "ExecuteTime": {
     "end_time": "2024-12-08T18:02:05.744560Z",
     "start_time": "2024-12-08T18:01:52.045934Z"
    }
   },
   "outputs": [],
   "source": [
    "\n",
    "Geospatial_Data = Geospatial_Data.new_feature(\"GADM_level_raw\", geospatial.get_gadm(\n",
    "    gadm_level_1_df,\n",
    "    gadm_level_2_df,\n",
    "    gadm_level_3_df,\n",
    "    'cty', 'dist', 'div', 'subloc', 'kenya'\n",
    "))\n",
    "\n",
    "Geospatial_Data = Geospatial_Data.new_feature(\"GADM_level_1\", lambda x: x['GADM_level_raw'][1])\n",
    "Geospatial_Data = Geospatial_Data.new_feature(\"GADM_level_2\", lambda x: x['GADM_level_raw'][2])\n",
    "Geospatial_Data = Geospatial_Data.new_feature(\"GADM_level_3\", lambda x: x['GADM_level_raw'][3])\n",
    "\n",
    "Geospatial_Data = Geospatial_Data.new_feature(\"Climate_zone_lev_1\",\n",
    "                                              geospatial.gis_info_by_gadm_level('Climate_majority',\n",
    "                                                                                gadm_level_1_df,\n",
    "                                                                                'GADM_level_1',\n",
    "                                                                                ))\n",
    "\n",
    "Geospatial_Data = Geospatial_Data.new_feature(\"Climate_zone_lev_2\",\n",
    "                                              geospatial.gis_info_by_gadm_level('Climate_majority',\n",
    "                                                                                gadm_level_2_df,\n",
    "                                                                                'GADM_level_2',\n",
    "                                                                                ))\n",
    "\n",
    "Geospatial_Data = Geospatial_Data.select(['cluuq', 'Climate_zone_lev_2', 'Climate_zone_lev_1', ])"
   ]
  },
  {
   "cell_type": "code",
   "execution_count": 18,
   "id": "3f8b5f5541b6f271",
   "metadata": {},
   "outputs": [
    {
     "data": {
      "text/html": [
       "<div>\n",
       "<style scoped>\n",
       "    .dataframe tbody tr th:only-of-type {\n",
       "        vertical-align: middle;\n",
       "    }\n",
       "\n",
       "    .dataframe tbody tr th {\n",
       "        vertical-align: top;\n",
       "    }\n",
       "\n",
       "    .dataframe thead th {\n",
       "        text-align: right;\n",
       "    }\n",
       "</style>\n",
       "<table border=\"1\" class=\"dataframe\">\n",
       "  <thead>\n",
       "    <tr style=\"text-align: right;\">\n",
       "      <th></th>\n",
       "      <th>cluuq</th>\n",
       "      <th>Climate_zone_lev_2</th>\n",
       "      <th>Climate_zone_lev_1</th>\n",
       "    </tr>\n",
       "  </thead>\n",
       "  <tbody>\n",
       "    <tr>\n",
       "      <th>0</th>\n",
       "      <td>1001_3</td>\n",
       "      <td>NaN</td>\n",
       "      <td>3</td>\n",
       "    </tr>\n",
       "    <tr>\n",
       "      <th>1</th>\n",
       "      <td>100_13</td>\n",
       "      <td>15.0</td>\n",
       "      <td>15</td>\n",
       "    </tr>\n",
       "    <tr>\n",
       "      <th>2</th>\n",
       "      <td>1026_3</td>\n",
       "      <td>3.0</td>\n",
       "      <td>3</td>\n",
       "    </tr>\n",
       "    <tr>\n",
       "      <th>3</th>\n",
       "      <td>1027_2</td>\n",
       "      <td>3.0</td>\n",
       "      <td>3</td>\n",
       "    </tr>\n",
       "    <tr>\n",
       "      <th>4</th>\n",
       "      <td>1029_3</td>\n",
       "      <td>3.0</td>\n",
       "      <td>3</td>\n",
       "    </tr>\n",
       "  </tbody>\n",
       "</table>\n",
       "</div>"
      ],
      "text/plain": [
       "    cluuq  Climate_zone_lev_2  Climate_zone_lev_1\n",
       "0  1001_3                 NaN                   3\n",
       "1  100_13                15.0                  15\n",
       "2  1026_3                 3.0                   3\n",
       "3  1027_2                 3.0                   3\n",
       "4  1029_3                 3.0                   3"
      ]
     },
     "execution_count": 18,
     "metadata": {},
     "output_type": "execute_result"
    }
   ],
   "source": [
    "Geospatial_Data.to_dataframe().head()"
   ]
  },
  {
   "cell_type": "markdown",
   "id": "28518cbc32a3dbdd",
   "metadata": {},
   "source": [
    "# Asset_Data_Final\n",
    "Using the M1_Asset_Data_Final and M2_Asset_Data_Final files, we can get the information about the assets of the household."
   ]
  },
  {
   "cell_type": "code",
   "execution_count": 19,
   "id": "7823781f72ebc312",
   "metadata": {
    "ExecuteTime": {
     "end_time": "2024-12-08T18:02:06.602080Z",
     "start_time": "2024-12-08T18:02:06.301192Z"
    }
   },
   "outputs": [],
   "source": [
    "M1_Asset_Data_Final = ODEDataset('kenya/MTF_HH_Sec.M1_Asset_Data_Final').from_csv(\n",
    "    \"../../playground/data/ESMAP/kenya/MTF_HH_Sec.M1_Asset_Data_Final.csv\", encoding='ISO-8859-1')\n",
    "\n",
    "M1_Asset_Data_Final = M1_Asset_Data_Final.group_by(\"cluuq\")\n",
    "M1_Asset_Data_Final = M1_Asset_Data_Final.new_feature(\"Ownership_motorized_vehicle_all\",\n",
    "                                                      common_modifiers.categorize('m_a_label',\n",
    "                                                                                  Ownership_motorized_vehicle_original2final,\n",
    "                                                                                  ))\n",
    "\n",
    "\n",
    "def get_ownership_vehicle(row: pd.Series):\n",
    "    if any(t == 1 for t in row['Ownership_motorized_vehicle_all']):\n",
    "        result = 'Yes'\n",
    "    else:\n",
    "        result = 'No'\n",
    "    return result\n",
    "\n",
    "\n",
    "M1_Asset_Data_Final = M1_Asset_Data_Final.new_feature(\"Ownership_motorized_vehicle\",\n",
    "                                                      common_modifiers.find_any('Ownership_motorized_vehicle_all', 1,\n",
    "                                                                                'Yes', 'No'))\n",
    "\n",
    "M2_Asset_Data_Final = ODEDataset('kenya/MTF_HH_Sec.M2_Asset_Data_Final').from_csv(\n",
    "    \"../../playground/data/ESMAP/kenya/MTF_HH_Sec.M2_Asset_Data_Final.csv\", encoding='ISO-8859-1')\n",
    "\n",
    "M2_Asset_Data_Final = M2_Asset_Data_Final.group_by(\"cluuq\")\n",
    "\n",
    "M2_Asset_Data_Final = M2_Asset_Data_Final.new_feature(\"Ownership_small_livestock_all\",\n",
    "                                                      common_modifiers.categorize(\"m_a_label\",\n",
    "                                                                                  Ownership_small_livestock_original2final,\n",
    "                                                                                  ))\n",
    "\n",
    "M2_Asset_Data_Final = M2_Asset_Data_Final.new_feature(\"Ownership_large_livestock_all\",\n",
    "                                                      common_modifiers.categorize('m_a_label',\n",
    "                                                                                  Ownership_large_livestock_original2final,\n",
    "                                                                                  ))\n",
    "\n",
    "M2_Asset_Data_Final = M2_Asset_Data_Final.new_feature(\"Ownership_small_livestock\",\n",
    "                                                      common_modifiers.find_any('Ownership_small_livestock_all', 1,\n",
    "                                                                                'Yes', 'No'))\n",
    "\n",
    "M2_Asset_Data_Final = M2_Asset_Data_Final.new_feature(\"Ownership_large_livestock\",\n",
    "                                                      common_modifiers.find_any('Ownership_large_livestock_all', 1,\n",
    "                                                                                'Yes', 'No'))\n",
    "\n",
    "Asset_Data_Final = M1_Asset_Data_Final.merge(M2_Asset_Data_Final, on=\"cluuq\")\n",
    "Asset_Data_Final = Asset_Data_Final.select(\n",
    "    ['cluuq', 'Ownership_motorized_vehicle', 'Ownership_small_livestock', 'Ownership_large_livestock'])"
   ]
  },
  {
   "cell_type": "code",
   "execution_count": 20,
   "id": "9f2f8a35332d3a2a",
   "metadata": {
    "ExecuteTime": {
     "end_time": "2024-12-08T18:02:06.937699Z",
     "start_time": "2024-12-08T18:02:06.933939Z"
    }
   },
   "outputs": [
    {
     "data": {
      "text/html": [
       "<div>\n",
       "<style scoped>\n",
       "    .dataframe tbody tr th:only-of-type {\n",
       "        vertical-align: middle;\n",
       "    }\n",
       "\n",
       "    .dataframe tbody tr th {\n",
       "        vertical-align: top;\n",
       "    }\n",
       "\n",
       "    .dataframe thead th {\n",
       "        text-align: right;\n",
       "    }\n",
       "</style>\n",
       "<table border=\"1\" class=\"dataframe\">\n",
       "  <thead>\n",
       "    <tr style=\"text-align: right;\">\n",
       "      <th></th>\n",
       "      <th>cluuq</th>\n",
       "      <th>Ownership_motorized_vehicle</th>\n",
       "      <th>Ownership_small_livestock</th>\n",
       "      <th>Ownership_large_livestock</th>\n",
       "    </tr>\n",
       "  </thead>\n",
       "  <tbody>\n",
       "    <tr>\n",
       "      <th>0</th>\n",
       "      <td>1001_3</td>\n",
       "      <td>No</td>\n",
       "      <td>Yes</td>\n",
       "      <td>No</td>\n",
       "    </tr>\n",
       "    <tr>\n",
       "      <th>1</th>\n",
       "      <td>1026_3</td>\n",
       "      <td>Yes</td>\n",
       "      <td>Yes</td>\n",
       "      <td>Yes</td>\n",
       "    </tr>\n",
       "    <tr>\n",
       "      <th>2</th>\n",
       "      <td>1027_2</td>\n",
       "      <td>Yes</td>\n",
       "      <td>Yes</td>\n",
       "      <td>Yes</td>\n",
       "    </tr>\n",
       "    <tr>\n",
       "      <th>3</th>\n",
       "      <td>1029_3</td>\n",
       "      <td>No</td>\n",
       "      <td>No</td>\n",
       "      <td>Yes</td>\n",
       "    </tr>\n",
       "    <tr>\n",
       "      <th>4</th>\n",
       "      <td>1037_5</td>\n",
       "      <td>Yes</td>\n",
       "      <td>Yes</td>\n",
       "      <td>Yes</td>\n",
       "    </tr>\n",
       "  </tbody>\n",
       "</table>\n",
       "</div>"
      ],
      "text/plain": [
       "    cluuq Ownership_motorized_vehicle Ownership_small_livestock  \\\n",
       "0  1001_3                          No                       Yes   \n",
       "1  1026_3                         Yes                       Yes   \n",
       "2  1027_2                         Yes                       Yes   \n",
       "3  1029_3                          No                        No   \n",
       "4  1037_5                         Yes                       Yes   \n",
       "\n",
       "  Ownership_large_livestock  \n",
       "0                        No  \n",
       "1                       Yes  \n",
       "2                       Yes  \n",
       "3                       Yes  \n",
       "4                       Yes  "
      ]
     },
     "execution_count": 20,
     "metadata": {},
     "output_type": "execute_result"
    }
   ],
   "source": [
    "M1_Asset_Data_Final.to_dataframe().head()"
   ]
  },
  {
   "cell_type": "markdown",
   "id": "d40a9ddd0447f809",
   "metadata": {},
   "source": [
    "# Merge All Data"
   ]
  },
  {
   "cell_type": "code",
   "execution_count": 21,
   "id": "cbae4502fa24821e",
   "metadata": {
    "ExecuteTime": {
     "end_time": "2024-12-08T18:02:07.109439Z",
     "start_time": "2024-12-08T18:02:07.084020Z"
    }
   },
   "outputs": [
    {
     "data": {
      "text/html": [
       "<div>\n",
       "<style scoped>\n",
       "    .dataframe tbody tr th:only-of-type {\n",
       "        vertical-align: middle;\n",
       "    }\n",
       "\n",
       "    .dataframe tbody tr th {\n",
       "        vertical-align: top;\n",
       "    }\n",
       "\n",
       "    .dataframe thead th {\n",
       "        text-align: right;\n",
       "    }\n",
       "</style>\n",
       "<table border=\"1\" class=\"dataframe\">\n",
       "  <thead>\n",
       "    <tr style=\"text-align: right;\">\n",
       "      <th></th>\n",
       "      <th>cluuq</th>\n",
       "      <th>Years_of_HHH_in_community</th>\n",
       "      <th>Dwelling_quality_index</th>\n",
       "      <th>Hours_available_electricity</th>\n",
       "      <th>Measurement_age</th>\n",
       "      <th>Monthly_expenditure</th>\n",
       "      <th>Number_of_rooms</th>\n",
       "      <th>Connection_type</th>\n",
       "      <th>Age_HHH</th>\n",
       "      <th>Main_occupation</th>\n",
       "      <th>...</th>\n",
       "      <th>Presence_fan</th>\n",
       "      <th>Presence_DVD_player</th>\n",
       "      <th>Presence_radio/stereo</th>\n",
       "      <th>Presence_phone_charger</th>\n",
       "      <th>Climate_zone_lev_2</th>\n",
       "      <th>Climate_zone_lev_1</th>\n",
       "      <th>Ownership_motorized_vehicle</th>\n",
       "      <th>Ownership_small_livestock</th>\n",
       "      <th>Ownership_large_livestock</th>\n",
       "      <th>Clean_fuel</th>\n",
       "    </tr>\n",
       "  </thead>\n",
       "  <tbody>\n",
       "    <tr>\n",
       "      <th>0</th>\n",
       "      <td>1001_3</td>\n",
       "      <td>NaN</td>\n",
       "      <td>0.0</td>\n",
       "      <td>NaN</td>\n",
       "      <td>NaN</td>\n",
       "      <td>63600.0</td>\n",
       "      <td>3.0</td>\n",
       "      <td>None</td>\n",
       "      <td>NaN</td>\n",
       "      <td>[Worker not classifiable by status, Worker not...</td>\n",
       "      <td>...</td>\n",
       "      <td>0.0</td>\n",
       "      <td>0.0</td>\n",
       "      <td>0.0</td>\n",
       "      <td>1.0</td>\n",
       "      <td>NaN</td>\n",
       "      <td>3</td>\n",
       "      <td>No</td>\n",
       "      <td>Yes</td>\n",
       "      <td>No</td>\n",
       "      <td>No</td>\n",
       "    </tr>\n",
       "    <tr>\n",
       "      <th>1</th>\n",
       "      <td>1001_3</td>\n",
       "      <td>NaN</td>\n",
       "      <td>0.0</td>\n",
       "      <td>NaN</td>\n",
       "      <td>NaN</td>\n",
       "      <td>63600.0</td>\n",
       "      <td>3.0</td>\n",
       "      <td>None</td>\n",
       "      <td>NaN</td>\n",
       "      <td>[Worker not classifiable by status, Worker not...</td>\n",
       "      <td>...</td>\n",
       "      <td>0.0</td>\n",
       "      <td>0.0</td>\n",
       "      <td>0.0</td>\n",
       "      <td>1.0</td>\n",
       "      <td>NaN</td>\n",
       "      <td>3</td>\n",
       "      <td>No</td>\n",
       "      <td>Yes</td>\n",
       "      <td>No</td>\n",
       "      <td>No</td>\n",
       "    </tr>\n",
       "    <tr>\n",
       "      <th>2</th>\n",
       "      <td>1026_3</td>\n",
       "      <td>20.0</td>\n",
       "      <td>0.0</td>\n",
       "      <td>NaN</td>\n",
       "      <td>NaN</td>\n",
       "      <td>65400.0</td>\n",
       "      <td>3.0</td>\n",
       "      <td>None</td>\n",
       "      <td>NaN</td>\n",
       "      <td>[Unemployed, Unemployed, nan, Unemployed, Unem...</td>\n",
       "      <td>...</td>\n",
       "      <td>NaN</td>\n",
       "      <td>NaN</td>\n",
       "      <td>NaN</td>\n",
       "      <td>NaN</td>\n",
       "      <td>3.0</td>\n",
       "      <td>3</td>\n",
       "      <td>Yes</td>\n",
       "      <td>Yes</td>\n",
       "      <td>Yes</td>\n",
       "      <td>No</td>\n",
       "    </tr>\n",
       "    <tr>\n",
       "      <th>3</th>\n",
       "      <td>1026_3</td>\n",
       "      <td>20.0</td>\n",
       "      <td>0.0</td>\n",
       "      <td>NaN</td>\n",
       "      <td>NaN</td>\n",
       "      <td>65400.0</td>\n",
       "      <td>3.0</td>\n",
       "      <td>None</td>\n",
       "      <td>NaN</td>\n",
       "      <td>[Unemployed, Unemployed, nan, Unemployed, Unem...</td>\n",
       "      <td>...</td>\n",
       "      <td>NaN</td>\n",
       "      <td>NaN</td>\n",
       "      <td>NaN</td>\n",
       "      <td>NaN</td>\n",
       "      <td>3.0</td>\n",
       "      <td>3</td>\n",
       "      <td>Yes</td>\n",
       "      <td>Yes</td>\n",
       "      <td>Yes</td>\n",
       "      <td>No</td>\n",
       "    </tr>\n",
       "    <tr>\n",
       "      <th>4</th>\n",
       "      <td>1027_2</td>\n",
       "      <td>15.0</td>\n",
       "      <td>0.0</td>\n",
       "      <td>NaN</td>\n",
       "      <td>NaN</td>\n",
       "      <td>NaN</td>\n",
       "      <td>2.0</td>\n",
       "      <td>None</td>\n",
       "      <td>NaN</td>\n",
       "      <td>[Worker not classifiable by status, Worker not...</td>\n",
       "      <td>...</td>\n",
       "      <td>NaN</td>\n",
       "      <td>NaN</td>\n",
       "      <td>NaN</td>\n",
       "      <td>NaN</td>\n",
       "      <td>3.0</td>\n",
       "      <td>3</td>\n",
       "      <td>Yes</td>\n",
       "      <td>Yes</td>\n",
       "      <td>Yes</td>\n",
       "      <td>No</td>\n",
       "    </tr>\n",
       "  </tbody>\n",
       "</table>\n",
       "<p>5 rows × 27 columns</p>\n",
       "</div>"
      ],
      "text/plain": [
       "    cluuq  Years_of_HHH_in_community  Dwelling_quality_index  \\\n",
       "0  1001_3                        NaN                     0.0   \n",
       "1  1001_3                        NaN                     0.0   \n",
       "2  1026_3                       20.0                     0.0   \n",
       "3  1026_3                       20.0                     0.0   \n",
       "4  1027_2                       15.0                     0.0   \n",
       "\n",
       "   Hours_available_electricity  Measurement_age  Monthly_expenditure  \\\n",
       "0                          NaN              NaN              63600.0   \n",
       "1                          NaN              NaN              63600.0   \n",
       "2                          NaN              NaN              65400.0   \n",
       "3                          NaN              NaN              65400.0   \n",
       "4                          NaN              NaN                  NaN   \n",
       "\n",
       "   Number_of_rooms Connection_type  Age_HHH  \\\n",
       "0              3.0            None      NaN   \n",
       "1              3.0            None      NaN   \n",
       "2              3.0            None      NaN   \n",
       "3              3.0            None      NaN   \n",
       "4              2.0            None      NaN   \n",
       "\n",
       "                                     Main_occupation  ... Presence_fan  \\\n",
       "0  [Worker not classifiable by status, Worker not...  ...          0.0   \n",
       "1  [Worker not classifiable by status, Worker not...  ...          0.0   \n",
       "2  [Unemployed, Unemployed, nan, Unemployed, Unem...  ...          NaN   \n",
       "3  [Unemployed, Unemployed, nan, Unemployed, Unem...  ...          NaN   \n",
       "4  [Worker not classifiable by status, Worker not...  ...          NaN   \n",
       "\n",
       "  Presence_DVD_player Presence_radio/stereo  Presence_phone_charger  \\\n",
       "0                 0.0                   0.0                     1.0   \n",
       "1                 0.0                   0.0                     1.0   \n",
       "2                 NaN                   NaN                     NaN   \n",
       "3                 NaN                   NaN                     NaN   \n",
       "4                 NaN                   NaN                     NaN   \n",
       "\n",
       "   Climate_zone_lev_2  Climate_zone_lev_1  Ownership_motorized_vehicle  \\\n",
       "0                 NaN                   3                           No   \n",
       "1                 NaN                   3                           No   \n",
       "2                 3.0                   3                          Yes   \n",
       "3                 3.0                   3                          Yes   \n",
       "4                 3.0                   3                          Yes   \n",
       "\n",
       "   Ownership_small_livestock  Ownership_large_livestock  Clean_fuel  \n",
       "0                        Yes                         No          No  \n",
       "1                        Yes                         No          No  \n",
       "2                        Yes                        Yes          No  \n",
       "3                        Yes                        Yes          No  \n",
       "4                        Yes                        Yes          No  \n",
       "\n",
       "[5 rows x 27 columns]"
      ]
     },
     "execution_count": 21,
     "metadata": {},
     "output_type": "execute_result"
    }
   ],
   "source": [
    "# - MTF_HH_Core_Survey\n",
    "# - MTF_HH_Roster  \n",
    "# - Asset_Data_Final\n",
    "# - MTF_HH_Cooking_Data_Final\n",
    "Kenya = MTF_HH_Core_Survey.merge(MTF_HH_Roster, on='cluuq')\n",
    "Kenya = Kenya.merge(Applicances, on='cluuq')\n",
    "Kenya = Kenya.merge(Geospatial_Data, on='cluuq')\n",
    "Kenya = Kenya.merge(Asset_Data_Final, on='cluuq')\n",
    "Kenya = Kenya.merge(MTF_HH_Cooking_Data_Final, on='cluuq')\n",
    "\n",
    "Kenya.to_dataframe().head()\n",
    "\n"
   ]
  },
  {
   "cell_type": "code",
   "execution_count": 22,
   "id": "5196671eba97c904",
   "metadata": {
    "ExecuteTime": {
     "end_time": "2024-12-08T18:02:07.170682Z",
     "start_time": "2024-12-08T18:02:07.155462Z"
    }
   },
   "outputs": [
    {
     "data": {
      "text/html": [
       "<div>\n",
       "<style scoped>\n",
       "    .dataframe tbody tr th:only-of-type {\n",
       "        vertical-align: middle;\n",
       "    }\n",
       "\n",
       "    .dataframe tbody tr th {\n",
       "        vertical-align: top;\n",
       "    }\n",
       "\n",
       "    .dataframe thead th {\n",
       "        text-align: right;\n",
       "    }\n",
       "</style>\n",
       "<table border=\"1\" class=\"dataframe\">\n",
       "  <thead>\n",
       "    <tr style=\"text-align: right;\">\n",
       "      <th></th>\n",
       "      <th>ID</th>\n",
       "      <th>Years_of_HHH_in_community</th>\n",
       "      <th>Dwelling_quality_index</th>\n",
       "      <th>Hours_available_electricity</th>\n",
       "      <th>Measurement_age</th>\n",
       "      <th>Monthly_expenditure</th>\n",
       "      <th>Number_of_rooms</th>\n",
       "      <th>Climate_zone_lev_1</th>\n",
       "      <th>Climate_zone_lev_2</th>\n",
       "      <th>Age_HHH</th>\n",
       "      <th>...</th>\n",
       "      <th>Ownership_large_livestock</th>\n",
       "      <th>Clean_fuel</th>\n",
       "      <th>Tariff_payment_frequency</th>\n",
       "      <th>Presence_refrigerator/freezer</th>\n",
       "      <th>Presence_iron</th>\n",
       "      <th>Presence_fan</th>\n",
       "      <th>Presence_DVD_player</th>\n",
       "      <th>Presence_radio/stereo</th>\n",
       "      <th>Presence_phone_charger</th>\n",
       "      <th>Presence_TV</th>\n",
       "    </tr>\n",
       "  </thead>\n",
       "  <tbody>\n",
       "    <tr>\n",
       "      <th>0</th>\n",
       "      <td>1001_3</td>\n",
       "      <td>NaN</td>\n",
       "      <td>0.0</td>\n",
       "      <td>NaN</td>\n",
       "      <td>NaN</td>\n",
       "      <td>63600.0</td>\n",
       "      <td>3.0</td>\n",
       "      <td>3</td>\n",
       "      <td>NaN</td>\n",
       "      <td>NaN</td>\n",
       "      <td>...</td>\n",
       "      <td>No</td>\n",
       "      <td>No</td>\n",
       "      <td>NaN</td>\n",
       "      <td>0.0</td>\n",
       "      <td>0.0</td>\n",
       "      <td>0.0</td>\n",
       "      <td>0.0</td>\n",
       "      <td>0.0</td>\n",
       "      <td>1.0</td>\n",
       "      <td>0.0</td>\n",
       "    </tr>\n",
       "    <tr>\n",
       "      <th>1</th>\n",
       "      <td>1001_3</td>\n",
       "      <td>NaN</td>\n",
       "      <td>0.0</td>\n",
       "      <td>NaN</td>\n",
       "      <td>NaN</td>\n",
       "      <td>63600.0</td>\n",
       "      <td>3.0</td>\n",
       "      <td>3</td>\n",
       "      <td>NaN</td>\n",
       "      <td>NaN</td>\n",
       "      <td>...</td>\n",
       "      <td>No</td>\n",
       "      <td>No</td>\n",
       "      <td>NaN</td>\n",
       "      <td>0.0</td>\n",
       "      <td>0.0</td>\n",
       "      <td>0.0</td>\n",
       "      <td>0.0</td>\n",
       "      <td>0.0</td>\n",
       "      <td>1.0</td>\n",
       "      <td>0.0</td>\n",
       "    </tr>\n",
       "    <tr>\n",
       "      <th>2</th>\n",
       "      <td>1026_3</td>\n",
       "      <td>20.0</td>\n",
       "      <td>0.0</td>\n",
       "      <td>NaN</td>\n",
       "      <td>NaN</td>\n",
       "      <td>65400.0</td>\n",
       "      <td>3.0</td>\n",
       "      <td>3</td>\n",
       "      <td>3.0</td>\n",
       "      <td>NaN</td>\n",
       "      <td>...</td>\n",
       "      <td>Yes</td>\n",
       "      <td>No</td>\n",
       "      <td>NaN</td>\n",
       "      <td>NaN</td>\n",
       "      <td>NaN</td>\n",
       "      <td>NaN</td>\n",
       "      <td>NaN</td>\n",
       "      <td>NaN</td>\n",
       "      <td>NaN</td>\n",
       "      <td>NaN</td>\n",
       "    </tr>\n",
       "    <tr>\n",
       "      <th>3</th>\n",
       "      <td>1026_3</td>\n",
       "      <td>20.0</td>\n",
       "      <td>0.0</td>\n",
       "      <td>NaN</td>\n",
       "      <td>NaN</td>\n",
       "      <td>65400.0</td>\n",
       "      <td>3.0</td>\n",
       "      <td>3</td>\n",
       "      <td>3.0</td>\n",
       "      <td>NaN</td>\n",
       "      <td>...</td>\n",
       "      <td>Yes</td>\n",
       "      <td>No</td>\n",
       "      <td>NaN</td>\n",
       "      <td>NaN</td>\n",
       "      <td>NaN</td>\n",
       "      <td>NaN</td>\n",
       "      <td>NaN</td>\n",
       "      <td>NaN</td>\n",
       "      <td>NaN</td>\n",
       "      <td>NaN</td>\n",
       "    </tr>\n",
       "    <tr>\n",
       "      <th>4</th>\n",
       "      <td>1027_2</td>\n",
       "      <td>15.0</td>\n",
       "      <td>0.0</td>\n",
       "      <td>NaN</td>\n",
       "      <td>NaN</td>\n",
       "      <td>NaN</td>\n",
       "      <td>2.0</td>\n",
       "      <td>3</td>\n",
       "      <td>3.0</td>\n",
       "      <td>NaN</td>\n",
       "      <td>...</td>\n",
       "      <td>Yes</td>\n",
       "      <td>No</td>\n",
       "      <td>NaN</td>\n",
       "      <td>NaN</td>\n",
       "      <td>NaN</td>\n",
       "      <td>NaN</td>\n",
       "      <td>NaN</td>\n",
       "      <td>NaN</td>\n",
       "      <td>NaN</td>\n",
       "      <td>NaN</td>\n",
       "    </tr>\n",
       "  </tbody>\n",
       "</table>\n",
       "<p>5 rows × 26 columns</p>\n",
       "</div>"
      ],
      "text/plain": [
       "       ID  Years_of_HHH_in_community  Dwelling_quality_index  \\\n",
       "0  1001_3                        NaN                     0.0   \n",
       "1  1001_3                        NaN                     0.0   \n",
       "2  1026_3                       20.0                     0.0   \n",
       "3  1026_3                       20.0                     0.0   \n",
       "4  1027_2                       15.0                     0.0   \n",
       "\n",
       "   Hours_available_electricity  Measurement_age  Monthly_expenditure  \\\n",
       "0                          NaN              NaN              63600.0   \n",
       "1                          NaN              NaN              63600.0   \n",
       "2                          NaN              NaN              65400.0   \n",
       "3                          NaN              NaN              65400.0   \n",
       "4                          NaN              NaN                  NaN   \n",
       "\n",
       "   Number_of_rooms  Climate_zone_lev_1  Climate_zone_lev_2  Age_HHH  ...  \\\n",
       "0              3.0                   3                 NaN      NaN  ...   \n",
       "1              3.0                   3                 NaN      NaN  ...   \n",
       "2              3.0                   3                 3.0      NaN  ...   \n",
       "3              3.0                   3                 3.0      NaN  ...   \n",
       "4              2.0                   3                 3.0      NaN  ...   \n",
       "\n",
       "  Ownership_large_livestock Clean_fuel Tariff_payment_frequency  \\\n",
       "0                        No         No                      NaN   \n",
       "1                        No         No                      NaN   \n",
       "2                       Yes         No                      NaN   \n",
       "3                       Yes         No                      NaN   \n",
       "4                       Yes         No                      NaN   \n",
       "\n",
       "   Presence_refrigerator/freezer Presence_iron Presence_fan  \\\n",
       "0                            0.0           0.0          0.0   \n",
       "1                            0.0           0.0          0.0   \n",
       "2                            NaN           NaN          NaN   \n",
       "3                            NaN           NaN          NaN   \n",
       "4                            NaN           NaN          NaN   \n",
       "\n",
       "  Presence_DVD_player Presence_radio/stereo  Presence_phone_charger  \\\n",
       "0                 0.0                   0.0                     1.0   \n",
       "1                 0.0                   0.0                     1.0   \n",
       "2                 NaN                   NaN                     NaN   \n",
       "3                 NaN                   NaN                     NaN   \n",
       "4                 NaN                   NaN                     NaN   \n",
       "\n",
       "   Presence_TV  \n",
       "0          0.0  \n",
       "1          0.0  \n",
       "2          NaN  \n",
       "3          NaN  \n",
       "4          NaN  \n",
       "\n",
       "[5 rows x 26 columns]"
      ]
     },
     "execution_count": 22,
     "metadata": {},
     "output_type": "execute_result"
    }
   ],
   "source": [
    "Kenya = Kenya.apply(common_modifiers.rename({\"cluuq\": \"ID\"}))\n",
    "Kenya = Kenya.apply(common_modifiers.add_const_driver_many({\n",
    "    \"Tariff_payment_frequency\": np.nan\n",
    "}))\n",
    "Kenya = Kenya.select(['ID'] + constants.DRIVERS_LIST + constants.PRESENCE_LIST)\n",
    "Kenya.preview()"
   ]
  },
  {
   "cell_type": "code",
   "execution_count": 23,
   "id": "8f414e0e27614c58",
   "metadata": {
    "ExecuteTime": {
     "end_time": "2024-12-08T18:02:07.326502Z",
     "start_time": "2024-12-08T18:02:07.322931Z"
    }
   },
   "outputs": [
    {
     "data": {
      "text/plain": [
       "Socio_status_HHH\n",
       "Unemployed                           346\n",
       "Own-account worker farm              329\n",
       "Employee non-farm                    231\n",
       "Worker not classifiable by status    157\n",
       "Own-account worker non-farm          130\n",
       "Employee farm                         81\n",
       "Name: count, dtype: int64"
      ]
     },
     "execution_count": 23,
     "metadata": {},
     "output_type": "execute_result"
    }
   ],
   "source": [
    "Kenya.value_counts('Socio_status_HHH')"
   ]
  },
  {
   "cell_type": "code",
   "execution_count": 24,
   "id": "9413a2703370fc86",
   "metadata": {
    "ExecuteTime": {
     "end_time": "2024-12-08T18:02:07.432445Z",
     "start_time": "2024-12-08T18:02:07.414572Z"
    }
   },
   "outputs": [
    {
     "data": {
      "text/plain": [
       "<core.ODEDataset.ODEDataset at 0x7672b2f1ce50>"
      ]
     },
     "execution_count": 24,
     "metadata": {},
     "output_type": "execute_result"
    }
   ],
   "source": [
    "Kenya.to_csv(\"../../playground/data/ESMAP/kenya/kenya.csv\")"
   ]
  },
  {
   "cell_type": "code",
   "execution_count": 25,
   "id": "6c05b070c02d5a7c",
   "metadata": {
    "ExecuteTime": {
     "end_time": "2024-12-08T18:02:07.510613Z",
     "start_time": "2024-12-08T18:02:07.506686Z"
    }
   },
   "outputs": [
    {
     "data": {
      "text/plain": [
       "['ID',\n",
       " 'Years_of_HHH_in_community',\n",
       " 'Dwelling_quality_index',\n",
       " 'Hours_available_electricity',\n",
       " 'Measurement_age',\n",
       " 'Monthly_expenditure',\n",
       " 'Number_of_rooms',\n",
       " 'Climate_zone_lev_1',\n",
       " 'Climate_zone_lev_2',\n",
       " 'Age_HHH',\n",
       " 'HH_with_home_business',\n",
       " 'Education_level_HHH',\n",
       " 'Socio_status_HHH',\n",
       " 'Number_adults',\n",
       " 'Ownership_motorized_vehicle',\n",
       " 'Ownership_small_livestock',\n",
       " 'Ownership_large_livestock',\n",
       " 'Clean_fuel',\n",
       " 'Tariff_payment_frequency',\n",
       " 'Presence_refrigerator/freezer',\n",
       " 'Presence_iron',\n",
       " 'Presence_fan',\n",
       " 'Presence_DVD_player',\n",
       " 'Presence_radio/stereo',\n",
       " 'Presence_phone_charger',\n",
       " 'Presence_TV']"
      ]
     },
     "execution_count": 25,
     "metadata": {},
     "output_type": "execute_result"
    }
   ],
   "source": [
    "Kenya.get_columns()"
   ]
  },
  {
   "cell_type": "code",
   "execution_count": null,
   "id": "3780ff601f862431",
   "metadata": {
    "ExecuteTime": {
     "end_time": "2024-12-08T18:02:07.590396Z",
     "start_time": "2024-12-08T18:02:07.588036Z"
    }
   },
   "outputs": [],
   "source": []
  }
 ],
 "metadata": {
  "kernelspec": {
   "display_name": "tf",
   "language": "python",
   "name": "python3"
  },
  "language_info": {
   "codemirror_mode": {
    "name": "ipython",
    "version": 3
   },
   "file_extension": ".py",
   "mimetype": "text/x-python",
   "name": "python",
   "nbconvert_exporter": "python",
   "pygments_lexer": "ipython3",
   "version": "3.11.10"
  }
 },
 "nbformat": 4,
 "nbformat_minor": 5
}
