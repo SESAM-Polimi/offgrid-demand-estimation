{
 "cells": [
  {
   "cell_type": "code",
   "id": "initial_id",
   "metadata": {
    "collapsed": true,
    "ExecuteTime": {
     "end_time": "2024-12-05T21:18:25.666429Z",
     "start_time": "2024-12-05T21:18:21.195538Z"
    }
   },
   "source": [
    "import os\n",
    "import sys\n",
    "from utils import common_modifiers\n",
    "import numpy as np\n",
    "sys.path.append(\"../../\")  # Adds higher directory to python modules path.\n",
    "os.environ['TF_CPP_MIN_LOG_LEVEL'] = '1'\n",
    "from core.ODEDataset import ODEDataset"
   ],
   "outputs": [],
   "execution_count": 1
  },
  {
   "metadata": {
    "ExecuteTime": {
     "end_time": "2024-12-05T21:19:48.198621Z",
     "start_time": "2024-12-05T21:19:48.179128Z"
    }
   },
   "cell_type": "code",
   "source": [
    "# Load the datasets\n",
    "EE_2016 = ODEDataset(\"EE_2016\")\n",
    "EE_2016.from_csv(\"../../playground/data/CEFA_Tanzania/2016_EE/CEFA_2016_EE.csv\")\n",
    "\n",
    "EE_2017 = ODEDataset(\"EE_2017\")\n",
    "EE_2017.from_csv(\"../../playground/data/CEFA_Tanzania/2017_EE/CEFA_2017_EE.csv\")\n",
    "\n",
    "\n",
    "EE_2016_nexus = ODEDataset(\"EE_2016_nexus\")\n",
    "EE_2016_nexus.from_csv(\"../../playground/data/CEFA_Tanzania/2016_EE_nexus/CEFA_2016_EE.csv\")"
   ],
   "id": "a2044734df8454cb",
   "outputs": [
    {
     "data": {
      "text/plain": [
       "<core.ODEDataset.ODEDataset at 0x792cbecab8d0>"
      ]
     },
     "execution_count": 2,
     "metadata": {},
     "output_type": "execute_result"
    }
   ],
   "execution_count": 2
  },
  {
   "metadata": {
    "ExecuteTime": {
     "end_time": "2024-12-05T21:20:10.622612Z",
     "start_time": "2024-12-05T21:20:10.600303Z"
    }
   },
   "cell_type": "code",
   "source": [
    "# Merge the datasets\n",
    "CEFA_Tanzania = EE_2016.concat(EE_2017).concat(EE_2016_nexus)\n",
    "\n",
    "CEFA_Tanzania.to_csv(\"../../playground/data/CEFA_Tanzania/CEFA_Tanzania.csv\")\n",
    "\n"
   ],
   "id": "81ec0afa3b2f8933",
   "outputs": [
    {
     "data": {
      "text/plain": [
       "<core.ODEDataset.ODEDataset at 0x792ba353d5d0>"
      ]
     },
     "execution_count": 3,
     "metadata": {},
     "output_type": "execute_result"
    }
   ],
   "execution_count": 3
  },
  {
   "metadata": {
    "ExecuteTime": {
     "end_time": "2024-12-05T21:20:14.660585Z",
     "start_time": "2024-12-05T21:20:14.615865Z"
    }
   },
   "cell_type": "code",
   "source": "CEFA_Tanzania.preview()",
   "id": "9ec7ff5a9f999a4e",
   "outputs": [
    {
     "data": {
      "text/plain": [
       "   Unnamed: 0          ID  Years_of_HHH_in_community  Dwelling_quality_index  \\\n",
       "0           0  Q_EE_HH_01                        NaN                     NaN   \n",
       "1           1  Q_EE_HH_02                        NaN                     NaN   \n",
       "2           2  Q_EE_HH_03                        NaN                     NaN   \n",
       "3           3  Q_EE_HH_04                        NaN                     NaN   \n",
       "4           4  Q_EE_HH_05                        NaN                     NaN   \n",
       "\n",
       "   Hours_available_electricity  Measurement_age  Monthly_expenditure  \\\n",
       "0                          NaN              2.0              10000.0   \n",
       "1                          NaN              2.0             100000.0   \n",
       "2                          NaN              2.0              20000.0   \n",
       "3                          NaN              2.0             100000.0   \n",
       "4                          NaN              2.0              40000.0   \n",
       "\n",
       "   Number_of_rooms  Climate_zone_lev_1  Climate_zone_lev_2  ...  \\\n",
       "0             10.0                  12                  12  ...   \n",
       "1              7.0                  12                  12  ...   \n",
       "2              4.0                  12                  12  ...   \n",
       "3              7.0                  12                  12  ...   \n",
       "4              4.0                  12                  12  ...   \n",
       "\n",
       "   Ownership_large_livestock  Clean_fuel Tariff_payment_frequency  \\\n",
       "0                        NaN         NaN                  Monthly   \n",
       "1                        NaN         NaN                  Monthly   \n",
       "2                        NaN         NaN                  Monthly   \n",
       "3                        NaN         NaN                  Monthly   \n",
       "4                        NaN         NaN                  Monthly   \n",
       "\n",
       "  Presence_refrigerator/freezer  Presence_iron  Presence_fan  \\\n",
       "0                             0              0             0   \n",
       "1                             0              0             0   \n",
       "2                             0              0             0   \n",
       "3                             0              0             0   \n",
       "4                             0              1             0   \n",
       "\n",
       "   Presence_DVD_player  Presence_radio/stereo  Presence_phone_charger  \\\n",
       "0                    0                      1                       1   \n",
       "1                    0                      1                       1   \n",
       "2                    0                      1                       1   \n",
       "3                    0                      0                       1   \n",
       "4                    0                      1                       1   \n",
       "\n",
       "  Presence_TV  \n",
       "0           1  \n",
       "1           1  \n",
       "2           1  \n",
       "3           0  \n",
       "4           1  \n",
       "\n",
       "[5 rows x 27 columns]"
      ],
      "text/html": [
       "<div>\n",
       "<style scoped>\n",
       "    .dataframe tbody tr th:only-of-type {\n",
       "        vertical-align: middle;\n",
       "    }\n",
       "\n",
       "    .dataframe tbody tr th {\n",
       "        vertical-align: top;\n",
       "    }\n",
       "\n",
       "    .dataframe thead th {\n",
       "        text-align: right;\n",
       "    }\n",
       "</style>\n",
       "<table border=\"1\" class=\"dataframe\">\n",
       "  <thead>\n",
       "    <tr style=\"text-align: right;\">\n",
       "      <th></th>\n",
       "      <th>Unnamed: 0</th>\n",
       "      <th>ID</th>\n",
       "      <th>Years_of_HHH_in_community</th>\n",
       "      <th>Dwelling_quality_index</th>\n",
       "      <th>Hours_available_electricity</th>\n",
       "      <th>Measurement_age</th>\n",
       "      <th>Monthly_expenditure</th>\n",
       "      <th>Number_of_rooms</th>\n",
       "      <th>Climate_zone_lev_1</th>\n",
       "      <th>Climate_zone_lev_2</th>\n",
       "      <th>...</th>\n",
       "      <th>Ownership_large_livestock</th>\n",
       "      <th>Clean_fuel</th>\n",
       "      <th>Tariff_payment_frequency</th>\n",
       "      <th>Presence_refrigerator/freezer</th>\n",
       "      <th>Presence_iron</th>\n",
       "      <th>Presence_fan</th>\n",
       "      <th>Presence_DVD_player</th>\n",
       "      <th>Presence_radio/stereo</th>\n",
       "      <th>Presence_phone_charger</th>\n",
       "      <th>Presence_TV</th>\n",
       "    </tr>\n",
       "  </thead>\n",
       "  <tbody>\n",
       "    <tr>\n",
       "      <th>0</th>\n",
       "      <td>0</td>\n",
       "      <td>Q_EE_HH_01</td>\n",
       "      <td>NaN</td>\n",
       "      <td>NaN</td>\n",
       "      <td>NaN</td>\n",
       "      <td>2.0</td>\n",
       "      <td>10000.0</td>\n",
       "      <td>10.0</td>\n",
       "      <td>12</td>\n",
       "      <td>12</td>\n",
       "      <td>...</td>\n",
       "      <td>NaN</td>\n",
       "      <td>NaN</td>\n",
       "      <td>Monthly</td>\n",
       "      <td>0</td>\n",
       "      <td>0</td>\n",
       "      <td>0</td>\n",
       "      <td>0</td>\n",
       "      <td>1</td>\n",
       "      <td>1</td>\n",
       "      <td>1</td>\n",
       "    </tr>\n",
       "    <tr>\n",
       "      <th>1</th>\n",
       "      <td>1</td>\n",
       "      <td>Q_EE_HH_02</td>\n",
       "      <td>NaN</td>\n",
       "      <td>NaN</td>\n",
       "      <td>NaN</td>\n",
       "      <td>2.0</td>\n",
       "      <td>100000.0</td>\n",
       "      <td>7.0</td>\n",
       "      <td>12</td>\n",
       "      <td>12</td>\n",
       "      <td>...</td>\n",
       "      <td>NaN</td>\n",
       "      <td>NaN</td>\n",
       "      <td>Monthly</td>\n",
       "      <td>0</td>\n",
       "      <td>0</td>\n",
       "      <td>0</td>\n",
       "      <td>0</td>\n",
       "      <td>1</td>\n",
       "      <td>1</td>\n",
       "      <td>1</td>\n",
       "    </tr>\n",
       "    <tr>\n",
       "      <th>2</th>\n",
       "      <td>2</td>\n",
       "      <td>Q_EE_HH_03</td>\n",
       "      <td>NaN</td>\n",
       "      <td>NaN</td>\n",
       "      <td>NaN</td>\n",
       "      <td>2.0</td>\n",
       "      <td>20000.0</td>\n",
       "      <td>4.0</td>\n",
       "      <td>12</td>\n",
       "      <td>12</td>\n",
       "      <td>...</td>\n",
       "      <td>NaN</td>\n",
       "      <td>NaN</td>\n",
       "      <td>Monthly</td>\n",
       "      <td>0</td>\n",
       "      <td>0</td>\n",
       "      <td>0</td>\n",
       "      <td>0</td>\n",
       "      <td>1</td>\n",
       "      <td>1</td>\n",
       "      <td>1</td>\n",
       "    </tr>\n",
       "    <tr>\n",
       "      <th>3</th>\n",
       "      <td>3</td>\n",
       "      <td>Q_EE_HH_04</td>\n",
       "      <td>NaN</td>\n",
       "      <td>NaN</td>\n",
       "      <td>NaN</td>\n",
       "      <td>2.0</td>\n",
       "      <td>100000.0</td>\n",
       "      <td>7.0</td>\n",
       "      <td>12</td>\n",
       "      <td>12</td>\n",
       "      <td>...</td>\n",
       "      <td>NaN</td>\n",
       "      <td>NaN</td>\n",
       "      <td>Monthly</td>\n",
       "      <td>0</td>\n",
       "      <td>0</td>\n",
       "      <td>0</td>\n",
       "      <td>0</td>\n",
       "      <td>0</td>\n",
       "      <td>1</td>\n",
       "      <td>0</td>\n",
       "    </tr>\n",
       "    <tr>\n",
       "      <th>4</th>\n",
       "      <td>4</td>\n",
       "      <td>Q_EE_HH_05</td>\n",
       "      <td>NaN</td>\n",
       "      <td>NaN</td>\n",
       "      <td>NaN</td>\n",
       "      <td>2.0</td>\n",
       "      <td>40000.0</td>\n",
       "      <td>4.0</td>\n",
       "      <td>12</td>\n",
       "      <td>12</td>\n",
       "      <td>...</td>\n",
       "      <td>NaN</td>\n",
       "      <td>NaN</td>\n",
       "      <td>Monthly</td>\n",
       "      <td>0</td>\n",
       "      <td>1</td>\n",
       "      <td>0</td>\n",
       "      <td>0</td>\n",
       "      <td>1</td>\n",
       "      <td>1</td>\n",
       "      <td>1</td>\n",
       "    </tr>\n",
       "  </tbody>\n",
       "</table>\n",
       "<p>5 rows × 27 columns</p>\n",
       "</div>"
      ]
     },
     "execution_count": 4,
     "metadata": {},
     "output_type": "execute_result"
    }
   ],
   "execution_count": 4
  },
  {
   "metadata": {
    "ExecuteTime": {
     "end_time": "2024-12-05T21:20:17.126547Z",
     "start_time": "2024-12-05T21:20:17.119313Z"
    }
   },
   "cell_type": "code",
   "source": "len(CEFA_Tanzania)",
   "id": "6e5519b241b4d086",
   "outputs": [
    {
     "data": {
      "text/plain": [
       "119"
      ]
     },
     "execution_count": 5,
     "metadata": {},
     "output_type": "execute_result"
    }
   ],
   "execution_count": 5
  },
  {
   "metadata": {},
   "cell_type": "code",
   "outputs": [],
   "execution_count": null,
   "source": "",
   "id": "d6d5564b2b96f638"
  }
 ],
 "metadata": {
  "kernelspec": {
   "display_name": "Python 3",
   "language": "python",
   "name": "python3"
  },
  "language_info": {
   "codemirror_mode": {
    "name": "ipython",
    "version": 2
   },
   "file_extension": ".py",
   "mimetype": "text/x-python",
   "name": "python",
   "nbconvert_exporter": "python",
   "pygments_lexer": "ipython2",
   "version": "2.7.6"
  }
 },
 "nbformat": 4,
 "nbformat_minor": 5
}
